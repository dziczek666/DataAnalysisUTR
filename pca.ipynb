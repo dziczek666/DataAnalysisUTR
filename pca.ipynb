{
 "cells": [
  {
   "cell_type": "code",
   "execution_count": 17,
   "metadata": {},
   "outputs": [],
   "source": [
    "# import packages\n",
    "import pandas as pd\n",
    "import numpy as np\n",
    "import plotly.express as px\n",
    "from sklearn.decomposition import PCA"
   ]
  },
  {
   "cell_type": "code",
   "execution_count": 172,
   "metadata": {},
   "outputs": [
    {
     "data": {
      "text/html": [
       "<div>\n",
       "<style scoped>\n",
       "    .dataframe tbody tr th:only-of-type {\n",
       "        vertical-align: middle;\n",
       "    }\n",
       "\n",
       "    .dataframe tbody tr th {\n",
       "        vertical-align: top;\n",
       "    }\n",
       "\n",
       "    .dataframe thead th {\n",
       "        text-align: right;\n",
       "    }\n",
       "</style>\n",
       "<table border=\"1\" class=\"dataframe\">\n",
       "  <thead>\n",
       "    <tr style=\"text-align: right;\">\n",
       "      <th></th>\n",
       "      <th>Unnamed: 0</th>\n",
       "      <th>seqname</th>\n",
       "      <th>source</th>\n",
       "      <th>feature</th>\n",
       "      <th>start</th>\n",
       "      <th>end</th>\n",
       "      <th>strand</th>\n",
       "      <th>ref_gene_id</th>\n",
       "      <th>reference_id</th>\n",
       "      <th>filename</th>\n",
       "      <th>...</th>\n",
       "      <th>ref_UTR_length</th>\n",
       "      <th>UTR_diff</th>\n",
       "      <th>UTR_length (ln)</th>\n",
       "      <th>UTR_type</th>\n",
       "      <th>baseMean</th>\n",
       "      <th>log2FoldChange</th>\n",
       "      <th>lfcSE</th>\n",
       "      <th>stat</th>\n",
       "      <th>pvalue</th>\n",
       "      <th>padj</th>\n",
       "    </tr>\n",
       "  </thead>\n",
       "  <tbody>\n",
       "    <tr>\n",
       "      <th>0</th>\n",
       "      <td>41.0</td>\n",
       "      <td>chr19</td>\n",
       "      <td>StringTie</td>\n",
       "      <td>transcript</td>\n",
       "      <td>17292131</td>\n",
       "      <td>17303425</td>\n",
       "      <td>-</td>\n",
       "      <td>ABHD8</td>\n",
       "      <td>NM_024527.5</td>\n",
       "      <td>SRR19969211</td>\n",
       "      <td>...</td>\n",
       "      <td>530</td>\n",
       "      <td>0</td>\n",
       "      <td>6.272877</td>\n",
       "      <td>no change</td>\n",
       "      <td>416.658221</td>\n",
       "      <td>-0.439471</td>\n",
       "      <td>0.113285</td>\n",
       "      <td>-3.879331</td>\n",
       "      <td>1.047441e-04</td>\n",
       "      <td>2.943801e-03</td>\n",
       "    </tr>\n",
       "    <tr>\n",
       "      <th>1</th>\n",
       "      <td>63.0</td>\n",
       "      <td>chr1</td>\n",
       "      <td>StringTie</td>\n",
       "      <td>transcript</td>\n",
       "      <td>159204875</td>\n",
       "      <td>159206500</td>\n",
       "      <td>+</td>\n",
       "      <td>ACKR1</td>\n",
       "      <td>NM_002036.4</td>\n",
       "      <td>SRR19969208</td>\n",
       "      <td>...</td>\n",
       "      <td>50</td>\n",
       "      <td>0</td>\n",
       "      <td>3.912023</td>\n",
       "      <td>no change</td>\n",
       "      <td>1384.593000</td>\n",
       "      <td>-3.067104</td>\n",
       "      <td>0.618314</td>\n",
       "      <td>-4.960433</td>\n",
       "      <td>7.033622e-07</td>\n",
       "      <td>5.469974e-05</td>\n",
       "    </tr>\n",
       "    <tr>\n",
       "      <th>2</th>\n",
       "      <td>73.0</td>\n",
       "      <td>chr2</td>\n",
       "      <td>StringTie</td>\n",
       "      <td>transcript</td>\n",
       "      <td>264947</td>\n",
       "      <td>272481</td>\n",
       "      <td>+</td>\n",
       "      <td>ACP1</td>\n",
       "      <td>NM_001040649.3</td>\n",
       "      <td>SRR19969208</td>\n",
       "      <td>...</td>\n",
       "      <td>223</td>\n",
       "      <td>0</td>\n",
       "      <td>5.407172</td>\n",
       "      <td>no change</td>\n",
       "      <td>756.167200</td>\n",
       "      <td>1.416172</td>\n",
       "      <td>0.307426</td>\n",
       "      <td>4.606547</td>\n",
       "      <td>4.094104e-06</td>\n",
       "      <td>2.348480e-04</td>\n",
       "    </tr>\n",
       "    <tr>\n",
       "      <th>3</th>\n",
       "      <td>106.0</td>\n",
       "      <td>chr3</td>\n",
       "      <td>StringTie</td>\n",
       "      <td>transcript</td>\n",
       "      <td>186842710</td>\n",
       "      <td>186858463</td>\n",
       "      <td>+</td>\n",
       "      <td>ADIPOQ</td>\n",
       "      <td>NM_004797.4</td>\n",
       "      <td>SRR19969208</td>\n",
       "      <td>...</td>\n",
       "      <td>3759</td>\n",
       "      <td>0</td>\n",
       "      <td>8.231908</td>\n",
       "      <td>no change</td>\n",
       "      <td>1751.364499</td>\n",
       "      <td>-5.483038</td>\n",
       "      <td>1.689189</td>\n",
       "      <td>-3.245959</td>\n",
       "      <td>1.170558e-03</td>\n",
       "      <td>1.822767e-02</td>\n",
       "    </tr>\n",
       "    <tr>\n",
       "      <th>4</th>\n",
       "      <td>107.0</td>\n",
       "      <td>chr10</td>\n",
       "      <td>StringTie</td>\n",
       "      <td>transcript</td>\n",
       "      <td>86968482</td>\n",
       "      <td>86970915</td>\n",
       "      <td>+</td>\n",
       "      <td>ADIRF</td>\n",
       "      <td>NM_006829.3</td>\n",
       "      <td>SRR19969210</td>\n",
       "      <td>...</td>\n",
       "      <td>333</td>\n",
       "      <td>0</td>\n",
       "      <td>5.808142</td>\n",
       "      <td>no change</td>\n",
       "      <td>3034.230369</td>\n",
       "      <td>-2.979559</td>\n",
       "      <td>0.499801</td>\n",
       "      <td>-5.961493</td>\n",
       "      <td>2.499442e-09</td>\n",
       "      <td>4.592454e-07</td>\n",
       "    </tr>\n",
       "    <tr>\n",
       "      <th>...</th>\n",
       "      <td>...</td>\n",
       "      <td>...</td>\n",
       "      <td>...</td>\n",
       "      <td>...</td>\n",
       "      <td>...</td>\n",
       "      <td>...</td>\n",
       "      <td>...</td>\n",
       "      <td>...</td>\n",
       "      <td>...</td>\n",
       "      <td>...</td>\n",
       "      <td>...</td>\n",
       "      <td>...</td>\n",
       "      <td>...</td>\n",
       "      <td>...</td>\n",
       "      <td>...</td>\n",
       "      <td>...</td>\n",
       "      <td>...</td>\n",
       "      <td>...</td>\n",
       "      <td>...</td>\n",
       "      <td>...</td>\n",
       "      <td>...</td>\n",
       "    </tr>\n",
       "    <tr>\n",
       "      <th>3911</th>\n",
       "      <td>NaN</td>\n",
       "      <td>chr10</td>\n",
       "      <td>StringTie</td>\n",
       "      <td>transcript</td>\n",
       "      <td>56357227</td>\n",
       "      <td>56361259</td>\n",
       "      <td>-</td>\n",
       "      <td>ZWINT</td>\n",
       "      <td>NM_007057.4</td>\n",
       "      <td>SRR19969219</td>\n",
       "      <td>...</td>\n",
       "      <td>959</td>\n",
       "      <td>0</td>\n",
       "      <td>6.865891</td>\n",
       "      <td>no change</td>\n",
       "      <td>813.701491</td>\n",
       "      <td>2.901077</td>\n",
       "      <td>0.534540</td>\n",
       "      <td>5.427237</td>\n",
       "      <td>5.723308e-08</td>\n",
       "      <td>1.070262e-05</td>\n",
       "    </tr>\n",
       "    <tr>\n",
       "      <th>3912</th>\n",
       "      <td>NaN</td>\n",
       "      <td>chr10</td>\n",
       "      <td>aptardi</td>\n",
       "      <td>transcript</td>\n",
       "      <td>56357386</td>\n",
       "      <td>56361259</td>\n",
       "      <td>-</td>\n",
       "      <td>ZWINT</td>\n",
       "      <td>NM_007057.4</td>\n",
       "      <td>SRR19969219</td>\n",
       "      <td>...</td>\n",
       "      <td>959</td>\n",
       "      <td>-159</td>\n",
       "      <td>6.684612</td>\n",
       "      <td>shorter</td>\n",
       "      <td>813.701491</td>\n",
       "      <td>2.901077</td>\n",
       "      <td>0.534540</td>\n",
       "      <td>5.427237</td>\n",
       "      <td>5.723308e-08</td>\n",
       "      <td>1.070262e-05</td>\n",
       "    </tr>\n",
       "    <tr>\n",
       "      <th>3913</th>\n",
       "      <td>NaN</td>\n",
       "      <td>chr10</td>\n",
       "      <td>StringTie</td>\n",
       "      <td>transcript</td>\n",
       "      <td>56357438</td>\n",
       "      <td>56361273</td>\n",
       "      <td>-</td>\n",
       "      <td>ZWINT</td>\n",
       "      <td>NM_001005413.1</td>\n",
       "      <td>SRR19969219</td>\n",
       "      <td>...</td>\n",
       "      <td>748</td>\n",
       "      <td>0</td>\n",
       "      <td>6.617403</td>\n",
       "      <td>no change</td>\n",
       "      <td>813.031914</td>\n",
       "      <td>2.899770</td>\n",
       "      <td>0.534599</td>\n",
       "      <td>5.424193</td>\n",
       "      <td>5.821711e-08</td>\n",
       "      <td>1.072815e-05</td>\n",
       "    </tr>\n",
       "    <tr>\n",
       "      <th>3914</th>\n",
       "      <td>NaN</td>\n",
       "      <td>chr10</td>\n",
       "      <td>StringTie</td>\n",
       "      <td>transcript</td>\n",
       "      <td>56357438</td>\n",
       "      <td>56361272</td>\n",
       "      <td>-</td>\n",
       "      <td>ZWINT</td>\n",
       "      <td>XM_024447784.1</td>\n",
       "      <td>SRR19969219</td>\n",
       "      <td>...</td>\n",
       "      <td>748</td>\n",
       "      <td>0</td>\n",
       "      <td>6.617403</td>\n",
       "      <td>no change</td>\n",
       "      <td>813.031914</td>\n",
       "      <td>2.899770</td>\n",
       "      <td>0.534599</td>\n",
       "      <td>5.424193</td>\n",
       "      <td>5.821711e-08</td>\n",
       "      <td>1.072815e-05</td>\n",
       "    </tr>\n",
       "    <tr>\n",
       "      <th>3915</th>\n",
       "      <td>NaN</td>\n",
       "      <td>chr10</td>\n",
       "      <td>StringTie</td>\n",
       "      <td>transcript</td>\n",
       "      <td>56357445</td>\n",
       "      <td>56361259</td>\n",
       "      <td>-</td>\n",
       "      <td>ZWINT</td>\n",
       "      <td>NM_032997.3</td>\n",
       "      <td>SRR19969219</td>\n",
       "      <td>...</td>\n",
       "      <td>973</td>\n",
       "      <td>0</td>\n",
       "      <td>6.880384</td>\n",
       "      <td>no change</td>\n",
       "      <td>813.406179</td>\n",
       "      <td>2.900501</td>\n",
       "      <td>0.534268</td>\n",
       "      <td>5.428927</td>\n",
       "      <td>5.669382e-08</td>\n",
       "      <td>1.063965e-05</td>\n",
       "    </tr>\n",
       "  </tbody>\n",
       "</table>\n",
       "<p>3916 rows × 25 columns</p>\n",
       "</div>"
      ],
      "text/plain": [
       "      Unnamed: 0 seqname     source     feature      start        end strand   \n",
       "0           41.0   chr19  StringTie  transcript   17292131   17303425      -  \\\n",
       "1           63.0    chr1  StringTie  transcript  159204875  159206500      +   \n",
       "2           73.0    chr2  StringTie  transcript     264947     272481      +   \n",
       "3          106.0    chr3  StringTie  transcript  186842710  186858463      +   \n",
       "4          107.0   chr10  StringTie  transcript   86968482   86970915      +   \n",
       "...          ...     ...        ...         ...        ...        ...    ...   \n",
       "3911         NaN   chr10  StringTie  transcript   56357227   56361259      -   \n",
       "3912         NaN   chr10    aptardi  transcript   56357386   56361259      -   \n",
       "3913         NaN   chr10  StringTie  transcript   56357438   56361273      -   \n",
       "3914         NaN   chr10  StringTie  transcript   56357438   56361272      -   \n",
       "3915         NaN   chr10  StringTie  transcript   56357445   56361259      -   \n",
       "\n",
       "     ref_gene_id    reference_id     filename  ...  ref_UTR_length UTR_diff   \n",
       "0          ABHD8     NM_024527.5  SRR19969211  ...             530        0  \\\n",
       "1          ACKR1     NM_002036.4  SRR19969208  ...              50        0   \n",
       "2           ACP1  NM_001040649.3  SRR19969208  ...             223        0   \n",
       "3         ADIPOQ     NM_004797.4  SRR19969208  ...            3759        0   \n",
       "4          ADIRF     NM_006829.3  SRR19969210  ...             333        0   \n",
       "...          ...             ...          ...  ...             ...      ...   \n",
       "3911       ZWINT     NM_007057.4  SRR19969219  ...             959        0   \n",
       "3912       ZWINT     NM_007057.4  SRR19969219  ...             959     -159   \n",
       "3913       ZWINT  NM_001005413.1  SRR19969219  ...             748        0   \n",
       "3914       ZWINT  XM_024447784.1  SRR19969219  ...             748        0   \n",
       "3915       ZWINT     NM_032997.3  SRR19969219  ...             973        0   \n",
       "\n",
       "      UTR_length (ln)   UTR_type     baseMean  log2FoldChange     lfcSE   \n",
       "0            6.272877  no change   416.658221       -0.439471  0.113285  \\\n",
       "1            3.912023  no change  1384.593000       -3.067104  0.618314   \n",
       "2            5.407172  no change   756.167200        1.416172  0.307426   \n",
       "3            8.231908  no change  1751.364499       -5.483038  1.689189   \n",
       "4            5.808142  no change  3034.230369       -2.979559  0.499801   \n",
       "...               ...        ...          ...             ...       ...   \n",
       "3911         6.865891  no change   813.701491        2.901077  0.534540   \n",
       "3912         6.684612    shorter   813.701491        2.901077  0.534540   \n",
       "3913         6.617403  no change   813.031914        2.899770  0.534599   \n",
       "3914         6.617403  no change   813.031914        2.899770  0.534599   \n",
       "3915         6.880384  no change   813.406179        2.900501  0.534268   \n",
       "\n",
       "          stat        pvalue          padj  \n",
       "0    -3.879331  1.047441e-04  2.943801e-03  \n",
       "1    -4.960433  7.033622e-07  5.469974e-05  \n",
       "2     4.606547  4.094104e-06  2.348480e-04  \n",
       "3    -3.245959  1.170558e-03  1.822767e-02  \n",
       "4    -5.961493  2.499442e-09  4.592454e-07  \n",
       "...        ...           ...           ...  \n",
       "3911  5.427237  5.723308e-08  1.070262e-05  \n",
       "3912  5.427237  5.723308e-08  1.070262e-05  \n",
       "3913  5.424193  5.821711e-08  1.072815e-05  \n",
       "3914  5.424193  5.821711e-08  1.072815e-05  \n",
       "3915  5.428927  5.669382e-08  1.063965e-05  \n",
       "\n",
       "[3916 rows x 25 columns]"
      ]
     },
     "execution_count": 172,
     "metadata": {},
     "output_type": "execute_result"
    }
   ],
   "source": [
    "df = pd.read_csv('pca_concat2.csv')\n",
    "df"
   ]
  },
  {
   "cell_type": "code",
   "execution_count": 173,
   "metadata": {},
   "outputs": [],
   "source": [
    "df=df.reset_index()\n",
    "df =df.drop('Unnamed: 0', axis=1)\n",
    "df =df.drop('index', axis=1)"
   ]
  },
  {
   "cell_type": "code",
   "execution_count": 174,
   "metadata": {},
   "outputs": [],
   "source": [
    "df = df[df['UTR_type']!='no change']"
   ]
  },
  {
   "cell_type": "code",
   "execution_count": 175,
   "metadata": {},
   "outputs": [],
   "source": [
    "df=df.reset_index()\n",
    "df =df.drop('index', axis=1)"
   ]
  },
  {
   "cell_type": "code",
   "execution_count": 182,
   "metadata": {},
   "outputs": [],
   "source": [
    "df = df[(abs(df['log2FoldChange'])>1)&(df['baseMean']>50)]"
   ]
  },
  {
   "cell_type": "code",
   "execution_count": 28,
   "metadata": {},
   "outputs": [],
   "source": [
    "# # add new columns with adjusted start and end values based on chromosome name\n",
    "# df[\"adjusted_start\"] = df.apply(lambda x: x[\"ExonStart\"] + chromosome_map[x[\"Chromosome\"]], axis=1)\n",
    "# df[\"adjusted_end\"] = df.apply(lambda x: x[\"UTREnd\"] + chromosome_map[x[\"Chromosome\"]], axis=1)"
   ]
  },
  {
   "cell_type": "code",
   "execution_count": 30,
   "metadata": {},
   "outputs": [
    {
     "data": {
      "text/html": [
       "<div>\n",
       "<style scoped>\n",
       "    .dataframe tbody tr th:only-of-type {\n",
       "        vertical-align: middle;\n",
       "    }\n",
       "\n",
       "    .dataframe tbody tr th {\n",
       "        vertical-align: top;\n",
       "    }\n",
       "\n",
       "    .dataframe thead th {\n",
       "        text-align: right;\n",
       "    }\n",
       "</style>\n",
       "<table border=\"1\" class=\"dataframe\">\n",
       "  <thead>\n",
       "    <tr style=\"text-align: right;\">\n",
       "      <th></th>\n",
       "      <th>Chromosome</th>\n",
       "      <th>ExonStart</th>\n",
       "      <th>UTREnd</th>\n",
       "      <th>Strand</th>\n",
       "      <th>Covrage</th>\n",
       "      <th>RefID</th>\n",
       "      <th>RefGeneID</th>\n",
       "      <th>RefUTRStart</th>\n",
       "      <th>RefUTREnd</th>\n",
       "      <th>RefUTRLength</th>\n",
       "      <th>UTRLength</th>\n",
       "      <th>UTRDiff</th>\n",
       "      <th>UTRType</th>\n",
       "      <th>filename</th>\n",
       "      <th>molecularSubtype</th>\n",
       "      <th>adjusted_start</th>\n",
       "      <th>adjusted_end</th>\n",
       "      <th>midpoint</th>\n",
       "    </tr>\n",
       "  </thead>\n",
       "  <tbody>\n",
       "    <tr>\n",
       "      <th>0</th>\n",
       "      <td>chr1</td>\n",
       "      <td>151292133</td>\n",
       "      <td>151293033</td>\n",
       "      <td>-</td>\n",
       "      <td>43.966122</td>\n",
       "      <td>NM_001198773.3</td>\n",
       "      <td>PI4KB</td>\n",
       "      <td>151291803</td>\n",
       "      <td>151292851</td>\n",
       "      <td>1048</td>\n",
       "      <td>718</td>\n",
       "      <td>330</td>\n",
       "      <td>shorter</td>\n",
       "      <td>SRR11463564_filtered.csv</td>\n",
       "      <td>triple negative</td>\n",
       "      <td>151292133</td>\n",
       "      <td>151293033</td>\n",
       "      <td>151292583.0</td>\n",
       "    </tr>\n",
       "    <tr>\n",
       "      <th>1</th>\n",
       "      <td>chr1</td>\n",
       "      <td>205718179</td>\n",
       "      <td>205718479</td>\n",
       "      <td>-</td>\n",
       "      <td>54.560490</td>\n",
       "      <td>XM_005245453.1</td>\n",
       "      <td>NUCKS1</td>\n",
       "      <td>205713192</td>\n",
       "      <td>205718279</td>\n",
       "      <td>5087</td>\n",
       "      <td>100</td>\n",
       "      <td>4987</td>\n",
       "      <td>shorter</td>\n",
       "      <td>SRR11463564_filtered.csv</td>\n",
       "      <td>triple negative</td>\n",
       "      <td>205718179</td>\n",
       "      <td>205718479</td>\n",
       "      <td>205718329.0</td>\n",
       "    </tr>\n",
       "    <tr>\n",
       "      <th>2</th>\n",
       "      <td>chr1</td>\n",
       "      <td>202012850</td>\n",
       "      <td>202016050</td>\n",
       "      <td>+</td>\n",
       "      <td>34.236881</td>\n",
       "      <td>XM_005244942.3</td>\n",
       "      <td>ELF3</td>\n",
       "      <td>202012900</td>\n",
       "      <td>202013036</td>\n",
       "      <td>136</td>\n",
       "      <td>3150</td>\n",
       "      <td>3014</td>\n",
       "      <td>longer</td>\n",
       "      <td>SRR11463564_filtered.csv</td>\n",
       "      <td>triple negative</td>\n",
       "      <td>202012850</td>\n",
       "      <td>202016050</td>\n",
       "      <td>202014450.0</td>\n",
       "    </tr>\n",
       "    <tr>\n",
       "      <th>3</th>\n",
       "      <td>chr1</td>\n",
       "      <td>150308047</td>\n",
       "      <td>150308447</td>\n",
       "      <td>+</td>\n",
       "      <td>107.424507</td>\n",
       "      <td>NM_031901.6</td>\n",
       "      <td>MRPS21</td>\n",
       "      <td>150308228</td>\n",
       "      <td>150308979</td>\n",
       "      <td>751</td>\n",
       "      <td>219</td>\n",
       "      <td>532</td>\n",
       "      <td>shorter</td>\n",
       "      <td>SRR11463564_filtered.csv</td>\n",
       "      <td>triple negative</td>\n",
       "      <td>150308047</td>\n",
       "      <td>150308447</td>\n",
       "      <td>150308247.0</td>\n",
       "    </tr>\n",
       "    <tr>\n",
       "      <th>4</th>\n",
       "      <td>chr1</td>\n",
       "      <td>150308047</td>\n",
       "      <td>150308447</td>\n",
       "      <td>+</td>\n",
       "      <td>81.565842</td>\n",
       "      <td>NM_018997.3</td>\n",
       "      <td>MRPS21</td>\n",
       "      <td>150308228</td>\n",
       "      <td>150308979</td>\n",
       "      <td>751</td>\n",
       "      <td>219</td>\n",
       "      <td>532</td>\n",
       "      <td>shorter</td>\n",
       "      <td>SRR11463564_filtered.csv</td>\n",
       "      <td>triple negative</td>\n",
       "      <td>150308047</td>\n",
       "      <td>150308447</td>\n",
       "      <td>150308247.0</td>\n",
       "    </tr>\n",
       "  </tbody>\n",
       "</table>\n",
       "</div>"
      ],
      "text/plain": [
       "  Chromosome  ExonStart     UTREnd Strand     Covrage           RefID   \n",
       "0       chr1  151292133  151293033      -   43.966122  NM_001198773.3  \\\n",
       "1       chr1  205718179  205718479      -   54.560490  XM_005245453.1   \n",
       "2       chr1  202012850  202016050      +   34.236881  XM_005244942.3   \n",
       "3       chr1  150308047  150308447      +  107.424507     NM_031901.6   \n",
       "4       chr1  150308047  150308447      +   81.565842     NM_018997.3   \n",
       "\n",
       "  RefGeneID  RefUTRStart  RefUTREnd  RefUTRLength  UTRLength  UTRDiff   \n",
       "0     PI4KB    151291803  151292851          1048        718      330  \\\n",
       "1    NUCKS1    205713192  205718279          5087        100     4987   \n",
       "2      ELF3    202012900  202013036           136       3150     3014   \n",
       "3    MRPS21    150308228  150308979           751        219      532   \n",
       "4    MRPS21    150308228  150308979           751        219      532   \n",
       "\n",
       "   UTRType                  filename molecularSubtype  adjusted_start   \n",
       "0  shorter  SRR11463564_filtered.csv  triple negative       151292133  \\\n",
       "1  shorter  SRR11463564_filtered.csv  triple negative       205718179   \n",
       "2   longer  SRR11463564_filtered.csv  triple negative       202012850   \n",
       "3  shorter  SRR11463564_filtered.csv  triple negative       150308047   \n",
       "4  shorter  SRR11463564_filtered.csv  triple negative       150308047   \n",
       "\n",
       "   adjusted_end     midpoint  \n",
       "0     151293033  151292583.0  \n",
       "1     205718479  205718329.0  \n",
       "2     202016050  202014450.0  \n",
       "3     150308447  150308247.0  \n",
       "4     150308447  150308247.0  "
      ]
     },
     "execution_count": 30,
     "metadata": {},
     "output_type": "execute_result"
    }
   ],
   "source": [
    "# # Calculate the midpoint of each gene\n",
    "# df['midpoint'] = (df['adjusted_start'] + df['adjusted_end']) / 2\n",
    "# df.head()"
   ]
  },
  {
   "cell_type": "code",
   "execution_count": 154,
   "metadata": {},
   "outputs": [],
   "source": [
    "# Add 0/1 value to UTR type\n",
    "type = {\n",
    "    'shorter' : 1,\n",
    "    'no change' : 0,\n",
    "    'longer' : -1\n",
    "}"
   ]
  },
  {
   "cell_type": "code",
   "execution_count": 155,
   "metadata": {},
   "outputs": [
    {
     "data": {
      "text/html": [
       "<div>\n",
       "<style scoped>\n",
       "    .dataframe tbody tr th:only-of-type {\n",
       "        vertical-align: middle;\n",
       "    }\n",
       "\n",
       "    .dataframe tbody tr th {\n",
       "        vertical-align: top;\n",
       "    }\n",
       "\n",
       "    .dataframe thead th {\n",
       "        text-align: right;\n",
       "    }\n",
       "</style>\n",
       "<table border=\"1\" class=\"dataframe\">\n",
       "  <thead>\n",
       "    <tr style=\"text-align: right;\">\n",
       "      <th></th>\n",
       "      <th>seqname</th>\n",
       "      <th>source</th>\n",
       "      <th>feature</th>\n",
       "      <th>start</th>\n",
       "      <th>end</th>\n",
       "      <th>strand</th>\n",
       "      <th>ref_gene_id</th>\n",
       "      <th>reference_id</th>\n",
       "      <th>filename</th>\n",
       "      <th>transcript_length</th>\n",
       "      <th>...</th>\n",
       "      <th>UTR_diff</th>\n",
       "      <th>UTR_length (ln)</th>\n",
       "      <th>UTR_type</th>\n",
       "      <th>baseMean</th>\n",
       "      <th>log2FoldChange</th>\n",
       "      <th>lfcSE</th>\n",
       "      <th>stat</th>\n",
       "      <th>pvalue</th>\n",
       "      <th>padj</th>\n",
       "      <th>UTRtype_num</th>\n",
       "    </tr>\n",
       "  </thead>\n",
       "  <tbody>\n",
       "    <tr>\n",
       "      <th>0</th>\n",
       "      <td>chr10</td>\n",
       "      <td>aptardi</td>\n",
       "      <td>transcript</td>\n",
       "      <td>86968482</td>\n",
       "      <td>86970775</td>\n",
       "      <td>+</td>\n",
       "      <td>ADIRF</td>\n",
       "      <td>NM_006829.3</td>\n",
       "      <td>SRR19969210</td>\n",
       "      <td>2293</td>\n",
       "      <td>...</td>\n",
       "      <td>-140</td>\n",
       "      <td>5.262690</td>\n",
       "      <td>shorter</td>\n",
       "      <td>3034.230369</td>\n",
       "      <td>-2.979559</td>\n",
       "      <td>0.499801</td>\n",
       "      <td>-5.961493</td>\n",
       "      <td>2.499442e-09</td>\n",
       "      <td>4.592454e-07</td>\n",
       "      <td>1</td>\n",
       "    </tr>\n",
       "    <tr>\n",
       "      <th>1</th>\n",
       "      <td>chr1</td>\n",
       "      <td>aptardi</td>\n",
       "      <td>transcript</td>\n",
       "      <td>38991276</td>\n",
       "      <td>39005944</td>\n",
       "      <td>+</td>\n",
       "      <td>AKIRIN1</td>\n",
       "      <td>NM_001136275.2</td>\n",
       "      <td>SRR19969208</td>\n",
       "      <td>14668</td>\n",
       "      <td>...</td>\n",
       "      <td>-115</td>\n",
       "      <td>7.543803</td>\n",
       "      <td>shorter</td>\n",
       "      <td>2491.192000</td>\n",
       "      <td>1.534540</td>\n",
       "      <td>0.494778</td>\n",
       "      <td>3.101474</td>\n",
       "      <td>1.925599e-03</td>\n",
       "      <td>2.616339e-02</td>\n",
       "      <td>1</td>\n",
       "    </tr>\n",
       "    <tr>\n",
       "      <th>2</th>\n",
       "      <td>chr1</td>\n",
       "      <td>aptardi</td>\n",
       "      <td>transcript</td>\n",
       "      <td>38991276</td>\n",
       "      <td>39004344</td>\n",
       "      <td>+</td>\n",
       "      <td>AKIRIN1</td>\n",
       "      <td>NM_001136275.2</td>\n",
       "      <td>SRR19969210</td>\n",
       "      <td>13068</td>\n",
       "      <td>...</td>\n",
       "      <td>-1715</td>\n",
       "      <td>5.666427</td>\n",
       "      <td>shorter</td>\n",
       "      <td>2491.192000</td>\n",
       "      <td>1.534540</td>\n",
       "      <td>0.494778</td>\n",
       "      <td>3.101474</td>\n",
       "      <td>1.925599e-03</td>\n",
       "      <td>2.616339e-02</td>\n",
       "      <td>1</td>\n",
       "    </tr>\n",
       "    <tr>\n",
       "      <th>3</th>\n",
       "      <td>chr12</td>\n",
       "      <td>aptardi</td>\n",
       "      <td>transcript</td>\n",
       "      <td>47077266</td>\n",
       "      <td>47079951</td>\n",
       "      <td>-</td>\n",
       "      <td>AMIGO2</td>\n",
       "      <td>NM_181847.4</td>\n",
       "      <td>SRR19969212</td>\n",
       "      <td>2685</td>\n",
       "      <td>...</td>\n",
       "      <td>-1559</td>\n",
       "      <td>5.123964</td>\n",
       "      <td>shorter</td>\n",
       "      <td>668.966393</td>\n",
       "      <td>-2.024827</td>\n",
       "      <td>0.668481</td>\n",
       "      <td>-3.028998</td>\n",
       "      <td>2.453666e-03</td>\n",
       "      <td>3.143173e-02</td>\n",
       "      <td>1</td>\n",
       "    </tr>\n",
       "    <tr>\n",
       "      <th>4</th>\n",
       "      <td>chr12</td>\n",
       "      <td>aptardi</td>\n",
       "      <td>transcript</td>\n",
       "      <td>47076366</td>\n",
       "      <td>47079951</td>\n",
       "      <td>-</td>\n",
       "      <td>AMIGO2</td>\n",
       "      <td>NM_181847.4</td>\n",
       "      <td>SRR19969212</td>\n",
       "      <td>3585</td>\n",
       "      <td>...</td>\n",
       "      <td>-659</td>\n",
       "      <td>6.973543</td>\n",
       "      <td>shorter</td>\n",
       "      <td>668.966393</td>\n",
       "      <td>-2.024827</td>\n",
       "      <td>0.668481</td>\n",
       "      <td>-3.028998</td>\n",
       "      <td>2.453666e-03</td>\n",
       "      <td>3.143173e-02</td>\n",
       "      <td>1</td>\n",
       "    </tr>\n",
       "    <tr>\n",
       "      <th>...</th>\n",
       "      <td>...</td>\n",
       "      <td>...</td>\n",
       "      <td>...</td>\n",
       "      <td>...</td>\n",
       "      <td>...</td>\n",
       "      <td>...</td>\n",
       "      <td>...</td>\n",
       "      <td>...</td>\n",
       "      <td>...</td>\n",
       "      <td>...</td>\n",
       "      <td>...</td>\n",
       "      <td>...</td>\n",
       "      <td>...</td>\n",
       "      <td>...</td>\n",
       "      <td>...</td>\n",
       "      <td>...</td>\n",
       "      <td>...</td>\n",
       "      <td>...</td>\n",
       "      <td>...</td>\n",
       "      <td>...</td>\n",
       "      <td>...</td>\n",
       "    </tr>\n",
       "    <tr>\n",
       "      <th>937</th>\n",
       "      <td>chr19</td>\n",
       "      <td>aptardi</td>\n",
       "      <td>transcript</td>\n",
       "      <td>20167214</td>\n",
       "      <td>20201563</td>\n",
       "      <td>+</td>\n",
       "      <td>ZNF486</td>\n",
       "      <td>NM_052852.4</td>\n",
       "      <td>SRR19969229</td>\n",
       "      <td>34349</td>\n",
       "      <td>...</td>\n",
       "      <td>1075</td>\n",
       "      <td>8.149313</td>\n",
       "      <td>longer</td>\n",
       "      <td>732.820414</td>\n",
       "      <td>1.560591</td>\n",
       "      <td>0.258762</td>\n",
       "      <td>6.031000</td>\n",
       "      <td>1.629486e-09</td>\n",
       "      <td>7.072361e-07</td>\n",
       "      <td>-1</td>\n",
       "    </tr>\n",
       "    <tr>\n",
       "      <th>938</th>\n",
       "      <td>chr19</td>\n",
       "      <td>aptardi</td>\n",
       "      <td>transcript</td>\n",
       "      <td>57435325</td>\n",
       "      <td>57446690</td>\n",
       "      <td>+</td>\n",
       "      <td>ZNF749</td>\n",
       "      <td>NM_001321954.2</td>\n",
       "      <td>SRR19969223</td>\n",
       "      <td>11365</td>\n",
       "      <td>...</td>\n",
       "      <td>-411</td>\n",
       "      <td>7.094235</td>\n",
       "      <td>shorter</td>\n",
       "      <td>243.241818</td>\n",
       "      <td>0.904830</td>\n",
       "      <td>0.315216</td>\n",
       "      <td>2.870507</td>\n",
       "      <td>4.098141e-03</td>\n",
       "      <td>4.523283e-02</td>\n",
       "      <td>1</td>\n",
       "    </tr>\n",
       "    <tr>\n",
       "      <th>939</th>\n",
       "      <td>chr16</td>\n",
       "      <td>StringTie</td>\n",
       "      <td>transcript</td>\n",
       "      <td>74999024</td>\n",
       "      <td>75110994</td>\n",
       "      <td>+</td>\n",
       "      <td>ZNRF1</td>\n",
       "      <td>NM_032268.5</td>\n",
       "      <td>SRR19969228</td>\n",
       "      <td>111970</td>\n",
       "      <td>...</td>\n",
       "      <td>4423</td>\n",
       "      <td>8.401782</td>\n",
       "      <td>longer</td>\n",
       "      <td>710.759545</td>\n",
       "      <td>0.764746</td>\n",
       "      <td>0.238716</td>\n",
       "      <td>3.203581</td>\n",
       "      <td>1.357300e-03</td>\n",
       "      <td>2.117968e-02</td>\n",
       "      <td>-1</td>\n",
       "    </tr>\n",
       "    <tr>\n",
       "      <th>940</th>\n",
       "      <td>chr16</td>\n",
       "      <td>aptardi</td>\n",
       "      <td>transcript</td>\n",
       "      <td>74999024</td>\n",
       "      <td>75108732</td>\n",
       "      <td>+</td>\n",
       "      <td>ZNRF1</td>\n",
       "      <td>NM_032268.5</td>\n",
       "      <td>SRR19969228</td>\n",
       "      <td>109708</td>\n",
       "      <td>...</td>\n",
       "      <td>2161</td>\n",
       "      <td>7.693026</td>\n",
       "      <td>longer</td>\n",
       "      <td>710.759545</td>\n",
       "      <td>0.764746</td>\n",
       "      <td>0.238716</td>\n",
       "      <td>3.203581</td>\n",
       "      <td>1.357300e-03</td>\n",
       "      <td>2.117968e-02</td>\n",
       "      <td>-1</td>\n",
       "    </tr>\n",
       "    <tr>\n",
       "      <th>941</th>\n",
       "      <td>chr10</td>\n",
       "      <td>aptardi</td>\n",
       "      <td>transcript</td>\n",
       "      <td>56357386</td>\n",
       "      <td>56361259</td>\n",
       "      <td>-</td>\n",
       "      <td>ZWINT</td>\n",
       "      <td>NM_007057.4</td>\n",
       "      <td>SRR19969219</td>\n",
       "      <td>3873</td>\n",
       "      <td>...</td>\n",
       "      <td>-159</td>\n",
       "      <td>6.684612</td>\n",
       "      <td>shorter</td>\n",
       "      <td>813.701491</td>\n",
       "      <td>2.901077</td>\n",
       "      <td>0.534540</td>\n",
       "      <td>5.427237</td>\n",
       "      <td>5.723308e-08</td>\n",
       "      <td>1.070262e-05</td>\n",
       "      <td>1</td>\n",
       "    </tr>\n",
       "  </tbody>\n",
       "</table>\n",
       "<p>942 rows × 25 columns</p>\n",
       "</div>"
      ],
      "text/plain": [
       "    seqname     source     feature     start       end strand ref_gene_id   \n",
       "0     chr10    aptardi  transcript  86968482  86970775      +       ADIRF  \\\n",
       "1      chr1    aptardi  transcript  38991276  39005944      +     AKIRIN1   \n",
       "2      chr1    aptardi  transcript  38991276  39004344      +     AKIRIN1   \n",
       "3     chr12    aptardi  transcript  47077266  47079951      -      AMIGO2   \n",
       "4     chr12    aptardi  transcript  47076366  47079951      -      AMIGO2   \n",
       "..      ...        ...         ...       ...       ...    ...         ...   \n",
       "937   chr19    aptardi  transcript  20167214  20201563      +      ZNF486   \n",
       "938   chr19    aptardi  transcript  57435325  57446690      +      ZNF749   \n",
       "939   chr16  StringTie  transcript  74999024  75110994      +       ZNRF1   \n",
       "940   chr16    aptardi  transcript  74999024  75108732      +       ZNRF1   \n",
       "941   chr10    aptardi  transcript  56357386  56361259      -       ZWINT   \n",
       "\n",
       "       reference_id     filename  transcript_length  ... UTR_diff   \n",
       "0       NM_006829.3  SRR19969210               2293  ...     -140  \\\n",
       "1    NM_001136275.2  SRR19969208              14668  ...     -115   \n",
       "2    NM_001136275.2  SRR19969210              13068  ...    -1715   \n",
       "3       NM_181847.4  SRR19969212               2685  ...    -1559   \n",
       "4       NM_181847.4  SRR19969212               3585  ...     -659   \n",
       "..              ...          ...                ...  ...      ...   \n",
       "937     NM_052852.4  SRR19969229              34349  ...     1075   \n",
       "938  NM_001321954.2  SRR19969223              11365  ...     -411   \n",
       "939     NM_032268.5  SRR19969228             111970  ...     4423   \n",
       "940     NM_032268.5  SRR19969228             109708  ...     2161   \n",
       "941     NM_007057.4  SRR19969219               3873  ...     -159   \n",
       "\n",
       "     UTR_length (ln)  UTR_type     baseMean  log2FoldChange     lfcSE   \n",
       "0           5.262690   shorter  3034.230369       -2.979559  0.499801  \\\n",
       "1           7.543803   shorter  2491.192000        1.534540  0.494778   \n",
       "2           5.666427   shorter  2491.192000        1.534540  0.494778   \n",
       "3           5.123964   shorter   668.966393       -2.024827  0.668481   \n",
       "4           6.973543   shorter   668.966393       -2.024827  0.668481   \n",
       "..               ...       ...          ...             ...       ...   \n",
       "937         8.149313    longer   732.820414        1.560591  0.258762   \n",
       "938         7.094235   shorter   243.241818        0.904830  0.315216   \n",
       "939         8.401782    longer   710.759545        0.764746  0.238716   \n",
       "940         7.693026    longer   710.759545        0.764746  0.238716   \n",
       "941         6.684612   shorter   813.701491        2.901077  0.534540   \n",
       "\n",
       "         stat        pvalue          padj  UTRtype_num  \n",
       "0   -5.961493  2.499442e-09  4.592454e-07            1  \n",
       "1    3.101474  1.925599e-03  2.616339e-02            1  \n",
       "2    3.101474  1.925599e-03  2.616339e-02            1  \n",
       "3   -3.028998  2.453666e-03  3.143173e-02            1  \n",
       "4   -3.028998  2.453666e-03  3.143173e-02            1  \n",
       "..        ...           ...           ...          ...  \n",
       "937  6.031000  1.629486e-09  7.072361e-07           -1  \n",
       "938  2.870507  4.098141e-03  4.523283e-02            1  \n",
       "939  3.203581  1.357300e-03  2.117968e-02           -1  \n",
       "940  3.203581  1.357300e-03  2.117968e-02           -1  \n",
       "941  5.427237  5.723308e-08  1.070262e-05            1  \n",
       "\n",
       "[942 rows x 25 columns]"
      ]
     },
     "execution_count": 155,
     "metadata": {},
     "output_type": "execute_result"
    }
   ],
   "source": [
    "# Create a function to retrieve the subtype from dictionary\n",
    "def get_type(UTRType):\n",
    "    return type.get(UTRType)\n",
    "\n",
    "# Apply the function to the \"filename\" column and assign the result to a new column\n",
    "df['UTRtype_num'] = df['UTR_type'].apply(get_type)\n",
    "\n",
    "# Print the updated DataFrame\n",
    "df"
   ]
  },
  {
   "cell_type": "code",
   "execution_count": 65,
   "metadata": {},
   "outputs": [],
   "source": [
    "df = df[df['molecularSubtype']=='triple negative']"
   ]
  },
  {
   "cell_type": "code",
   "execution_count": 156,
   "metadata": {},
   "outputs": [],
   "source": [
    "df['UTR_diff'] = abs(df['UTR_diff'])\n",
    "df['diff_ln'] = np.log(df['UTR_diff'])"
   ]
  },
  {
   "cell_type": "code",
   "execution_count": 183,
   "metadata": {},
   "outputs": [
    {
     "name": "stdout",
     "output_type": "stream",
     "text": [
      "     UTR_diff  log2FoldChange\n",
      "0        -140       -2.979559\n",
      "1        -115        1.534540\n",
      "2       -1715        1.534540\n",
      "3       -1559       -2.024827\n",
      "4        -659       -2.024827\n",
      "..        ...             ...\n",
      "932     -1550        1.115014\n",
      "933     -1550        1.115618\n",
      "936      -542        1.111636\n",
      "937      1075        1.560591\n",
      "941      -159        2.901077\n",
      "\n",
      "[514 rows x 2 columns]\n",
      "    molecularSubtype     filename    reference_id ref_gene_id UTR_type\n",
      "0    triple negative  SRR19969210     NM_006829.3       ADIRF  shorter\n",
      "1    triple negative  SRR19969208  NM_001136275.2     AKIRIN1  shorter\n",
      "2    triple negative  SRR19969210  NM_001136275.2     AKIRIN1  shorter\n",
      "3    triple negative  SRR19969212     NM_181847.4      AMIGO2  shorter\n",
      "4    triple negative  SRR19969212     NM_181847.4      AMIGO2  shorter\n",
      "..               ...          ...             ...         ...      ...\n",
      "932        luminal B  SRR19969223  NM_001039673.3       YIF1B  shorter\n",
      "933        luminal B  SRR19969223  NM_001039671.3       YIF1B  shorter\n",
      "936        luminal B  SRR19969228  NM_001008801.2      ZNF468  shorter\n",
      "937        luminal B  SRR19969229     NM_052852.4      ZNF486   longer\n",
      "941        luminal B  SRR19969219     NM_007057.4       ZWINT  shorter\n",
      "\n",
      "[514 rows x 5 columns]\n"
     ]
    }
   ],
   "source": [
    "data = df.loc[:, [\"UTR_diff\", \"log2FoldChange\"]]\n",
    "print(data)\n",
    "\n",
    "meta = df.loc[:, [\"molecularSubtype\", \"filename\", \"reference_id\" , \"ref_gene_id\", \"UTR_type\"]]\n",
    "print(meta)\n"
   ]
  },
  {
   "cell_type": "code",
   "execution_count": 184,
   "metadata": {},
   "outputs": [
    {
     "data": {
      "application/vnd.plotly.v1+json": {
       "config": {
        "plotlyServerURL": "https://plot.ly"
       },
       "data": [
        {
         "hovertemplate": "color=triple negative<br>x=%{x}<br>y=%{y}<extra></extra>",
         "legendgroup": "triple negative",
         "marker": {
          "color": "#636efa",
          "symbol": "circle"
         },
         "mode": "markers",
         "name": "triple negative",
         "orientation": "v",
         "showlegend": true,
         "type": "scatter",
         "x": [
          0.14949987547196456,
          -0.008558619475586495,
          0.12553721677886265,
          0.5016069124996083,
          -2.2871268642921536,
          0.19246249919815234,
          0.29101295101065466,
          0.5025185181661691,
          0.021966383647146474,
          0.30596168724625117,
          0.5299937056234069,
          0.5052072660951359,
          0.2911764516482526,
          1.57790296848413,
          0.13823234830375292,
          1.4180766892162275,
          0.2969033033154176,
          0.15062185167696202,
          0.021134017550063788,
          0.018205752884032353,
          0.3410397875805407,
          0.2570338748846925,
          0.5051371425823237,
          1.4192222280995004,
          0.29698950747347147,
          0.773150468796748,
          0.2168758463531683,
          0.2524543008876098,
          0.9746116515199305,
          1.5711084081764872,
          0.1435379581918454,
          -1.2819829134556289,
          0.1561743158183684,
          0.31470213739886094,
          -1.6114762337637254,
          1.3907984847472767,
          -2.279004315028984,
          0.2973659922146365,
          0.10718159716695728,
          -0.008418372449963839,
          0.001234666921726454,
          0.0379433648497099,
          -1.6130452609169186,
          0.10816289105623028,
          0.3673021481912569,
          -1.1004236561800549,
          0.22164142626495262,
          -2.19520717456097,
          -0.022046579667451095,
          1.9684720242860592,
          -2.4033807343854354,
          1.008860721810224,
          0.16862110416478937,
          0.8970799123166658,
          0.02231102741642546,
          -0.008628742988400915,
          0.38273979671831354,
          0.24725942162862416,
          1.4837234948275044,
          0.18328962580856709,
          -0.0084884959627762,
          -1.6641047999375136,
          -2.4035023257327826,
          0.24591594513100565,
          0.05009148430810128,
          -1.8655489375970664,
          0.013322253294460927,
          -1.359371721105863,
          0.5016770360124206,
          4.200923814665785,
          2.351407107570249,
          -1.7037115513933474,
          -1.6136763725322298,
          -1.4329077527202383,
          0.2091614304511946,
          0.03001586277890113,
          1.578023196120069,
          2.092555782423203,
          1.890798205923098,
          0.019047235037780646,
          0.1438184522430948,
          0.18955066559375713,
          1.8905878353846612,
          0.19146323914057622,
          0.26870782168050783,
          0.12276377612043964,
          0.2545468734711651,
          -0.018624879893809346,
          -1.46753334908831,
          0.38201070563585593
         ],
         "xaxis": "x",
         "y": [
          0.21920241784292227,
          0.10952912618414694,
          -0.06704069439315823,
          0.031647450018256175,
          -0.13042046548586278,
          -0.3334262922394774,
          0.01894269612014068,
          -0.08753717298121633,
          -0.45291341467561763,
          0.12807150133655137,
          -0.013428234658242414,
          0.023698319669783852,
          0.00977536240934027,
          -0.010180770371760984,
          -0.19282825543361473,
          0.008767654131890618,
          -0.04785122979909037,
          0.07251365107434081,
          -0.34408868582917623,
          -0.344111083203901,
          -0.06264180777835164,
          0.015840539736695934,
          0.03286636759282019,
          -0.04623508965604496,
          -0.047667198765104925,
          -0.06144550357306371,
          0.21843415363821322,
          0.01956463156970964,
          0.030772708088116423,
          -0.034071058941741825,
          0.19724390059527466,
          -0.03957337640607547,
          0.06292910663535568,
          -0.04771509211957854,
          -0.01917210641192893,
          -0.039025940658910435,
          -0.13035833866321672,
          -0.04784769083733702,
          -0.0270226916222967,
          0.09119303033807422,
          0.036713786957324385,
          0.048730348106194435,
          -0.03385384224789578,
          -0.0326997082651539,
          -0.06326610783324149,
          1.0559024748258228,
          -0.22712259174074712,
          -0.13026751576845558,
          -0.06248499414749737,
          0.06698041619038604,
          -0.08354133066946486,
          0.06495843026660957,
          -0.03773843298844859,
          -0.04509438468463133,
          0.12544351750810973,
          0.11869717410718328,
          -0.1558424171463045,
          -0.06876856900171541,
          -0.028688173016547632,
          -0.05275440213841262,
          0.10036107826111058,
          0.03974609451473544,
          -0.0835422606834084,
          -0.06877884483057066,
          0.15682918801607487,
          -0.07236781465241675,
          0.04624988290476445,
          -0.06409530399636705,
          0.02247940209521983,
          0.09514972421814823,
          -0.03800487081604554,
          0.008636711773142904,
          0.048658589059431344,
          -0.07171756784815381,
          -0.018082639971472737,
          0.006952654683632272,
          0.2756049210855776,
          -0.05447110628122288,
          -0.04877110490048752,
          -0.4541276582803371,
          0.1605717089031293,
          -0.06691781904318779,
          -0.021266961131378475,
          -0.20278160933620945,
          0.775730409009615,
          -0.06165244284511038,
          -0.06944631631844012,
          -0.013040153396852489,
          0.19913262889689318,
          -0.08827552762249466
         ],
         "yaxis": "y"
        },
        {
         "hovertemplate": "color=luminal B<br>x=%{x}<br>y=%{y}<extra></extra>",
         "legendgroup": "luminal B",
         "marker": {
          "color": "#EF553B",
          "symbol": "circle"
         },
         "mode": "markers",
         "name": "luminal B",
         "orientation": "v",
         "showlegend": true,
         "type": "scatter",
         "x": [
          -0.0031188344681970493,
          0.06576412858938767,
          0.7812715159366955,
          0.015321231429375857,
          0.061032827994319944,
          0.04533063431435948,
          -1.3450714926006255,
          1.3616163712826388,
          -1.1762204263048526,
          0.05020983147049451,
          0.42248288378825455,
          0.4314713780082347,
          0.6649987647501467,
          0.26355744722262264,
          -1.4249544312577438,
          0.08587873557051647,
          -0.01592123745432839,
          0.10413534526612682,
          0.6216295393857754,
          0.2770350009340963,
          -1.651509554153669,
          0.07479460592828982,
          1.4589914100164247,
          0.02947861568453326,
          0.16317997472665707,
          -1.3353968880321918,
          1.1414930777411854,
          -1.829061038272825,
          0.9616626594905909,
          -0.007145364557874802,
          0.13723398685288632,
          -1.6892246026576954,
          0.018515950708674726,
          0.9669087963567661,
          0.04519038728873476,
          0.5060830606751755,
          0.07349278718853346,
          0.029548739197345613,
          0.01498499040082209,
          -1.23383544508061,
          0.47763492072159897,
          -1.4202587382803369,
          0.30313102175441786,
          0.4758926118118443,
          0.16584014080986165,
          -1.120738192411023,
          0.034837601072935716,
          0.2158626430181825,
          -2.1086103351422234,
          0.12892111781638965,
          0.1642841384110009,
          2.900847848715312,
          0.2129717123717419,
          -1.1157977932156664,
          0.09472269829623552,
          -2.472367871809752,
          -1.1325864630525129,
          0.06089258096869522,
          1.8562579846449243,
          -2.8478848043698926,
          0.6645102741917036,
          -1.3580270128376448,
          0.6041487377384447,
          0.9713885177503155,
          0.21081207901286955,
          0.4638431217798812,
          0.6648585177245221,
          -1.2029056933291329,
          0.664590542425529,
          -1.47093950219968,
          0.2685221625124658,
          0.2627648045211758,
          0.46965801470618257,
          -1.3352913175830368,
          0.14972806847645706,
          0.6645039760718866,
          0.7964592317534149,
          0.3626616430273893,
          0.05703617377766382,
          -1.2661028663672806,
          0.09310719360431016,
          0.26787832332866923,
          0.0235196050669447,
          -1.1269278067404678,
          0.09466396527802924,
          0.16257067639875536,
          -1.630827285523686,
          0.21477088258437751,
          0.017488559408183783,
          0.30448932630766196,
          0.665891434863222,
          -1.1759328961759095,
          1.595994092098874,
          0.21267724503571733,
          -0.002978587442572331,
          0.04733768468266537,
          -2.036886771007235,
          0.03346132415172215,
          0.26904754928655283,
          0.838627242010118,
          0.2606020383659485,
          0.266821123554866,
          0.04815457559904337,
          0.054123971260030025,
          -1.2413644870783558,
          0.46300306649541617,
          0.9669727688450526,
          0.033778005889281065,
          0.015195360939259153,
          0.6926316350910937,
          -0.014316230486766777,
          0.07567424342574518,
          0.26841817496994014,
          0.9662075612286425,
          0.5295062791492023,
          -1.42027594606734,
          -1.5741065583914595,
          -1.2004011424000456,
          0.3614206359076996,
          0.13721796845752854,
          -0.024251791615406883,
          0.1979524633223157,
          0.4718465119358684,
          0.6651728940068284,
          0.049964294622467494,
          0.149623415121204,
          0.5060192075254487,
          0.019263309712227367,
          0.19788233980950332,
          0.6647307894511537,
          0.043163261746571854,
          -1.7815734469219455,
          -1.206050973699191,
          0.6852510078654742,
          0.3631342560059251,
          0.15201890497462522,
          0.47185996687838744,
          0.6753898288447415,
          1.856678725721799,
          0.04822469911185572,
          0.9604446293967475,
          0.3626297888801792,
          -2.0403725959958816,
          0.6650326469812038,
          0.3419733255761441,
          0.4694793954107861,
          0.9456046960157511,
          -1.6537821395910648,
          -1.1527093388530838,
          0.08087066590720751,
          -1.4200504049694458,
          0.2486662812762452,
          -1.5871357010864358,
          0.032395812994146324,
          0.36265437754849456,
          0.1926015024517698,
          1.1198126509768185,
          0.9609614243624673,
          -2.304786150417146,
          -1.2285430917411675,
          0.05064200225554506,
          1.449484876671182,
          0.04982404759684278,
          0.015125237426446806
         ],
         "xaxis": "x",
         "y": [
          0.2227110633497385,
          0.009609913828314992,
          0.0851305884862187,
          -0.024516298149192827,
          0.05560001866337835,
          0.02861596559852955,
          -0.14631981284560422,
          -0.039249145459387916,
          0.0035027410791936054,
          -0.023424273644261414,
          -0.057984698089317555,
          0.03578698337153026,
          0.05187615231733998,
          -0.04728110917152942,
          0.09658678606365673,
          0.10071612014088381,
          0.31998350680708343,
          0.009903403186883486,
          -0.05921206328711902,
          0.18799616306664607,
          0.05157821945814774,
          -0.06678700775242055,
          -0.059317040743922224,
          0.08213093651056419,
          -0.0635437722896167,
          0.5097663900868556,
          -0.008751068437535195,
          -0.24473317210716916,
          -0.1757111667223826,
          -0.009835031543617789,
          0.08332186679838864,
          0.12665551166976186,
          -0.0716183859241691,
          -0.17567104067277653,
          0.046952061444602226,
          -0.010402115158794856,
          -0.028013853467929464,
          0.07296288858752786,
          0.32104507140066296,
          2.3373836185322774,
          -0.06728155685082335,
          0.06673311720238984,
          -0.05999781302769726,
          0.0672999339442145,
          -0.1051487981283048,
          -0.12058226724162968,
          0.40701486659153097,
          0.027169735973434955,
          -0.0871546186045614,
          0.03723199121561931,
          -0.07068682262420031,
          -0.04526310187460646,
          -0.066738678828433,
          -0.06434105807310853,
          0.033211298716021964,
          0.24719195831242374,
          -0.12085626261989815,
          0.07393611450945105,
          0.01211916493790678,
          -0.1987979305515969,
          0.0702095845582439,
          -0.002655504098804752,
          0.3586499886931538,
          -0.05992924313437605,
          0.026856048270811332,
          0.1010398471650621,
          0.07021224816341269,
          0.0003646869029982651,
          0.07021019850469906,
          0.0988022643275638,
          -0.027530679434195605,
          -0.07057537590637183,
          -0.06147467575765352,
          -0.040622916509098606,
          -0.6784002373729786,
          0.07020953638590784,
          -0.031927752499631874,
          -0.01690856516147526,
          -0.23553310124063923,
          -0.04715352571592782,
          -0.022362678481692183,
          -0.02744391811469938,
          -0.04334087497774373,
          -0.06415113051498562,
          0.055857252646665315,
          -0.06455697689107151,
          -0.14804703974688926,
          -0.03949422224291701,
          -0.05145535871027303,
          -0.05998742378371184,
          0.05188298007005648,
          0.003504940306646401,
          0.03690075443002808,
          -0.06509058594677072,
          0.2043749675036658,
          0.0869435128885928,
          -0.12850645777833988,
          0.06043185426058405,
          -0.1784415580943789,
          0.015888043886141012,
          -0.04629516989329591,
          -0.02745200430300313,
          -0.002168878129850508,
          -0.0417315041724601,
          0.05260651559480746,
          0.10103342184660852,
          -0.17539549383907835,
          0.06043427645951533,
          0.29354092763155387,
          0.16238557628164205,
          0.19603652359253498,
          -0.06678027968207877,
          -0.02743978895941995,
          -0.08399056144241308,
          0.22265908226970596,
          0.06618287052890055,
          -0.20803417113552397,
          -0.18124581107716936,
          0.1674621725502892,
          0.008597782431658327,
          0.11949453675334502,
          0.12009387704487452,
          0.053057680972464556,
          0.05187748417721511,
          0.02865140700772717,
          0.08341662963549469,
          0.06294607065427062,
          -0.049974810719706754,
          0.1292619249679109,
          0.05187410265862636,
          -0.033380241655859705,
          -0.4171060822226496,
          -0.2215391098288086,
          -0.3073774482576776,
          0.16747527949103844,
          0.03364953936624982,
          0.05305778388508478,
          -0.2523496818150461,
          -0.04288912260031131,
          -0.011336926052886854,
          0.05743661508021694,
          0.15160977018379604,
          -0.12853311975647358,
          0.07021358002328781,
          -0.06566030025105087,
          -0.06147604196042148,
          -0.020059742186193868,
          0.05156083716746011,
          -0.28228557357278783,
          -0.024473360371113258,
          0.06618459562176664,
          0.007799870327112581,
          -0.07702307180421676,
          -0.03199562499807165,
          0.16747160905176495,
          -0.029761717835707368,
          0.03188330482923929,
          -0.08403068749201915,
          -0.2314099628398149,
          0.020247794076030272,
          -0.06467959734666881,
          0.866270515250863,
          0.046987502853799844,
          0.30270897555459025
         ],
         "yaxis": "y"
        },
        {
         "hovertemplate": "color=HER2+<br>x=%{x}<br>y=%{y}<extra></extra>",
         "legendgroup": "HER2+",
         "marker": {
          "color": "#00cc96",
          "symbol": "circle"
         },
         "mode": "markers",
         "name": "HER2+",
         "orientation": "v",
         "showlegend": true,
         "type": "scatter",
         "x": [
          0.05063114771138664,
          0.7694484135554583,
          0.019182448040847164,
          -1.234737507822049,
          0.31900322430756906,
          0.1154912046213504,
          0.36187560583067246,
          1.0219363826109449,
          0.4370756619101462,
          0.5513039108422557,
          -1.094930186855838,
          1.2653104043633243,
          0.3617353588050476,
          2.6492547696340014,
          0.0707963781719791,
          0.7131090100390243,
          0.08166930058650936,
          0.3140345723392423,
          0.39148839113243433,
          0.09617495909291436,
          0.15571905730421015,
          0.15564893379139777,
          -1.956518096103341,
          0.36194572934348473,
          0.39642216674617065,
          0.3617434427583331,
          0.35705116329726,
          -1.1981409686871294,
          0.3133333372111187,
          2.6493248931468134,
          0.19585986093752794,
          0.1490271352591264,
          0.3070791971998663,
          0.6191333826838763,
          0.43495928016182034,
          1.2658713924658234,
          0.36181356627114547,
          0.36160319573270844,
          -1.2125829247473217,
          0.03507739216087302,
          -1.4787850216181468,
          0.4172891807429399,
          0.43742627947420787,
          -1.1993164240629623,
          2.2899232113414207,
          0.7059348328576756,
          0.15565103749678216,
          0.3063779620717428,
          -2.001177455307332,
          -1.4791822242857569,
          0.11908028333946656,
          0.06075935377944302,
          -1.5417471924505042,
          -1.222055611377561,
          -1.4443276040703967,
          -2.0019699758533482,
          -0.031160665756833666,
          0.07100674871041619,
          -1.2343497247961968,
          -1.0950003103686505,
          0.18217590745290835,
          0.3354949230692769
         ],
         "xaxis": "x",
         "y": [
          0.057629233868359574,
          0.039197235918996945,
          -0.06886271281314908,
          -0.8105650062852207,
          -0.10324381517045625,
          -0.046946647771480506,
          0.053958579138688005,
          -0.06431028224996337,
          0.04802406586178082,
          -0.013265239606161248,
          0.6983697058907172,
          -0.03998575948691763,
          0.0722946749847607,
          0.47028743837666054,
          0.07813772846099343,
          0.028772556694461958,
          -0.42485932718624586,
          -0.10328181882542033,
          -0.05978042453463203,
          -0.0604805246960539,
          0.04321316831349453,
          0.05238121623653087,
          0.19612602522273434,
          0.04479053121565166,
          -0.10952810025505158,
          0.05395756826494756,
          -0.17813518952201246,
          0.26784873410459886,
          -0.011601339595056851,
          0.4611193904536241,
          -0.1923874807284166,
          -0.051641177502746244,
          -0.10333501830057526,
          -0.02356536277151107,
          0.4131009041828614,
          -0.11333014287120836,
          0.04478952034191122,
          0.07229366411102027,
          -0.06508133707993534,
          -0.06314830098051037,
          -0.10415851360254155,
          0.06914384081501627,
          0.0021838262465990943,
          0.27031526117086024,
          -0.052961504941147715,
          0.06181627290668476,
          0.05210617479883978,
          -0.011654539070211783,
          -0.12823332846247854,
          -0.10416155168072189,
          -0.24716107661965647,
          0.4459962454050751,
          -0.0808934581550559,
          -0.06515379067833046,
          -0.06914602525664165,
          -0.12823939020267985,
          0.7734368093363412,
          0.05063358469188437,
          -0.8612643112996118,
          0.7075377538137536,
          -0.06532388107728679,
          -0.17830006641843607
         ],
         "yaxis": "y"
        },
        {
         "hovertemplate": "color=luminal A<br>x=%{x}<br>y=%{y}<extra></extra>",
         "legendgroup": "luminal A",
         "marker": {
          "color": "#ab63fa",
          "symbol": "circle"
         },
         "mode": "markers",
         "name": "luminal A",
         "orientation": "v",
         "showlegend": true,
         "type": "scatter",
         "x": [
          -1.1411382325853965,
          0.24172293891396548,
          0.17747556092793093,
          0.9533583543288267,
          -1.1428729442835903,
          -1.144580473417587,
          0.06198763655817785,
          0.9358865552659272,
          -1.5627210046900595,
          0.2633577719939411,
          0.019698047279584168,
          0.23302546077040676,
          0.21235881653236122,
          -1.2811611652709929,
          1.612063964584062,
          -1.2662064700986608,
          0.9529965170027149,
          -1.1280129190297021,
          0.22534508366329886,
          0.3600138538624139,
          -1.1358827330318935,
          0.061566895481303716,
          0.2617393051822615,
          0.40444266691964614,
          -1.9166623907269835,
          4.50538160392257,
          0.2592193281578188,
          0.23580427471994284,
          -1.174685485826111,
          0.02229433191327906,
          -1.1415123979066368,
          0.18647618856721748,
          1.146622042622899,
          -1.383817756974472,
          0.1926081936571981,
          0.22555053937054095,
          0.04466778645471823,
          -1.174737950614432,
          0.20872441119120208,
          -1.1969520539433591,
          4.29927753582819,
          -1.1946229931804973,
          0.46062639542006223,
          -0.01924459423703357,
          -2.5978871138045307,
          -1.266066223073036,
          0.3588249410678569,
          0.259079081132194,
          -1.4797678200313389,
          -1.2100498189256812,
          0.061496771968491355,
          0.42383291438894366,
          1.9840202271866396,
          -1.9855836200192902,
          -1.353132844966666,
          0.9681768560168149,
          0.17624022765146574,
          0.06163701899411606,
          -1.2826253442185145,
          0.9746942167704459,
          0.009032140430979376,
          -1.142150161310439,
          0.4192829790415725,
          -1.74112071068631,
          0.4047932844837078,
          0.19267831717001047,
          0.0199785413308336,
          0.28943752870204753,
          0.18349515825006335
         ],
         "xaxis": "x",
         "y": [
          0.03503594611660405,
          -0.024985082977415526,
          -0.5690818526560746,
          -0.8881736819616377,
          -0.04951166916923436,
          0.1018485968699169,
          -0.05826649501081743,
          -0.8883073182532155,
          -0.08142062361415062,
          -0.056084477329188566,
          -0.05538095027156385,
          -0.06649360817632773,
          -0.021725617882038237,
          -0.41767950664329695,
          -0.14423924330437296,
          0.1285157565744148,
          -0.84086655467877,
          -0.0008961986949099406,
          -0.02162629001233406,
          0.10024568977624504,
          0.09458025572784003,
          -0.003258207472599356,
          -0.025015355777730376,
          0.04777446635471758,
          0.1196898185803827,
          -0.33151963224413933,
          0.0592246592050105,
          -0.06647235390309211,
          0.06806131465679899,
          0.263705640687223,
          0.03503308424383482,
          -0.050712940582222824,
          0.028604299402597552,
          -0.012388097029509397,
          0.018373400790713475,
          -0.021624718546298966,
          0.05345775907107429,
          0.06806091337014702,
          -0.09867783837775843,
          0.06073950895087781,
          0.13450174067408308,
          0.12777967425902043,
          0.0014444182033881306,
          -0.024780681269714895,
          -0.19688577690617678,
          0.11017966072834212,
          0.10023659615650375,
          0.07756075505108319,
          0.8208524368584932,
          -0.06735410821975887,
          0.005909840450436998,
          0.30647685282942655,
          -0.033204972475914536,
          -0.04348802325986648,
          -0.009861251727070336,
          0.1237846207612342,
          -0.5690913013314706,
          -0.012426255395635705,
          -0.22625066601029797,
          -0.59553265227027,
          -0.07104912370454236,
          0.05336537474372997,
          0.040828165338675865,
          -0.41679667197615783,
          0.00193422673953586,
          0.009205352867677128,
          -0.09205314196370923,
          -0.023611584828526478,
          0.01830369805131941
         ],
         "yaxis": "y"
        }
       ],
       "layout": {
        "legend": {
         "title": {
          "text": "color"
         },
         "tracegroupgap": 0
        },
        "margin": {
         "t": 60
        },
        "template": {
         "data": {
          "bar": [
           {
            "error_x": {
             "color": "#2a3f5f"
            },
            "error_y": {
             "color": "#2a3f5f"
            },
            "marker": {
             "line": {
              "color": "#E5ECF6",
              "width": 0.5
             },
             "pattern": {
              "fillmode": "overlay",
              "size": 10,
              "solidity": 0.2
             }
            },
            "type": "bar"
           }
          ],
          "barpolar": [
           {
            "marker": {
             "line": {
              "color": "#E5ECF6",
              "width": 0.5
             },
             "pattern": {
              "fillmode": "overlay",
              "size": 10,
              "solidity": 0.2
             }
            },
            "type": "barpolar"
           }
          ],
          "carpet": [
           {
            "aaxis": {
             "endlinecolor": "#2a3f5f",
             "gridcolor": "white",
             "linecolor": "white",
             "minorgridcolor": "white",
             "startlinecolor": "#2a3f5f"
            },
            "baxis": {
             "endlinecolor": "#2a3f5f",
             "gridcolor": "white",
             "linecolor": "white",
             "minorgridcolor": "white",
             "startlinecolor": "#2a3f5f"
            },
            "type": "carpet"
           }
          ],
          "choropleth": [
           {
            "colorbar": {
             "outlinewidth": 0,
             "ticks": ""
            },
            "type": "choropleth"
           }
          ],
          "contour": [
           {
            "colorbar": {
             "outlinewidth": 0,
             "ticks": ""
            },
            "colorscale": [
             [
              0,
              "#0d0887"
             ],
             [
              0.1111111111111111,
              "#46039f"
             ],
             [
              0.2222222222222222,
              "#7201a8"
             ],
             [
              0.3333333333333333,
              "#9c179e"
             ],
             [
              0.4444444444444444,
              "#bd3786"
             ],
             [
              0.5555555555555556,
              "#d8576b"
             ],
             [
              0.6666666666666666,
              "#ed7953"
             ],
             [
              0.7777777777777778,
              "#fb9f3a"
             ],
             [
              0.8888888888888888,
              "#fdca26"
             ],
             [
              1,
              "#f0f921"
             ]
            ],
            "type": "contour"
           }
          ],
          "contourcarpet": [
           {
            "colorbar": {
             "outlinewidth": 0,
             "ticks": ""
            },
            "type": "contourcarpet"
           }
          ],
          "heatmap": [
           {
            "colorbar": {
             "outlinewidth": 0,
             "ticks": ""
            },
            "colorscale": [
             [
              0,
              "#0d0887"
             ],
             [
              0.1111111111111111,
              "#46039f"
             ],
             [
              0.2222222222222222,
              "#7201a8"
             ],
             [
              0.3333333333333333,
              "#9c179e"
             ],
             [
              0.4444444444444444,
              "#bd3786"
             ],
             [
              0.5555555555555556,
              "#d8576b"
             ],
             [
              0.6666666666666666,
              "#ed7953"
             ],
             [
              0.7777777777777778,
              "#fb9f3a"
             ],
             [
              0.8888888888888888,
              "#fdca26"
             ],
             [
              1,
              "#f0f921"
             ]
            ],
            "type": "heatmap"
           }
          ],
          "heatmapgl": [
           {
            "colorbar": {
             "outlinewidth": 0,
             "ticks": ""
            },
            "colorscale": [
             [
              0,
              "#0d0887"
             ],
             [
              0.1111111111111111,
              "#46039f"
             ],
             [
              0.2222222222222222,
              "#7201a8"
             ],
             [
              0.3333333333333333,
              "#9c179e"
             ],
             [
              0.4444444444444444,
              "#bd3786"
             ],
             [
              0.5555555555555556,
              "#d8576b"
             ],
             [
              0.6666666666666666,
              "#ed7953"
             ],
             [
              0.7777777777777778,
              "#fb9f3a"
             ],
             [
              0.8888888888888888,
              "#fdca26"
             ],
             [
              1,
              "#f0f921"
             ]
            ],
            "type": "heatmapgl"
           }
          ],
          "histogram": [
           {
            "marker": {
             "pattern": {
              "fillmode": "overlay",
              "size": 10,
              "solidity": 0.2
             }
            },
            "type": "histogram"
           }
          ],
          "histogram2d": [
           {
            "colorbar": {
             "outlinewidth": 0,
             "ticks": ""
            },
            "colorscale": [
             [
              0,
              "#0d0887"
             ],
             [
              0.1111111111111111,
              "#46039f"
             ],
             [
              0.2222222222222222,
              "#7201a8"
             ],
             [
              0.3333333333333333,
              "#9c179e"
             ],
             [
              0.4444444444444444,
              "#bd3786"
             ],
             [
              0.5555555555555556,
              "#d8576b"
             ],
             [
              0.6666666666666666,
              "#ed7953"
             ],
             [
              0.7777777777777778,
              "#fb9f3a"
             ],
             [
              0.8888888888888888,
              "#fdca26"
             ],
             [
              1,
              "#f0f921"
             ]
            ],
            "type": "histogram2d"
           }
          ],
          "histogram2dcontour": [
           {
            "colorbar": {
             "outlinewidth": 0,
             "ticks": ""
            },
            "colorscale": [
             [
              0,
              "#0d0887"
             ],
             [
              0.1111111111111111,
              "#46039f"
             ],
             [
              0.2222222222222222,
              "#7201a8"
             ],
             [
              0.3333333333333333,
              "#9c179e"
             ],
             [
              0.4444444444444444,
              "#bd3786"
             ],
             [
              0.5555555555555556,
              "#d8576b"
             ],
             [
              0.6666666666666666,
              "#ed7953"
             ],
             [
              0.7777777777777778,
              "#fb9f3a"
             ],
             [
              0.8888888888888888,
              "#fdca26"
             ],
             [
              1,
              "#f0f921"
             ]
            ],
            "type": "histogram2dcontour"
           }
          ],
          "mesh3d": [
           {
            "colorbar": {
             "outlinewidth": 0,
             "ticks": ""
            },
            "type": "mesh3d"
           }
          ],
          "parcoords": [
           {
            "line": {
             "colorbar": {
              "outlinewidth": 0,
              "ticks": ""
             }
            },
            "type": "parcoords"
           }
          ],
          "pie": [
           {
            "automargin": true,
            "type": "pie"
           }
          ],
          "scatter": [
           {
            "fillpattern": {
             "fillmode": "overlay",
             "size": 10,
             "solidity": 0.2
            },
            "type": "scatter"
           }
          ],
          "scatter3d": [
           {
            "line": {
             "colorbar": {
              "outlinewidth": 0,
              "ticks": ""
             }
            },
            "marker": {
             "colorbar": {
              "outlinewidth": 0,
              "ticks": ""
             }
            },
            "type": "scatter3d"
           }
          ],
          "scattercarpet": [
           {
            "marker": {
             "colorbar": {
              "outlinewidth": 0,
              "ticks": ""
             }
            },
            "type": "scattercarpet"
           }
          ],
          "scattergeo": [
           {
            "marker": {
             "colorbar": {
              "outlinewidth": 0,
              "ticks": ""
             }
            },
            "type": "scattergeo"
           }
          ],
          "scattergl": [
           {
            "marker": {
             "colorbar": {
              "outlinewidth": 0,
              "ticks": ""
             }
            },
            "type": "scattergl"
           }
          ],
          "scattermapbox": [
           {
            "marker": {
             "colorbar": {
              "outlinewidth": 0,
              "ticks": ""
             }
            },
            "type": "scattermapbox"
           }
          ],
          "scatterpolar": [
           {
            "marker": {
             "colorbar": {
              "outlinewidth": 0,
              "ticks": ""
             }
            },
            "type": "scatterpolar"
           }
          ],
          "scatterpolargl": [
           {
            "marker": {
             "colorbar": {
              "outlinewidth": 0,
              "ticks": ""
             }
            },
            "type": "scatterpolargl"
           }
          ],
          "scatterternary": [
           {
            "marker": {
             "colorbar": {
              "outlinewidth": 0,
              "ticks": ""
             }
            },
            "type": "scatterternary"
           }
          ],
          "surface": [
           {
            "colorbar": {
             "outlinewidth": 0,
             "ticks": ""
            },
            "colorscale": [
             [
              0,
              "#0d0887"
             ],
             [
              0.1111111111111111,
              "#46039f"
             ],
             [
              0.2222222222222222,
              "#7201a8"
             ],
             [
              0.3333333333333333,
              "#9c179e"
             ],
             [
              0.4444444444444444,
              "#bd3786"
             ],
             [
              0.5555555555555556,
              "#d8576b"
             ],
             [
              0.6666666666666666,
              "#ed7953"
             ],
             [
              0.7777777777777778,
              "#fb9f3a"
             ],
             [
              0.8888888888888888,
              "#fdca26"
             ],
             [
              1,
              "#f0f921"
             ]
            ],
            "type": "surface"
           }
          ],
          "table": [
           {
            "cells": {
             "fill": {
              "color": "#EBF0F8"
             },
             "line": {
              "color": "white"
             }
            },
            "header": {
             "fill": {
              "color": "#C8D4E3"
             },
             "line": {
              "color": "white"
             }
            },
            "type": "table"
           }
          ]
         },
         "layout": {
          "annotationdefaults": {
           "arrowcolor": "#2a3f5f",
           "arrowhead": 0,
           "arrowwidth": 1
          },
          "autotypenumbers": "strict",
          "coloraxis": {
           "colorbar": {
            "outlinewidth": 0,
            "ticks": ""
           }
          },
          "colorscale": {
           "diverging": [
            [
             0,
             "#8e0152"
            ],
            [
             0.1,
             "#c51b7d"
            ],
            [
             0.2,
             "#de77ae"
            ],
            [
             0.3,
             "#f1b6da"
            ],
            [
             0.4,
             "#fde0ef"
            ],
            [
             0.5,
             "#f7f7f7"
            ],
            [
             0.6,
             "#e6f5d0"
            ],
            [
             0.7,
             "#b8e186"
            ],
            [
             0.8,
             "#7fbc41"
            ],
            [
             0.9,
             "#4d9221"
            ],
            [
             1,
             "#276419"
            ]
           ],
           "sequential": [
            [
             0,
             "#0d0887"
            ],
            [
             0.1111111111111111,
             "#46039f"
            ],
            [
             0.2222222222222222,
             "#7201a8"
            ],
            [
             0.3333333333333333,
             "#9c179e"
            ],
            [
             0.4444444444444444,
             "#bd3786"
            ],
            [
             0.5555555555555556,
             "#d8576b"
            ],
            [
             0.6666666666666666,
             "#ed7953"
            ],
            [
             0.7777777777777778,
             "#fb9f3a"
            ],
            [
             0.8888888888888888,
             "#fdca26"
            ],
            [
             1,
             "#f0f921"
            ]
           ],
           "sequentialminus": [
            [
             0,
             "#0d0887"
            ],
            [
             0.1111111111111111,
             "#46039f"
            ],
            [
             0.2222222222222222,
             "#7201a8"
            ],
            [
             0.3333333333333333,
             "#9c179e"
            ],
            [
             0.4444444444444444,
             "#bd3786"
            ],
            [
             0.5555555555555556,
             "#d8576b"
            ],
            [
             0.6666666666666666,
             "#ed7953"
            ],
            [
             0.7777777777777778,
             "#fb9f3a"
            ],
            [
             0.8888888888888888,
             "#fdca26"
            ],
            [
             1,
             "#f0f921"
            ]
           ]
          },
          "colorway": [
           "#636efa",
           "#EF553B",
           "#00cc96",
           "#ab63fa",
           "#FFA15A",
           "#19d3f3",
           "#FF6692",
           "#B6E880",
           "#FF97FF",
           "#FECB52"
          ],
          "font": {
           "color": "#2a3f5f"
          },
          "geo": {
           "bgcolor": "white",
           "lakecolor": "white",
           "landcolor": "#E5ECF6",
           "showlakes": true,
           "showland": true,
           "subunitcolor": "white"
          },
          "hoverlabel": {
           "align": "left"
          },
          "hovermode": "closest",
          "mapbox": {
           "style": "light"
          },
          "paper_bgcolor": "white",
          "plot_bgcolor": "#E5ECF6",
          "polar": {
           "angularaxis": {
            "gridcolor": "white",
            "linecolor": "white",
            "ticks": ""
           },
           "bgcolor": "#E5ECF6",
           "radialaxis": {
            "gridcolor": "white",
            "linecolor": "white",
            "ticks": ""
           }
          },
          "scene": {
           "xaxis": {
            "backgroundcolor": "#E5ECF6",
            "gridcolor": "white",
            "gridwidth": 2,
            "linecolor": "white",
            "showbackground": true,
            "ticks": "",
            "zerolinecolor": "white"
           },
           "yaxis": {
            "backgroundcolor": "#E5ECF6",
            "gridcolor": "white",
            "gridwidth": 2,
            "linecolor": "white",
            "showbackground": true,
            "ticks": "",
            "zerolinecolor": "white"
           },
           "zaxis": {
            "backgroundcolor": "#E5ECF6",
            "gridcolor": "white",
            "gridwidth": 2,
            "linecolor": "white",
            "showbackground": true,
            "ticks": "",
            "zerolinecolor": "white"
           }
          },
          "shapedefaults": {
           "line": {
            "color": "#2a3f5f"
           }
          },
          "ternary": {
           "aaxis": {
            "gridcolor": "white",
            "linecolor": "white",
            "ticks": ""
           },
           "baxis": {
            "gridcolor": "white",
            "linecolor": "white",
            "ticks": ""
           },
           "bgcolor": "#E5ECF6",
           "caxis": {
            "gridcolor": "white",
            "linecolor": "white",
            "ticks": ""
           }
          },
          "title": {
           "x": 0.05
          },
          "xaxis": {
           "automargin": true,
           "gridcolor": "white",
           "linecolor": "white",
           "ticks": "",
           "title": {
            "standoff": 15
           },
           "zerolinecolor": "white",
           "zerolinewidth": 2
          },
          "yaxis": {
           "automargin": true,
           "gridcolor": "white",
           "linecolor": "white",
           "ticks": "",
           "title": {
            "standoff": 15
           },
           "zerolinecolor": "white",
           "zerolinewidth": 2
          }
         }
        },
        "title": {
         "text": "PCA visualization of Customer Churn dataset"
        },
        "xaxis": {
         "anchor": "y",
         "domain": [
          0,
          1
         ],
         "title": {
          "text": "First Principal Component"
         }
        },
        "yaxis": {
         "anchor": "x",
         "domain": [
          0,
          1
         ],
         "title": {
          "text": "Second Principal Component"
         }
        }
       }
      }
     },
     "metadata": {},
     "output_type": "display_data"
    }
   ],
   "source": [
    "import numpy as np\n",
    "import matplotlib.pyplot as plt\n",
    "from sklearn.manifold import TSNE\n",
    "from sklearn.cluster import KMeans\n",
    "\n",
    "from sklearn.model_selection import train_test_split\n",
    "from sklearn.preprocessing import StandardScaler\n",
    "\n",
    "X = data\n",
    "y = meta['molecularSubtype']\n",
    "\n",
    "scaler = StandardScaler()\n",
    "X_norm = scaler.fit_transform(X)\n",
    "\n",
    "X_train, X_test, y_train, y_test = train_test_split(\n",
    "    X_norm, y, random_state=13, test_size=0.25, shuffle=True\n",
    ")\n",
    "\n",
    "pca = PCA(n_components=2)\n",
    "X_train_pca = pca.fit_transform(X_train)\n",
    "\n",
    "pca.score(X_test)\n",
    "# # Generate sample data (replace with your own data)\n",
    "# X = scale(data)\n",
    "# Y = scale(df['molecularSubtype'])\n",
    "# # Apply t-SNE to reduce the dimensionality of the data\n",
    "# tsne = TSNE(n_components=2, random_state=42)\n",
    "# X_tsne = tsne.fit_transform(X)\n",
    "\n",
    "# # Perform clustering on the t-SNE transformed data\n",
    "# kmeans = KMeans(n_clusters=3, random_state=42)\n",
    "# labels = kmeans.fit_predict(X_tsne)\n",
    "\n",
    "# # Plot the clustered data\n",
    "# plt.scatter(X_tsne[:, 0], X_tsne[:, 1], c=labels)\n",
    "# plt.title('t-SNE Clustering')\n",
    "# plt.xlabel('t-SNE Dimension 1')\n",
    "# plt.ylabel('t-SNE Dimension 2')\n",
    "# plt.show()\n",
    "\n",
    "# fig = px.scatter(x=X_train_tsne[:, 0], y=X_train_tsne[:, 1], color=Y)\n",
    "# fig.update_layout(\n",
    "#     title=\"t-SNE visualization of Customer Churn dataset\",\n",
    "#     xaxis_title=\"First t-SNE\",\n",
    "#     yaxis_title=\"Second t-SNE\",\n",
    "# )\n",
    "# fig.show()\n",
    "\n",
    "fig = px.scatter(x=X_train_pca[:, 0], y=X_train_pca[:, 1], color=y_train)\n",
    "fig.update_layout(\n",
    "    title=\"PCA visualization of Customer Churn dataset\",\n",
    "    xaxis_title=\"First Principal Component\",\n",
    "    yaxis_title=\"Second Principal Component\",\n",
    ")\n",
    "fig.show()\n"
   ]
  },
  {
   "cell_type": "code",
   "execution_count": 185,
   "metadata": {},
   "outputs": [
    {
     "data": {
      "application/vnd.plotly.v1+json": {
       "config": {
        "plotlyServerURL": "https://plot.ly"
       },
       "data": [
        {
         "hovertemplate": "x=%{x}<br>y=%{y}<extra></extra>",
         "legendgroup": "",
         "line": {
          "color": "red",
          "dash": "solid",
          "width": 1
         },
         "marker": {
          "symbol": "circle"
         },
         "mode": "lines+markers",
         "name": "",
         "orientation": "v",
         "showlegend": false,
         "type": "scatter",
         "x": [
          5,
          55,
          105,
          155,
          205,
          255,
          305,
          355
         ],
         "xaxis": "x",
         "y": [
          0.2755769193172455,
          0.1200169175863266,
          0.05530349910259247,
          0.02260342240333557,
          0.01304376870393753,
          0.012917579151690006,
          0.006825345102697611,
          0.001370060257613659
         ],
         "yaxis": "y"
        }
       ],
       "layout": {
        "legend": {
         "tracegroupgap": 0
        },
        "margin": {
         "t": 60
        },
        "template": {
         "data": {
          "bar": [
           {
            "error_x": {
             "color": "#2a3f5f"
            },
            "error_y": {
             "color": "#2a3f5f"
            },
            "marker": {
             "line": {
              "color": "#E5ECF6",
              "width": 0.5
             },
             "pattern": {
              "fillmode": "overlay",
              "size": 10,
              "solidity": 0.2
             }
            },
            "type": "bar"
           }
          ],
          "barpolar": [
           {
            "marker": {
             "line": {
              "color": "#E5ECF6",
              "width": 0.5
             },
             "pattern": {
              "fillmode": "overlay",
              "size": 10,
              "solidity": 0.2
             }
            },
            "type": "barpolar"
           }
          ],
          "carpet": [
           {
            "aaxis": {
             "endlinecolor": "#2a3f5f",
             "gridcolor": "white",
             "linecolor": "white",
             "minorgridcolor": "white",
             "startlinecolor": "#2a3f5f"
            },
            "baxis": {
             "endlinecolor": "#2a3f5f",
             "gridcolor": "white",
             "linecolor": "white",
             "minorgridcolor": "white",
             "startlinecolor": "#2a3f5f"
            },
            "type": "carpet"
           }
          ],
          "choropleth": [
           {
            "colorbar": {
             "outlinewidth": 0,
             "ticks": ""
            },
            "type": "choropleth"
           }
          ],
          "contour": [
           {
            "colorbar": {
             "outlinewidth": 0,
             "ticks": ""
            },
            "colorscale": [
             [
              0,
              "#0d0887"
             ],
             [
              0.1111111111111111,
              "#46039f"
             ],
             [
              0.2222222222222222,
              "#7201a8"
             ],
             [
              0.3333333333333333,
              "#9c179e"
             ],
             [
              0.4444444444444444,
              "#bd3786"
             ],
             [
              0.5555555555555556,
              "#d8576b"
             ],
             [
              0.6666666666666666,
              "#ed7953"
             ],
             [
              0.7777777777777778,
              "#fb9f3a"
             ],
             [
              0.8888888888888888,
              "#fdca26"
             ],
             [
              1,
              "#f0f921"
             ]
            ],
            "type": "contour"
           }
          ],
          "contourcarpet": [
           {
            "colorbar": {
             "outlinewidth": 0,
             "ticks": ""
            },
            "type": "contourcarpet"
           }
          ],
          "heatmap": [
           {
            "colorbar": {
             "outlinewidth": 0,
             "ticks": ""
            },
            "colorscale": [
             [
              0,
              "#0d0887"
             ],
             [
              0.1111111111111111,
              "#46039f"
             ],
             [
              0.2222222222222222,
              "#7201a8"
             ],
             [
              0.3333333333333333,
              "#9c179e"
             ],
             [
              0.4444444444444444,
              "#bd3786"
             ],
             [
              0.5555555555555556,
              "#d8576b"
             ],
             [
              0.6666666666666666,
              "#ed7953"
             ],
             [
              0.7777777777777778,
              "#fb9f3a"
             ],
             [
              0.8888888888888888,
              "#fdca26"
             ],
             [
              1,
              "#f0f921"
             ]
            ],
            "type": "heatmap"
           }
          ],
          "heatmapgl": [
           {
            "colorbar": {
             "outlinewidth": 0,
             "ticks": ""
            },
            "colorscale": [
             [
              0,
              "#0d0887"
             ],
             [
              0.1111111111111111,
              "#46039f"
             ],
             [
              0.2222222222222222,
              "#7201a8"
             ],
             [
              0.3333333333333333,
              "#9c179e"
             ],
             [
              0.4444444444444444,
              "#bd3786"
             ],
             [
              0.5555555555555556,
              "#d8576b"
             ],
             [
              0.6666666666666666,
              "#ed7953"
             ],
             [
              0.7777777777777778,
              "#fb9f3a"
             ],
             [
              0.8888888888888888,
              "#fdca26"
             ],
             [
              1,
              "#f0f921"
             ]
            ],
            "type": "heatmapgl"
           }
          ],
          "histogram": [
           {
            "marker": {
             "pattern": {
              "fillmode": "overlay",
              "size": 10,
              "solidity": 0.2
             }
            },
            "type": "histogram"
           }
          ],
          "histogram2d": [
           {
            "colorbar": {
             "outlinewidth": 0,
             "ticks": ""
            },
            "colorscale": [
             [
              0,
              "#0d0887"
             ],
             [
              0.1111111111111111,
              "#46039f"
             ],
             [
              0.2222222222222222,
              "#7201a8"
             ],
             [
              0.3333333333333333,
              "#9c179e"
             ],
             [
              0.4444444444444444,
              "#bd3786"
             ],
             [
              0.5555555555555556,
              "#d8576b"
             ],
             [
              0.6666666666666666,
              "#ed7953"
             ],
             [
              0.7777777777777778,
              "#fb9f3a"
             ],
             [
              0.8888888888888888,
              "#fdca26"
             ],
             [
              1,
              "#f0f921"
             ]
            ],
            "type": "histogram2d"
           }
          ],
          "histogram2dcontour": [
           {
            "colorbar": {
             "outlinewidth": 0,
             "ticks": ""
            },
            "colorscale": [
             [
              0,
              "#0d0887"
             ],
             [
              0.1111111111111111,
              "#46039f"
             ],
             [
              0.2222222222222222,
              "#7201a8"
             ],
             [
              0.3333333333333333,
              "#9c179e"
             ],
             [
              0.4444444444444444,
              "#bd3786"
             ],
             [
              0.5555555555555556,
              "#d8576b"
             ],
             [
              0.6666666666666666,
              "#ed7953"
             ],
             [
              0.7777777777777778,
              "#fb9f3a"
             ],
             [
              0.8888888888888888,
              "#fdca26"
             ],
             [
              1,
              "#f0f921"
             ]
            ],
            "type": "histogram2dcontour"
           }
          ],
          "mesh3d": [
           {
            "colorbar": {
             "outlinewidth": 0,
             "ticks": ""
            },
            "type": "mesh3d"
           }
          ],
          "parcoords": [
           {
            "line": {
             "colorbar": {
              "outlinewidth": 0,
              "ticks": ""
             }
            },
            "type": "parcoords"
           }
          ],
          "pie": [
           {
            "automargin": true,
            "type": "pie"
           }
          ],
          "scatter": [
           {
            "fillpattern": {
             "fillmode": "overlay",
             "size": 10,
             "solidity": 0.2
            },
            "type": "scatter"
           }
          ],
          "scatter3d": [
           {
            "line": {
             "colorbar": {
              "outlinewidth": 0,
              "ticks": ""
             }
            },
            "marker": {
             "colorbar": {
              "outlinewidth": 0,
              "ticks": ""
             }
            },
            "type": "scatter3d"
           }
          ],
          "scattercarpet": [
           {
            "marker": {
             "colorbar": {
              "outlinewidth": 0,
              "ticks": ""
             }
            },
            "type": "scattercarpet"
           }
          ],
          "scattergeo": [
           {
            "marker": {
             "colorbar": {
              "outlinewidth": 0,
              "ticks": ""
             }
            },
            "type": "scattergeo"
           }
          ],
          "scattergl": [
           {
            "marker": {
             "colorbar": {
              "outlinewidth": 0,
              "ticks": ""
             }
            },
            "type": "scattergl"
           }
          ],
          "scattermapbox": [
           {
            "marker": {
             "colorbar": {
              "outlinewidth": 0,
              "ticks": ""
             }
            },
            "type": "scattermapbox"
           }
          ],
          "scatterpolar": [
           {
            "marker": {
             "colorbar": {
              "outlinewidth": 0,
              "ticks": ""
             }
            },
            "type": "scatterpolar"
           }
          ],
          "scatterpolargl": [
           {
            "marker": {
             "colorbar": {
              "outlinewidth": 0,
              "ticks": ""
             }
            },
            "type": "scatterpolargl"
           }
          ],
          "scatterternary": [
           {
            "marker": {
             "colorbar": {
              "outlinewidth": 0,
              "ticks": ""
             }
            },
            "type": "scatterternary"
           }
          ],
          "surface": [
           {
            "colorbar": {
             "outlinewidth": 0,
             "ticks": ""
            },
            "colorscale": [
             [
              0,
              "#0d0887"
             ],
             [
              0.1111111111111111,
              "#46039f"
             ],
             [
              0.2222222222222222,
              "#7201a8"
             ],
             [
              0.3333333333333333,
              "#9c179e"
             ],
             [
              0.4444444444444444,
              "#bd3786"
             ],
             [
              0.5555555555555556,
              "#d8576b"
             ],
             [
              0.6666666666666666,
              "#ed7953"
             ],
             [
              0.7777777777777778,
              "#fb9f3a"
             ],
             [
              0.8888888888888888,
              "#fdca26"
             ],
             [
              1,
              "#f0f921"
             ]
            ],
            "type": "surface"
           }
          ],
          "table": [
           {
            "cells": {
             "fill": {
              "color": "#EBF0F8"
             },
             "line": {
              "color": "white"
             }
            },
            "header": {
             "fill": {
              "color": "#C8D4E3"
             },
             "line": {
              "color": "white"
             }
            },
            "type": "table"
           }
          ]
         },
         "layout": {
          "annotationdefaults": {
           "arrowcolor": "#2a3f5f",
           "arrowhead": 0,
           "arrowwidth": 1
          },
          "autotypenumbers": "strict",
          "coloraxis": {
           "colorbar": {
            "outlinewidth": 0,
            "ticks": ""
           }
          },
          "colorscale": {
           "diverging": [
            [
             0,
             "#8e0152"
            ],
            [
             0.1,
             "#c51b7d"
            ],
            [
             0.2,
             "#de77ae"
            ],
            [
             0.3,
             "#f1b6da"
            ],
            [
             0.4,
             "#fde0ef"
            ],
            [
             0.5,
             "#f7f7f7"
            ],
            [
             0.6,
             "#e6f5d0"
            ],
            [
             0.7,
             "#b8e186"
            ],
            [
             0.8,
             "#7fbc41"
            ],
            [
             0.9,
             "#4d9221"
            ],
            [
             1,
             "#276419"
            ]
           ],
           "sequential": [
            [
             0,
             "#0d0887"
            ],
            [
             0.1111111111111111,
             "#46039f"
            ],
            [
             0.2222222222222222,
             "#7201a8"
            ],
            [
             0.3333333333333333,
             "#9c179e"
            ],
            [
             0.4444444444444444,
             "#bd3786"
            ],
            [
             0.5555555555555556,
             "#d8576b"
            ],
            [
             0.6666666666666666,
             "#ed7953"
            ],
            [
             0.7777777777777778,
             "#fb9f3a"
            ],
            [
             0.8888888888888888,
             "#fdca26"
            ],
            [
             1,
             "#f0f921"
            ]
           ],
           "sequentialminus": [
            [
             0,
             "#0d0887"
            ],
            [
             0.1111111111111111,
             "#46039f"
            ],
            [
             0.2222222222222222,
             "#7201a8"
            ],
            [
             0.3333333333333333,
             "#9c179e"
            ],
            [
             0.4444444444444444,
             "#bd3786"
            ],
            [
             0.5555555555555556,
             "#d8576b"
            ],
            [
             0.6666666666666666,
             "#ed7953"
            ],
            [
             0.7777777777777778,
             "#fb9f3a"
            ],
            [
             0.8888888888888888,
             "#fdca26"
            ],
            [
             1,
             "#f0f921"
            ]
           ]
          },
          "colorway": [
           "#636efa",
           "#EF553B",
           "#00cc96",
           "#ab63fa",
           "#FFA15A",
           "#19d3f3",
           "#FF6692",
           "#B6E880",
           "#FF97FF",
           "#FECB52"
          ],
          "font": {
           "color": "#2a3f5f"
          },
          "geo": {
           "bgcolor": "white",
           "lakecolor": "white",
           "landcolor": "#E5ECF6",
           "showlakes": true,
           "showland": true,
           "subunitcolor": "white"
          },
          "hoverlabel": {
           "align": "left"
          },
          "hovermode": "closest",
          "mapbox": {
           "style": "light"
          },
          "paper_bgcolor": "white",
          "plot_bgcolor": "#E5ECF6",
          "polar": {
           "angularaxis": {
            "gridcolor": "white",
            "linecolor": "white",
            "ticks": ""
           },
           "bgcolor": "#E5ECF6",
           "radialaxis": {
            "gridcolor": "white",
            "linecolor": "white",
            "ticks": ""
           }
          },
          "scene": {
           "xaxis": {
            "backgroundcolor": "#E5ECF6",
            "gridcolor": "white",
            "gridwidth": 2,
            "linecolor": "white",
            "showbackground": true,
            "ticks": "",
            "zerolinecolor": "white"
           },
           "yaxis": {
            "backgroundcolor": "#E5ECF6",
            "gridcolor": "white",
            "gridwidth": 2,
            "linecolor": "white",
            "showbackground": true,
            "ticks": "",
            "zerolinecolor": "white"
           },
           "zaxis": {
            "backgroundcolor": "#E5ECF6",
            "gridcolor": "white",
            "gridwidth": 2,
            "linecolor": "white",
            "showbackground": true,
            "ticks": "",
            "zerolinecolor": "white"
           }
          },
          "shapedefaults": {
           "line": {
            "color": "#2a3f5f"
           }
          },
          "ternary": {
           "aaxis": {
            "gridcolor": "white",
            "linecolor": "white",
            "ticks": ""
           },
           "baxis": {
            "gridcolor": "white",
            "linecolor": "white",
            "ticks": ""
           },
           "bgcolor": "#E5ECF6",
           "caxis": {
            "gridcolor": "white",
            "linecolor": "white",
            "ticks": ""
           }
          },
          "title": {
           "x": 0.05
          },
          "xaxis": {
           "automargin": true,
           "gridcolor": "white",
           "linecolor": "white",
           "ticks": "",
           "title": {
            "standoff": 15
           },
           "zerolinecolor": "white",
           "zerolinewidth": 2
          },
          "yaxis": {
           "automargin": true,
           "gridcolor": "white",
           "linecolor": "white",
           "ticks": "",
           "title": {
            "standoff": 15
           },
           "zerolinecolor": "white",
           "zerolinewidth": 2
          }
         }
        },
        "xaxis": {
         "anchor": "y",
         "domain": [
          0,
          1
         ],
         "title": {
          "text": "Perplexity Values"
         }
        },
        "yaxis": {
         "anchor": "x",
         "domain": [
          0,
          1
         ],
         "title": {
          "text": "Divergence"
         }
        }
       }
      }
     },
     "metadata": {},
     "output_type": "display_data"
    }
   ],
   "source": [
    "import numpy as np\n",
    "\n",
    "perplexity = np.arange(5, 400, 50)\n",
    "divergence = []\n",
    "\n",
    "for i in perplexity:\n",
    "    model = TSNE(n_components=2, init=\"pca\", perplexity=i)\n",
    "    reduced = model.fit_transform(X_train)\n",
    "    divergence.append(model.kl_divergence_)\n",
    "fig = px.line(x=perplexity, y=divergence, markers=True)\n",
    "fig.update_layout(xaxis_title=\"Perplexity Values\", yaxis_title=\"Divergence\")\n",
    "fig.update_traces(line_color=\"red\", line_width=1)\n",
    "fig.show()"
   ]
  },
  {
   "cell_type": "code",
   "execution_count": 194,
   "metadata": {},
   "outputs": [
    {
     "data": {
      "text/plain": [
       "0.013359314762055874"
      ]
     },
     "execution_count": 194,
     "metadata": {},
     "output_type": "execute_result"
    }
   ],
   "source": [
    "from sklearn.manifold import TSNE\n",
    "\n",
    "tsne = TSNE(n_components=2,perplexity=200, random_state=42)\n",
    "X_train_tsne = tsne.fit_transform(X_train)\n",
    "\n",
    "tsne.kl_divergence_"
   ]
  },
  {
   "cell_type": "code",
   "execution_count": 199,
   "metadata": {},
   "outputs": [
    {
     "name": "stdout",
     "output_type": "stream",
     "text": [
      "Requirement already satisfied: plotly in c:\\users\\natdzi3\\appdata\\local\\packages\\pythonsoftwarefoundation.python.3.11_qbz5n2kfra8p0\\localcache\\local-packages\\python311\\site-packages (5.14.1)\n",
      "Collecting kaleido\n",
      "  Downloading kaleido-0.2.1-py2.py3-none-win_amd64.whl (65.9 MB)\n",
      "                                              0.0/65.9 MB ? eta -:--:--\n",
      "                                              0.1/65.9 MB 2.6 MB/s eta 0:00:25\n",
      "                                              0.3/65.9 MB 3.2 MB/s eta 0:00:21\n",
      "                                              0.8/65.9 MB 6.4 MB/s eta 0:00:11\n",
      "     -                                        2.0/65.9 MB 11.4 MB/s eta 0:00:06\n",
      "     -                                        3.1/65.9 MB 14.3 MB/s eta 0:00:05\n",
      "     -                                        3.3/65.9 MB 15.0 MB/s eta 0:00:05\n",
      "     --                                       4.3/65.9 MB 13.7 MB/s eta 0:00:05\n",
      "     ---                                      6.3/65.9 MB 17.4 MB/s eta 0:00:04\n",
      "     ----                                     7.9/65.9 MB 19.4 MB/s eta 0:00:03\n",
      "     ----                                     8.0/65.9 MB 17.7 MB/s eta 0:00:04\n",
      "     ------                                  10.4/65.9 MB 22.6 MB/s eta 0:00:03\n",
      "     ------                                  11.7/65.9 MB 26.2 MB/s eta 0:00:03\n",
      "     -------                                 13.1/65.9 MB 27.3 MB/s eta 0:00:02\n",
      "     --------                                14.6/65.9 MB 31.2 MB/s eta 0:00:02\n",
      "     ---------                               16.0/65.9 MB 29.7 MB/s eta 0:00:02\n",
      "     ----------                              17.5/65.9 MB 28.4 MB/s eta 0:00:02\n",
      "     -----------                             18.9/65.9 MB 32.8 MB/s eta 0:00:02\n",
      "     ------------                            20.3/65.9 MB 31.2 MB/s eta 0:00:02\n",
      "     ------------                            21.8/65.9 MB 31.2 MB/s eta 0:00:02\n",
      "     -------------                           23.3/65.9 MB 31.2 MB/s eta 0:00:02\n",
      "     --------------                          24.7/65.9 MB 31.2 MB/s eta 0:00:02\n",
      "     ---------------                         26.1/65.9 MB 31.2 MB/s eta 0:00:02\n",
      "     ---------------                         26.4/65.9 MB 28.4 MB/s eta 0:00:02\n",
      "     ----------------                        27.9/65.9 MB 29.7 MB/s eta 0:00:02\n",
      "     -----------------                       29.0/65.9 MB 27.3 MB/s eta 0:00:02\n",
      "     ------------------                      30.5/65.9 MB 27.3 MB/s eta 0:00:02\n",
      "     ------------------                      32.0/65.9 MB 27.3 MB/s eta 0:00:02\n",
      "     -------------------                     32.8/65.9 MB 27.3 MB/s eta 0:00:02\n",
      "     -------------------                     33.7/65.9 MB 24.2 MB/s eta 0:00:02\n",
      "     --------------------                    35.2/65.9 MB 24.2 MB/s eta 0:00:02\n",
      "     ---------------------                   36.3/65.9 MB 24.2 MB/s eta 0:00:02\n",
      "     ----------------------                  37.7/65.9 MB 25.1 MB/s eta 0:00:02\n",
      "     -----------------------                 39.0/65.9 MB 27.3 MB/s eta 0:00:01\n",
      "     -----------------------                 40.4/65.9 MB 27.3 MB/s eta 0:00:01\n",
      "     ------------------------                41.9/65.9 MB 26.2 MB/s eta 0:00:01\n",
      "     -------------------------               43.3/65.9 MB 31.2 MB/s eta 0:00:01\n",
      "     --------------------------              44.7/65.9 MB 31.2 MB/s eta 0:00:01\n",
      "     --------------------------              45.6/65.9 MB 28.5 MB/s eta 0:00:01\n",
      "     ---------------------------             47.1/65.9 MB 29.7 MB/s eta 0:00:01\n",
      "     ----------------------------            48.4/65.9 MB 29.7 MB/s eta 0:00:01\n",
      "     -----------------------------           49.9/65.9 MB 29.7 MB/s eta 0:00:01\n",
      "     ------------------------------          51.3/65.9 MB 29.7 MB/s eta 0:00:01\n",
      "     -------------------------------         52.6/65.9 MB 29.7 MB/s eta 0:00:01\n",
      "     -------------------------------         54.1/65.9 MB 29.8 MB/s eta 0:00:01\n",
      "     --------------------------------        55.0/65.9 MB 28.5 MB/s eta 0:00:01\n",
      "     ---------------------------------       56.2/65.9 MB 28.5 MB/s eta 0:00:01\n",
      "     ----------------------------------      57.6/65.9 MB 28.5 MB/s eta 0:00:01\n",
      "     ----------------------------------      59.1/65.9 MB 28.5 MB/s eta 0:00:01\n",
      "     -----------------------------------     60.5/65.9 MB 28.4 MB/s eta 0:00:01\n",
      "     ------------------------------------    61.7/65.9 MB 28.4 MB/s eta 0:00:01\n",
      "     -------------------------------------   63.2/65.9 MB 28.4 MB/s eta 0:00:01\n",
      "     --------------------------------------  64.7/65.9 MB 29.8 MB/s eta 0:00:01\n",
      "     --------------------------------------  65.9/65.9 MB 29.8 MB/s eta 0:00:01\n",
      "     --------------------------------------  65.9/65.9 MB 29.8 MB/s eta 0:00:01\n",
      "     --------------------------------------  65.9/65.9 MB 29.8 MB/s eta 0:00:01\n",
      "     --------------------------------------- 65.9/65.9 MB 18.7 MB/s eta 0:00:00\n",
      "Requirement already satisfied: tenacity>=6.2.0 in c:\\users\\natdzi3\\appdata\\local\\packages\\pythonsoftwarefoundation.python.3.11_qbz5n2kfra8p0\\localcache\\local-packages\\python311\\site-packages (from plotly) (8.2.2)\n",
      "Requirement already satisfied: packaging in c:\\users\\natdzi3\\appdata\\local\\packages\\pythonsoftwarefoundation.python.3.11_qbz5n2kfra8p0\\localcache\\local-packages\\python311\\site-packages (from plotly) (23.1)\n",
      "Installing collected packages: kaleido\n",
      "Successfully installed kaleido-0.2.1\n",
      "Note: you may need to restart the kernel to use updated packages.\n"
     ]
    }
   ],
   "source": [
    "pip install plotly kaleido"
   ]
  },
  {
   "cell_type": "code",
   "execution_count": 200,
   "metadata": {},
   "outputs": [
    {
     "data": {
      "application/vnd.plotly.v1+json": {
       "config": {
        "plotlyServerURL": "https://plot.ly"
       },
       "data": [
        {
         "hovertemplate": "color=triple negative<br>x=%{x}<br>y=%{y}<extra></extra>",
         "legendgroup": "triple negative",
         "marker": {
          "color": "#636efa",
          "symbol": "circle"
         },
         "mode": "markers",
         "name": "triple negative",
         "orientation": "v",
         "showlegend": true,
         "type": "scatter",
         "x": [
          0.9846612811088562,
          0.2256201207637787,
          0.8483754396438599,
          2.7034060955047607,
          -3.358149290084839,
          1.0518616437911987,
          1.7480167150497437,
          2.686706304550171,
          0.5056146383285522,
          1.8377649784088135,
          2.799926996231079,
          2.7150726318359375,
          1.7481858730316162,
          4.542229652404785,
          0.8815110921859741,
          4.427506923675537,
          1.7707008123397827,
          1.03606116771698,
          0.43263569474220276,
          0.4241243898868561,
          1.9882183074951172,
          1.5731219053268433,
          2.717304229736328,
          4.427624702453613,
          1.771213412284851,
          3.5150177478790283,
          1.3399215936660767,
          1.5500590801239014,
          3.8874969482421875,
          4.537839889526367,
          0.967423141002655,
          -2.5859060287475586,
          1.0621229410171509,
          1.863983392715454,
          -2.8691251277923584,
          4.406038761138916,
          -3.35390305519104,
          1.7731056213378906,
          0.768094003200531,
          0.21204204857349396,
          0.2231052666902542,
          0.41993287205696106,
          -2.8732011318206787,
          0.7701770067214966,
          2.1086862087249756,
          -2.1403720378875732,
          1.2822519540786743,
          -3.306992292404175,
          0.14150874316692352,
          4.709935188293457,
          -3.413971424102783,
          3.9421305656433105,
          1.0768977403640747,
          3.7610833644866943,
          0.3859632909297943,
          0.23250460624694824,
          2.1528830528259277,
          1.4885362386703491,
          4.478408336639404,
          1.1460659503936768,
          0.2193271666765213,
          -2.900451183319092,
          -3.413900375366211,
          1.4812031984329224,
          0.5395758152008057,
          -3.078813314437866,
          0.282814621925354,
          -2.658675193786621,
          2.701200008392334,
          4.875725269317627,
          4.793506145477295,
          -2.9398090839385986,
          -2.8563456535339355,
          -2.7258381843566895,
          1.3039395809173584,
          0.3463541567325592,
          4.555495262145996,
          4.7437872886657715,
          4.687891006469727,
          0.4995191693305969,
          0.9834935665130615,
          1.1749229431152344,
          4.687341213226318,
          1.1440917253494263,
          1.2568504810333252,
          0.8351844549179077,
          1.528510570526123,
          0.13999688625335693,
          -2.698317766189575,
          2.1688554286956787
         ],
         "xaxis": "x",
         "y": [
          0.6543146967887878,
          1.0846445560455322,
          2.0009665489196777,
          1.5588080883026123,
          1.1621836423873901,
          2.8839240074157715,
          1.4715185165405273,
          1.9657464027404785,
          3.0515120029449463,
          1.0468765497207642,
          1.7220325469970703,
          1.58931303024292,
          1.5209287405014038,
          1.628792405128479,
          2.454169511795044,
          1.7004969120025635,
          1.8928297758102417,
          1.1617435216903687,
          2.809211254119873,
          2.8069324493408203,
          1.9582674503326416,
          1.4630119800567627,
          1.555328369140625,
          1.720141053199768,
          1.891703724861145,
          1.8351271152496338,
          0.6775746941566467,
          1.4416003227233887,
          1.7858707904815674,
          1.6391353607177734,
          0.7195386290550232,
          1.2513298988342285,
          1.2048373222351074,
          1.8890894651412964,
          1.1803689002990723,
          1.7322654724121094,
          1.1632577180862427,
          1.8927505016326904,
          1.773459792137146,
          1.1598278284072876,
          1.3960484266281128,
          1.3078566789627075,
          1.1923878192901611,
          1.8109230995178223,
          1.950932264328003,
          0.5054057240486145,
          2.589299201965332,
          1.171918511390686,
          1.8603525161743164,
          1.450148582458496,
          1.136333703994751,
          1.7652620077133179,
          1.8252168893814087,
          1.8412294387817383,
          0.9876975417137146,
          1.0480544567108154,
          2.2753007411956787,
          2.0204310417175293,
          1.6811408996582031,
          1.9244940280914307,
          1.1215165853500366,
          1.1252952814102173,
          1.1364303827285767,
          2.0206565856933594,
          0.8552874326705933,
          1.1853805780410767,
          1.3442775011062622,
          1.2600791454315186,
          1.5932528972625732,
          0.896340012550354,
          1.326253890991211,
          1.145809531211853,
          1.123610258102417,
          1.2551695108413696,
          1.663399338722229,
          1.5509090423583984,
          1.5463457107543945,
          1.420151710510254,
          1.497773289680481,
          3.0519533157348633,
          0.8354637622833252,
          2.0058743953704834,
          1.493571400642395,
          2.508145332336426,
          -0.21024547517299652,
          1.9729526042938232,
          2.023444414138794,
          1.6263645887374878,
          1.0246034860610962,
          2.04460072517395
         ],
         "yaxis": "y"
        },
        {
         "hovertemplate": "color=luminal B<br>x=%{x}<br>y=%{y}<extra></extra>",
         "legendgroup": "luminal B",
         "marker": {
          "color": "#EF553B",
          "symbol": "circle"
         },
         "mode": "markers",
         "name": "luminal B",
         "orientation": "v",
         "showlegend": true,
         "type": "scatter",
         "x": [
          0.3162303566932678,
          0.5611396431922913,
          3.5227043628692627,
          0.2744680941104889,
          0.569340705871582,
          0.44538381695747375,
          -2.6650631427764893,
          4.379480838775635,
          -2.4928619861602783,
          0.4569832384586334,
          2.356114149093628,
          2.4163661003112793,
          3.244591474533081,
          1.5903578996658325,
          -2.6827328205108643,
          0.718971312046051,
          0.3133451044559479,
          0.7806210517883301,
          3.1125454902648926,
          1.6832380294799805,
          -2.887617588043213,
          0.5961190462112427,
          4.4596381187438965,
          0.3999289572238922,
          1.0367939472198486,
          -2.5131523609161377,
          4.139675617218018,
          -3.0813851356506348,
          3.8946352005004883,
          0.18115514516830444,
          0.9666152596473694,
          -2.90342116355896,
          0.3166796565055847,
          3.902661085128784,
          0.4623757302761078,
          2.7101659774780273,
          0.5885183811187744,
          0.39261993765830994,
          0.41400593519210815,
          -1.807459831237793,
          2.586947441101074,
          -2.68515944480896,
          1.7996379137039185,
          2.613138198852539,
          1.0435051918029785,
          -2.469841718673706,
          0.5059639811515808,
          1.361402153968811,
          -3.249999523162842,
          0.9205665588378906,
          1.04117751121521,
          4.852987289428711,
          1.3008922338485718,
          -2.453616142272949,
          0.7465669512748718,
          -3.4345102310180664,
          -2.4805173873901367,
          0.5806877017021179,
          4.6752519607543945,
          -3.598214626312256,
          3.2452852725982666,
          -2.644050121307373,
          3.106311798095703,
          3.890333890914917,
          1.3351385593414307,
          2.5757524967193604,
          3.246166229248047,
          -2.516571044921875,
          3.245502233505249,
          -2.722254753112793,
          1.623908281326294,
          1.574248194694519,
          2.5549676418304443,
          -2.6326804161071777,
          0.8629273176193237,
          3.245267152786255,
          3.5618278980255127,
          2.0959675312042236,
          0.5167099237442017,
          -2.57387638092041,
          0.6965413689613342,
          1.6207499504089355,
          0.3225821554660797,
          -2.4634029865264893,
          0.7570374608039856,
          1.0334608554840088,
          -2.9102768898010254,
          1.3210786581039429,
          0.299228698015213,
          1.8066223859786987,
          3.2470338344573975,
          -2.49261474609375,
          4.5542707443237305,
          1.299726963043213,
          0.3055245876312256,
          0.506941020488739,
          -3.2099788188934326,
          0.40387970209121704,
          1.5558751821517944,
          3.6424546241760254,
          1.5737513303756714,
          1.614782452583313,
          0.44644129276275635,
          0.4828066825866699,
          -2.5370864868164062,
          2.572437047958374,
          3.9027154445648193,
          0.40576255321502686,
          0.4033079445362091,
          3.3251686096191406,
          0.261014848947525,
          0.600523054599762,
          1.6236183643341064,
          3.885740041732788,
          2.869779348373413,
          -2.685177803039551,
          -2.8756871223449707,
          -2.550069570541382,
          2.129544496536255,
          0.9484136700630188,
          0.1767207831144333,
          1.2706935405731201,
          2.591928482055664,
          3.245067834854126,
          0.47464779019355774,
          1.0296070575714111,
          2.7296011447906494,
          0.30664998292922974,
          1.2683672904968262,
          3.2437918186187744,
          0.419344961643219,
          -3.081585645675659,
          -2.563872814178467,
          3.3635623455047607,
          2.1381618976593018,
          1.0365089178085327,
          2.591932535171509,
          3.3205511569976807,
          4.676072597503662,
          0.44576600193977356,
          3.8620963096618652,
          2.1313602924346924,
          -3.212346315383911,
          3.246706247329712,
          1.9916425943374634,
          2.554154872894287,
          3.842538595199585,
          -2.889369249343872,
          -2.531391143798828,
          0.6300628185272217,
          -2.6849803924560547,
          1.5275721549987793,
          -2.8594939708709717,
          0.36150646209716797,
          2.135715961456299,
          1.2064878940582275,
          4.109785556793213,
          3.8770551681518555,
          -3.379298448562622,
          -2.5337727069854736,
          0.47220516204833984,
          4.4032745361328125,
          0.4907832443714142,
          0.4096989333629608
         ],
         "xaxis": "x",
         "y": [
          0.7011048793792725,
          1.5192711353302002,
          1.6100019216537476,
          1.7191855907440186,
          1.2451529502868652,
          1.415297031402588,
          1.3290294408798218,
          1.7470066547393799,
          1.2313086986541748,
          1.7452666759490967,
          1.9102625846862793,
          1.5110254287719727,
          1.5771117210388184,
          1.8934426307678223,
          1.110842227935791,
          1.0405597686767578,
          0.4499209225177765,
          1.497341513633728,
          1.830215573310852,
          0.8195714950561523,
          1.1169166564941406,
          1.9921518564224243,
          1.7042793035507202,
          1.1518046855926514,
          1.9832202196121216,
          0.828542947769165,
          1.8160451650619507,
          1.2949907779693604,
          1.990951657295227,
          1.6196860074996948,
          1.1167875528335571,
          1.055898904800415,
          1.9626795053482056,
          1.989715337753296,
          1.309694766998291,
          1.7153289318084717,
          1.7846266031265259,
          1.193919062614441,
          0.4294755756855011,
          0.15444059669971466,
          1.9190839529037476,
          1.1364251375198364,
          1.9599956274032593,
          1.4172321557998657,
          2.1708908081054688,
          1.3432955741882324,
          0.22967565059661865,
          1.384709119796753,
          1.1639337539672852,
          1.3275904655456543,
          2.0195090770721436,
          1.1482168436050415,
          2.010586738586426,
          1.298270583152771,
          1.3526067733764648,
          1.0244998931884766,
          1.3416444063186646,
          1.1563622951507568,
          1.5019630193710327,
          1.128347396850586,
          1.5365358591079712,
          1.2073031663894653,
          0.858074963092804,
          1.8681590557098389,
          1.3847664594650269,
          1.2946875095367432,
          1.5368212461471558,
          1.229355812072754,
          1.5366274118423462,
          1.1014212369918823,
          1.7478907108306885,
          2.027488946914673,
          1.9035942554473877,
          1.243918776512146,
          3.3594536781311035,
          1.5365301370620728,
          1.793925404548645,
          1.7258187532424927,
          2.530184507369995,
          1.2603793144226074,
          1.7449570894241333,
          1.7470242977142334,
          1.831497073173523,
          1.2962497472763062,
          1.2316418886184692,
          1.9883846044540405,
          1.2782384157180786,
          1.8322006464004517,
          1.8670597076416016,
          1.9582066535949707,
          1.5777384042739868,
          1.2313555479049683,
          1.6088557243347168,
          2.00164794921875,
          0.7554447054862976,
          1.1123671531677246,
          1.19100821018219,
          1.251072883605957,
          2.4331130981445312,
          1.7470054626464844,
          1.8869364261627197,
          1.7468373775482178,
          1.6060826778411865,
          1.858883261680603,
          1.177092432975769,
          1.2940988540649414,
          1.9893851280212402,
          1.2506901025772095,
          0.49442970752716064,
          1.378113031387329,
          0.7899584174156189,
          1.9928112030029297,
          1.7471202611923218,
          1.8915419578552246,
          1.0434478521347046,
          1.1368794441223145,
          1.3318177461624146,
          1.376596450805664,
          0.9763435125350952,
          1.4944804906845093,
          1.0617828369140625,
          0.9959524273872375,
          1.466847538948059,
          1.57724130153656,
          1.4091554880142212,
          1.117403268814087,
          1.4500157833099365,
          1.862131953239441,
          0.9629325866699219,
          1.576942801475525,
          1.8036822080612183,
          1.4023585319519043,
          1.406033992767334,
          2.3044185638427734,
          0.9785580039024353,
          1.3428035974502563,
          1.466846227645874,
          2.2109038829803467,
          1.5109610557556152,
          1.6657984256744385,
          1.7572236061096191,
          1.0280569791793823,
          1.1906824111938477,
          1.536981225013733,
          1.972426414489746,
          1.9036848545074463,
          1.8260236978530884,
          1.1166640520095825,
          1.4593816995620728,
          1.7618191242218018,
          1.136915683746338,
          1.5029025077819824,
          1.2324219942092896,
          1.7793431282043457,
          0.9777711033821106,
          1.7577537298202515,
          1.7944037914276123,
          1.8913965225219727,
          1.1920288801193237,
          1.2069112062454224,
          1.9695851802825928,
          1.1612757444381714,
          1.304575800895691,
          0.47246021032333374
         ],
         "yaxis": "y"
        },
        {
         "hovertemplate": "color=HER2+<br>x=%{x}<br>y=%{y}<extra></extra>",
         "legendgroup": "HER2+",
         "marker": {
          "color": "#00cc96",
          "symbol": "circle"
         },
         "mode": "markers",
         "name": "HER2+",
         "orientation": "v",
         "showlegend": true,
         "type": "scatter",
         "x": [
          0.5065765380859375,
          3.4970486164093018,
          0.3180549144744873,
          -2.703091859817505,
          1.8620400428771973,
          0.8010010719299316,
          2.1003384590148926,
          3.9732542037963867,
          2.4441707134246826,
          2.877962589263916,
          -2.270231008529663,
          4.288158893585205,
          2.1016860008239746,
          4.829377174377441,
          0.63735032081604,
          3.363896131515503,
          0.6425042152404785,
          1.836675763130188,
          2.2186636924743652,
          0.7030981183052063,
          1.056482195854187,
          1.0583641529083252,
          -3.107095718383789,
          2.099111318588257,
          2.2299022674560547,
          2.099705219268799,
          2.0216968059539795,
          -2.4641716480255127,
          1.8618403673171997,
          4.829099655151367,
          1.1732470989227295,
          0.9685275554656982,
          1.7999787330627441,
          3.1040191650390625,
          2.471353769302368,
          4.290346145629883,
          2.098484516143799,
          2.1014750003814697,
          -2.537094831466675,
          0.39084234833717346,
          -2.7739756107330322,
          2.363398790359497,
          2.4327521324157715,
          -2.46469783782959,
          4.783987045288086,
          3.3470067977905273,
          1.0582934617996216,
          1.8261240720748901,
          -3.184659004211426,
          -2.774127244949341,
          0.7733564972877502,
          0.5992584824562073,
          -2.8226356506347656,
          -2.544006109237671,
          -2.735427141189575,
          -3.185183525085449,
          0.6163298487663269,
          0.6238312721252441,
          -2.70717191696167,
          -2.267305850982666,
          1.1366623640060425,
          1.9087804555892944
         ],
         "xaxis": "x",
         "y": [
          1.2460943460464478,
          1.674249291419983,
          1.9513978958129883,
          1.8010238409042358,
          2.1449787616729736,
          1.8953969478607178,
          1.375858187675476,
          1.8724360466003418,
          1.4635952711105347,
          1.7182024717330933,
          0.7197811007499695,
          1.7917109727859497,
          1.3025890588760376,
          1.186808705329895,
          1.1341884136199951,
          1.6570191383361816,
          3.0351030826568604,
          2.149326801300049,
          1.9293596744537354,
          1.9680843353271484,
          1.2968608140945435,
          1.2531518936157227,
          1.008239507675171,
          1.4151808023452759,
          2.1105995178222656,
          1.3757330179214478,
          2.3714354038238525,
          1.011648178100586,
          1.666344404220581,
          1.1881669759750366,
          2.4757437705993652,
          1.9181640148162842,
          2.1544065475463867,
          1.74014151096344,
          0.4378467798233032,
          1.8297617435455322,
          1.4150676727294922,
          1.3042124509811401,
          1.2823659181594849,
          1.9419901371002197,
          1.274653434753418,
          1.3651260137557983,
          1.6632758378982544,
          1.0099977254867554,
          1.3490996360778809,
          1.588897943496704,
          1.254263997077942,
          1.6619112491607666,
          1.19501793384552,
          1.2745925188064575,
          2.607132911682129,
          0.1467185914516449,
          1.2440876960754395,
          1.2801423072814941,
          1.2512388229370117,
          1.194900631904602,
          -0.14511963725090027,
          1.2646722793579102,
          1.8314323425292969,
          0.7124029994010925,
          1.9969797134399414,
          2.393995761871338
         ],
         "yaxis": "y"
        },
        {
         "hovertemplate": "color=luminal A<br>x=%{x}<br>y=%{y}<extra></extra>",
         "legendgroup": "luminal A",
         "marker": {
          "color": "#ab63fa",
          "symbol": "circle"
         },
         "mode": "markers",
         "name": "luminal A",
         "orientation": "v",
         "showlegend": true,
         "type": "scatter",
         "x": [
          -2.456315279006958,
          1.4770691394805908,
          0.8985370993614197,
          3.7836923599243164,
          -2.4744484424591064,
          -2.447310209274292,
          0.5284861922264099,
          3.765273094177246,
          -2.8400542736053467,
          1.5846232175827026,
          0.31188517808914185,
          1.41127610206604,
          1.318765640258789,
          -2.6721060276031494,
          4.564689636230469,
          -2.539956569671631,
          3.799987316131592,
          -2.4516725540161133,
          1.389936923980713,
          2.1027462482452393,
          -2.440783739089966,
          0.5273290276527405,
          1.587181806564331,
          2.298720598220825,
          -3.0877320766448975,
          4.877156734466553,
          1.5898301601409912,
          1.4262720346450806,
          -2.4791147708892822,
          0.4238435924053192,
          -2.456648349761963,
          1.164076805114746,
          4.14596700668335,
          -2.6705799102783203,
          1.2360464334487915,
          1.3909648656845093,
          0.46498051285743713,
          -2.479160785675049,
          1.2703609466552734,
          -2.4995861053466797,
          4.876003742218018,
          -2.485501766204834,
          2.531041145324707,
          0.13782057166099548,
          -3.509559392929077,
          -2.541461944580078,
          2.0971360206604004,
          1.590806484222412,
          -2.5163471698760986,
          -2.5350570678710938,
          0.5309194326400757,
          2.4588770866394043,
          4.7155680656433105,
          -3.1601760387420654,
          -2.64137601852417,
          3.8735108375549316,
          0.8955886960029602,
          0.5241422653198242,
          -2.6290061473846436,
          3.907076358795166,
          0.2728014290332794,
          -2.4538333415985107,
          2.363521099090576,
          -3.0509865283966064,
          2.290591239929199,
          1.232049584388733,
          0.3343985676765442,
          1.737565040588379,
          1.1905250549316406
         ],
         "xaxis": "x",
         "y": [
          1.210914969444275,
          1.7209229469299316,
          3.286069631576538,
          2.8029518127441406,
          1.2815622091293335,
          1.1535900831222534,
          1.9483542442321777,
          2.8154232501983643,
          1.2407679557800293,
          1.9489113092422485,
          1.8892664909362793,
          2.0082151889801025,
          1.6916579008102417,
          1.5326566696166992,
          1.6486704349517822,
          1.1129157543182373,
          2.7709362506866455,
          1.2434825897216797,
          1.689621090888977,
          1.1992141008377075,
          1.1614362001419067,
          1.6123377084732056,
          1.7286629676818848,
          1.4402879476547241,
          1.0571740865707397,
          0.8714842796325684,
          1.265398383140564,
          2.0081140995025635,
          1.1766732931137085,
          0.567703127861023,
          1.2108500003814697,
          1.911314606666565,
          1.7928887605667114,
          1.2114094495773315,
          1.4261415004730225,
          1.6896331310272217,
          1.275658369064331,
          1.1766585111618042,
          2.1559808254241943,
          1.1790106296539307,
          0.8873542547225952,
          1.1230324506759644,
          1.6721954345703125,
          1.6829644441604614,
          1.1483511924743652,
          1.1281081438064575,
          1.1986149549484253,
          1.19293212890625,
          0.6183218359947205,
          1.2850215435028076,
          1.5476247072219849,
          0.6705327033996582,
          1.4585767984390259,
          1.1547987461090088,
          1.2143793106079102,
          1.6972862482070923,
          3.2866880893707275,
          1.673318862915039,
          1.3988754749298096,
          2.518806219100952,
          1.9472005367279053,
          1.1951234340667725,
          1.480500340461731,
          1.4147924184799194,
          1.6521860361099243,
          1.4793964624404907,
          2.0485448837280273,
          1.7307922840118408,
          1.4259239435195923
         ],
         "yaxis": "y"
        }
       ],
       "layout": {
        "legend": {
         "title": {
          "text": "color"
         },
         "tracegroupgap": 0
        },
        "margin": {
         "t": 60
        },
        "template": {
         "data": {
          "bar": [
           {
            "error_x": {
             "color": "#2a3f5f"
            },
            "error_y": {
             "color": "#2a3f5f"
            },
            "marker": {
             "line": {
              "color": "#E5ECF6",
              "width": 0.5
             },
             "pattern": {
              "fillmode": "overlay",
              "size": 10,
              "solidity": 0.2
             }
            },
            "type": "bar"
           }
          ],
          "barpolar": [
           {
            "marker": {
             "line": {
              "color": "#E5ECF6",
              "width": 0.5
             },
             "pattern": {
              "fillmode": "overlay",
              "size": 10,
              "solidity": 0.2
             }
            },
            "type": "barpolar"
           }
          ],
          "carpet": [
           {
            "aaxis": {
             "endlinecolor": "#2a3f5f",
             "gridcolor": "white",
             "linecolor": "white",
             "minorgridcolor": "white",
             "startlinecolor": "#2a3f5f"
            },
            "baxis": {
             "endlinecolor": "#2a3f5f",
             "gridcolor": "white",
             "linecolor": "white",
             "minorgridcolor": "white",
             "startlinecolor": "#2a3f5f"
            },
            "type": "carpet"
           }
          ],
          "choropleth": [
           {
            "colorbar": {
             "outlinewidth": 0,
             "ticks": ""
            },
            "type": "choropleth"
           }
          ],
          "contour": [
           {
            "colorbar": {
             "outlinewidth": 0,
             "ticks": ""
            },
            "colorscale": [
             [
              0,
              "#0d0887"
             ],
             [
              0.1111111111111111,
              "#46039f"
             ],
             [
              0.2222222222222222,
              "#7201a8"
             ],
             [
              0.3333333333333333,
              "#9c179e"
             ],
             [
              0.4444444444444444,
              "#bd3786"
             ],
             [
              0.5555555555555556,
              "#d8576b"
             ],
             [
              0.6666666666666666,
              "#ed7953"
             ],
             [
              0.7777777777777778,
              "#fb9f3a"
             ],
             [
              0.8888888888888888,
              "#fdca26"
             ],
             [
              1,
              "#f0f921"
             ]
            ],
            "type": "contour"
           }
          ],
          "contourcarpet": [
           {
            "colorbar": {
             "outlinewidth": 0,
             "ticks": ""
            },
            "type": "contourcarpet"
           }
          ],
          "heatmap": [
           {
            "colorbar": {
             "outlinewidth": 0,
             "ticks": ""
            },
            "colorscale": [
             [
              0,
              "#0d0887"
             ],
             [
              0.1111111111111111,
              "#46039f"
             ],
             [
              0.2222222222222222,
              "#7201a8"
             ],
             [
              0.3333333333333333,
              "#9c179e"
             ],
             [
              0.4444444444444444,
              "#bd3786"
             ],
             [
              0.5555555555555556,
              "#d8576b"
             ],
             [
              0.6666666666666666,
              "#ed7953"
             ],
             [
              0.7777777777777778,
              "#fb9f3a"
             ],
             [
              0.8888888888888888,
              "#fdca26"
             ],
             [
              1,
              "#f0f921"
             ]
            ],
            "type": "heatmap"
           }
          ],
          "heatmapgl": [
           {
            "colorbar": {
             "outlinewidth": 0,
             "ticks": ""
            },
            "colorscale": [
             [
              0,
              "#0d0887"
             ],
             [
              0.1111111111111111,
              "#46039f"
             ],
             [
              0.2222222222222222,
              "#7201a8"
             ],
             [
              0.3333333333333333,
              "#9c179e"
             ],
             [
              0.4444444444444444,
              "#bd3786"
             ],
             [
              0.5555555555555556,
              "#d8576b"
             ],
             [
              0.6666666666666666,
              "#ed7953"
             ],
             [
              0.7777777777777778,
              "#fb9f3a"
             ],
             [
              0.8888888888888888,
              "#fdca26"
             ],
             [
              1,
              "#f0f921"
             ]
            ],
            "type": "heatmapgl"
           }
          ],
          "histogram": [
           {
            "marker": {
             "pattern": {
              "fillmode": "overlay",
              "size": 10,
              "solidity": 0.2
             }
            },
            "type": "histogram"
           }
          ],
          "histogram2d": [
           {
            "colorbar": {
             "outlinewidth": 0,
             "ticks": ""
            },
            "colorscale": [
             [
              0,
              "#0d0887"
             ],
             [
              0.1111111111111111,
              "#46039f"
             ],
             [
              0.2222222222222222,
              "#7201a8"
             ],
             [
              0.3333333333333333,
              "#9c179e"
             ],
             [
              0.4444444444444444,
              "#bd3786"
             ],
             [
              0.5555555555555556,
              "#d8576b"
             ],
             [
              0.6666666666666666,
              "#ed7953"
             ],
             [
              0.7777777777777778,
              "#fb9f3a"
             ],
             [
              0.8888888888888888,
              "#fdca26"
             ],
             [
              1,
              "#f0f921"
             ]
            ],
            "type": "histogram2d"
           }
          ],
          "histogram2dcontour": [
           {
            "colorbar": {
             "outlinewidth": 0,
             "ticks": ""
            },
            "colorscale": [
             [
              0,
              "#0d0887"
             ],
             [
              0.1111111111111111,
              "#46039f"
             ],
             [
              0.2222222222222222,
              "#7201a8"
             ],
             [
              0.3333333333333333,
              "#9c179e"
             ],
             [
              0.4444444444444444,
              "#bd3786"
             ],
             [
              0.5555555555555556,
              "#d8576b"
             ],
             [
              0.6666666666666666,
              "#ed7953"
             ],
             [
              0.7777777777777778,
              "#fb9f3a"
             ],
             [
              0.8888888888888888,
              "#fdca26"
             ],
             [
              1,
              "#f0f921"
             ]
            ],
            "type": "histogram2dcontour"
           }
          ],
          "mesh3d": [
           {
            "colorbar": {
             "outlinewidth": 0,
             "ticks": ""
            },
            "type": "mesh3d"
           }
          ],
          "parcoords": [
           {
            "line": {
             "colorbar": {
              "outlinewidth": 0,
              "ticks": ""
             }
            },
            "type": "parcoords"
           }
          ],
          "pie": [
           {
            "automargin": true,
            "type": "pie"
           }
          ],
          "scatter": [
           {
            "fillpattern": {
             "fillmode": "overlay",
             "size": 10,
             "solidity": 0.2
            },
            "type": "scatter"
           }
          ],
          "scatter3d": [
           {
            "line": {
             "colorbar": {
              "outlinewidth": 0,
              "ticks": ""
             }
            },
            "marker": {
             "colorbar": {
              "outlinewidth": 0,
              "ticks": ""
             }
            },
            "type": "scatter3d"
           }
          ],
          "scattercarpet": [
           {
            "marker": {
             "colorbar": {
              "outlinewidth": 0,
              "ticks": ""
             }
            },
            "type": "scattercarpet"
           }
          ],
          "scattergeo": [
           {
            "marker": {
             "colorbar": {
              "outlinewidth": 0,
              "ticks": ""
             }
            },
            "type": "scattergeo"
           }
          ],
          "scattergl": [
           {
            "marker": {
             "colorbar": {
              "outlinewidth": 0,
              "ticks": ""
             }
            },
            "type": "scattergl"
           }
          ],
          "scattermapbox": [
           {
            "marker": {
             "colorbar": {
              "outlinewidth": 0,
              "ticks": ""
             }
            },
            "type": "scattermapbox"
           }
          ],
          "scatterpolar": [
           {
            "marker": {
             "colorbar": {
              "outlinewidth": 0,
              "ticks": ""
             }
            },
            "type": "scatterpolar"
           }
          ],
          "scatterpolargl": [
           {
            "marker": {
             "colorbar": {
              "outlinewidth": 0,
              "ticks": ""
             }
            },
            "type": "scatterpolargl"
           }
          ],
          "scatterternary": [
           {
            "marker": {
             "colorbar": {
              "outlinewidth": 0,
              "ticks": ""
             }
            },
            "type": "scatterternary"
           }
          ],
          "surface": [
           {
            "colorbar": {
             "outlinewidth": 0,
             "ticks": ""
            },
            "colorscale": [
             [
              0,
              "#0d0887"
             ],
             [
              0.1111111111111111,
              "#46039f"
             ],
             [
              0.2222222222222222,
              "#7201a8"
             ],
             [
              0.3333333333333333,
              "#9c179e"
             ],
             [
              0.4444444444444444,
              "#bd3786"
             ],
             [
              0.5555555555555556,
              "#d8576b"
             ],
             [
              0.6666666666666666,
              "#ed7953"
             ],
             [
              0.7777777777777778,
              "#fb9f3a"
             ],
             [
              0.8888888888888888,
              "#fdca26"
             ],
             [
              1,
              "#f0f921"
             ]
            ],
            "type": "surface"
           }
          ],
          "table": [
           {
            "cells": {
             "fill": {
              "color": "#EBF0F8"
             },
             "line": {
              "color": "white"
             }
            },
            "header": {
             "fill": {
              "color": "#C8D4E3"
             },
             "line": {
              "color": "white"
             }
            },
            "type": "table"
           }
          ]
         },
         "layout": {
          "annotationdefaults": {
           "arrowcolor": "#2a3f5f",
           "arrowhead": 0,
           "arrowwidth": 1
          },
          "autotypenumbers": "strict",
          "coloraxis": {
           "colorbar": {
            "outlinewidth": 0,
            "ticks": ""
           }
          },
          "colorscale": {
           "diverging": [
            [
             0,
             "#8e0152"
            ],
            [
             0.1,
             "#c51b7d"
            ],
            [
             0.2,
             "#de77ae"
            ],
            [
             0.3,
             "#f1b6da"
            ],
            [
             0.4,
             "#fde0ef"
            ],
            [
             0.5,
             "#f7f7f7"
            ],
            [
             0.6,
             "#e6f5d0"
            ],
            [
             0.7,
             "#b8e186"
            ],
            [
             0.8,
             "#7fbc41"
            ],
            [
             0.9,
             "#4d9221"
            ],
            [
             1,
             "#276419"
            ]
           ],
           "sequential": [
            [
             0,
             "#0d0887"
            ],
            [
             0.1111111111111111,
             "#46039f"
            ],
            [
             0.2222222222222222,
             "#7201a8"
            ],
            [
             0.3333333333333333,
             "#9c179e"
            ],
            [
             0.4444444444444444,
             "#bd3786"
            ],
            [
             0.5555555555555556,
             "#d8576b"
            ],
            [
             0.6666666666666666,
             "#ed7953"
            ],
            [
             0.7777777777777778,
             "#fb9f3a"
            ],
            [
             0.8888888888888888,
             "#fdca26"
            ],
            [
             1,
             "#f0f921"
            ]
           ],
           "sequentialminus": [
            [
             0,
             "#0d0887"
            ],
            [
             0.1111111111111111,
             "#46039f"
            ],
            [
             0.2222222222222222,
             "#7201a8"
            ],
            [
             0.3333333333333333,
             "#9c179e"
            ],
            [
             0.4444444444444444,
             "#bd3786"
            ],
            [
             0.5555555555555556,
             "#d8576b"
            ],
            [
             0.6666666666666666,
             "#ed7953"
            ],
            [
             0.7777777777777778,
             "#fb9f3a"
            ],
            [
             0.8888888888888888,
             "#fdca26"
            ],
            [
             1,
             "#f0f921"
            ]
           ]
          },
          "colorway": [
           "#636efa",
           "#EF553B",
           "#00cc96",
           "#ab63fa",
           "#FFA15A",
           "#19d3f3",
           "#FF6692",
           "#B6E880",
           "#FF97FF",
           "#FECB52"
          ],
          "font": {
           "color": "#2a3f5f"
          },
          "geo": {
           "bgcolor": "white",
           "lakecolor": "white",
           "landcolor": "#E5ECF6",
           "showlakes": true,
           "showland": true,
           "subunitcolor": "white"
          },
          "hoverlabel": {
           "align": "left"
          },
          "hovermode": "closest",
          "mapbox": {
           "style": "light"
          },
          "paper_bgcolor": "white",
          "plot_bgcolor": "#E5ECF6",
          "polar": {
           "angularaxis": {
            "gridcolor": "white",
            "linecolor": "white",
            "ticks": ""
           },
           "bgcolor": "#E5ECF6",
           "radialaxis": {
            "gridcolor": "white",
            "linecolor": "white",
            "ticks": ""
           }
          },
          "scene": {
           "xaxis": {
            "backgroundcolor": "#E5ECF6",
            "gridcolor": "white",
            "gridwidth": 2,
            "linecolor": "white",
            "showbackground": true,
            "ticks": "",
            "zerolinecolor": "white"
           },
           "yaxis": {
            "backgroundcolor": "#E5ECF6",
            "gridcolor": "white",
            "gridwidth": 2,
            "linecolor": "white",
            "showbackground": true,
            "ticks": "",
            "zerolinecolor": "white"
           },
           "zaxis": {
            "backgroundcolor": "#E5ECF6",
            "gridcolor": "white",
            "gridwidth": 2,
            "linecolor": "white",
            "showbackground": true,
            "ticks": "",
            "zerolinecolor": "white"
           }
          },
          "shapedefaults": {
           "line": {
            "color": "#2a3f5f"
           }
          },
          "ternary": {
           "aaxis": {
            "gridcolor": "white",
            "linecolor": "white",
            "ticks": ""
           },
           "baxis": {
            "gridcolor": "white",
            "linecolor": "white",
            "ticks": ""
           },
           "bgcolor": "#E5ECF6",
           "caxis": {
            "gridcolor": "white",
            "linecolor": "white",
            "ticks": ""
           }
          },
          "title": {
           "x": 0.05
          },
          "xaxis": {
           "automargin": true,
           "gridcolor": "white",
           "linecolor": "white",
           "ticks": "",
           "title": {
            "standoff": 15
           },
           "zerolinecolor": "white",
           "zerolinewidth": 2
          },
          "yaxis": {
           "automargin": true,
           "gridcolor": "white",
           "linecolor": "white",
           "ticks": "",
           "title": {
            "standoff": 15
           },
           "zerolinecolor": "white",
           "zerolinewidth": 2
          }
         }
        },
        "title": {
         "text": "Wizualizacja t-SNE w podtypach nowotworu piersi"
        },
        "xaxis": {
         "anchor": "y",
         "domain": [
          0,
          1
         ],
         "title": {
          "text": "First t-SNE"
         }
        },
        "yaxis": {
         "anchor": "x",
         "domain": [
          0,
          1
         ],
         "title": {
          "text": "Second t-SNE"
         }
        }
       }
      }
     },
     "metadata": {},
     "output_type": "display_data"
    },
    {
     "ename": "ValueError",
     "evalue": "\nImage export using the \"kaleido\" engine requires the kaleido package,\nwhich can be installed using pip:\n    $ pip install -U kaleido\n",
     "output_type": "error",
     "traceback": [
      "\u001b[1;31m---------------------------------------------------------------------------\u001b[0m",
      "\u001b[1;31mValueError\u001b[0m                                Traceback (most recent call last)",
      "Cell \u001b[1;32mIn[200], line 11\u001b[0m\n\u001b[0;32m      4\u001b[0m fig\u001b[39m.\u001b[39mupdate_layout(\n\u001b[0;32m      5\u001b[0m     title\u001b[39m=\u001b[39m\u001b[39m\"\u001b[39m\u001b[39mWizualizacja t-SNE w podtypach nowotworu piersi\u001b[39m\u001b[39m\"\u001b[39m,\n\u001b[0;32m      6\u001b[0m     xaxis_title\u001b[39m=\u001b[39m\u001b[39m\"\u001b[39m\u001b[39mFirst t-SNE\u001b[39m\u001b[39m\"\u001b[39m,\n\u001b[0;32m      7\u001b[0m     yaxis_title\u001b[39m=\u001b[39m\u001b[39m\"\u001b[39m\u001b[39mSecond t-SNE\u001b[39m\u001b[39m\"\u001b[39m\n\u001b[0;32m      8\u001b[0m )\n\u001b[0;32m      9\u001b[0m fig\u001b[39m.\u001b[39mshow()\n\u001b[1;32m---> 11\u001b[0m pio\u001b[39m.\u001b[39;49mwrite_image(fig, \u001b[39m'\u001b[39;49m\u001b[39mt-sne.png\u001b[39;49m\u001b[39m'\u001b[39;49m, \u001b[39mformat\u001b[39;49m\u001b[39m=\u001b[39;49m\u001b[39m'\u001b[39;49m\u001b[39mpng\u001b[39;49m\u001b[39m'\u001b[39;49m)\n",
      "File \u001b[1;32m~\\AppData\\Local\\Packages\\PythonSoftwareFoundation.Python.3.11_qbz5n2kfra8p0\\LocalCache\\local-packages\\Python311\\site-packages\\plotly\\io\\_kaleido.py:267\u001b[0m, in \u001b[0;36mwrite_image\u001b[1;34m(fig, file, format, scale, width, height, validate, engine)\u001b[0m\n\u001b[0;32m    251\u001b[0m             \u001b[39mraise\u001b[39;00m \u001b[39mValueError\u001b[39;00m(\n\u001b[0;32m    252\u001b[0m \u001b[39m                \u001b[39m\u001b[39m\"\"\"\u001b[39;00m\n\u001b[0;32m    253\u001b[0m \u001b[39mCannot infer image type from output path '{file}'.\u001b[39;00m\n\u001b[1;32m   (...)\u001b[0m\n\u001b[0;32m    261\u001b[0m                 )\n\u001b[0;32m    262\u001b[0m             )\n\u001b[0;32m    264\u001b[0m     \u001b[39m# Request image\u001b[39;00m\n\u001b[0;32m    265\u001b[0m     \u001b[39m# -------------\u001b[39;00m\n\u001b[0;32m    266\u001b[0m     \u001b[39m# Do this first so we don't create a file if image conversion fails\u001b[39;00m\n\u001b[1;32m--> 267\u001b[0m     img_data \u001b[39m=\u001b[39m to_image(\n\u001b[0;32m    268\u001b[0m         fig,\n\u001b[0;32m    269\u001b[0m         \u001b[39mformat\u001b[39;49m\u001b[39m=\u001b[39;49m\u001b[39mformat\u001b[39;49m,\n\u001b[0;32m    270\u001b[0m         scale\u001b[39m=\u001b[39;49mscale,\n\u001b[0;32m    271\u001b[0m         width\u001b[39m=\u001b[39;49mwidth,\n\u001b[0;32m    272\u001b[0m         height\u001b[39m=\u001b[39;49mheight,\n\u001b[0;32m    273\u001b[0m         validate\u001b[39m=\u001b[39;49mvalidate,\n\u001b[0;32m    274\u001b[0m         engine\u001b[39m=\u001b[39;49mengine,\n\u001b[0;32m    275\u001b[0m     )\n\u001b[0;32m    277\u001b[0m     \u001b[39m# Open file\u001b[39;00m\n\u001b[0;32m    278\u001b[0m     \u001b[39m# ---------\u001b[39;00m\n\u001b[0;32m    279\u001b[0m     \u001b[39mif\u001b[39;00m path \u001b[39mis\u001b[39;00m \u001b[39mNone\u001b[39;00m:\n\u001b[0;32m    280\u001b[0m         \u001b[39m# We previously failed to make sense of `file` as a pathlib object.\u001b[39;00m\n\u001b[0;32m    281\u001b[0m         \u001b[39m# Attempt to write to `file` as an open file descriptor.\u001b[39;00m\n",
      "File \u001b[1;32m~\\AppData\\Local\\Packages\\PythonSoftwareFoundation.Python.3.11_qbz5n2kfra8p0\\LocalCache\\local-packages\\Python311\\site-packages\\plotly\\io\\_kaleido.py:133\u001b[0m, in \u001b[0;36mto_image\u001b[1;34m(fig, format, width, height, scale, validate, engine)\u001b[0m\n\u001b[0;32m    131\u001b[0m     \u001b[39m# Raise informative error message if Kaleido is not installed\u001b[39;00m\n\u001b[0;32m    132\u001b[0m     \u001b[39mif\u001b[39;00m scope \u001b[39mis\u001b[39;00m \u001b[39mNone\u001b[39;00m:\n\u001b[1;32m--> 133\u001b[0m         \u001b[39mraise\u001b[39;00m \u001b[39mValueError\u001b[39;00m(\n\u001b[0;32m    134\u001b[0m \u001b[39m            \u001b[39m\u001b[39m\"\"\"\u001b[39;00m\n\u001b[0;32m    135\u001b[0m \u001b[39mImage export using the \"kaleido\" engine requires the kaleido package,\u001b[39;00m\n\u001b[0;32m    136\u001b[0m \u001b[39mwhich can be installed using pip:\u001b[39;00m\n\u001b[0;32m    137\u001b[0m \u001b[39m    $ pip install -U kaleido\u001b[39;00m\n\u001b[0;32m    138\u001b[0m \u001b[39m\"\"\"\u001b[39;00m\n\u001b[0;32m    139\u001b[0m         )\n\u001b[0;32m    141\u001b[0m     \u001b[39m# Validate figure\u001b[39;00m\n\u001b[0;32m    142\u001b[0m     \u001b[39m# ---------------\u001b[39;00m\n\u001b[0;32m    143\u001b[0m     fig_dict \u001b[39m=\u001b[39m validate_coerce_fig_to_dict(fig, validate)\n",
      "\u001b[1;31mValueError\u001b[0m: \nImage export using the \"kaleido\" engine requires the kaleido package,\nwhich can be installed using pip:\n    $ pip install -U kaleido\n"
     ]
    }
   ],
   "source": [
    "import plotly.graph_objects as go\n",
    "import plotly.io as pio\n",
    "fig = px.scatter(x=X_train_tsne[:, 0], y=X_train_tsne[:, 1], color=y_train)\n",
    "fig.update_layout(\n",
    "    title=\"Wizualizacja t-SNE w podtypach nowotworu piersi\",\n",
    "    xaxis_title=\"First t-SNE\",\n",
    "    yaxis_title=\"Second t-SNE\"\n",
    ")\n",
    "fig.show()\n",
    "\n",
    "pio.write_image(fig, 't-sne.png', format='png')"
   ]
  },
  {
   "cell_type": "code",
   "execution_count": 13,
   "metadata": {},
   "outputs": [],
   "source": [
    "from sklearn.preprocessing import scale \n",
    "from sklearn import decomposition  "
   ]
  },
  {
   "cell_type": "code",
   "execution_count": 115,
   "metadata": {},
   "outputs": [],
   "source": [
    "X = scale(data)"
   ]
  },
  {
   "cell_type": "code",
   "execution_count": 116,
   "metadata": {},
   "outputs": [
    {
     "data": {
      "text/html": [
       "<style>#sk-container-id-7 {color: black;background-color: white;}#sk-container-id-7 pre{padding: 0;}#sk-container-id-7 div.sk-toggleable {background-color: white;}#sk-container-id-7 label.sk-toggleable__label {cursor: pointer;display: block;width: 100%;margin-bottom: 0;padding: 0.3em;box-sizing: border-box;text-align: center;}#sk-container-id-7 label.sk-toggleable__label-arrow:before {content: \"▸\";float: left;margin-right: 0.25em;color: #696969;}#sk-container-id-7 label.sk-toggleable__label-arrow:hover:before {color: black;}#sk-container-id-7 div.sk-estimator:hover label.sk-toggleable__label-arrow:before {color: black;}#sk-container-id-7 div.sk-toggleable__content {max-height: 0;max-width: 0;overflow: hidden;text-align: left;background-color: #f0f8ff;}#sk-container-id-7 div.sk-toggleable__content pre {margin: 0.2em;color: black;border-radius: 0.25em;background-color: #f0f8ff;}#sk-container-id-7 input.sk-toggleable__control:checked~div.sk-toggleable__content {max-height: 200px;max-width: 100%;overflow: auto;}#sk-container-id-7 input.sk-toggleable__control:checked~label.sk-toggleable__label-arrow:before {content: \"▾\";}#sk-container-id-7 div.sk-estimator input.sk-toggleable__control:checked~label.sk-toggleable__label {background-color: #d4ebff;}#sk-container-id-7 div.sk-label input.sk-toggleable__control:checked~label.sk-toggleable__label {background-color: #d4ebff;}#sk-container-id-7 input.sk-hidden--visually {border: 0;clip: rect(1px 1px 1px 1px);clip: rect(1px, 1px, 1px, 1px);height: 1px;margin: -1px;overflow: hidden;padding: 0;position: absolute;width: 1px;}#sk-container-id-7 div.sk-estimator {font-family: monospace;background-color: #f0f8ff;border: 1px dotted black;border-radius: 0.25em;box-sizing: border-box;margin-bottom: 0.5em;}#sk-container-id-7 div.sk-estimator:hover {background-color: #d4ebff;}#sk-container-id-7 div.sk-parallel-item::after {content: \"\";width: 100%;border-bottom: 1px solid gray;flex-grow: 1;}#sk-container-id-7 div.sk-label:hover label.sk-toggleable__label {background-color: #d4ebff;}#sk-container-id-7 div.sk-serial::before {content: \"\";position: absolute;border-left: 1px solid gray;box-sizing: border-box;top: 0;bottom: 0;left: 50%;z-index: 0;}#sk-container-id-7 div.sk-serial {display: flex;flex-direction: column;align-items: center;background-color: white;padding-right: 0.2em;padding-left: 0.2em;position: relative;}#sk-container-id-7 div.sk-item {position: relative;z-index: 1;}#sk-container-id-7 div.sk-parallel {display: flex;align-items: stretch;justify-content: center;background-color: white;position: relative;}#sk-container-id-7 div.sk-item::before, #sk-container-id-7 div.sk-parallel-item::before {content: \"\";position: absolute;border-left: 1px solid gray;box-sizing: border-box;top: 0;bottom: 0;left: 50%;z-index: -1;}#sk-container-id-7 div.sk-parallel-item {display: flex;flex-direction: column;z-index: 1;position: relative;background-color: white;}#sk-container-id-7 div.sk-parallel-item:first-child::after {align-self: flex-end;width: 50%;}#sk-container-id-7 div.sk-parallel-item:last-child::after {align-self: flex-start;width: 50%;}#sk-container-id-7 div.sk-parallel-item:only-child::after {width: 0;}#sk-container-id-7 div.sk-dashed-wrapped {border: 1px dashed gray;margin: 0 0.4em 0.5em 0.4em;box-sizing: border-box;padding-bottom: 0.4em;background-color: white;}#sk-container-id-7 div.sk-label label {font-family: monospace;font-weight: bold;display: inline-block;line-height: 1.2em;}#sk-container-id-7 div.sk-label-container {text-align: center;}#sk-container-id-7 div.sk-container {/* jupyter's `normalize.less` sets `[hidden] { display: none; }` but bootstrap.min.css set `[hidden] { display: none !important; }` so we also need the `!important` here to be able to override the default hidden behavior on the sphinx rendered scikit-learn.org. See: https://github.com/scikit-learn/scikit-learn/issues/21755 */display: inline-block !important;position: relative;}#sk-container-id-7 div.sk-text-repr-fallback {display: none;}</style><div id=\"sk-container-id-7\" class=\"sk-top-container\"><div class=\"sk-text-repr-fallback\"><pre>PCA(n_components=3)</pre><b>In a Jupyter environment, please rerun this cell to show the HTML representation or trust the notebook. <br />On GitHub, the HTML representation is unable to render, please try loading this page with nbviewer.org.</b></div><div class=\"sk-container\" hidden><div class=\"sk-item\"><div class=\"sk-estimator sk-toggleable\"><input class=\"sk-toggleable__control sk-hidden--visually\" id=\"sk-estimator-id-7\" type=\"checkbox\" checked><label for=\"sk-estimator-id-7\" class=\"sk-toggleable__label sk-toggleable__label-arrow\">PCA</label><div class=\"sk-toggleable__content\"><pre>PCA(n_components=3)</pre></div></div></div></div></div>"
      ],
      "text/plain": [
       "PCA(n_components=3)"
      ]
     },
     "execution_count": 116,
     "metadata": {},
     "output_type": "execute_result"
    }
   ],
   "source": [
    "pca = decomposition.PCA(n_components=3)\n",
    "pca.fit(X)"
   ]
  },
  {
   "cell_type": "code",
   "execution_count": 97,
   "metadata": {},
   "outputs": [
    {
     "data": {
      "text/html": [
       "<style>#sk-container-id-6 {color: black;background-color: white;}#sk-container-id-6 pre{padding: 0;}#sk-container-id-6 div.sk-toggleable {background-color: white;}#sk-container-id-6 label.sk-toggleable__label {cursor: pointer;display: block;width: 100%;margin-bottom: 0;padding: 0.3em;box-sizing: border-box;text-align: center;}#sk-container-id-6 label.sk-toggleable__label-arrow:before {content: \"▸\";float: left;margin-right: 0.25em;color: #696969;}#sk-container-id-6 label.sk-toggleable__label-arrow:hover:before {color: black;}#sk-container-id-6 div.sk-estimator:hover label.sk-toggleable__label-arrow:before {color: black;}#sk-container-id-6 div.sk-toggleable__content {max-height: 0;max-width: 0;overflow: hidden;text-align: left;background-color: #f0f8ff;}#sk-container-id-6 div.sk-toggleable__content pre {margin: 0.2em;color: black;border-radius: 0.25em;background-color: #f0f8ff;}#sk-container-id-6 input.sk-toggleable__control:checked~div.sk-toggleable__content {max-height: 200px;max-width: 100%;overflow: auto;}#sk-container-id-6 input.sk-toggleable__control:checked~label.sk-toggleable__label-arrow:before {content: \"▾\";}#sk-container-id-6 div.sk-estimator input.sk-toggleable__control:checked~label.sk-toggleable__label {background-color: #d4ebff;}#sk-container-id-6 div.sk-label input.sk-toggleable__control:checked~label.sk-toggleable__label {background-color: #d4ebff;}#sk-container-id-6 input.sk-hidden--visually {border: 0;clip: rect(1px 1px 1px 1px);clip: rect(1px, 1px, 1px, 1px);height: 1px;margin: -1px;overflow: hidden;padding: 0;position: absolute;width: 1px;}#sk-container-id-6 div.sk-estimator {font-family: monospace;background-color: #f0f8ff;border: 1px dotted black;border-radius: 0.25em;box-sizing: border-box;margin-bottom: 0.5em;}#sk-container-id-6 div.sk-estimator:hover {background-color: #d4ebff;}#sk-container-id-6 div.sk-parallel-item::after {content: \"\";width: 100%;border-bottom: 1px solid gray;flex-grow: 1;}#sk-container-id-6 div.sk-label:hover label.sk-toggleable__label {background-color: #d4ebff;}#sk-container-id-6 div.sk-serial::before {content: \"\";position: absolute;border-left: 1px solid gray;box-sizing: border-box;top: 0;bottom: 0;left: 50%;z-index: 0;}#sk-container-id-6 div.sk-serial {display: flex;flex-direction: column;align-items: center;background-color: white;padding-right: 0.2em;padding-left: 0.2em;position: relative;}#sk-container-id-6 div.sk-item {position: relative;z-index: 1;}#sk-container-id-6 div.sk-parallel {display: flex;align-items: stretch;justify-content: center;background-color: white;position: relative;}#sk-container-id-6 div.sk-item::before, #sk-container-id-6 div.sk-parallel-item::before {content: \"\";position: absolute;border-left: 1px solid gray;box-sizing: border-box;top: 0;bottom: 0;left: 50%;z-index: -1;}#sk-container-id-6 div.sk-parallel-item {display: flex;flex-direction: column;z-index: 1;position: relative;background-color: white;}#sk-container-id-6 div.sk-parallel-item:first-child::after {align-self: flex-end;width: 50%;}#sk-container-id-6 div.sk-parallel-item:last-child::after {align-self: flex-start;width: 50%;}#sk-container-id-6 div.sk-parallel-item:only-child::after {width: 0;}#sk-container-id-6 div.sk-dashed-wrapped {border: 1px dashed gray;margin: 0 0.4em 0.5em 0.4em;box-sizing: border-box;padding-bottom: 0.4em;background-color: white;}#sk-container-id-6 div.sk-label label {font-family: monospace;font-weight: bold;display: inline-block;line-height: 1.2em;}#sk-container-id-6 div.sk-label-container {text-align: center;}#sk-container-id-6 div.sk-container {/* jupyter's `normalize.less` sets `[hidden] { display: none; }` but bootstrap.min.css set `[hidden] { display: none !important; }` so we also need the `!important` here to be able to override the default hidden behavior on the sphinx rendered scikit-learn.org. See: https://github.com/scikit-learn/scikit-learn/issues/21755 */display: inline-block !important;position: relative;}#sk-container-id-6 div.sk-text-repr-fallback {display: none;}</style><div id=\"sk-container-id-6\" class=\"sk-top-container\"><div class=\"sk-text-repr-fallback\"><pre>PCA(n_components=2)</pre><b>In a Jupyter environment, please rerun this cell to show the HTML representation or trust the notebook. <br />On GitHub, the HTML representation is unable to render, please try loading this page with nbviewer.org.</b></div><div class=\"sk-container\" hidden><div class=\"sk-item\"><div class=\"sk-estimator sk-toggleable\"><input class=\"sk-toggleable__control sk-hidden--visually\" id=\"sk-estimator-id-6\" type=\"checkbox\" checked><label for=\"sk-estimator-id-6\" class=\"sk-toggleable__label sk-toggleable__label-arrow\">PCA</label><div class=\"sk-toggleable__content\"><pre>PCA(n_components=2)</pre></div></div></div></div></div>"
      ],
      "text/plain": [
       "PCA(n_components=2)"
      ]
     },
     "execution_count": 97,
     "metadata": {},
     "output_type": "execute_result"
    }
   ],
   "source": [
    "pca = decomposition.PCA(n_components=2)\n",
    "pca.fit(X)"
   ]
  },
  {
   "cell_type": "code",
   "execution_count": 117,
   "metadata": {},
   "outputs": [],
   "source": [
    "scores = pca.transform(X)"
   ]
  },
  {
   "cell_type": "code",
   "execution_count": 118,
   "metadata": {},
   "outputs": [
    {
     "data": {
      "text/html": [
       "<div>\n",
       "<style scoped>\n",
       "    .dataframe tbody tr th:only-of-type {\n",
       "        vertical-align: middle;\n",
       "    }\n",
       "\n",
       "    .dataframe tbody tr th {\n",
       "        vertical-align: top;\n",
       "    }\n",
       "\n",
       "    .dataframe thead th {\n",
       "        text-align: right;\n",
       "    }\n",
       "</style>\n",
       "<table border=\"1\" class=\"dataframe\">\n",
       "  <thead>\n",
       "    <tr style=\"text-align: right;\">\n",
       "      <th></th>\n",
       "      <th>PC1</th>\n",
       "      <th>PC2</th>\n",
       "      <th>PC3</th>\n",
       "    </tr>\n",
       "  </thead>\n",
       "  <tbody>\n",
       "    <tr>\n",
       "      <th>0</th>\n",
       "      <td>-0.593056</td>\n",
       "      <td>-1.860937</td>\n",
       "      <td>1.187283</td>\n",
       "    </tr>\n",
       "    <tr>\n",
       "      <th>1</th>\n",
       "      <td>-0.329688</td>\n",
       "      <td>0.108891</td>\n",
       "      <td>0.711086</td>\n",
       "    </tr>\n",
       "    <tr>\n",
       "      <th>2</th>\n",
       "      <td>-0.428120</td>\n",
       "      <td>-0.598442</td>\n",
       "      <td>0.719784</td>\n",
       "    </tr>\n",
       "    <tr>\n",
       "      <th>3</th>\n",
       "      <td>-0.402502</td>\n",
       "      <td>-0.419727</td>\n",
       "      <td>0.717074</td>\n",
       "    </tr>\n",
       "    <tr>\n",
       "      <th>4</th>\n",
       "      <td>0.474741</td>\n",
       "      <td>-0.712227</td>\n",
       "      <td>-0.810834</td>\n",
       "    </tr>\n",
       "    <tr>\n",
       "      <th>...</th>\n",
       "      <td>...</td>\n",
       "      <td>...</td>\n",
       "      <td>...</td>\n",
       "    </tr>\n",
       "    <tr>\n",
       "      <th>137</th>\n",
       "      <td>-1.929696</td>\n",
       "      <td>0.095122</td>\n",
       "      <td>0.707480</td>\n",
       "    </tr>\n",
       "    <tr>\n",
       "      <th>138</th>\n",
       "      <td>0.589712</td>\n",
       "      <td>-0.056084</td>\n",
       "      <td>-0.224507</td>\n",
       "    </tr>\n",
       "    <tr>\n",
       "      <th>139</th>\n",
       "      <td>0.468436</td>\n",
       "      <td>0.249905</td>\n",
       "      <td>-0.316586</td>\n",
       "    </tr>\n",
       "    <tr>\n",
       "      <th>140</th>\n",
       "      <td>-2.054762</td>\n",
       "      <td>0.787832</td>\n",
       "      <td>1.005345</td>\n",
       "    </tr>\n",
       "    <tr>\n",
       "      <th>141</th>\n",
       "      <td>0.242700</td>\n",
       "      <td>-1.599455</td>\n",
       "      <td>-0.490624</td>\n",
       "    </tr>\n",
       "  </tbody>\n",
       "</table>\n",
       "<p>142 rows × 3 columns</p>\n",
       "</div>"
      ],
      "text/plain": [
       "          PC1       PC2       PC3\n",
       "0   -0.593056 -1.860937  1.187283\n",
       "1   -0.329688  0.108891  0.711086\n",
       "2   -0.428120 -0.598442  0.719784\n",
       "3   -0.402502 -0.419727  0.717074\n",
       "4    0.474741 -0.712227 -0.810834\n",
       "..        ...       ...       ...\n",
       "137 -1.929696  0.095122  0.707480\n",
       "138  0.589712 -0.056084 -0.224507\n",
       "139  0.468436  0.249905 -0.316586\n",
       "140 -2.054762  0.787832  1.005345\n",
       "141  0.242700 -1.599455 -0.490624\n",
       "\n",
       "[142 rows x 3 columns]"
      ]
     },
     "execution_count": 118,
     "metadata": {},
     "output_type": "execute_result"
    }
   ],
   "source": [
    "scores_df = pd.DataFrame(scores, columns=['PC1', 'PC2', 'PC3'])\n",
    "scores_df"
   ]
  },
  {
   "cell_type": "code",
   "execution_count": 99,
   "metadata": {},
   "outputs": [
    {
     "data": {
      "text/html": [
       "<div>\n",
       "<style scoped>\n",
       "    .dataframe tbody tr th:only-of-type {\n",
       "        vertical-align: middle;\n",
       "    }\n",
       "\n",
       "    .dataframe tbody tr th {\n",
       "        vertical-align: top;\n",
       "    }\n",
       "\n",
       "    .dataframe thead th {\n",
       "        text-align: right;\n",
       "    }\n",
       "</style>\n",
       "<table border=\"1\" class=\"dataframe\">\n",
       "  <thead>\n",
       "    <tr style=\"text-align: right;\">\n",
       "      <th></th>\n",
       "      <th>PC1</th>\n",
       "      <th>PC2</th>\n",
       "    </tr>\n",
       "  </thead>\n",
       "  <tbody>\n",
       "    <tr>\n",
       "      <th>0</th>\n",
       "      <td>1.142543</td>\n",
       "      <td>-1.109350</td>\n",
       "    </tr>\n",
       "    <tr>\n",
       "      <th>1</th>\n",
       "      <td>0.593789</td>\n",
       "      <td>-1.202054</td>\n",
       "    </tr>\n",
       "    <tr>\n",
       "      <th>2</th>\n",
       "      <td>0.797211</td>\n",
       "      <td>-0.998631</td>\n",
       "    </tr>\n",
       "    <tr>\n",
       "      <th>3</th>\n",
       "      <td>0.760282</td>\n",
       "      <td>-1.034030</td>\n",
       "    </tr>\n",
       "    <tr>\n",
       "      <th>4</th>\n",
       "      <td>-0.566972</td>\n",
       "      <td>0.456866</td>\n",
       "    </tr>\n",
       "    <tr>\n",
       "      <th>...</th>\n",
       "      <td>...</td>\n",
       "      <td>...</td>\n",
       "    </tr>\n",
       "    <tr>\n",
       "      <th>137</th>\n",
       "      <td>1.086879</td>\n",
       "      <td>-0.725949</td>\n",
       "    </tr>\n",
       "    <tr>\n",
       "      <th>138</th>\n",
       "      <td>-0.395497</td>\n",
       "      <td>0.041284</td>\n",
       "    </tr>\n",
       "    <tr>\n",
       "      <th>139</th>\n",
       "      <td>-0.449947</td>\n",
       "      <td>-0.139784</td>\n",
       "    </tr>\n",
       "    <tr>\n",
       "      <th>140</th>\n",
       "      <td>1.586793</td>\n",
       "      <td>-0.840264</td>\n",
       "    </tr>\n",
       "    <tr>\n",
       "      <th>141</th>\n",
       "      <td>-0.266264</td>\n",
       "      <td>0.290869</td>\n",
       "    </tr>\n",
       "  </tbody>\n",
       "</table>\n",
       "<p>142 rows × 2 columns</p>\n",
       "</div>"
      ],
      "text/plain": [
       "          PC1       PC2\n",
       "0    1.142543 -1.109350\n",
       "1    0.593789 -1.202054\n",
       "2    0.797211 -0.998631\n",
       "3    0.760282 -1.034030\n",
       "4   -0.566972  0.456866\n",
       "..        ...       ...\n",
       "137  1.086879 -0.725949\n",
       "138 -0.395497  0.041284\n",
       "139 -0.449947 -0.139784\n",
       "140  1.586793 -0.840264\n",
       "141 -0.266264  0.290869\n",
       "\n",
       "[142 rows x 2 columns]"
      ]
     },
     "execution_count": 99,
     "metadata": {},
     "output_type": "execute_result"
    }
   ],
   "source": [
    "scores_df = pd.DataFrame(scores, columns=['PC1', 'PC2'])\n",
    "scores_df"
   ]
  },
  {
   "cell_type": "code",
   "execution_count": 119,
   "metadata": {},
   "outputs": [
    {
     "data": {
      "text/plain": [
       "Index(['diff_ln', 'log2FoldChange', 'UTRtype_num', 'baseMean'], dtype='object')"
      ]
     },
     "execution_count": 119,
     "metadata": {},
     "output_type": "execute_result"
    }
   ],
   "source": [
    "data.columns"
   ]
  },
  {
   "cell_type": "code",
   "execution_count": 122,
   "metadata": {},
   "outputs": [
    {
     "data": {
      "text/html": [
       "<div>\n",
       "<style scoped>\n",
       "    .dataframe tbody tr th:only-of-type {\n",
       "        vertical-align: middle;\n",
       "    }\n",
       "\n",
       "    .dataframe tbody tr th {\n",
       "        vertical-align: top;\n",
       "    }\n",
       "\n",
       "    .dataframe thead th {\n",
       "        text-align: right;\n",
       "    }\n",
       "</style>\n",
       "<table border=\"1\" class=\"dataframe\">\n",
       "  <thead>\n",
       "    <tr style=\"text-align: right;\">\n",
       "      <th></th>\n",
       "      <th>PC1</th>\n",
       "      <th>PC2</th>\n",
       "      <th>PC3</th>\n",
       "    </tr>\n",
       "  </thead>\n",
       "  <tbody>\n",
       "    <tr>\n",
       "      <th>diff_ln</th>\n",
       "      <td>0.127994</td>\n",
       "      <td>0.919768</td>\n",
       "      <td>-0.011311</td>\n",
       "    </tr>\n",
       "    <tr>\n",
       "      <th>log2FoldChange</th>\n",
       "      <td>0.494559</td>\n",
       "      <td>0.098799</td>\n",
       "      <td>-0.743922</td>\n",
       "    </tr>\n",
       "    <tr>\n",
       "      <th>UTRtype_num</th>\n",
       "      <td>0.668126</td>\n",
       "      <td>-0.356167</td>\n",
       "      <td>0.011922</td>\n",
       "    </tr>\n",
       "    <tr>\n",
       "      <th>baseMean</th>\n",
       "      <td>0.540960</td>\n",
       "      <td>0.131946</td>\n",
       "      <td>0.668064</td>\n",
       "    </tr>\n",
       "  </tbody>\n",
       "</table>\n",
       "</div>"
      ],
      "text/plain": [
       "                     PC1       PC2       PC3\n",
       "diff_ln         0.127994  0.919768 -0.011311\n",
       "log2FoldChange  0.494559  0.098799 -0.743922\n",
       "UTRtype_num     0.668126 -0.356167  0.011922\n",
       "baseMean        0.540960  0.131946  0.668064"
      ]
     },
     "execution_count": 122,
     "metadata": {},
     "output_type": "execute_result"
    }
   ],
   "source": [
    "loadings = pca.components_.T\n",
    "df_loadings = pd.DataFrame(loadings, columns=['PC1', 'PC2', 'PC3'], index=data.columns)\n",
    "df_loadings"
   ]
  },
  {
   "cell_type": "code",
   "execution_count": 101,
   "metadata": {},
   "outputs": [
    {
     "data": {
      "text/html": [
       "<div>\n",
       "<style scoped>\n",
       "    .dataframe tbody tr th:only-of-type {\n",
       "        vertical-align: middle;\n",
       "    }\n",
       "\n",
       "    .dataframe tbody tr th {\n",
       "        vertical-align: top;\n",
       "    }\n",
       "\n",
       "    .dataframe thead th {\n",
       "        text-align: right;\n",
       "    }\n",
       "</style>\n",
       "<table border=\"1\" class=\"dataframe\">\n",
       "  <thead>\n",
       "    <tr style=\"text-align: right;\">\n",
       "      <th></th>\n",
       "      <th>PC1</th>\n",
       "      <th>PC2</th>\n",
       "    </tr>\n",
       "  </thead>\n",
       "  <tbody>\n",
       "    <tr>\n",
       "      <th>UTR_diff</th>\n",
       "      <td>0.707107</td>\n",
       "      <td>0.707107</td>\n",
       "    </tr>\n",
       "    <tr>\n",
       "      <th>log2FoldChange</th>\n",
       "      <td>-0.707107</td>\n",
       "      <td>0.707107</td>\n",
       "    </tr>\n",
       "  </tbody>\n",
       "</table>\n",
       "</div>"
      ],
      "text/plain": [
       "                     PC1       PC2\n",
       "UTR_diff        0.707107  0.707107\n",
       "log2FoldChange -0.707107  0.707107"
      ]
     },
     "execution_count": 101,
     "metadata": {},
     "output_type": "execute_result"
    }
   ],
   "source": [
    "loadings = pca.components_.T\n",
    "df_loadings = pd.DataFrame(loadings, columns=['PC1', 'PC2'], index=data.columns)\n",
    "df_loadings"
   ]
  },
  {
   "cell_type": "code",
   "execution_count": 123,
   "metadata": {},
   "outputs": [
    {
     "data": {
      "text/plain": [
       "array([0.32933288, 0.26256531, 0.24484777])"
      ]
     },
     "execution_count": 123,
     "metadata": {},
     "output_type": "execute_result"
    }
   ],
   "source": [
    "explained_variance = pca.explained_variance_ratio_\n",
    "explained_variance"
   ]
  },
  {
   "cell_type": "code",
   "execution_count": 233,
   "metadata": {},
   "outputs": [],
   "source": [
    "import plotly.express as px\n",
    "import matplotlib.pyplot as plt\n",
    "import nbformat"
   ]
  },
  {
   "cell_type": "code",
   "execution_count": 124,
   "metadata": {},
   "outputs": [],
   "source": [
    "explained_variance = np.insert(explained_variance, 0, 0)"
   ]
  },
  {
   "cell_type": "code",
   "execution_count": 125,
   "metadata": {},
   "outputs": [],
   "source": [
    "cumulative_variance = np.cumsum(np.round(explained_variance, decimals=3))"
   ]
  },
  {
   "cell_type": "code",
   "execution_count": 126,
   "metadata": {},
   "outputs": [],
   "source": [
    "pc_df = pd.DataFrame(['', 'PC1', 'PC2', 'PC3'], columns=['PC'])\n",
    "explained_variance_df = pd.DataFrame(explained_variance, columns=['Explained Variance'])\n",
    "cumulative_variance_df = pd.DataFrame(cumulative_variance, columns=['Cumulative Variance'])"
   ]
  },
  {
   "cell_type": "code",
   "execution_count": 105,
   "metadata": {},
   "outputs": [],
   "source": [
    "pc_df = pd.DataFrame(['', 'PC1', 'PC2'], columns=['PC'])\n",
    "explained_variance_df = pd.DataFrame(explained_variance, columns=['Explained Variance'])\n",
    "cumulative_variance_df = pd.DataFrame(cumulative_variance, columns=['Cumulative Variance'])"
   ]
  },
  {
   "cell_type": "code",
   "execution_count": 127,
   "metadata": {},
   "outputs": [],
   "source": [
    "df_explained_variance = pd.concat([pc_df, explained_variance_df, cumulative_variance_df], axis=1)\n"
   ]
  },
  {
   "cell_type": "code",
   "execution_count": 128,
   "metadata": {},
   "outputs": [
    {
     "data": {
      "text/html": [
       "<div>\n",
       "<style scoped>\n",
       "    .dataframe tbody tr th:only-of-type {\n",
       "        vertical-align: middle;\n",
       "    }\n",
       "\n",
       "    .dataframe tbody tr th {\n",
       "        vertical-align: top;\n",
       "    }\n",
       "\n",
       "    .dataframe thead th {\n",
       "        text-align: right;\n",
       "    }\n",
       "</style>\n",
       "<table border=\"1\" class=\"dataframe\">\n",
       "  <thead>\n",
       "    <tr style=\"text-align: right;\">\n",
       "      <th></th>\n",
       "      <th>PC1</th>\n",
       "      <th>PC2</th>\n",
       "      <th>PC3</th>\n",
       "      <th>type</th>\n",
       "      <th>gene_id</th>\n",
       "      <th>transcript_id</th>\n",
       "      <th>log2FC</th>\n",
       "      <th>UTR_type</th>\n",
       "    </tr>\n",
       "  </thead>\n",
       "  <tbody>\n",
       "    <tr>\n",
       "      <th>0</th>\n",
       "      <td>-0.593056</td>\n",
       "      <td>-1.860937</td>\n",
       "      <td>1.187283</td>\n",
       "      <td>triple negative</td>\n",
       "      <td>ADIRF</td>\n",
       "      <td>NM_006829.3</td>\n",
       "      <td>-2.979559</td>\n",
       "      <td>shorter</td>\n",
       "    </tr>\n",
       "    <tr>\n",
       "      <th>1</th>\n",
       "      <td>-0.329688</td>\n",
       "      <td>0.108891</td>\n",
       "      <td>0.711086</td>\n",
       "      <td>triple negative</td>\n",
       "      <td>AMIGO2</td>\n",
       "      <td>NM_181847.4</td>\n",
       "      <td>-2.024827</td>\n",
       "      <td>shorter</td>\n",
       "    </tr>\n",
       "    <tr>\n",
       "      <th>2</th>\n",
       "      <td>-0.428120</td>\n",
       "      <td>-0.598442</td>\n",
       "      <td>0.719784</td>\n",
       "      <td>triple negative</td>\n",
       "      <td>AMIGO2</td>\n",
       "      <td>NM_181847.4</td>\n",
       "      <td>-2.024827</td>\n",
       "      <td>shorter</td>\n",
       "    </tr>\n",
       "    <tr>\n",
       "      <th>3</th>\n",
       "      <td>-0.402502</td>\n",
       "      <td>-0.419727</td>\n",
       "      <td>0.717074</td>\n",
       "      <td>triple negative</td>\n",
       "      <td>AMIGO2</td>\n",
       "      <td>NM_001370299.1</td>\n",
       "      <td>-2.021623</td>\n",
       "      <td>shorter</td>\n",
       "    </tr>\n",
       "    <tr>\n",
       "      <th>4</th>\n",
       "      <td>0.474741</td>\n",
       "      <td>-0.712227</td>\n",
       "      <td>-0.810834</td>\n",
       "      <td>triple negative</td>\n",
       "      <td>ARL9</td>\n",
       "      <td>NM_206919.3</td>\n",
       "      <td>3.878113</td>\n",
       "      <td>shorter</td>\n",
       "    </tr>\n",
       "    <tr>\n",
       "      <th>...</th>\n",
       "      <td>...</td>\n",
       "      <td>...</td>\n",
       "      <td>...</td>\n",
       "      <td>...</td>\n",
       "      <td>...</td>\n",
       "      <td>...</td>\n",
       "      <td>...</td>\n",
       "      <td>...</td>\n",
       "    </tr>\n",
       "    <tr>\n",
       "      <th>137</th>\n",
       "      <td>-1.929696</td>\n",
       "      <td>0.095122</td>\n",
       "      <td>0.707480</td>\n",
       "      <td>luminal B</td>\n",
       "      <td>SNCG</td>\n",
       "      <td>XM_024448137.1</td>\n",
       "      <td>-2.060387</td>\n",
       "      <td>longer</td>\n",
       "    </tr>\n",
       "    <tr>\n",
       "      <th>138</th>\n",
       "      <td>0.589712</td>\n",
       "      <td>-0.056084</td>\n",
       "      <td>-0.224507</td>\n",
       "      <td>luminal B</td>\n",
       "      <td>SNF8</td>\n",
       "      <td>NM_001317192.2</td>\n",
       "      <td>2.649121</td>\n",
       "      <td>shorter</td>\n",
       "    </tr>\n",
       "    <tr>\n",
       "      <th>139</th>\n",
       "      <td>0.468436</td>\n",
       "      <td>0.249905</td>\n",
       "      <td>-0.316586</td>\n",
       "      <td>luminal B</td>\n",
       "      <td>UBE2S</td>\n",
       "      <td>NM_014501.3</td>\n",
       "      <td>2.384051</td>\n",
       "      <td>shorter</td>\n",
       "    </tr>\n",
       "    <tr>\n",
       "      <th>140</th>\n",
       "      <td>-2.054762</td>\n",
       "      <td>0.787832</td>\n",
       "      <td>1.005345</td>\n",
       "      <td>luminal B</td>\n",
       "      <td>WFDC2</td>\n",
       "      <td>NM_006103.4</td>\n",
       "      <td>-3.346261</td>\n",
       "      <td>longer</td>\n",
       "    </tr>\n",
       "    <tr>\n",
       "      <th>141</th>\n",
       "      <td>0.242700</td>\n",
       "      <td>-1.599455</td>\n",
       "      <td>-0.490624</td>\n",
       "      <td>luminal B</td>\n",
       "      <td>ZWINT</td>\n",
       "      <td>NM_007057.4</td>\n",
       "      <td>2.901077</td>\n",
       "      <td>shorter</td>\n",
       "    </tr>\n",
       "  </tbody>\n",
       "</table>\n",
       "<p>142 rows × 8 columns</p>\n",
       "</div>"
      ],
      "text/plain": [
       "          PC1       PC2       PC3             type gene_id   transcript_id   \n",
       "0   -0.593056 -1.860937  1.187283  triple negative   ADIRF     NM_006829.3  \\\n",
       "1   -0.329688  0.108891  0.711086  triple negative  AMIGO2     NM_181847.4   \n",
       "2   -0.428120 -0.598442  0.719784  triple negative  AMIGO2     NM_181847.4   \n",
       "3   -0.402502 -0.419727  0.717074  triple negative  AMIGO2  NM_001370299.1   \n",
       "4    0.474741 -0.712227 -0.810834  triple negative    ARL9     NM_206919.3   \n",
       "..        ...       ...       ...              ...     ...             ...   \n",
       "137 -1.929696  0.095122  0.707480        luminal B    SNCG  XM_024448137.1   \n",
       "138  0.589712 -0.056084 -0.224507        luminal B    SNF8  NM_001317192.2   \n",
       "139  0.468436  0.249905 -0.316586        luminal B   UBE2S     NM_014501.3   \n",
       "140 -2.054762  0.787832  1.005345        luminal B   WFDC2     NM_006103.4   \n",
       "141  0.242700 -1.599455 -0.490624        luminal B   ZWINT     NM_007057.4   \n",
       "\n",
       "       log2FC UTR_type  \n",
       "0   -2.979559  shorter  \n",
       "1   -2.024827  shorter  \n",
       "2   -2.024827  shorter  \n",
       "3   -2.021623  shorter  \n",
       "4    3.878113  shorter  \n",
       "..        ...      ...  \n",
       "137 -2.060387   longer  \n",
       "138  2.649121  shorter  \n",
       "139  2.384051  shorter  \n",
       "140 -3.346261   longer  \n",
       "141  2.901077  shorter  \n",
       "\n",
       "[142 rows x 8 columns]"
      ]
     },
     "execution_count": 128,
     "metadata": {},
     "output_type": "execute_result"
    }
   ],
   "source": [
    "scores_df['type'] = meta['molecularSubtype']\n",
    "scores_df['gene_id'] = meta['ref_gene_id']\n",
    "scores_df['transcript_id'] = meta['reference_id']\n",
    "scores_df['log2FC'] = data['log2FoldChange']\n",
    "scores_df['UTR_type'] = meta['UTR_type']\n",
    "\n",
    "\n",
    "\n",
    "scores_df"
   ]
  },
  {
   "cell_type": "code",
   "execution_count": 129,
   "metadata": {},
   "outputs": [
    {
     "data": {
      "image/png": "[encoded data removed]",
      "text/plain": [
       "<Figure size 1000x700 with 1 Axes>"
      ]
     },
     "metadata": {},
     "output_type": "display_data"
    },
    {
     "data": {
      "application/vnd.plotly.v1+json": {
       "config": {
        "plotlyServerURL": "https://plot.ly"
       },
       "data": [
        {
         "customdata": [
          [
           "ADIRF",
           "NM_006829.3",
           "shorter",
           -2.97955906017874
          ],
          [
           "AMIGO2",
           "NM_181847.4",
           "shorter",
           -2.02482744340801
          ],
          [
           "AMIGO2",
           "NM_181847.4",
           "shorter",
           -2.02482744340801
          ],
          [
           "AMIGO2",
           "NM_001370299.1",
           "shorter",
           -2.02162261127804
          ],
          [
           "ARL9",
           "NM_206919.3",
           "shorter",
           3.87811319839727
          ],
          [
           "BIRC5",
           "NM_001168.3",
           "shorter",
           3.75352748207276
          ],
          [
           "BIRC5",
           "NM_001012270.2",
           "shorter",
           3.75490912677252
          ],
          [
           "C1R",
           "NM_001733.7_2",
           "shorter",
           -3.53227128589356
          ],
          [
           "C1R",
           "NM_001354346.2_2",
           "shorter",
           -3.53203950257535
          ],
          [
           "CBX2",
           "NM_005189.3",
           "shorter",
           3.70083468487673
          ],
          [
           "CKS1B",
           "NM_001826.3",
           "shorter",
           2.759651
          ],
          [
           "CLDN10",
           "NM_006984.5",
           "shorter",
           4.8035050730596
          ],
          [
           "CXCL17",
           "NM_198477.3",
           "shorter",
           4.65376054584454
          ],
          [
           "CXCL17",
           "NM_198477.3",
           "shorter",
           4.65376054584454
          ],
          [
           "CXCL9",
           "NM_002416.3",
           "shorter",
           5.03825501310359
          ],
          [
           "DPT",
           "NM_001937.5",
           "shorter",
           -2.315379
          ],
          [
           "FAM83H",
           "NM_198488.5_2",
           "shorter",
           4.04460233052163
          ],
          [
           "FAM83H",
           "NM_198488.5_2",
           "longer",
           4.04460233052163
          ],
          [
           "FXYD1",
           "NM_021902.4",
           "longer",
           -3.31505495009727
          ],
          [
           "FXYD1",
           "NM_001278717.2",
           "longer",
           -3.2956435806319
          ],
          [
           "FXYD1",
           "NM_001278718.2",
           "longer",
           -3.31112717762809
          ],
          [
           "GATA3",
           "XM_005252442.2",
           "longer",
           -3.13591343132151
          ],
          [
           "GATA3",
           "NM_001002295.2",
           "shorter",
           -3.15564875820087
          ],
          [
           "HJURP",
           "NM_018410.5",
           "shorter",
           4.057902
          ],
          [
           "HOXB13",
           "NM_006361.6",
           "shorter",
           9.05927459693314
          ],
          [
           "JPT1",
           "NM_016185.4",
           "shorter",
           2.06039609494035
          ],
          [
           "KLF2",
           "NM_016270.4",
           "shorter",
           -2.19703032062276
          ],
          [
           "MAD2L1",
           "NM_002358.4",
           "shorter",
           4.06229776610798
          ],
          [
           "MGP",
           "NM_000900.5",
           "shorter",
           -2.37683060599077
          ],
          [
           "OASL",
           "NM_198213.3",
           "shorter",
           2.90854321219059
          ],
          [
           "PLAAT3",
           "NM_007069.3",
           "shorter",
           -2.28018536030998
          ],
          [
           "PLAC9",
           "NM_001012973.3",
           "shorter",
           -2.50669554197729
          ],
          [
           "RASL11A",
           "NM_206827.2",
           "shorter",
           -2.12108087105511
          ],
          [
           "SPDYC",
           "XM_017017706.1",
           "shorter",
           5.53190115522589
          ],
          [
           "SPIB",
           "NM_003121.5",
           "shorter",
           4.95653709197582
          ],
          [
           "SUV39H2",
           "NM_001193424.2",
           "shorter",
           2.01369103129708
          ],
          [
           "SUV39H2",
           "NM_001193424.2",
           "shorter",
           2.01369103129708
          ],
          [
           "SUV39H2",
           "XM_011519662.2",
           "shorter",
           2.00694415818168
          ],
          [
           "SUV39H2",
           "XM_011519662.2",
           "shorter",
           2.00694415818168
          ],
          [
           "SUV39H2",
           "XM_011519662.2",
           "longer",
           2.00694415818168
          ],
          [
           "UBE2S",
           "NM_014501.3",
           "shorter",
           2.97432503907067
          ],
          [
           "ZWINT",
           "NM_007057.4",
           "shorter",
           2.52318611920078
          ]
         ],
         "hovertemplate": "type=triple negative<br>PC1=%{x}<br>PC2=%{y}<br>PC3=%{z}<br>gene_id=%{customdata[0]}<br>transcript_id=%{customdata[1]}<br>UTR_type=%{customdata[2]}<br>log2FC=%{customdata[3]}<extra></extra>",
         "legendgroup": "triple negative",
         "marker": {
          "color": "#636efa",
          "size": 2,
          "symbol": "circle"
         },
         "mode": "markers",
         "name": "triple negative",
         "scene": "scene",
         "showlegend": true,
         "type": "scatter3d",
         "x": [
          -0.593055816494799,
          -0.32968787764821145,
          -0.42811956290773395,
          -0.4025017394661707,
          0.4747407613837641,
          0.5688148959605512,
          0.43545345601469637,
          -0.8110415906589289,
          -0.8110123222912421,
          0.4745621333098515,
          0.37581920628525184,
          0.7798923128173483,
          0.7431216997374831,
          0.6397311503250336,
          0.6814351914770528,
          -0.3470369020034703,
          0.4880414719601753,
          -1.1432840007504794,
          -2.221661061115908,
          -2.218413535549913,
          -2.2207421351269643,
          -1.968657544363953,
          -0.5129158328953763,
          0.560437048739263,
          1.4847640351596363,
          0.3586117059151356,
          -0.3191995008146987,
          0.7928253409410901,
          2.599780059958624,
          0.4378224221192558,
          -0.5111917320754574,
          -0.6280700395700229,
          -0.38377780373932213,
          0.6927911565609285,
          0.6956919844691261,
          0.29095711803254054,
          0.28109649276827053,
          0.2886471763990029,
          0.27867465063172076,
          -1.4770507889689948,
          0.6126229496555478,
          0.17695188903440354
         ],
         "y": [
          -1.860936959404228,
          0.10889067736855612,
          -0.598442311995631,
          -0.41972664358744655,
          -0.7122269518376688,
          -0.17654277478837405,
          -1.1355927324066633,
          -1.6974781401728374,
          -1.6974727102906881,
          -0.9181266012459086,
          -0.9937346000234444,
          0.27711801929903723,
          -0.5747999724612867,
          -1.3177675056808673,
          -1.6991259652301123,
          -0.37641866761825477,
          -0.8339880741931464,
          -1.0914841221321796,
          -0.40216608661467756,
          -0.40151710367719656,
          -0.4019709106286284,
          -0.32781299494975535,
          -1.3488405689287606,
          -0.4118643701471305,
          0.48085019812271645,
          -0.38537999251080146,
          -0.14267360322070582,
          1.0381277093536008,
          0.48701411895803215,
          0.01686911874997208,
          -1.282019391767283,
          -1.3817129524080194,
          0.04759712423811821,
          -1.051543548220199,
          -1.063599383445828,
          0.029386036248862983,
          -0.041472707323257425,
          0.020300271380023018,
          -0.05136259250252548,
          -1.2028004664415368,
          0.280721507867891,
          -1.6127055094434124
         ],
         "z": [
          1.1872828226760348,
          0.7110857016275844,
          0.7197844976294128,
          0.7170741810963629,
          -0.8108337463952002,
          -0.7352148073501166,
          -0.7239277866633042,
          1.1304638375028886,
          1.130393926521863,
          -0.6904473545842622,
          -0.3705924574504353,
          -1.0331172904163117,
          -0.8491126111269695,
          -0.8399755807542334,
          -0.8903097626239345,
          0.9147203456761909,
          -0.846992713330955,
          -0.860591404814947,
          1.0039914202100566,
          0.9991199957312601,
          1.0033290409047282,
          1.231809918170552,
          1.2731810412828957,
          -0.8407920644380849,
          -2.1219702298007683,
          -0.18767174222331454,
          0.8515165955973424,
          -0.821417564040507,
          4.554550671133111,
          -0.5521207910906537,
          0.8608395181785967,
          0.834030903328702,
          0.6976334824162793,
          -1.2257721233683436,
          -0.955680730871589,
          -0.3319962028649456,
          -0.33112478054399064,
          -0.33012770082023307,
          -0.3292463894107632,
          -0.33185136548941885,
          -0.4086102025374941,
          -0.3989107104008818
         ]
        },
        {
         "customdata": [
          [
           "APOC2",
           "NM_000483.5",
           "shorter",
           2.99736437354533
          ],
          [
           "BIRC5",
           "NM_001168.3",
           "shorter",
           3.10166072415127
          ],
          [
           "CBX2",
           "NM_005189.3",
           "shorter",
           3.46162322532907
          ],
          [
           "CBX2",
           "NM_005189.3",
           "longer",
           3.46162322532907
          ],
          [
           "CENPA",
           "NM_001809.4",
           "longer",
           2.64302071250818
          ],
          [
           "CXCL9",
           "NM_002416.3",
           "shorter",
           5.4144863698527
          ],
          [
           "FXYD1",
           "NM_021902.4",
           "longer",
           -2.76754729916627
          ],
          [
           "FXYD1",
           "NM_001278718.2",
           "longer",
           -2.76603655809864
          ],
          [
           "H3C10",
           "NM_003536.3",
           "longer",
           4.73675794468422
          ],
          [
           "HOXC11",
           "NM_014212.4",
           "shorter",
           2.83085585496415
          ],
          [
           "IL21R",
           "NM_181078.3",
           "shorter",
           2.39686100024962
          ],
          [
           "JPT1",
           "NM_016185.4",
           "shorter",
           2.1010186407476
          ],
          [
           "OASL",
           "NM_198213.3",
           "shorter",
           2.41005420548318
          ],
          [
           "PTGFR",
           "NM_000959.4",
           "shorter",
           -2.67618072544813
          ],
          [
           "SIX1",
           "NM_005982.4",
           "shorter",
           2.51759680987297
          ],
          [
           "SLC16A3",
           "NM_004207.4",
           "shorter",
           2.23016073280555
          ],
          [
           "SOX11",
           "NM_003108.4",
           "shorter",
           6.10705020525562
          ],
          [
           "SOX11",
           "NM_003108.4",
           "shorter",
           6.10705020525562
          ]
         ],
         "hovertemplate": "type=HER2+<br>PC1=%{x}<br>PC2=%{y}<br>PC3=%{z}<br>gene_id=%{customdata[0]}<br>transcript_id=%{customdata[1]}<br>UTR_type=%{customdata[2]}<br>log2FC=%{customdata[3]}<extra></extra>",
         "legendgroup": "HER2+",
         "marker": {
          "color": "#EF553B",
          "size": 2,
          "symbol": "circle"
         },
         "mode": "markers",
         "name": "HER2+",
         "scene": "scene",
         "showlegend": true,
         "type": "scatter3d",
         "x": [
          0.17577485614271654,
          0.4464963241098234,
          0.4302312926545503,
          -1.0275083463280834,
          -1.1004701839800033,
          0.8119246192547119,
          -2.126002187741245,
          -2.1254555748603643,
          -0.8035021714103279,
          0.41210981242803285,
          0.3832982191879687,
          0.3822573604140431,
          0.3494503942895973,
          -0.3826815330009171,
          0.39720305751257573,
          0.35523350194851344,
          1.217952729551493,
          1.2159653293523136
         ],
         "y": [
          -1.9308024040130072,
          -0.2015712716621094,
          -0.9271756250727418,
          0.06272124074754096,
          0.8734579618285911,
          -1.6700721546544837,
          -0.3828707263663459,
          -0.38274854032296396,
          0.5818509018557618,
          0.021472117971197052,
          0.22432541047886628,
          -0.3799120662585723,
          -0.001010325433700584,
          0.6704360963061846,
          0.08182621998615884,
          -0.5332702620987014,
          1.4692957050388153,
          1.4550141886730015
         ],
         "z": [
          -0.5574166306529947,
          -0.5880010955627133,
          -0.6357390685911571,
          -0.6646782244025266,
          -0.5370059439001488,
          -0.9013112797007248,
          0.8716052513727639,
          0.8715890324299042,
          -1.0618338221536212,
          -0.5502914970396293,
          -0.42668953766138,
          -0.17705780008546873,
          -0.4331649402225393,
          0.8350854826719876,
          -0.4371216740945222,
          -0.241726528503224,
          -1.2973104875937103,
          -1.2971348532046305
         ]
        },
        {
         "customdata": [
          [
           "ATP6V0D2",
           "NM_152565.1",
           "shorter",
           3.23638695906317
          ],
          [
           "BCAS4",
           "XM_011528886.2",
           "longer",
           2.00951237632766
          ],
          [
           "CBLN1",
           "NM_004352.4",
           "shorter",
           -2.73507703335372
          ],
          [
           "FDCSP",
           "NM_152997.4",
           "longer",
           -3.90444779675705
          ],
          [
           "GRB14",
           "NM_001303422.2",
           "shorter",
           4.83168142999255
          ],
          [
           "GRB14",
           "NM_001303422.2",
           "shorter",
           4.83168142999255
          ],
          [
           "H3C10",
           "NM_003536.3",
           "longer",
           4.12106303901212
          ],
          [
           "H3C4",
           "NM_001376937.1",
           "longer",
           3.32871270736555
          ],
          [
           "PLPP4",
           "NM_001318167.2",
           "shorter",
           2.89763367250092
          ],
          [
           "PLPP4",
           "XM_017015823.1",
           "longer",
           2.89956941050362
          ],
          [
           "PLPP4",
           "XM_011539445.2",
           "longer",
           2.82132820212389
          ],
          [
           "PLPP4",
           "XM_011539445.2",
           "longer",
           2.82132820212389
          ],
          [
           "PLPP4",
           "XM_017015820.1",
           "longer",
           2.85463379212074
          ],
          [
           "PLPP4",
           "XM_017015820.1",
           "longer",
           2.85463379212074
          ],
          [
           "PMAIP1",
           "NM_021127.3",
           "shorter",
           2.14800172646694
          ],
          [
           "RSPO3",
           "NM_032784.5",
           "shorter",
           -2.60132469024425
          ],
          [
           "SMIM11",
           "NM_058182.5",
           "longer",
           -2.27453988228705
          ],
          [
           "VSTM2A",
           "XM_006715666.3",
           "longer",
           9.63339223569617
          ],
          [
           "VSTM2A",
           "NM_001317843.2",
           "shorter",
           9.24732398874344
          ],
          [
           "YWHAE",
           "NM_006761.5_2",
           "shorter",
           3.31001904732191
          ]
         ],
         "hovertemplate": "type=luminal A<br>PC1=%{x}<br>PC2=%{y}<br>PC3=%{z}<br>gene_id=%{customdata[0]}<br>transcript_id=%{customdata[1]}<br>UTR_type=%{customdata[2]}<br>log2FC=%{customdata[3]}<extra></extra>",
         "legendgroup": "luminal A",
         "marker": {
          "color": "#00cc96",
          "size": 2,
          "symbol": "circle"
         },
         "mode": "markers",
         "name": "luminal A",
         "scene": "scene",
         "showlegend": true,
         "type": "scatter3d",
         "x": [
          0.4660440833091695,
          -0.8443027050198296,
          -0.6015949489072804,
          -2.1827582091422437,
          0.6572312369297219,
          0.6296188185128507,
          -0.9063536223638872,
          -0.906507169596201,
          0.4925199924664464,
          -0.886193045540496,
          -0.8538125928291914,
          -0.8469637441210063,
          -0.8485559701503961,
          -0.8417071214422108,
          0.13848549055887382,
          -0.38679735529896603,
          -1.807813778014979,
          0.23081518591753375,
          1.5867454368832694,
          0.3293493362299382
         ],
         "y": [
          -0.005377171507627767,
          3.311531317839692,
          -0.7300415371420185,
          0.5012933227331279,
          -0.6592699754988536,
          -0.8576936275056724,
          0.5613039548380125,
          1.487770471930403,
          0.5329975756650734,
          2.117351931515837,
          2.4318434633748165,
          2.4810594919096425,
          2.4328800418867353,
          2.4820960704215613,
          -1.2321198113232166,
          0.427903023541539,
          1.547637541009933,
          1.8586757726146572,
          0.6916913449246521,
          -1.3058110806947076
         ],
         "z": [
          -0.6621863801875687,
          -0.3827314234798919,
          0.8485540219207578,
          1.1521374122285848,
          -1.0247361592294113,
          -1.0222959409776136,
          -0.9071300053065052,
          -0.720266989746372,
          -0.5754075815507365,
          -0.6172839619013726,
          -0.5998289625243061,
          -0.6004342222798696,
          -0.6085767598606643,
          -0.6091820196162279,
          -0.34855338759627497,
          0.8416870545825055,
          0.6850718444412789,
          -2.227212866219208,
          -2.1177863270252164,
          -0.6232557790597184
         ]
        },
        {
         "customdata": [
          [
           "AMACR",
           "NM_014324.6",
           "shorter",
           2.01581091314235
          ],
          [
           "AMACR",
           "NM_203382.3",
           "shorter",
           2.01486325040593
          ],
          [
           "BIRC5",
           "NM_001168.3",
           "shorter",
           4.58880990017394
          ],
          [
           "BIRC5",
           "NM_001168.3",
           "shorter",
           4.58880990017394
          ],
          [
           "CBX2",
           "NM_005189.3",
           "shorter",
           3.64520632612582
          ],
          [
           "CBX2",
           "NM_005189.3",
           "longer",
           3.64520632612582
          ],
          [
           "CD24",
           "NM_001359084.1",
           "shorter",
           2.31901826074913
          ],
          [
           "CD24",
           "NM_001359084.1",
           "shorter",
           2.31901826074913
          ],
          [
           "CD24",
           "NM_013230.3",
           "shorter",
           2.31817549962224
          ],
          [
           "CD24",
           "NM_013230.3",
           "shorter",
           2.31817549962224
          ],
          [
           "CD24",
           "NM_001291737.1",
           "shorter",
           2.31801048264422
          ],
          [
           "CD24",
           "NM_001291737.1",
           "shorter",
           2.31801048264422
          ],
          [
           "CD24",
           "NM_001291738.1",
           "shorter",
           2.31868632712234
          ],
          [
           "CD24",
           "NM_001291738.1",
           "shorter",
           2.31868632712234
          ],
          [
           "CD24",
           "XM_024446293.1",
           "shorter",
           2.3180224884254
          ],
          [
           "CD24",
           "XM_024446293.1",
           "shorter",
           2.3180224884254
          ],
          [
           "CD24",
           "NM_001291739.1",
           "shorter",
           2.3203879781476
          ],
          [
           "CD24",
           "NM_001291739.1",
           "shorter",
           2.3203879781476
          ],
          [
           "CENPA",
           "NM_001809.4",
           "longer",
           3.58043178825211
          ],
          [
           "CSTA",
           "NM_005213.4",
           "shorter",
           2.29088335360245
          ],
          [
           "CXCL9",
           "NM_002416.3",
           "shorter",
           3.83052390607644
          ],
          [
           "DNAJC22",
           "XM_005269157.2",
           "longer",
           2.35205215905045
          ],
          [
           "DNAJC22",
           "XM_005269157.2",
           "longer",
           2.35205215905045
          ],
          [
           "FABP7",
           "NM_001446.5",
           "shorter",
           6.57910462895321
          ],
          [
           "FDCSP",
           "NM_152997.4",
           "longer",
           -4.38100550853899
          ],
          [
           "FXYD1",
           "NM_021902.4",
           "longer",
           -2.84075223454055
          ],
          [
           "FXYD1",
           "NM_001278718.2",
           "longer",
           -2.83410738603613
          ],
          [
           "FXYD1",
           "NM_005031.5",
           "longer",
           -2.84213872555986
          ],
          [
           "GCNT1",
           "NM_001097633.2",
           "shorter",
           2.05243392194704
          ],
          [
           "GCNT1",
           "NM_001097636.2",
           "shorter",
           2.06290901455643
          ],
          [
           "GINS2",
           "NM_016095.3",
           "shorter",
           2.88192767282148
          ],
          [
           "HOXC11",
           "NM_014212.4",
           "shorter",
           4.09307258139881
          ],
          [
           "IFIT1",
           "NM_001548.5",
           "shorter",
           2.37296952780183
          ],
          [
           "JPT1",
           "NM_016185.4",
           "shorter",
           3.22606582922276
          ],
          [
           "MEOX1",
           "XM_011524818.2",
           "longer",
           -2.4396575997484
          ],
          [
           "MIEN1",
           "NM_032339.5",
           "shorter",
           2.85251087396533
          ],
          [
           "MRPS23",
           "NM_016070.4",
           "shorter",
           2.20717043385371
          ],
          [
           "OAS1",
           "NM_002534.4",
           "longer",
           2.33405767551917
          ],
          [
           "OASL",
           "NM_198213.3",
           "shorter",
           3.18533239329518
          ],
          [
           "PLPP4",
           "XM_024447860.1",
           "shorter",
           3.82589770129111
          ],
          [
           "PLPP4",
           "NM_001318167.2",
           "shorter",
           3.75131006214057
          ],
          [
           "PRR15L",
           "NM_024320.4",
           "longer",
           2.89085068083988
          ],
          [
           "PRR15L",
           "NM_024320.4",
           "longer",
           2.89085068083988
          ],
          [
           "PRR15L",
           "XM_005257663.4",
           "longer",
           2.89097663848208
          ],
          [
           "PRR15L",
           "XM_005257666.4",
           "longer",
           2.88085024053587
          ],
          [
           "PRR15L",
           "XM_005257666.4",
           "longer",
           2.88085024053587
          ],
          [
           "PTGFR",
           "NM_000959.4",
           "shorter",
           -3.65871652717309
          ],
          [
           "RAB11FIP1",
           "NM_025151.5",
           "shorter",
           2.23439904032578
          ],
          [
           "RAB11FIP1",
           "NM_025151.5",
           "shorter",
           2.23439904032578
          ],
          [
           "RBP4",
           "NM_006744.4",
           "shorter",
           -2.97021943459694
          ],
          [
           "SBSPON",
           "NM_153225.4",
           "shorter",
           -2.16769556425773
          ],
          [
           "SERPINA1",
           "NM_001002235.3_2",
           "shorter",
           -2.10123221446945
          ],
          [
           "SERPINA1",
           "NM_000295.5_2",
           "shorter",
           -2.09690010198703
          ],
          [
           "SIX1",
           "NM_005982.4",
           "shorter",
           2.5408029447292
          ],
          [
           "SIX1",
           "NM_005982.4",
           "shorter",
           2.5408029447292
          ],
          [
           "SIX1",
           "XM_017021602.2",
           "shorter",
           2.56804616569289
          ],
          [
           "SMIM11",
           "NM_058182.5",
           "longer",
           -2.35165284829956
          ],
          [
           "SNCG",
           "XM_024448137.1",
           "longer",
           -2.06038729047459
          ],
          [
           "SNF8",
           "NM_001317192.2",
           "shorter",
           2.64912129546181
          ],
          [
           "UBE2S",
           "NM_014501.3",
           "shorter",
           2.38405075801096
          ],
          [
           "WFDC2",
           "NM_006103.4",
           "longer",
           -3.34626056576641
          ],
          [
           "ZWINT",
           "NM_007057.4",
           "shorter",
           2.90107709404852
          ]
         ],
         "hovertemplate": "type=luminal B<br>PC1=%{x}<br>PC2=%{y}<br>PC3=%{z}<br>gene_id=%{customdata[0]}<br>transcript_id=%{customdata[1]}<br>UTR_type=%{customdata[2]}<br>log2FC=%{customdata[3]}<extra></extra>",
         "legendgroup": "luminal B",
         "marker": {
          "color": "#ab63fa",
          "size": 2,
          "symbol": "circle"
         },
         "mode": "markers",
         "name": "luminal B",
         "scene": "scene",
         "showlegend": true,
         "type": "scatter3d",
         "x": [
          0.3676517344167533,
          0.2834242164257244,
          0.7318255156799925,
          0.5983631648870468,
          0.4684951523999036,
          -0.9892444865827301,
          2.127111332936033,
          2.1118877584133497,
          2.128481161616865,
          2.113257587094182,
          2.1282639351770394,
          2.1130403606543564,
          2.1273249392750624,
          2.1121013647523794,
          2.1282788008393023,
          2.113055226316619,
          2.12460078134257,
          2.109377206819887,
          -0.9403012021914714,
          0.16395885488562145,
          0.4224719711594948,
          -1.3515528282720357,
          -1.0626716451136162,
          1.8682609137249777,
          -2.266431417469323,
          -2.1391575836955896,
          -2.1377553234833626,
          -2.139085923676815,
          0.45146625536098384,
          0.4527347036502087,
          0.46202697999674464,
          0.6280853927044643,
          0.540431374659409,
          0.6660785872576868,
          -1.9179465170322296,
          0.6004591174585032,
          0.5900972161668158,
          -1.035484377792941,
          0.48409656629463105,
          0.8334414466747929,
          0.641718237178453,
          -1.2235126129779876,
          -0.9524710974476421,
          -0.9527511280472639,
          -1.224613416239898,
          -0.9535719007095523,
          -0.528204974497762,
          0.3866371539811947,
          0.3395124702660374,
          -0.7853537542658817,
          -0.31055174804165553,
          -0.31099678478896087,
          -0.31039513545320335,
          0.4286938455154983,
          0.3904129294277874,
          0.28405578719813424,
          -1.8211093960653537,
          -1.9296957043697083,
          0.5897116053773717,
          0.4684355525188916,
          -2.0547620223583736,
          0.24270043894797733
         ],
         "y": [
          0.23842480852409115,
          -0.3648262314290361,
          -0.14294139769173592,
          -1.1020057813304724,
          -0.9191962426668545,
          0.07070062315342826,
          0.6986856894590442,
          0.5892886345620677,
          0.6990260204947434,
          0.5896289655977669,
          0.6989742531710965,
          0.58957719827412,
          0.6987402379725993,
          0.5893431830756228,
          0.6989777905559716,
          0.5895807356589952,
          0.6980632374690545,
          0.5886661825720781,
          0.9056132035123745,
          -1.3177526983192953,
          -1.7533851113061918,
          -0.6441728467726224,
          1.4317358437650112,
          -1.2350879785184,
          0.4843982686877552,
          -0.3855397166913244,
          -0.3852466837502123,
          -0.3855120149441642,
          0.8591327015408061,
          0.859364854598339,
          0.20280941364417313,
          0.06484434069033432,
          0.6967149189336175,
          -0.3189801095448532,
          0.9105588130051742,
          -0.46326240464132357,
          1.1869843331373817,
          1.2218927210179764,
          0.026115064365785663,
          1.841681075923103,
          0.5630943298350639,
          -1.1474768901682681,
          0.800235423365771,
          0.7980048560081541,
          -1.1476716524227661,
          0.800040661111273,
          0.7787178078807364,
          -1.0662632701377466,
          -1.4049026352689995,
          -2.0368796685220976,
          0.4622497904510367,
          0.13163184193775757,
          0.13174664914390957,
          0.35508671334676073,
          0.07999892286010347,
          -0.7117662418176894,
          1.5449631640402202,
          0.09512207601439183,
          -0.05608440093439001,
          0.24990481019342647,
          0.7878323496713804,
          -1.5994549861694851
         ],
         "z": [
          -0.2745361985756151,
          -0.26704095795987604,
          -0.9161002863967299,
          -0.9043056924058689,
          -0.6724861681275969,
          -0.7014253239389663,
          1.7532337169238614,
          1.754579084209226,
          1.755311020809584,
          1.7566563880949484,
          1.755118260909065,
          1.7564636281944295,
          1.7536493940591134,
          1.7549947613444778,
          1.7551311259762485,
          1.756476493261613,
          1.7495065474901432,
          1.7508519147755075,
          -0.7681313802177906,
          -0.36516536005446054,
          -0.6575019617014468,
          -0.43591399196631336,
          -0.46144356076762355,
          -0.16510818508311303,
          1.2668610963809164,
          0.8888549748645554,
          0.8875462515648002,
          0.8895778839308929,
          -0.30226235685143055,
          -0.30548892377120934,
          -0.5443326185864533,
          -0.8611181376366412,
          -0.304413574570654,
          -0.3413335522257011,
          0.7411685037125603,
          -0.2264670975930174,
          -0.25812898578819693,
          -0.37834415678597305,
          -0.6216234776073384,
          -0.8140454083604196,
          -0.7817672658547351,
          -0.4231876223092832,
          -0.4471406293659897,
          -0.44713208752563566,
          -0.4199712053215335,
          -0.44392421237824,
          1.0789188589174306,
          -0.10182809615137067,
          -0.09766350210619074,
          0.9701137283237106,
          0.7338215261826505,
          0.765770153154177,
          0.7645309372105552,
          -0.4595085997571088,
          -0.45612556431550144,
          -0.4539919646447787,
          0.7039365827971685,
          0.7074798582986782,
          -0.22450737361241369,
          -0.316586282163085,
          1.0053453923967886,
          -0.4906240572948401
         ]
        }
       ],
       "layout": {
        "legend": {
         "title": {
          "text": "type"
         },
         "tracegroupgap": 0
        },
        "margin": {
         "t": 60
        },
        "scene": {
         "domain": {
          "x": [
           0,
           1
          ],
          "y": [
           0,
           1
          ]
         },
         "xaxis": {
          "title": {
           "text": "PC1"
          }
         },
         "yaxis": {
          "title": {
           "text": "PC2"
          }
         },
         "zaxis": {
          "title": {
           "text": "PC3"
          }
         }
        },
        "template": {
         "data": {
          "bar": [
           {
            "error_x": {
             "color": "#2a3f5f"
            },
            "error_y": {
             "color": "#2a3f5f"
            },
            "marker": {
             "line": {
              "color": "#E5ECF6",
              "width": 0.5
             },
             "pattern": {
              "fillmode": "overlay",
              "size": 10,
              "solidity": 0.2
             }
            },
            "type": "bar"
           }
          ],
          "barpolar": [
           {
            "marker": {
             "line": {
              "color": "#E5ECF6",
              "width": 0.5
             },
             "pattern": {
              "fillmode": "overlay",
              "size": 10,
              "solidity": 0.2
             }
            },
            "type": "barpolar"
           }
          ],
          "carpet": [
           {
            "aaxis": {
             "endlinecolor": "#2a3f5f",
             "gridcolor": "white",
             "linecolor": "white",
             "minorgridcolor": "white",
             "startlinecolor": "#2a3f5f"
            },
            "baxis": {
             "endlinecolor": "#2a3f5f",
             "gridcolor": "white",
             "linecolor": "white",
             "minorgridcolor": "white",
             "startlinecolor": "#2a3f5f"
            },
            "type": "carpet"
           }
          ],
          "choropleth": [
           {
            "colorbar": {
             "outlinewidth": 0,
             "ticks": ""
            },
            "type": "choropleth"
           }
          ],
          "contour": [
           {
            "colorbar": {
             "outlinewidth": 0,
             "ticks": ""
            },
            "colorscale": [
             [
              0,
              "#0d0887"
             ],
             [
              0.1111111111111111,
              "#46039f"
             ],
             [
              0.2222222222222222,
              "#7201a8"
             ],
             [
              0.3333333333333333,
              "#9c179e"
             ],
             [
              0.4444444444444444,
              "#bd3786"
             ],
             [
              0.5555555555555556,
              "#d8576b"
             ],
             [
              0.6666666666666666,
              "#ed7953"
             ],
             [
              0.7777777777777778,
              "#fb9f3a"
             ],
             [
              0.8888888888888888,
              "#fdca26"
             ],
             [
              1,
              "#f0f921"
             ]
            ],
            "type": "contour"
           }
          ],
          "contourcarpet": [
           {
            "colorbar": {
             "outlinewidth": 0,
             "ticks": ""
            },
            "type": "contourcarpet"
           }
          ],
          "heatmap": [
           {
            "colorbar": {
             "outlinewidth": 0,
             "ticks": ""
            },
            "colorscale": [
             [
              0,
              "#0d0887"
             ],
             [
              0.1111111111111111,
              "#46039f"
             ],
             [
              0.2222222222222222,
              "#7201a8"
             ],
             [
              0.3333333333333333,
              "#9c179e"
             ],
             [
              0.4444444444444444,
              "#bd3786"
             ],
             [
              0.5555555555555556,
              "#d8576b"
             ],
             [
              0.6666666666666666,
              "#ed7953"
             ],
             [
              0.7777777777777778,
              "#fb9f3a"
             ],
             [
              0.8888888888888888,
              "#fdca26"
             ],
             [
              1,
              "#f0f921"
             ]
            ],
            "type": "heatmap"
           }
          ],
          "heatmapgl": [
           {
            "colorbar": {
             "outlinewidth": 0,
             "ticks": ""
            },
            "colorscale": [
             [
              0,
              "#0d0887"
             ],
             [
              0.1111111111111111,
              "#46039f"
             ],
             [
              0.2222222222222222,
              "#7201a8"
             ],
             [
              0.3333333333333333,
              "#9c179e"
             ],
             [
              0.4444444444444444,
              "#bd3786"
             ],
             [
              0.5555555555555556,
              "#d8576b"
             ],
             [
              0.6666666666666666,
              "#ed7953"
             ],
             [
              0.7777777777777778,
              "#fb9f3a"
             ],
             [
              0.8888888888888888,
              "#fdca26"
             ],
             [
              1,
              "#f0f921"
             ]
            ],
            "type": "heatmapgl"
           }
          ],
          "histogram": [
           {
            "marker": {
             "pattern": {
              "fillmode": "overlay",
              "size": 10,
              "solidity": 0.2
             }
            },
            "type": "histogram"
           }
          ],
          "histogram2d": [
           {
            "colorbar": {
             "outlinewidth": 0,
             "ticks": ""
            },
            "colorscale": [
             [
              0,
              "#0d0887"
             ],
             [
              0.1111111111111111,
              "#46039f"
             ],
             [
              0.2222222222222222,
              "#7201a8"
             ],
             [
              0.3333333333333333,
              "#9c179e"
             ],
             [
              0.4444444444444444,
              "#bd3786"
             ],
             [
              0.5555555555555556,
              "#d8576b"
             ],
             [
              0.6666666666666666,
              "#ed7953"
             ],
             [
              0.7777777777777778,
              "#fb9f3a"
             ],
             [
              0.8888888888888888,
              "#fdca26"
             ],
             [
              1,
              "#f0f921"
             ]
            ],
            "type": "histogram2d"
           }
          ],
          "histogram2dcontour": [
           {
            "colorbar": {
             "outlinewidth": 0,
             "ticks": ""
            },
            "colorscale": [
             [
              0,
              "#0d0887"
             ],
             [
              0.1111111111111111,
              "#46039f"
             ],
             [
              0.2222222222222222,
              "#7201a8"
             ],
             [
              0.3333333333333333,
              "#9c179e"
             ],
             [
              0.4444444444444444,
              "#bd3786"
             ],
             [
              0.5555555555555556,
              "#d8576b"
             ],
             [
              0.6666666666666666,
              "#ed7953"
             ],
             [
              0.7777777777777778,
              "#fb9f3a"
             ],
             [
              0.8888888888888888,
              "#fdca26"
             ],
             [
              1,
              "#f0f921"
             ]
            ],
            "type": "histogram2dcontour"
           }
          ],
          "mesh3d": [
           {
            "colorbar": {
             "outlinewidth": 0,
             "ticks": ""
            },
            "type": "mesh3d"
           }
          ],
          "parcoords": [
           {
            "line": {
             "colorbar": {
              "outlinewidth": 0,
              "ticks": ""
             }
            },
            "type": "parcoords"
           }
          ],
          "pie": [
           {
            "automargin": true,
            "type": "pie"
           }
          ],
          "scatter": [
           {
            "fillpattern": {
             "fillmode": "overlay",
             "size": 10,
             "solidity": 0.2
            },
            "type": "scatter"
           }
          ],
          "scatter3d": [
           {
            "line": {
             "colorbar": {
              "outlinewidth": 0,
              "ticks": ""
             }
            },
            "marker": {
             "colorbar": {
              "outlinewidth": 0,
              "ticks": ""
             }
            },
            "type": "scatter3d"
           }
          ],
          "scattercarpet": [
           {
            "marker": {
             "colorbar": {
              "outlinewidth": 0,
              "ticks": ""
             }
            },
            "type": "scattercarpet"
           }
          ],
          "scattergeo": [
           {
            "marker": {
             "colorbar": {
              "outlinewidth": 0,
              "ticks": ""
             }
            },
            "type": "scattergeo"
           }
          ],
          "scattergl": [
           {
            "marker": {
             "colorbar": {
              "outlinewidth": 0,
              "ticks": ""
             }
            },
            "type": "scattergl"
           }
          ],
          "scattermapbox": [
           {
            "marker": {
             "colorbar": {
              "outlinewidth": 0,
              "ticks": ""
             }
            },
            "type": "scattermapbox"
           }
          ],
          "scatterpolar": [
           {
            "marker": {
             "colorbar": {
              "outlinewidth": 0,
              "ticks": ""
             }
            },
            "type": "scatterpolar"
           }
          ],
          "scatterpolargl": [
           {
            "marker": {
             "colorbar": {
              "outlinewidth": 0,
              "ticks": ""
             }
            },
            "type": "scatterpolargl"
           }
          ],
          "scatterternary": [
           {
            "marker": {
             "colorbar": {
              "outlinewidth": 0,
              "ticks": ""
             }
            },
            "type": "scatterternary"
           }
          ],
          "surface": [
           {
            "colorbar": {
             "outlinewidth": 0,
             "ticks": ""
            },
            "colorscale": [
             [
              0,
              "#0d0887"
             ],
             [
              0.1111111111111111,
              "#46039f"
             ],
             [
              0.2222222222222222,
              "#7201a8"
             ],
             [
              0.3333333333333333,
              "#9c179e"
             ],
             [
              0.4444444444444444,
              "#bd3786"
             ],
             [
              0.5555555555555556,
              "#d8576b"
             ],
             [
              0.6666666666666666,
              "#ed7953"
             ],
             [
              0.7777777777777778,
              "#fb9f3a"
             ],
             [
              0.8888888888888888,
              "#fdca26"
             ],
             [
              1,
              "#f0f921"
             ]
            ],
            "type": "surface"
           }
          ],
          "table": [
           {
            "cells": {
             "fill": {
              "color": "#EBF0F8"
             },
             "line": {
              "color": "white"
             }
            },
            "header": {
             "fill": {
              "color": "#C8D4E3"
             },
             "line": {
              "color": "white"
             }
            },
            "type": "table"
           }
          ]
         },
         "layout": {
          "annotationdefaults": {
           "arrowcolor": "#2a3f5f",
           "arrowhead": 0,
           "arrowwidth": 1
          },
          "autotypenumbers": "strict",
          "coloraxis": {
           "colorbar": {
            "outlinewidth": 0,
            "ticks": ""
           }
          },
          "colorscale": {
           "diverging": [
            [
             0,
             "#8e0152"
            ],
            [
             0.1,
             "#c51b7d"
            ],
            [
             0.2,
             "#de77ae"
            ],
            [
             0.3,
             "#f1b6da"
            ],
            [
             0.4,
             "#fde0ef"
            ],
            [
             0.5,
             "#f7f7f7"
            ],
            [
             0.6,
             "#e6f5d0"
            ],
            [
             0.7,
             "#b8e186"
            ],
            [
             0.8,
             "#7fbc41"
            ],
            [
             0.9,
             "#4d9221"
            ],
            [
             1,
             "#276419"
            ]
           ],
           "sequential": [
            [
             0,
             "#0d0887"
            ],
            [
             0.1111111111111111,
             "#46039f"
            ],
            [
             0.2222222222222222,
             "#7201a8"
            ],
            [
             0.3333333333333333,
             "#9c179e"
            ],
            [
             0.4444444444444444,
             "#bd3786"
            ],
            [
             0.5555555555555556,
             "#d8576b"
            ],
            [
             0.6666666666666666,
             "#ed7953"
            ],
            [
             0.7777777777777778,
             "#fb9f3a"
            ],
            [
             0.8888888888888888,
             "#fdca26"
            ],
            [
             1,
             "#f0f921"
            ]
           ],
           "sequentialminus": [
            [
             0,
             "#0d0887"
            ],
            [
             0.1111111111111111,
             "#46039f"
            ],
            [
             0.2222222222222222,
             "#7201a8"
            ],
            [
             0.3333333333333333,
             "#9c179e"
            ],
            [
             0.4444444444444444,
             "#bd3786"
            ],
            [
             0.5555555555555556,
             "#d8576b"
            ],
            [
             0.6666666666666666,
             "#ed7953"
            ],
            [
             0.7777777777777778,
             "#fb9f3a"
            ],
            [
             0.8888888888888888,
             "#fdca26"
            ],
            [
             1,
             "#f0f921"
            ]
           ]
          },
          "colorway": [
           "#636efa",
           "#EF553B",
           "#00cc96",
           "#ab63fa",
           "#FFA15A",
           "#19d3f3",
           "#FF6692",
           "#B6E880",
           "#FF97FF",
           "#FECB52"
          ],
          "font": {
           "color": "#2a3f5f"
          },
          "geo": {
           "bgcolor": "white",
           "lakecolor": "white",
           "landcolor": "#E5ECF6",
           "showlakes": true,
           "showland": true,
           "subunitcolor": "white"
          },
          "hoverlabel": {
           "align": "left"
          },
          "hovermode": "closest",
          "mapbox": {
           "style": "light"
          },
          "paper_bgcolor": "white",
          "plot_bgcolor": "#E5ECF6",
          "polar": {
           "angularaxis": {
            "gridcolor": "white",
            "linecolor": "white",
            "ticks": ""
           },
           "bgcolor": "#E5ECF6",
           "radialaxis": {
            "gridcolor": "white",
            "linecolor": "white",
            "ticks": ""
           }
          },
          "scene": {
           "xaxis": {
            "backgroundcolor": "#E5ECF6",
            "gridcolor": "white",
            "gridwidth": 2,
            "linecolor": "white",
            "showbackground": true,
            "ticks": "",
            "zerolinecolor": "white"
           },
           "yaxis": {
            "backgroundcolor": "#E5ECF6",
            "gridcolor": "white",
            "gridwidth": 2,
            "linecolor": "white",
            "showbackground": true,
            "ticks": "",
            "zerolinecolor": "white"
           },
           "zaxis": {
            "backgroundcolor": "#E5ECF6",
            "gridcolor": "white",
            "gridwidth": 2,
            "linecolor": "white",
            "showbackground": true,
            "ticks": "",
            "zerolinecolor": "white"
           }
          },
          "shapedefaults": {
           "line": {
            "color": "#2a3f5f"
           }
          },
          "ternary": {
           "aaxis": {
            "gridcolor": "white",
            "linecolor": "white",
            "ticks": ""
           },
           "baxis": {
            "gridcolor": "white",
            "linecolor": "white",
            "ticks": ""
           },
           "bgcolor": "#E5ECF6",
           "caxis": {
            "gridcolor": "white",
            "linecolor": "white",
            "ticks": ""
           }
          },
          "title": {
           "x": 0.05
          },
          "xaxis": {
           "automargin": true,
           "gridcolor": "white",
           "linecolor": "white",
           "ticks": "",
           "title": {
            "standoff": 15
           },
           "zerolinecolor": "white",
           "zerolinewidth": 2
          },
          "yaxis": {
           "automargin": true,
           "gridcolor": "white",
           "linecolor": "white",
           "ticks": "",
           "title": {
            "standoff": 15
           },
           "zerolinecolor": "white",
           "zerolinewidth": 2
          }
         }
        }
       }
      }
     },
     "metadata": {},
     "output_type": "display_data"
    }
   ],
   "source": [
    "# Import libraries\n",
    "import matplotlib.pyplot as plt\n",
    "from mpl_toolkits.mplot3d import Axes3D\n",
    "import plotly_express as px\n",
    "\n",
    "# Creating figure\n",
    "fig = plt.figure(figsize = (10, 7))\n",
    "ax = plt.axes(projection =\"3d\")\n",
    " \n",
    "# Creating plot\n",
    "ax.scatter(scores_df['PC1'], scores_df['PC2'], scores_df['PC3'])\n",
    "plt.title(\"simple 3D scatter plot\")\n",
    " \n",
    "# show plot\n",
    "plt.show()\n",
    "fig = px.scatter_3d(scores_df, x='PC1', y = 'PC2', z='PC3', color='type', hover_data=('gene_id', 'transcript_id', 'UTR_type', 'log2FC'))\n",
    "fig.update_traces(marker=dict(size=2, symbol='circle'))  # Adjust the size value as desired\n",
    "fig.show()"
   ]
  },
  {
   "cell_type": "code",
   "execution_count": 108,
   "metadata": {},
   "outputs": [
    {
     "data": {
      "application/vnd.plotly.v1+json": {
       "config": {
        "plotlyServerURL": "https://plot.ly"
       },
       "data": [
        {
         "customdata": [
          [
           "ADIRF",
           "NM_006829.3",
           "shorter",
           -2.97955906017874
          ],
          [
           "AMIGO2",
           "NM_181847.4",
           "shorter",
           -2.02482744340801
          ],
          [
           "AMIGO2",
           "NM_181847.4",
           "shorter",
           -2.02482744340801
          ],
          [
           "AMIGO2",
           "NM_001370299.1",
           "shorter",
           -2.02162261127804
          ],
          [
           "ARL9",
           "NM_206919.3",
           "shorter",
           3.87811319839727
          ],
          [
           "BIRC5",
           "NM_001168.3",
           "shorter",
           3.75352748207276
          ],
          [
           "BIRC5",
           "NM_001012270.2",
           "shorter",
           3.75490912677252
          ],
          [
           "C1R",
           "NM_001733.7_2",
           "shorter",
           -3.53227128589356
          ],
          [
           "C1R",
           "NM_001354346.2_2",
           "shorter",
           -3.53203950257535
          ],
          [
           "CBX2",
           "NM_005189.3",
           "shorter",
           3.70083468487673
          ],
          [
           "CKS1B",
           "NM_001826.3",
           "shorter",
           2.759651
          ],
          [
           "CLDN10",
           "NM_006984.5",
           "shorter",
           4.8035050730596
          ],
          [
           "CXCL17",
           "NM_198477.3",
           "shorter",
           4.65376054584454
          ],
          [
           "CXCL17",
           "NM_198477.3",
           "shorter",
           4.65376054584454
          ],
          [
           "CXCL9",
           "NM_002416.3",
           "shorter",
           5.03825501310359
          ],
          [
           "DPT",
           "NM_001937.5",
           "shorter",
           -2.315379
          ],
          [
           "FAM83H",
           "NM_198488.5_2",
           "shorter",
           4.04460233052163
          ],
          [
           "FAM83H",
           "NM_198488.5_2",
           "longer",
           4.04460233052163
          ],
          [
           "FXYD1",
           "NM_021902.4",
           "longer",
           -3.31505495009727
          ],
          [
           "FXYD1",
           "NM_001278717.2",
           "longer",
           -3.2956435806319
          ],
          [
           "FXYD1",
           "NM_001278718.2",
           "longer",
           -3.31112717762809
          ],
          [
           "GATA3",
           "XM_005252442.2",
           "longer",
           -3.13591343132151
          ],
          [
           "GATA3",
           "NM_001002295.2",
           "shorter",
           -3.15564875820087
          ],
          [
           "HJURP",
           "NM_018410.5",
           "shorter",
           4.057902
          ],
          [
           "HOXB13",
           "NM_006361.6",
           "shorter",
           9.05927459693314
          ],
          [
           "JPT1",
           "NM_016185.4",
           "shorter",
           2.06039609494035
          ],
          [
           "KLF2",
           "NM_016270.4",
           "shorter",
           -2.19703032062276
          ],
          [
           "MAD2L1",
           "NM_002358.4",
           "shorter",
           4.06229776610798
          ],
          [
           "MGP",
           "NM_000900.5",
           "shorter",
           -2.37683060599077
          ],
          [
           "OASL",
           "NM_198213.3",
           "shorter",
           2.90854321219059
          ],
          [
           "PLAAT3",
           "NM_007069.3",
           "shorter",
           -2.28018536030998
          ],
          [
           "PLAC9",
           "NM_001012973.3",
           "shorter",
           -2.50669554197729
          ],
          [
           "RASL11A",
           "NM_206827.2",
           "shorter",
           -2.12108087105511
          ],
          [
           "SPDYC",
           "XM_017017706.1",
           "shorter",
           5.53190115522589
          ],
          [
           "SPIB",
           "NM_003121.5",
           "shorter",
           4.95653709197582
          ],
          [
           "SUV39H2",
           "NM_001193424.2",
           "shorter",
           2.01369103129708
          ],
          [
           "SUV39H2",
           "NM_001193424.2",
           "shorter",
           2.01369103129708
          ],
          [
           "SUV39H2",
           "XM_011519662.2",
           "shorter",
           2.00694415818168
          ],
          [
           "SUV39H2",
           "XM_011519662.2",
           "shorter",
           2.00694415818168
          ],
          [
           "SUV39H2",
           "XM_011519662.2",
           "longer",
           2.00694415818168
          ],
          [
           "UBE2S",
           "NM_014501.3",
           "shorter",
           2.97432503907067
          ],
          [
           "ZWINT",
           "NM_007057.4",
           "shorter",
           2.52318611920078
          ]
         ],
         "hovertemplate": "type=triple negative<br>PC1=%{x}<br>PC2=%{y}<br>gene_id=%{customdata[0]}<br>transcript_id=%{customdata[1]}<br>UTR_type=%{customdata[2]}<br>log2FC=%{customdata[3]}<extra></extra>",
         "legendgroup": "triple negative",
         "marker": {
          "color": "#636efa",
          "size": 3,
          "symbol": "circle"
         },
         "mode": "markers",
         "name": "triple negative",
         "orientation": "v",
         "showlegend": true,
         "type": "scatter",
         "x": [
          1.142543459019258,
          0.5937886405488428,
          0.7972112253124782,
          0.7602817778369835,
          -0.5669721831294229,
          -0.630790896696056,
          -0.4955058280254684,
          1.264832495159484,
          1.2647771367332619,
          -0.5008988846096818,
          -0.2704587944790713,
          -1.0146931472126177,
          -0.762848627500938,
          -0.6950410992463929,
          -0.769016611682453,
          0.8238869369257794,
          -0.5918182873457872,
          -0.4788057402548787,
          1.3307122769982054,
          1.3260761242641725,
          1.3297741797091842,
          1.2892828093959288,
          1.157477178252435,
          -0.6537612646394358,
          -2.0584772964798943,
          -0.18843630468236744,
          0.7318818199697793,
          -1.3593313546774752,
          0.8003656115988085,
          -0.4915863621353176,
          0.9427335225611556,
          1.0024831561654453,
          0.6377978516531772,
          -0.9226295271132131,
          -0.7838551650376062,
          -0.2918761313862285,
          -0.2692736219680467,
          -0.2873264024065911,
          -0.26472389298840937,
          0.006506220029771168,
          -0.5909267794240093,
          -0.17601002219430384
         ],
         "xaxis": "x",
         "y": [
          -1.109349604694843,
          -1.2020540035124225,
          -0.9986314187487879,
          -1.0340300014114745,
          0.456866127742573,
          0.33353606332666186,
          0.4694811076742542,
          -1.2510767989347058,
          -1.2510214405084836,
          0.43825809900101326,
          0.21911926357949263,
          0.45118075289704457,
          0.6314962132609981,
          0.699303741515543,
          0.8089912188323307,
          -1.110744615962816,
          0.5115475443909374,
          0.6245600914818454,
          -1.081438432635974,
          -1.0768022799019412,
          -1.080500335346953,
          -1.0372966639035155,
          -1.178529346531656,
          0.4559574727100414,
          1.4402668293723258,
          -0.03287409704193799,
          -1.1462176521253604,
          -0.24751287438136424,
          -1.1636197724692992,
          0.06911362658919622,
          -0.9750869455494667,
          -1.0235353244446657,
          -1.204022547098939,
          0.8911802045016372,
          0.7551181435562114,
          -0.15862371583843912,
          -0.1360212064202575,
          -0.1572967923693493,
          -0.13469428295116767,
          0.13653583006701173,
          0.0011954741833436157,
          0.20061492293981534
         ],
         "yaxis": "y"
        },
        {
         "customdata": [
          [
           "APOC2",
           "NM_000483.5",
           "shorter",
           2.99736437354533
          ],
          [
           "BIRC5",
           "NM_001168.3",
           "shorter",
           3.10166072415127
          ],
          [
           "CBX2",
           "NM_005189.3",
           "shorter",
           3.46162322532907
          ],
          [
           "CBX2",
           "NM_005189.3",
           "longer",
           3.46162322532907
          ],
          [
           "CENPA",
           "NM_001809.4",
           "longer",
           2.64302071250818
          ],
          [
           "CXCL9",
           "NM_002416.3",
           "shorter",
           5.4144863698527
          ],
          [
           "FXYD1",
           "NM_021902.4",
           "longer",
           -2.76754729916627
          ],
          [
           "FXYD1",
           "NM_001278718.2",
           "longer",
           -2.76603655809864
          ],
          [
           "H3C10",
           "NM_003536.3",
           "longer",
           4.73675794468422
          ],
          [
           "HOXC11",
           "NM_014212.4",
           "shorter",
           2.83085585496415
          ],
          [
           "IL21R",
           "NM_181078.3",
           "shorter",
           2.39686100024962
          ],
          [
           "JPT1",
           "NM_016185.4",
           "shorter",
           2.1010186407476
          ],
          [
           "OASL",
           "NM_198213.3",
           "shorter",
           2.41005420548318
          ],
          [
           "PTGFR",
           "NM_000959.4",
           "shorter",
           -2.67618072544813
          ],
          [
           "SIX1",
           "NM_005982.4",
           "shorter",
           2.51759680987297
          ],
          [
           "SLC16A3",
           "NM_004207.4",
           "shorter",
           2.23016073280555
          ],
          [
           "SOX11",
           "NM_003108.4",
           "shorter",
           6.10705020525562
          ],
          [
           "SOX11",
           "NM_003108.4",
           "shorter",
           6.10705020525562
          ]
         ],
         "hovertemplate": "type=HER2+<br>PC1=%{x}<br>PC2=%{y}<br>gene_id=%{customdata[0]}<br>transcript_id=%{customdata[1]}<br>UTR_type=%{customdata[2]}<br>log2FC=%{customdata[3]}<extra></extra>",
         "legendgroup": "HER2+",
         "marker": {
          "color": "#EF553B",
          "size": 3,
          "symbol": "circle"
         },
         "mode": "markers",
         "name": "HER2+",
         "orientation": "v",
         "showlegend": true,
         "type": "scatter",
         "x": [
          -0.2775080164501748,
          -0.4751010131278565,
          -0.44376634359178296,
          -0.2629462682463293,
          0.11677673014959496,
          -0.858874570253228,
          1.199947206697731,
          1.1995863858734401,
          -0.484770400914122,
          -0.4764221252711361,
          -0.45097279025612147,
          -0.19813847057765047,
          -0.3725287564648483,
          0.3793528079159512,
          -0.42285064188229277,
          -0.20231141587900592,
          -2.3074288803063747,
          -2.2848263708881933
         ],
         "xaxis": "x",
         "y": [
          0.3256195269905957,
          0.17784617975846176,
          0.3811255579831142,
          0.5619456333285672,
          0.5506435384490032,
          0.898849177403106,
          -0.9506733623354992,
          -0.9503125415112083,
          0.9492201349374509,
          0.04716863689956012,
          -0.134690063289272,
          -0.023171931146654924,
          -0.049943979081273585,
          -1.727624329230799,
          -0.048895564195465056,
          0.03434293638160935,
          -0.21888543188409218,
          -0.19628292246591075
         ],
         "yaxis": "y"
        },
        {
         "customdata": [
          [
           "ATP6V0D2",
           "NM_152565.1",
           "shorter",
           3.23638695906317
          ],
          [
           "BCAS4",
           "XM_011528886.2",
           "longer",
           2.00951237632766
          ],
          [
           "CBLN1",
           "NM_004352.4",
           "shorter",
           -2.73507703335372
          ],
          [
           "FDCSP",
           "NM_152997.4",
           "longer",
           -3.90444779675705
          ],
          [
           "GRB14",
           "NM_001303422.2",
           "shorter",
           4.83168142999255
          ],
          [
           "GRB14",
           "NM_001303422.2",
           "shorter",
           4.83168142999255
          ],
          [
           "H3C10",
           "NM_003536.3",
           "longer",
           4.12106303901212
          ],
          [
           "H3C4",
           "NM_001376937.1",
           "longer",
           3.32871270736555
          ],
          [
           "PLPP4",
           "NM_001318167.2",
           "shorter",
           2.89763367250092
          ],
          [
           "PLPP4",
           "XM_017015823.1",
           "longer",
           2.89956941050362
          ],
          [
           "PLPP4",
           "XM_011539445.2",
           "longer",
           2.82132820212389
          ],
          [
           "PLPP4",
           "XM_011539445.2",
           "longer",
           2.82132820212389
          ],
          [
           "PLPP4",
           "XM_017015820.1",
           "longer",
           2.85463379212074
          ],
          [
           "PLPP4",
           "XM_017015820.1",
           "longer",
           2.85463379212074
          ],
          [
           "PMAIP1",
           "NM_021127.3",
           "shorter",
           2.14800172646694
          ],
          [
           "RSPO3",
           "NM_032784.5",
           "shorter",
           -2.60132469024425
          ],
          [
           "SMIM11",
           "NM_058182.5",
           "longer",
           -2.27453988228705
          ],
          [
           "VSTM2A",
           "XM_006715666.3",
           "longer",
           9.63339223569617
          ],
          [
           "VSTM2A",
           "NM_001317843.2",
           "shorter",
           9.24732398874344
          ],
          [
           "YWHAE",
           "NM_006761.5_2",
           "shorter",
           3.31001904732191
          ]
         ],
         "hovertemplate": "type=luminal A<br>PC1=%{x}<br>PC2=%{y}<br>gene_id=%{customdata[0]}<br>transcript_id=%{customdata[1]}<br>UTR_type=%{customdata[2]}<br>log2FC=%{customdata[3]}<extra></extra>",
         "legendgroup": "luminal A",
         "marker": {
          "color": "#00cc96",
          "size": 3,
          "symbol": "circle"
         },
         "mode": "markers",
         "name": "luminal A",
         "orientation": "v",
         "showlegend": true,
         "type": "scatter",
         "x": [
          -0.5612986168307867,
          5.646123034793637,
          0.9835709447534519,
          1.6294726215128637,
          -0.7967537594091907,
          -0.7741512499910089,
          -0.3377196930620004,
          0.25452560500324095,
          -0.7183962312884216,
          1.0545343318561182,
          1.6776123271084111,
          1.7942412757062287,
          1.6696577207939036,
          1.7862866693917212,
          -0.10900462675845064,
          0.5506574228520126,
          1.7984723308138137,
          -1.1380264000615434,
          -2.1985470087334384,
          -0.3788524735899318
         ],
         "xaxis": "x",
         "y": [
          0.15600378844248378,
          5.777379415729251,
          -1.1515394242508534,
          -1.0642156954844533,
          0.6825792523270691,
          0.7051817617452507,
          0.8021694270853287,
          1.0159296148724448,
          -0.16290744544678756,
          1.6109477693097392,
          2.1966519777418014,
          2.313280926339619,
          2.204606584056309,
          2.3212355326541263,
          0.08840450866759843,
          -1.5205629365064994,
          -0.11665143952722731,
          2.6349587643074157,
          1.3900234123247808,
          0.3736220619034443
         ],
         "yaxis": "y"
        },
        {
         "customdata": [
          [
           "AMACR",
           "NM_014324.6",
           "shorter",
           2.01581091314235
          ],
          [
           "AMACR",
           "NM_203382.3",
           "shorter",
           2.01486325040593
          ],
          [
           "BIRC5",
           "NM_001168.3",
           "shorter",
           4.58880990017394
          ],
          [
           "BIRC5",
           "NM_001168.3",
           "shorter",
           4.58880990017394
          ],
          [
           "CBX2",
           "NM_005189.3",
           "shorter",
           3.64520632612582
          ],
          [
           "CBX2",
           "NM_005189.3",
           "longer",
           3.64520632612582
          ],
          [
           "CD24",
           "NM_001359084.1",
           "shorter",
           2.31901826074913
          ],
          [
           "CD24",
           "NM_001359084.1",
           "shorter",
           2.31901826074913
          ],
          [
           "CD24",
           "NM_013230.3",
           "shorter",
           2.31817549962224
          ],
          [
           "CD24",
           "NM_013230.3",
           "shorter",
           2.31817549962224
          ],
          [
           "CD24",
           "NM_001291737.1",
           "shorter",
           2.31801048264422
          ],
          [
           "CD24",
           "NM_001291737.1",
           "shorter",
           2.31801048264422
          ],
          [
           "CD24",
           "NM_001291738.1",
           "shorter",
           2.31868632712234
          ],
          [
           "CD24",
           "NM_001291738.1",
           "shorter",
           2.31868632712234
          ],
          [
           "CD24",
           "XM_024446293.1",
           "shorter",
           2.3180224884254
          ],
          [
           "CD24",
           "XM_024446293.1",
           "shorter",
           2.3180224884254
          ],
          [
           "CD24",
           "NM_001291739.1",
           "shorter",
           2.3203879781476
          ],
          [
           "CD24",
           "NM_001291739.1",
           "shorter",
           2.3203879781476
          ],
          [
           "CENPA",
           "NM_001809.4",
           "longer",
           3.58043178825211
          ],
          [
           "CSTA",
           "NM_005213.4",
           "shorter",
           2.29088335360245
          ],
          [
           "CXCL9",
           "NM_002416.3",
           "shorter",
           3.83052390607644
          ],
          [
           "DNAJC22",
           "XM_005269157.2",
           "longer",
           2.35205215905045
          ],
          [
           "DNAJC22",
           "XM_005269157.2",
           "longer",
           2.35205215905045
          ],
          [
           "FABP7",
           "NM_001446.5",
           "shorter",
           6.57910462895321
          ],
          [
           "FDCSP",
           "NM_152997.4",
           "longer",
           -4.38100550853899
          ],
          [
           "FXYD1",
           "NM_021902.4",
           "longer",
           -2.84075223454055
          ],
          [
           "FXYD1",
           "NM_001278718.2",
           "longer",
           -2.83410738603613
          ],
          [
           "FXYD1",
           "NM_005031.5",
           "longer",
           -2.84213872555986
          ],
          [
           "GCNT1",
           "NM_001097633.2",
           "shorter",
           2.05243392194704
          ],
          [
           "GCNT1",
           "NM_001097636.2",
           "shorter",
           2.06290901455643
          ],
          [
           "GINS2",
           "NM_016095.3",
           "shorter",
           2.88192767282148
          ],
          [
           "HOXC11",
           "NM_014212.4",
           "shorter",
           4.09307258139881
          ],
          [
           "IFIT1",
           "NM_001548.5",
           "shorter",
           2.37296952780183
          ],
          [
           "JPT1",
           "NM_016185.4",
           "shorter",
           3.22606582922276
          ],
          [
           "MEOX1",
           "XM_011524818.2",
           "longer",
           -2.4396575997484
          ],
          [
           "MIEN1",
           "NM_032339.5",
           "shorter",
           2.85251087396533
          ],
          [
           "MRPS23",
           "NM_016070.4",
           "shorter",
           2.20717043385371
          ],
          [
           "OAS1",
           "NM_002534.4",
           "longer",
           2.33405767551917
          ],
          [
           "OASL",
           "NM_198213.3",
           "shorter",
           3.18533239329518
          ],
          [
           "PLPP4",
           "XM_024447860.1",
           "shorter",
           3.82589770129111
          ],
          [
           "PLPP4",
           "NM_001318167.2",
           "shorter",
           3.75131006214057
          ],
          [
           "PRR15L",
           "NM_024320.4",
           "longer",
           2.89085068083988
          ],
          [
           "PRR15L",
           "NM_024320.4",
           "longer",
           2.89085068083988
          ],
          [
           "PRR15L",
           "XM_005257663.4",
           "longer",
           2.89097663848208
          ],
          [
           "PRR15L",
           "XM_005257666.4",
           "longer",
           2.88085024053587
          ],
          [
           "PRR15L",
           "XM_005257666.4",
           "longer",
           2.88085024053587
          ],
          [
           "PTGFR",
           "NM_000959.4",
           "shorter",
           -3.65871652717309
          ],
          [
           "RAB11FIP1",
           "NM_025151.5",
           "shorter",
           2.23439904032578
          ],
          [
           "RAB11FIP1",
           "NM_025151.5",
           "shorter",
           2.23439904032578
          ],
          [
           "RBP4",
           "NM_006744.4",
           "shorter",
           -2.97021943459694
          ],
          [
           "SBSPON",
           "NM_153225.4",
           "shorter",
           -2.16769556425773
          ],
          [
           "SERPINA1",
           "NM_001002235.3_2",
           "shorter",
           -2.10123221446945
          ],
          [
           "SERPINA1",
           "NM_000295.5_2",
           "shorter",
           -2.09690010198703
          ],
          [
           "SIX1",
           "NM_005982.4",
           "shorter",
           2.5408029447292
          ],
          [
           "SIX1",
           "NM_005982.4",
           "shorter",
           2.5408029447292
          ],
          [
           "SIX1",
           "XM_017021602.2",
           "shorter",
           2.56804616569289
          ],
          [
           "SMIM11",
           "NM_058182.5",
           "longer",
           -2.35165284829956
          ],
          [
           "SNCG",
           "XM_024448137.1",
           "longer",
           -2.06038729047459
          ],
          [
           "SNF8",
           "NM_001317192.2",
           "shorter",
           2.64912129546181
          ],
          [
           "UBE2S",
           "NM_014501.3",
           "shorter",
           2.38405075801096
          ],
          [
           "WFDC2",
           "NM_006103.4",
           "longer",
           -3.34626056576641
          ],
          [
           "ZWINT",
           "NM_007057.4",
           "shorter",
           2.90107709404852
          ]
         ],
         "hovertemplate": "type=luminal B<br>PC1=%{x}<br>PC2=%{y}<br>gene_id=%{customdata[0]}<br>transcript_id=%{customdata[1]}<br>UTR_type=%{customdata[2]}<br>log2FC=%{customdata[3]}<extra></extra>",
         "legendgroup": "luminal B",
         "marker": {
          "color": "#ab63fa",
          "size": 3,
          "symbol": "circle"
         },
         "mode": "markers",
         "name": "luminal B",
         "orientation": "v",
         "showlegend": true,
         "type": "scatter",
         "x": [
          -0.36651866844190434,
          -0.18547225619661306,
          -0.8302872214287236,
          -0.6946721649196334,
          -0.4876127757664659,
          -0.30679270042101214,
          -0.4538534498944203,
          -0.40864843105805687,
          -0.45365216737751507,
          -0.40844714854115166,
          -0.4536127552219134,
          -0.40840773638555,
          -0.45377417187160457,
          -0.40856915303524116,
          -0.45361562264635463,
          -0.4084106038099912,
          -0.4541805890523812,
          -0.40897557021601777,
          -0.10711169407910383,
          -0.13680133951099002,
          -0.4805657693135348,
          -0.053767871188470324,
          0.4694802218424363,
          -1.1444872986136405,
          1.7432922230790382,
          1.2174312519056505,
          1.2158442163996828,
          1.2177623972244471,
          -0.7685492609005733,
          -0.7710511003162265,
          -0.5512289147661967,
          -0.7778861480770268,
          -0.6934421766965653,
          -0.46684133608490436,
          1.4120772692801475,
          -0.3534379160687406,
          -1.1393451251963365,
          0.3379368882249456,
          -0.5576938524398025,
          -2.7614102114235757,
          -0.9222857165134456,
          -0.20460333867302338,
          0.021421755508793723,
          0.02071359688419974,
          -0.20221486377743816,
          0.02381023040437896,
          0.4784036286175686,
          -0.13800242820123101,
          -0.1153999187830493,
          1.1450593380897687,
          0.43420732442423515,
          0.604126046531524,
          0.6030913778974877,
          -0.5414056719882189,
          -0.42839312489731024,
          -0.25905229006642083,
          1.8168897582315993,
          1.0868794487251259,
          -0.39549702747036436,
          -0.4499474566180484,
          1.5867929353999148,
          -0.266264358928873
         ],
         "xaxis": "x",
         "y": [
          -0.23225364056603484,
          -0.05165990212041958,
          0.5330323880593303,
          0.66864744456842,
          0.4249719901577973,
          0.6057920655032502,
          -0.17475417154551842,
          -0.12954915270915518,
          -0.17495545406242366,
          -0.12975043522606042,
          -0.17499486621802535,
          -0.1297898473816621,
          -0.1748334495683342,
          -0.12962843073197095,
          -0.1749919987935841,
          -0.12978697995722085,
          -0.17442703238755755,
          -0.1292220135511943,
          0.7745319626777029,
          0.1288586266943197,
          0.5205403764634111,
          0.24111083974488964,
          0.7643589327757941,
          1.1695442495475197,
          -1.1780352970506283,
          -0.9681574075434187,
          -0.966570372037451,
          -0.9684885528622151,
          -0.6167903758600877,
          -0.6142885364444345,
          -0.0032424757821056384,
          0.3486326597054521,
          -0.3885717836720975,
          0.24553093436060008,
          -0.5819189328706466,
          0.18049688449934467,
          -0.9136726397774108,
          0.6242201031867413,
          0.13522111689368135,
          -1.7625138831457892,
          0.040982039778237396,
          0.34764538876980716,
          0.5736704829516234,
          0.5730224910111265,
          0.3452569138742219,
          0.5712820080560381,
          -2.097905262950597,
          0.10067645314092445,
          0.12327896255910607,
          -1.1023724298097175,
          -1.4298796988154485,
          -1.2282131660878308,
          -1.2271784974537945,
          -0.15636562827135564,
          -0.04335308118044757,
          0.1390011305355697,
          -0.13506886694501288,
          -0.7259492078370757,
          0.04128387036715134,
          -0.13978384862261783,
          -0.840263883837687,
          0.2908692596743849
         ],
         "yaxis": "y"
        }
       ],
       "layout": {
        "legend": {
         "title": {
          "text": "type"
         },
         "tracegroupgap": 0
        },
        "margin": {
         "t": 60
        },
        "template": {
         "data": {
          "bar": [
           {
            "error_x": {
             "color": "#2a3f5f"
            },
            "error_y": {
             "color": "#2a3f5f"
            },
            "marker": {
             "line": {
              "color": "#E5ECF6",
              "width": 0.5
             },
             "pattern": {
              "fillmode": "overlay",
              "size": 10,
              "solidity": 0.2
             }
            },
            "type": "bar"
           }
          ],
          "barpolar": [
           {
            "marker": {
             "line": {
              "color": "#E5ECF6",
              "width": 0.5
             },
             "pattern": {
              "fillmode": "overlay",
              "size": 10,
              "solidity": 0.2
             }
            },
            "type": "barpolar"
           }
          ],
          "carpet": [
           {
            "aaxis": {
             "endlinecolor": "#2a3f5f",
             "gridcolor": "white",
             "linecolor": "white",
             "minorgridcolor": "white",
             "startlinecolor": "#2a3f5f"
            },
            "baxis": {
             "endlinecolor": "#2a3f5f",
             "gridcolor": "white",
             "linecolor": "white",
             "minorgridcolor": "white",
             "startlinecolor": "#2a3f5f"
            },
            "type": "carpet"
           }
          ],
          "choropleth": [
           {
            "colorbar": {
             "outlinewidth": 0,
             "ticks": ""
            },
            "type": "choropleth"
           }
          ],
          "contour": [
           {
            "colorbar": {
             "outlinewidth": 0,
             "ticks": ""
            },
            "colorscale": [
             [
              0,
              "#0d0887"
             ],
             [
              0.1111111111111111,
              "#46039f"
             ],
             [
              0.2222222222222222,
              "#7201a8"
             ],
             [
              0.3333333333333333,
              "#9c179e"
             ],
             [
              0.4444444444444444,
              "#bd3786"
             ],
             [
              0.5555555555555556,
              "#d8576b"
             ],
             [
              0.6666666666666666,
              "#ed7953"
             ],
             [
              0.7777777777777778,
              "#fb9f3a"
             ],
             [
              0.8888888888888888,
              "#fdca26"
             ],
             [
              1,
              "#f0f921"
             ]
            ],
            "type": "contour"
           }
          ],
          "contourcarpet": [
           {
            "colorbar": {
             "outlinewidth": 0,
             "ticks": ""
            },
            "type": "contourcarpet"
           }
          ],
          "heatmap": [
           {
            "colorbar": {
             "outlinewidth": 0,
             "ticks": ""
            },
            "colorscale": [
             [
              0,
              "#0d0887"
             ],
             [
              0.1111111111111111,
              "#46039f"
             ],
             [
              0.2222222222222222,
              "#7201a8"
             ],
             [
              0.3333333333333333,
              "#9c179e"
             ],
             [
              0.4444444444444444,
              "#bd3786"
             ],
             [
              0.5555555555555556,
              "#d8576b"
             ],
             [
              0.6666666666666666,
              "#ed7953"
             ],
             [
              0.7777777777777778,
              "#fb9f3a"
             ],
             [
              0.8888888888888888,
              "#fdca26"
             ],
             [
              1,
              "#f0f921"
             ]
            ],
            "type": "heatmap"
           }
          ],
          "heatmapgl": [
           {
            "colorbar": {
             "outlinewidth": 0,
             "ticks": ""
            },
            "colorscale": [
             [
              0,
              "#0d0887"
             ],
             [
              0.1111111111111111,
              "#46039f"
             ],
             [
              0.2222222222222222,
              "#7201a8"
             ],
             [
              0.3333333333333333,
              "#9c179e"
             ],
             [
              0.4444444444444444,
              "#bd3786"
             ],
             [
              0.5555555555555556,
              "#d8576b"
             ],
             [
              0.6666666666666666,
              "#ed7953"
             ],
             [
              0.7777777777777778,
              "#fb9f3a"
             ],
             [
              0.8888888888888888,
              "#fdca26"
             ],
             [
              1,
              "#f0f921"
             ]
            ],
            "type": "heatmapgl"
           }
          ],
          "histogram": [
           {
            "marker": {
             "pattern": {
              "fillmode": "overlay",
              "size": 10,
              "solidity": 0.2
             }
            },
            "type": "histogram"
           }
          ],
          "histogram2d": [
           {
            "colorbar": {
             "outlinewidth": 0,
             "ticks": ""
            },
            "colorscale": [
             [
              0,
              "#0d0887"
             ],
             [
              0.1111111111111111,
              "#46039f"
             ],
             [
              0.2222222222222222,
              "#7201a8"
             ],
             [
              0.3333333333333333,
              "#9c179e"
             ],
             [
              0.4444444444444444,
              "#bd3786"
             ],
             [
              0.5555555555555556,
              "#d8576b"
             ],
             [
              0.6666666666666666,
              "#ed7953"
             ],
             [
              0.7777777777777778,
              "#fb9f3a"
             ],
             [
              0.8888888888888888,
              "#fdca26"
             ],
             [
              1,
              "#f0f921"
             ]
            ],
            "type": "histogram2d"
           }
          ],
          "histogram2dcontour": [
           {
            "colorbar": {
             "outlinewidth": 0,
             "ticks": ""
            },
            "colorscale": [
             [
              0,
              "#0d0887"
             ],
             [
              0.1111111111111111,
              "#46039f"
             ],
             [
              0.2222222222222222,
              "#7201a8"
             ],
             [
              0.3333333333333333,
              "#9c179e"
             ],
             [
              0.4444444444444444,
              "#bd3786"
             ],
             [
              0.5555555555555556,
              "#d8576b"
             ],
             [
              0.6666666666666666,
              "#ed7953"
             ],
             [
              0.7777777777777778,
              "#fb9f3a"
             ],
             [
              0.8888888888888888,
              "#fdca26"
             ],
             [
              1,
              "#f0f921"
             ]
            ],
            "type": "histogram2dcontour"
           }
          ],
          "mesh3d": [
           {
            "colorbar": {
             "outlinewidth": 0,
             "ticks": ""
            },
            "type": "mesh3d"
           }
          ],
          "parcoords": [
           {
            "line": {
             "colorbar": {
              "outlinewidth": 0,
              "ticks": ""
             }
            },
            "type": "parcoords"
           }
          ],
          "pie": [
           {
            "automargin": true,
            "type": "pie"
           }
          ],
          "scatter": [
           {
            "fillpattern": {
             "fillmode": "overlay",
             "size": 10,
             "solidity": 0.2
            },
            "type": "scatter"
           }
          ],
          "scatter3d": [
           {
            "line": {
             "colorbar": {
              "outlinewidth": 0,
              "ticks": ""
             }
            },
            "marker": {
             "colorbar": {
              "outlinewidth": 0,
              "ticks": ""
             }
            },
            "type": "scatter3d"
           }
          ],
          "scattercarpet": [
           {
            "marker": {
             "colorbar": {
              "outlinewidth": 0,
              "ticks": ""
             }
            },
            "type": "scattercarpet"
           }
          ],
          "scattergeo": [
           {
            "marker": {
             "colorbar": {
              "outlinewidth": 0,
              "ticks": ""
             }
            },
            "type": "scattergeo"
           }
          ],
          "scattergl": [
           {
            "marker": {
             "colorbar": {
              "outlinewidth": 0,
              "ticks": ""
             }
            },
            "type": "scattergl"
           }
          ],
          "scattermapbox": [
           {
            "marker": {
             "colorbar": {
              "outlinewidth": 0,
              "ticks": ""
             }
            },
            "type": "scattermapbox"
           }
          ],
          "scatterpolar": [
           {
            "marker": {
             "colorbar": {
              "outlinewidth": 0,
              "ticks": ""
             }
            },
            "type": "scatterpolar"
           }
          ],
          "scatterpolargl": [
           {
            "marker": {
             "colorbar": {
              "outlinewidth": 0,
              "ticks": ""
             }
            },
            "type": "scatterpolargl"
           }
          ],
          "scatterternary": [
           {
            "marker": {
             "colorbar": {
              "outlinewidth": 0,
              "ticks": ""
             }
            },
            "type": "scatterternary"
           }
          ],
          "surface": [
           {
            "colorbar": {
             "outlinewidth": 0,
             "ticks": ""
            },
            "colorscale": [
             [
              0,
              "#0d0887"
             ],
             [
              0.1111111111111111,
              "#46039f"
             ],
             [
              0.2222222222222222,
              "#7201a8"
             ],
             [
              0.3333333333333333,
              "#9c179e"
             ],
             [
              0.4444444444444444,
              "#bd3786"
             ],
             [
              0.5555555555555556,
              "#d8576b"
             ],
             [
              0.6666666666666666,
              "#ed7953"
             ],
             [
              0.7777777777777778,
              "#fb9f3a"
             ],
             [
              0.8888888888888888,
              "#fdca26"
             ],
             [
              1,
              "#f0f921"
             ]
            ],
            "type": "surface"
           }
          ],
          "table": [
           {
            "cells": {
             "fill": {
              "color": "#EBF0F8"
             },
             "line": {
              "color": "white"
             }
            },
            "header": {
             "fill": {
              "color": "#C8D4E3"
             },
             "line": {
              "color": "white"
             }
            },
            "type": "table"
           }
          ]
         },
         "layout": {
          "annotationdefaults": {
           "arrowcolor": "#2a3f5f",
           "arrowhead": 0,
           "arrowwidth": 1
          },
          "autotypenumbers": "strict",
          "coloraxis": {
           "colorbar": {
            "outlinewidth": 0,
            "ticks": ""
           }
          },
          "colorscale": {
           "diverging": [
            [
             0,
             "#8e0152"
            ],
            [
             0.1,
             "#c51b7d"
            ],
            [
             0.2,
             "#de77ae"
            ],
            [
             0.3,
             "#f1b6da"
            ],
            [
             0.4,
             "#fde0ef"
            ],
            [
             0.5,
             "#f7f7f7"
            ],
            [
             0.6,
             "#e6f5d0"
            ],
            [
             0.7,
             "#b8e186"
            ],
            [
             0.8,
             "#7fbc41"
            ],
            [
             0.9,
             "#4d9221"
            ],
            [
             1,
             "#276419"
            ]
           ],
           "sequential": [
            [
             0,
             "#0d0887"
            ],
            [
             0.1111111111111111,
             "#46039f"
            ],
            [
             0.2222222222222222,
             "#7201a8"
            ],
            [
             0.3333333333333333,
             "#9c179e"
            ],
            [
             0.4444444444444444,
             "#bd3786"
            ],
            [
             0.5555555555555556,
             "#d8576b"
            ],
            [
             0.6666666666666666,
             "#ed7953"
            ],
            [
             0.7777777777777778,
             "#fb9f3a"
            ],
            [
             0.8888888888888888,
             "#fdca26"
            ],
            [
             1,
             "#f0f921"
            ]
           ],
           "sequentialminus": [
            [
             0,
             "#0d0887"
            ],
            [
             0.1111111111111111,
             "#46039f"
            ],
            [
             0.2222222222222222,
             "#7201a8"
            ],
            [
             0.3333333333333333,
             "#9c179e"
            ],
            [
             0.4444444444444444,
             "#bd3786"
            ],
            [
             0.5555555555555556,
             "#d8576b"
            ],
            [
             0.6666666666666666,
             "#ed7953"
            ],
            [
             0.7777777777777778,
             "#fb9f3a"
            ],
            [
             0.8888888888888888,
             "#fdca26"
            ],
            [
             1,
             "#f0f921"
            ]
           ]
          },
          "colorway": [
           "#636efa",
           "#EF553B",
           "#00cc96",
           "#ab63fa",
           "#FFA15A",
           "#19d3f3",
           "#FF6692",
           "#B6E880",
           "#FF97FF",
           "#FECB52"
          ],
          "font": {
           "color": "#2a3f5f"
          },
          "geo": {
           "bgcolor": "white",
           "lakecolor": "white",
           "landcolor": "#E5ECF6",
           "showlakes": true,
           "showland": true,
           "subunitcolor": "white"
          },
          "hoverlabel": {
           "align": "left"
          },
          "hovermode": "closest",
          "mapbox": {
           "style": "light"
          },
          "paper_bgcolor": "white",
          "plot_bgcolor": "#E5ECF6",
          "polar": {
           "angularaxis": {
            "gridcolor": "white",
            "linecolor": "white",
            "ticks": ""
           },
           "bgcolor": "#E5ECF6",
           "radialaxis": {
            "gridcolor": "white",
            "linecolor": "white",
            "ticks": ""
           }
          },
          "scene": {
           "xaxis": {
            "backgroundcolor": "#E5ECF6",
            "gridcolor": "white",
            "gridwidth": 2,
            "linecolor": "white",
            "showbackground": true,
            "ticks": "",
            "zerolinecolor": "white"
           },
           "yaxis": {
            "backgroundcolor": "#E5ECF6",
            "gridcolor": "white",
            "gridwidth": 2,
            "linecolor": "white",
            "showbackground": true,
            "ticks": "",
            "zerolinecolor": "white"
           },
           "zaxis": {
            "backgroundcolor": "#E5ECF6",
            "gridcolor": "white",
            "gridwidth": 2,
            "linecolor": "white",
            "showbackground": true,
            "ticks": "",
            "zerolinecolor": "white"
           }
          },
          "shapedefaults": {
           "line": {
            "color": "#2a3f5f"
           }
          },
          "ternary": {
           "aaxis": {
            "gridcolor": "white",
            "linecolor": "white",
            "ticks": ""
           },
           "baxis": {
            "gridcolor": "white",
            "linecolor": "white",
            "ticks": ""
           },
           "bgcolor": "#E5ECF6",
           "caxis": {
            "gridcolor": "white",
            "linecolor": "white",
            "ticks": ""
           }
          },
          "title": {
           "x": 0.05
          },
          "xaxis": {
           "automargin": true,
           "gridcolor": "white",
           "linecolor": "white",
           "ticks": "",
           "title": {
            "standoff": 15
           },
           "zerolinecolor": "white",
           "zerolinewidth": 2
          },
          "yaxis": {
           "automargin": true,
           "gridcolor": "white",
           "linecolor": "white",
           "ticks": "",
           "title": {
            "standoff": 15
           },
           "zerolinecolor": "white",
           "zerolinewidth": 2
          }
         }
        },
        "xaxis": {
         "anchor": "y",
         "domain": [
          0,
          1
         ],
         "title": {
          "text": "PC1"
         }
        },
        "yaxis": {
         "anchor": "x",
         "domain": [
          0,
          1
         ],
         "title": {
          "text": "PC2"
         }
        }
       }
      }
     },
     "metadata": {},
     "output_type": "display_data"
    }
   ],
   "source": [
    "# show plot\n",
    "plt.show()\n",
    "fig = px.scatter(scores_df, x='PC1', y = 'PC2', color='type', hover_data=('gene_id', 'transcript_id', 'UTR_type', 'log2FC'))\n",
    "fig.update_traces(marker=dict(size=3, symbol='circle'))  # Adjust the size value as desired\n",
    "fig.show()"
   ]
  },
  {
   "cell_type": "code",
   "execution_count": 45,
   "metadata": {},
   "outputs": [],
   "source": [
    "# dictionary to map chromosome names to their corresponding adjustment values\n",
    "chromosome_map = {\n",
    "    \"chr1\": 1,\n",
    "    \"chr2\": 2,\n",
    "    \"chr3\": 3,\n",
    "    \"chr4\": 4,\n",
    "    \"chr5\": 5,\n",
    "    \"chr6\": 6,\n",
    "    \"chr7\": 7,\n",
    "    \"chr8\": 8,\n",
    "    \"chr9\": 9,\n",
    "    \"chr10\": 10,\n",
    "    \"chr11\": 11,\n",
    "    \"chr12\": 12,\n",
    "    \"chr13\": 13,\n",
    "    \"chr14\": 14,\n",
    "    \"chr15\": 15,\n",
    "    \"chr16\": 16,\n",
    "    \"chr17\": 17,\n",
    "    \"chr18\": 18,\n",
    "    \"chr19\": 19,\n",
    "    \"chr20\": 20,\n",
    "    \"chr21\": 21,\n",
    "    \"chr22\": 22,\n",
    "    \"chrX\": 23,\n",
    "    \"chrY\": 24\n",
    "    }\n"
   ]
  },
  {
   "cell_type": "code",
   "execution_count": null,
   "metadata": {},
   "outputs": [],
   "source": [
    "# Create a function to retrieve the subtype from dictionary\n",
    "def get_chr(Chromosome):\n",
    "    return chromosome_map.get(Chromosome)\n",
    "\n",
    "# Apply the function to the \"filename\" column and assign the result to a new column\n",
    "df['Chr_num'] = df['Chromosome'].apply(get_chr)\n",
    "\n",
    "# Print the updated DataFrame\n",
    "df.head()"
   ]
  },
  {
   "cell_type": "code",
   "execution_count": null,
   "metadata": {},
   "outputs": [],
   "source": [
    "strand_map = {\n",
    "    '-' : -1,\n",
    "    '+' : 1\n",
    "}"
   ]
  },
  {
   "cell_type": "code",
   "execution_count": null,
   "metadata": {},
   "outputs": [
    {
     "data": {
      "text/html": [
       "<div>\n",
       "<style scoped>\n",
       "    .dataframe tbody tr th:only-of-type {\n",
       "        vertical-align: middle;\n",
       "    }\n",
       "\n",
       "    .dataframe tbody tr th {\n",
       "        vertical-align: top;\n",
       "    }\n",
       "\n",
       "    .dataframe thead th {\n",
       "        text-align: right;\n",
       "    }\n",
       "</style>\n",
       "<table border=\"1\" class=\"dataframe\">\n",
       "  <thead>\n",
       "    <tr style=\"text-align: right;\">\n",
       "      <th></th>\n",
       "      <th>Chromosome</th>\n",
       "      <th>ExonStart</th>\n",
       "      <th>UTREnd</th>\n",
       "      <th>Strand</th>\n",
       "      <th>Covrage</th>\n",
       "      <th>RefID</th>\n",
       "      <th>RefGeneID</th>\n",
       "      <th>RefUTRStart</th>\n",
       "      <th>RefUTREnd</th>\n",
       "      <th>RefUTRLength</th>\n",
       "      <th>UTRLength</th>\n",
       "      <th>UTRDiff</th>\n",
       "      <th>UTRType</th>\n",
       "      <th>filename</th>\n",
       "      <th>molecularSubtype</th>\n",
       "      <th>Chr_num</th>\n",
       "      <th>Strand_num</th>\n",
       "    </tr>\n",
       "  </thead>\n",
       "  <tbody>\n",
       "    <tr>\n",
       "      <th>0</th>\n",
       "      <td>chr1</td>\n",
       "      <td>151292133</td>\n",
       "      <td>151293033</td>\n",
       "      <td>-</td>\n",
       "      <td>43.966122</td>\n",
       "      <td>NM_001198773.3</td>\n",
       "      <td>PI4KB</td>\n",
       "      <td>151291803</td>\n",
       "      <td>151292851</td>\n",
       "      <td>1048</td>\n",
       "      <td>718</td>\n",
       "      <td>330</td>\n",
       "      <td>shorter</td>\n",
       "      <td>SRR11463564_filtered.csv</td>\n",
       "      <td>triple negative</td>\n",
       "      <td>1</td>\n",
       "      <td>-1</td>\n",
       "    </tr>\n",
       "    <tr>\n",
       "      <th>1</th>\n",
       "      <td>chr1</td>\n",
       "      <td>205718179</td>\n",
       "      <td>205718479</td>\n",
       "      <td>-</td>\n",
       "      <td>54.560490</td>\n",
       "      <td>XM_005245453.1</td>\n",
       "      <td>NUCKS1</td>\n",
       "      <td>205713192</td>\n",
       "      <td>205718279</td>\n",
       "      <td>5087</td>\n",
       "      <td>100</td>\n",
       "      <td>4987</td>\n",
       "      <td>shorter</td>\n",
       "      <td>SRR11463564_filtered.csv</td>\n",
       "      <td>triple negative</td>\n",
       "      <td>1</td>\n",
       "      <td>-1</td>\n",
       "    </tr>\n",
       "    <tr>\n",
       "      <th>2</th>\n",
       "      <td>chr1</td>\n",
       "      <td>202012850</td>\n",
       "      <td>202016050</td>\n",
       "      <td>+</td>\n",
       "      <td>34.236881</td>\n",
       "      <td>XM_005244942.3</td>\n",
       "      <td>ELF3</td>\n",
       "      <td>202012900</td>\n",
       "      <td>202013036</td>\n",
       "      <td>136</td>\n",
       "      <td>3150</td>\n",
       "      <td>3014</td>\n",
       "      <td>longer</td>\n",
       "      <td>SRR11463564_filtered.csv</td>\n",
       "      <td>triple negative</td>\n",
       "      <td>1</td>\n",
       "      <td>1</td>\n",
       "    </tr>\n",
       "    <tr>\n",
       "      <th>3</th>\n",
       "      <td>chr1</td>\n",
       "      <td>150308047</td>\n",
       "      <td>150308447</td>\n",
       "      <td>+</td>\n",
       "      <td>107.424507</td>\n",
       "      <td>NM_031901.6</td>\n",
       "      <td>MRPS21</td>\n",
       "      <td>150308228</td>\n",
       "      <td>150308979</td>\n",
       "      <td>751</td>\n",
       "      <td>219</td>\n",
       "      <td>532</td>\n",
       "      <td>shorter</td>\n",
       "      <td>SRR11463564_filtered.csv</td>\n",
       "      <td>triple negative</td>\n",
       "      <td>1</td>\n",
       "      <td>1</td>\n",
       "    </tr>\n",
       "    <tr>\n",
       "      <th>4</th>\n",
       "      <td>chr1</td>\n",
       "      <td>150308047</td>\n",
       "      <td>150308447</td>\n",
       "      <td>+</td>\n",
       "      <td>81.565842</td>\n",
       "      <td>NM_018997.3</td>\n",
       "      <td>MRPS21</td>\n",
       "      <td>150308228</td>\n",
       "      <td>150308979</td>\n",
       "      <td>751</td>\n",
       "      <td>219</td>\n",
       "      <td>532</td>\n",
       "      <td>shorter</td>\n",
       "      <td>SRR11463564_filtered.csv</td>\n",
       "      <td>triple negative</td>\n",
       "      <td>1</td>\n",
       "      <td>1</td>\n",
       "    </tr>\n",
       "  </tbody>\n",
       "</table>\n",
       "</div>"
      ],
      "text/plain": [
       "  Chromosome  ExonStart     UTREnd Strand     Covrage           RefID   \n",
       "0       chr1  151292133  151293033      -   43.966122  NM_001198773.3  \\\n",
       "1       chr1  205718179  205718479      -   54.560490  XM_005245453.1   \n",
       "2       chr1  202012850  202016050      +   34.236881  XM_005244942.3   \n",
       "3       chr1  150308047  150308447      +  107.424507     NM_031901.6   \n",
       "4       chr1  150308047  150308447      +   81.565842     NM_018997.3   \n",
       "\n",
       "  RefGeneID  RefUTRStart  RefUTREnd  RefUTRLength  UTRLength  UTRDiff   \n",
       "0     PI4KB    151291803  151292851          1048        718      330  \\\n",
       "1    NUCKS1    205713192  205718279          5087        100     4987   \n",
       "2      ELF3    202012900  202013036           136       3150     3014   \n",
       "3    MRPS21    150308228  150308979           751        219      532   \n",
       "4    MRPS21    150308228  150308979           751        219      532   \n",
       "\n",
       "   UTRType                  filename molecularSubtype  Chr_num  Strand_num  \n",
       "0  shorter  SRR11463564_filtered.csv  triple negative        1          -1  \n",
       "1  shorter  SRR11463564_filtered.csv  triple negative        1          -1  \n",
       "2   longer  SRR11463564_filtered.csv  triple negative        1           1  \n",
       "3  shorter  SRR11463564_filtered.csv  triple negative        1           1  \n",
       "4  shorter  SRR11463564_filtered.csv  triple negative        1           1  "
      ]
     },
     "execution_count": 9,
     "metadata": {},
     "output_type": "execute_result"
    }
   ],
   "source": [
    "# Create a function to retrieve the subtype from dictionary\n",
    "def get_str(Strand):\n",
    "    return strand_map.get(Strand)\n",
    "\n",
    "# Apply the function to the \"filename\" column and assign the result to a new column\n",
    "df['Strand_num'] = df['Strand'].apply(get_str)\n",
    "\n",
    "# Print the updated DataFrame\n",
    "df.head()"
   ]
  },
  {
   "cell_type": "code",
   "execution_count": null,
   "metadata": {},
   "outputs": [
    {
     "data": {
      "text/html": [
       "<div>\n",
       "<style scoped>\n",
       "    .dataframe tbody tr th:only-of-type {\n",
       "        vertical-align: middle;\n",
       "    }\n",
       "\n",
       "    .dataframe tbody tr th {\n",
       "        vertical-align: top;\n",
       "    }\n",
       "\n",
       "    .dataframe thead th {\n",
       "        text-align: right;\n",
       "    }\n",
       "</style>\n",
       "<table border=\"1\" class=\"dataframe\">\n",
       "  <thead>\n",
       "    <tr style=\"text-align: right;\">\n",
       "      <th></th>\n",
       "      <th>Chr_num</th>\n",
       "      <th>ExonStart</th>\n",
       "      <th>UTREnd</th>\n",
       "      <th>Strand_num</th>\n",
       "      <th>UTRtype_num</th>\n",
       "      <th>UTRLength</th>\n",
       "      <th>UTRDiff</th>\n",
       "    </tr>\n",
       "  </thead>\n",
       "  <tbody>\n",
       "    <tr>\n",
       "      <th>0</th>\n",
       "      <td>1</td>\n",
       "      <td>151292133</td>\n",
       "      <td>151293033</td>\n",
       "      <td>-1</td>\n",
       "      <td>0</td>\n",
       "      <td>718</td>\n",
       "      <td>330</td>\n",
       "    </tr>\n",
       "    <tr>\n",
       "      <th>1</th>\n",
       "      <td>1</td>\n",
       "      <td>205718179</td>\n",
       "      <td>205718479</td>\n",
       "      <td>-1</td>\n",
       "      <td>0</td>\n",
       "      <td>100</td>\n",
       "      <td>4987</td>\n",
       "    </tr>\n",
       "    <tr>\n",
       "      <th>2</th>\n",
       "      <td>1</td>\n",
       "      <td>202012850</td>\n",
       "      <td>202016050</td>\n",
       "      <td>1</td>\n",
       "      <td>1</td>\n",
       "      <td>3150</td>\n",
       "      <td>3014</td>\n",
       "    </tr>\n",
       "    <tr>\n",
       "      <th>3</th>\n",
       "      <td>1</td>\n",
       "      <td>150308047</td>\n",
       "      <td>150308447</td>\n",
       "      <td>1</td>\n",
       "      <td>0</td>\n",
       "      <td>219</td>\n",
       "      <td>532</td>\n",
       "    </tr>\n",
       "    <tr>\n",
       "      <th>4</th>\n",
       "      <td>1</td>\n",
       "      <td>150308047</td>\n",
       "      <td>150308447</td>\n",
       "      <td>1</td>\n",
       "      <td>0</td>\n",
       "      <td>219</td>\n",
       "      <td>532</td>\n",
       "    </tr>\n",
       "    <tr>\n",
       "      <th>...</th>\n",
       "      <td>...</td>\n",
       "      <td>...</td>\n",
       "      <td>...</td>\n",
       "      <td>...</td>\n",
       "      <td>...</td>\n",
       "      <td>...</td>\n",
       "      <td>...</td>\n",
       "    </tr>\n",
       "    <tr>\n",
       "      <th>36186</th>\n",
       "      <td>23</td>\n",
       "      <td>53533111</td>\n",
       "      <td>53533411</td>\n",
       "      <td>-1</td>\n",
       "      <td>0</td>\n",
       "      <td>197</td>\n",
       "      <td>322</td>\n",
       "    </tr>\n",
       "    <tr>\n",
       "      <th>36187</th>\n",
       "      <td>23</td>\n",
       "      <td>153929923</td>\n",
       "      <td>153930223</td>\n",
       "      <td>-1</td>\n",
       "      <td>0</td>\n",
       "      <td>63</td>\n",
       "      <td>699</td>\n",
       "    </tr>\n",
       "    <tr>\n",
       "      <th>36188</th>\n",
       "      <td>23</td>\n",
       "      <td>53533111</td>\n",
       "      <td>53533411</td>\n",
       "      <td>-1</td>\n",
       "      <td>0</td>\n",
       "      <td>197</td>\n",
       "      <td>322</td>\n",
       "    </tr>\n",
       "    <tr>\n",
       "      <th>36189</th>\n",
       "      <td>23</td>\n",
       "      <td>100629686</td>\n",
       "      <td>100629986</td>\n",
       "      <td>-1</td>\n",
       "      <td>1</td>\n",
       "      <td>1111</td>\n",
       "      <td>1072</td>\n",
       "    </tr>\n",
       "    <tr>\n",
       "      <th>36190</th>\n",
       "      <td>23</td>\n",
       "      <td>120431062</td>\n",
       "      <td>120431462</td>\n",
       "      <td>-1</td>\n",
       "      <td>0</td>\n",
       "      <td>260</td>\n",
       "      <td>4915</td>\n",
       "    </tr>\n",
       "  </tbody>\n",
       "</table>\n",
       "<p>36191 rows × 7 columns</p>\n",
       "</div>"
      ],
      "text/plain": [
       "       Chr_num  ExonStart     UTREnd  Strand_num  UTRtype_num  UTRLength   \n",
       "0            1  151292133  151293033          -1            0        718  \\\n",
       "1            1  205718179  205718479          -1            0        100   \n",
       "2            1  202012850  202016050           1            1       3150   \n",
       "3            1  150308047  150308447           1            0        219   \n",
       "4            1  150308047  150308447           1            0        219   \n",
       "...        ...        ...        ...         ...          ...        ...   \n",
       "36186       23   53533111   53533411          -1            0        197   \n",
       "36187       23  153929923  153930223          -1            0         63   \n",
       "36188       23   53533111   53533411          -1            0        197   \n",
       "36189       23  100629686  100629986          -1            1       1111   \n",
       "36190       23  120431062  120431462          -1            0        260   \n",
       "\n",
       "       UTRDiff  \n",
       "0          330  \n",
       "1         4987  \n",
       "2         3014  \n",
       "3          532  \n",
       "4          532  \n",
       "...        ...  \n",
       "36186      322  \n",
       "36187      699  \n",
       "36188      322  \n",
       "36189     1072  \n",
       "36190     4915  \n",
       "\n",
       "[36191 rows x 7 columns]"
      ]
     },
     "execution_count": 14,
     "metadata": {},
     "output_type": "execute_result"
    }
   ],
   "source": [
    "subset_data = df[['Chr_num', 'ExonStart', 'UTREnd', 'Strand_num', 'UTRtype_num', 'UTRLength', 'UTRDiff']]\n",
    "subset_data"
   ]
  },
  {
   "cell_type": "code",
   "execution_count": null,
   "metadata": {},
   "outputs": [
    {
     "ename": "NameError",
     "evalue": "name 'scale' is not defined",
     "output_type": "error",
     "traceback": [
      "\u001b[1;31m---------------------------------------------------------------------------\u001b[0m",
      "\u001b[1;31mNameError\u001b[0m                                 Traceback (most recent call last)",
      "Cell \u001b[1;32mIn[15], line 1\u001b[0m\n\u001b[1;32m----> 1\u001b[0m X \u001b[39m=\u001b[39m scale(subset_data)\n",
      "\u001b[1;31mNameError\u001b[0m: name 'scale' is not defined"
     ]
    }
   ],
   "source": [
    "X = scale(subset_data)"
   ]
  },
  {
   "cell_type": "code",
   "execution_count": null,
   "metadata": {},
   "outputs": [
    {
     "data": {
      "text/html": [
       "<style>#sk-container-id-2 {color: black;background-color: white;}#sk-container-id-2 pre{padding: 0;}#sk-container-id-2 div.sk-toggleable {background-color: white;}#sk-container-id-2 label.sk-toggleable__label {cursor: pointer;display: block;width: 100%;margin-bottom: 0;padding: 0.3em;box-sizing: border-box;text-align: center;}#sk-container-id-2 label.sk-toggleable__label-arrow:before {content: \"▸\";float: left;margin-right: 0.25em;color: #696969;}#sk-container-id-2 label.sk-toggleable__label-arrow:hover:before {color: black;}#sk-container-id-2 div.sk-estimator:hover label.sk-toggleable__label-arrow:before {color: black;}#sk-container-id-2 div.sk-toggleable__content {max-height: 0;max-width: 0;overflow: hidden;text-align: left;background-color: #f0f8ff;}#sk-container-id-2 div.sk-toggleable__content pre {margin: 0.2em;color: black;border-radius: 0.25em;background-color: #f0f8ff;}#sk-container-id-2 input.sk-toggleable__control:checked~div.sk-toggleable__content {max-height: 200px;max-width: 100%;overflow: auto;}#sk-container-id-2 input.sk-toggleable__control:checked~label.sk-toggleable__label-arrow:before {content: \"▾\";}#sk-container-id-2 div.sk-estimator input.sk-toggleable__control:checked~label.sk-toggleable__label {background-color: #d4ebff;}#sk-container-id-2 div.sk-label input.sk-toggleable__control:checked~label.sk-toggleable__label {background-color: #d4ebff;}#sk-container-id-2 input.sk-hidden--visually {border: 0;clip: rect(1px 1px 1px 1px);clip: rect(1px, 1px, 1px, 1px);height: 1px;margin: -1px;overflow: hidden;padding: 0;position: absolute;width: 1px;}#sk-container-id-2 div.sk-estimator {font-family: monospace;background-color: #f0f8ff;border: 1px dotted black;border-radius: 0.25em;box-sizing: border-box;margin-bottom: 0.5em;}#sk-container-id-2 div.sk-estimator:hover {background-color: #d4ebff;}#sk-container-id-2 div.sk-parallel-item::after {content: \"\";width: 100%;border-bottom: 1px solid gray;flex-grow: 1;}#sk-container-id-2 div.sk-label:hover label.sk-toggleable__label {background-color: #d4ebff;}#sk-container-id-2 div.sk-serial::before {content: \"\";position: absolute;border-left: 1px solid gray;box-sizing: border-box;top: 0;bottom: 0;left: 50%;z-index: 0;}#sk-container-id-2 div.sk-serial {display: flex;flex-direction: column;align-items: center;background-color: white;padding-right: 0.2em;padding-left: 0.2em;position: relative;}#sk-container-id-2 div.sk-item {position: relative;z-index: 1;}#sk-container-id-2 div.sk-parallel {display: flex;align-items: stretch;justify-content: center;background-color: white;position: relative;}#sk-container-id-2 div.sk-item::before, #sk-container-id-2 div.sk-parallel-item::before {content: \"\";position: absolute;border-left: 1px solid gray;box-sizing: border-box;top: 0;bottom: 0;left: 50%;z-index: -1;}#sk-container-id-2 div.sk-parallel-item {display: flex;flex-direction: column;z-index: 1;position: relative;background-color: white;}#sk-container-id-2 div.sk-parallel-item:first-child::after {align-self: flex-end;width: 50%;}#sk-container-id-2 div.sk-parallel-item:last-child::after {align-self: flex-start;width: 50%;}#sk-container-id-2 div.sk-parallel-item:only-child::after {width: 0;}#sk-container-id-2 div.sk-dashed-wrapped {border: 1px dashed gray;margin: 0 0.4em 0.5em 0.4em;box-sizing: border-box;padding-bottom: 0.4em;background-color: white;}#sk-container-id-2 div.sk-label label {font-family: monospace;font-weight: bold;display: inline-block;line-height: 1.2em;}#sk-container-id-2 div.sk-label-container {text-align: center;}#sk-container-id-2 div.sk-container {/* jupyter's `normalize.less` sets `[hidden] { display: none; }` but bootstrap.min.css set `[hidden] { display: none !important; }` so we also need the `!important` here to be able to override the default hidden behavior on the sphinx rendered scikit-learn.org. See: https://github.com/scikit-learn/scikit-learn/issues/21755 */display: inline-block !important;position: relative;}#sk-container-id-2 div.sk-text-repr-fallback {display: none;}</style><div id=\"sk-container-id-2\" class=\"sk-top-container\"><div class=\"sk-text-repr-fallback\"><pre>PCA(n_components=3)</pre><b>In a Jupyter environment, please rerun this cell to show the HTML representation or trust the notebook. <br />On GitHub, the HTML representation is unable to render, please try loading this page with nbviewer.org.</b></div><div class=\"sk-container\" hidden><div class=\"sk-item\"><div class=\"sk-estimator sk-toggleable\"><input class=\"sk-toggleable__control sk-hidden--visually\" id=\"sk-estimator-id-2\" type=\"checkbox\" checked><label for=\"sk-estimator-id-2\" class=\"sk-toggleable__label sk-toggleable__label-arrow\">PCA</label><div class=\"sk-toggleable__content\"><pre>PCA(n_components=3)</pre></div></div></div></div></div>"
      ],
      "text/plain": [
       "PCA(n_components=3)"
      ]
     },
     "execution_count": 136,
     "metadata": {},
     "output_type": "execute_result"
    }
   ],
   "source": [
    "pca = decomposition.PCA(n_components=3)\n",
    "pca.fit(X)"
   ]
  },
  {
   "cell_type": "code",
   "execution_count": null,
   "metadata": {},
   "outputs": [],
   "source": [
    "scores = pca.transform(X)"
   ]
  },
  {
   "cell_type": "code",
   "execution_count": null,
   "metadata": {},
   "outputs": [
    {
     "data": {
      "text/html": [
       "<div>\n",
       "<style scoped>\n",
       "    .dataframe tbody tr th:only-of-type {\n",
       "        vertical-align: middle;\n",
       "    }\n",
       "\n",
       "    .dataframe tbody tr th {\n",
       "        vertical-align: top;\n",
       "    }\n",
       "\n",
       "    .dataframe thead th {\n",
       "        text-align: right;\n",
       "    }\n",
       "</style>\n",
       "<table border=\"1\" class=\"dataframe\">\n",
       "  <thead>\n",
       "    <tr style=\"text-align: right;\">\n",
       "      <th></th>\n",
       "      <th>PC1</th>\n",
       "      <th>PC2</th>\n",
       "      <th>PC3</th>\n",
       "    </tr>\n",
       "  </thead>\n",
       "  <tbody>\n",
       "    <tr>\n",
       "      <th>0</th>\n",
       "      <td>2.288745</td>\n",
       "      <td>-0.833833</td>\n",
       "      <td>0.903618</td>\n",
       "    </tr>\n",
       "    <tr>\n",
       "      <th>1</th>\n",
       "      <td>3.664330</td>\n",
       "      <td>-0.143984</td>\n",
       "      <td>0.948306</td>\n",
       "    </tr>\n",
       "    <tr>\n",
       "      <th>2</th>\n",
       "      <td>3.647446</td>\n",
       "      <td>1.611781</td>\n",
       "      <td>-1.387567</td>\n",
       "    </tr>\n",
       "    <tr>\n",
       "      <th>3</th>\n",
       "      <td>2.223974</td>\n",
       "      <td>-0.831060</td>\n",
       "      <td>-1.072879</td>\n",
       "    </tr>\n",
       "    <tr>\n",
       "      <th>4</th>\n",
       "      <td>2.223974</td>\n",
       "      <td>-0.831060</td>\n",
       "      <td>-1.072879</td>\n",
       "    </tr>\n",
       "    <tr>\n",
       "      <th>...</th>\n",
       "      <td>...</td>\n",
       "      <td>...</td>\n",
       "      <td>...</td>\n",
       "    </tr>\n",
       "    <tr>\n",
       "      <th>36186</th>\n",
       "      <td>-1.423509</td>\n",
       "      <td>-0.502850</td>\n",
       "      <td>0.844903</td>\n",
       "    </tr>\n",
       "    <tr>\n",
       "      <th>36187</th>\n",
       "      <td>0.912168</td>\n",
       "      <td>-0.699292</td>\n",
       "      <td>0.710869</td>\n",
       "    </tr>\n",
       "    <tr>\n",
       "      <th>36188</th>\n",
       "      <td>-1.423509</td>\n",
       "      <td>-0.502850</td>\n",
       "      <td>0.844903</td>\n",
       "    </tr>\n",
       "    <tr>\n",
       "      <th>36189</th>\n",
       "      <td>-0.222621</td>\n",
       "      <td>1.037559</td>\n",
       "      <td>0.449747</td>\n",
       "    </tr>\n",
       "    <tr>\n",
       "      <th>36190</th>\n",
       "      <td>0.261941</td>\n",
       "      <td>0.328031</td>\n",
       "      <td>0.882710</td>\n",
       "    </tr>\n",
       "  </tbody>\n",
       "</table>\n",
       "<p>36191 rows × 3 columns</p>\n",
       "</div>"
      ],
      "text/plain": [
       "            PC1       PC2       PC3\n",
       "0      2.288745 -0.833833  0.903618\n",
       "1      3.664330 -0.143984  0.948306\n",
       "2      3.647446  1.611781 -1.387567\n",
       "3      2.223974 -0.831060 -1.072879\n",
       "4      2.223974 -0.831060 -1.072879\n",
       "...         ...       ...       ...\n",
       "36186 -1.423509 -0.502850  0.844903\n",
       "36187  0.912168 -0.699292  0.710869\n",
       "36188 -1.423509 -0.502850  0.844903\n",
       "36189 -0.222621  1.037559  0.449747\n",
       "36190  0.261941  0.328031  0.882710\n",
       "\n",
       "[36191 rows x 3 columns]"
      ]
     },
     "execution_count": 138,
     "metadata": {},
     "output_type": "execute_result"
    }
   ],
   "source": [
    "scores_df = pd.DataFrame(scores, columns=['PC1', 'PC2', 'PC3'])\n",
    "scores_df"
   ]
  },
  {
   "cell_type": "code",
   "execution_count": null,
   "metadata": {},
   "outputs": [
    {
     "data": {
      "text/html": [
       "<div>\n",
       "<style scoped>\n",
       "    .dataframe tbody tr th:only-of-type {\n",
       "        vertical-align: middle;\n",
       "    }\n",
       "\n",
       "    .dataframe tbody tr th {\n",
       "        vertical-align: top;\n",
       "    }\n",
       "\n",
       "    .dataframe thead th {\n",
       "        text-align: right;\n",
       "    }\n",
       "</style>\n",
       "<table border=\"1\" class=\"dataframe\">\n",
       "  <thead>\n",
       "    <tr style=\"text-align: right;\">\n",
       "      <th></th>\n",
       "      <th>PC1</th>\n",
       "      <th>PC2</th>\n",
       "      <th>PC3</th>\n",
       "    </tr>\n",
       "  </thead>\n",
       "  <tbody>\n",
       "    <tr>\n",
       "      <th>Chr_num</th>\n",
       "      <td>-0.430531</td>\n",
       "      <td>0.072417</td>\n",
       "      <td>-0.056552</td>\n",
       "    </tr>\n",
       "    <tr>\n",
       "      <th>ExonStart</th>\n",
       "      <td>0.632570</td>\n",
       "      <td>-0.065201</td>\n",
       "      <td>-0.038656</td>\n",
       "    </tr>\n",
       "    <tr>\n",
       "      <th>UTREnd</th>\n",
       "      <td>0.632570</td>\n",
       "      <td>-0.065198</td>\n",
       "      <td>-0.038656</td>\n",
       "    </tr>\n",
       "    <tr>\n",
       "      <th>Strand_num</th>\n",
       "      <td>-0.015661</td>\n",
       "      <td>0.046327</td>\n",
       "      <td>-0.986402</td>\n",
       "    </tr>\n",
       "    <tr>\n",
       "      <th>UTRType_binominal</th>\n",
       "      <td>0.016661</td>\n",
       "      <td>0.365626</td>\n",
       "      <td>-0.107595</td>\n",
       "    </tr>\n",
       "    <tr>\n",
       "      <th>UTRLength</th>\n",
       "      <td>0.082293</td>\n",
       "      <td>0.679774</td>\n",
       "      <td>0.046570</td>\n",
       "    </tr>\n",
       "    <tr>\n",
       "      <th>UTRDiff</th>\n",
       "      <td>0.084018</td>\n",
       "      <td>0.623164</td>\n",
       "      <td>0.084142</td>\n",
       "    </tr>\n",
       "  </tbody>\n",
       "</table>\n",
       "</div>"
      ],
      "text/plain": [
       "                        PC1       PC2       PC3\n",
       "Chr_num           -0.430531  0.072417 -0.056552\n",
       "ExonStart          0.632570 -0.065201 -0.038656\n",
       "UTREnd             0.632570 -0.065198 -0.038656\n",
       "Strand_num        -0.015661  0.046327 -0.986402\n",
       "UTRType_binominal  0.016661  0.365626 -0.107595\n",
       "UTRLength          0.082293  0.679774  0.046570\n",
       "UTRDiff            0.084018  0.623164  0.084142"
      ]
     },
     "execution_count": 141,
     "metadata": {},
     "output_type": "execute_result"
    }
   ],
   "source": [
    "loadings = pca.components_.T\n",
    "df_loadings = pd.DataFrame(loadings, columns=['PC1', 'PC2', 'PC3'], index=subset_data.columns)\n",
    "df_loadings"
   ]
  },
  {
   "cell_type": "code",
   "execution_count": null,
   "metadata": {},
   "outputs": [
    {
     "data": {
      "text/plain": [
       "array([0.33061548, 0.25109969, 0.14312195])"
      ]
     },
     "execution_count": 142,
     "metadata": {},
     "output_type": "execute_result"
    }
   ],
   "source": [
    "explained_variance = pca.explained_variance_ratio_\n",
    "explained_variance"
   ]
  },
  {
   "cell_type": "code",
   "execution_count": null,
   "metadata": {},
   "outputs": [],
   "source": [
    "explained_variance = np.insert(explained_variance, 0, 0)"
   ]
  },
  {
   "cell_type": "code",
   "execution_count": null,
   "metadata": {},
   "outputs": [],
   "source": [
    "cumulative_variance = np.cumsum(np.round(explained_variance, decimals=3))"
   ]
  },
  {
   "cell_type": "code",
   "execution_count": null,
   "metadata": {},
   "outputs": [],
   "source": [
    "pc_df = pd.DataFrame(['', 'PC1', 'PC2', 'PC3'], columns=['PC'])\n",
    "explained_variance_df = pd.DataFrame(explained_variance, columns=['Explained Variance'])\n",
    "cumulative_variance_df = pd.DataFrame(cumulative_variance, columns=['Cumulative Variance'])"
   ]
  },
  {
   "cell_type": "code",
   "execution_count": null,
   "metadata": {},
   "outputs": [
    {
     "data": {
      "text/html": [
       "<div>\n",
       "<style scoped>\n",
       "    .dataframe tbody tr th:only-of-type {\n",
       "        vertical-align: middle;\n",
       "    }\n",
       "\n",
       "    .dataframe tbody tr th {\n",
       "        vertical-align: top;\n",
       "    }\n",
       "\n",
       "    .dataframe thead th {\n",
       "        text-align: right;\n",
       "    }\n",
       "</style>\n",
       "<table border=\"1\" class=\"dataframe\">\n",
       "  <thead>\n",
       "    <tr style=\"text-align: right;\">\n",
       "      <th></th>\n",
       "      <th>PC</th>\n",
       "      <th>Explained Variance</th>\n",
       "      <th>Cumulative Variance</th>\n",
       "    </tr>\n",
       "  </thead>\n",
       "  <tbody>\n",
       "    <tr>\n",
       "      <th>0</th>\n",
       "      <td></td>\n",
       "      <td>0.000000</td>\n",
       "      <td>0.000</td>\n",
       "    </tr>\n",
       "    <tr>\n",
       "      <th>1</th>\n",
       "      <td>PC1</td>\n",
       "      <td>0.330615</td>\n",
       "      <td>0.331</td>\n",
       "    </tr>\n",
       "    <tr>\n",
       "      <th>2</th>\n",
       "      <td>PC2</td>\n",
       "      <td>0.251100</td>\n",
       "      <td>0.582</td>\n",
       "    </tr>\n",
       "    <tr>\n",
       "      <th>3</th>\n",
       "      <td>PC3</td>\n",
       "      <td>0.143122</td>\n",
       "      <td>0.725</td>\n",
       "    </tr>\n",
       "  </tbody>\n",
       "</table>\n",
       "</div>"
      ],
      "text/plain": [
       "    PC  Explained Variance  Cumulative Variance\n",
       "0                 0.000000                0.000\n",
       "1  PC1            0.330615                0.331\n",
       "2  PC2            0.251100                0.582\n",
       "3  PC3            0.143122                0.725"
      ]
     },
     "execution_count": 146,
     "metadata": {},
     "output_type": "execute_result"
    }
   ],
   "source": [
    "df_explained_variance = pd.concat([pc_df, explained_variance_df, cumulative_variance_df], axis=1)\n",
    "df_explained_variance"
   ]
  },
  {
   "cell_type": "code",
   "execution_count": null,
   "metadata": {},
   "outputs": [],
   "source": [
    "\n",
    "import plotly.express as px"
   ]
  },
  {
   "cell_type": "code",
   "execution_count": null,
   "metadata": {},
   "outputs": [
    {
     "data": {
      "application/vnd.plotly.v1+json": {
       "config": {
        "plotlyServerURL": "https://plot.ly"
       },
       "data": [
        {
         "alignmentgroup": "True",
         "hovertemplate": "PC=%{x}<br>Explained Variance=%{y}<extra></extra>",
         "legendgroup": "",
         "marker": {
          "color": "#636efa",
          "pattern": {
           "shape": ""
          }
         },
         "name": "",
         "offsetgroup": "",
         "orientation": "v",
         "showlegend": false,
         "textposition": "auto",
         "type": "bar",
         "x": [
          "",
          "PC1",
          "PC2",
          "PC3"
         ],
         "xaxis": "x",
         "y": [
          0,
          0.3049583750320941,
          0.2544348714177788,
          0.24287677732898
         ],
         "yaxis": "y"
        }
       ],
       "layout": {
        "barmode": "relative",
        "legend": {
         "tracegroupgap": 0
        },
        "margin": {
         "t": 60
        },
        "template": {
         "data": {
          "bar": [
           {
            "error_x": {
             "color": "#2a3f5f"
            },
            "error_y": {
             "color": "#2a3f5f"
            },
            "marker": {
             "line": {
              "color": "#E5ECF6",
              "width": 0.5
             },
             "pattern": {
              "fillmode": "overlay",
              "size": 10,
              "solidity": 0.2
             }
            },
            "type": "bar"
           }
          ],
          "barpolar": [
           {
            "marker": {
             "line": {
              "color": "#E5ECF6",
              "width": 0.5
             },
             "pattern": {
              "fillmode": "overlay",
              "size": 10,
              "solidity": 0.2
             }
            },
            "type": "barpolar"
           }
          ],
          "carpet": [
           {
            "aaxis": {
             "endlinecolor": "#2a3f5f",
             "gridcolor": "white",
             "linecolor": "white",
             "minorgridcolor": "white",
             "startlinecolor": "#2a3f5f"
            },
            "baxis": {
             "endlinecolor": "#2a3f5f",
             "gridcolor": "white",
             "linecolor": "white",
             "minorgridcolor": "white",
             "startlinecolor": "#2a3f5f"
            },
            "type": "carpet"
           }
          ],
          "choropleth": [
           {
            "colorbar": {
             "outlinewidth": 0,
             "ticks": ""
            },
            "type": "choropleth"
           }
          ],
          "contour": [
           {
            "colorbar": {
             "outlinewidth": 0,
             "ticks": ""
            },
            "colorscale": [
             [
              0,
              "#0d0887"
             ],
             [
              0.1111111111111111,
              "#46039f"
             ],
             [
              0.2222222222222222,
              "#7201a8"
             ],
             [
              0.3333333333333333,
              "#9c179e"
             ],
             [
              0.4444444444444444,
              "#bd3786"
             ],
             [
              0.5555555555555556,
              "#d8576b"
             ],
             [
              0.6666666666666666,
              "#ed7953"
             ],
             [
              0.7777777777777778,
              "#fb9f3a"
             ],
             [
              0.8888888888888888,
              "#fdca26"
             ],
             [
              1,
              "#f0f921"
             ]
            ],
            "type": "contour"
           }
          ],
          "contourcarpet": [
           {
            "colorbar": {
             "outlinewidth": 0,
             "ticks": ""
            },
            "type": "contourcarpet"
           }
          ],
          "heatmap": [
           {
            "colorbar": {
             "outlinewidth": 0,
             "ticks": ""
            },
            "colorscale": [
             [
              0,
              "#0d0887"
             ],
             [
              0.1111111111111111,
              "#46039f"
             ],
             [
              0.2222222222222222,
              "#7201a8"
             ],
             [
              0.3333333333333333,
              "#9c179e"
             ],
             [
              0.4444444444444444,
              "#bd3786"
             ],
             [
              0.5555555555555556,
              "#d8576b"
             ],
             [
              0.6666666666666666,
              "#ed7953"
             ],
             [
              0.7777777777777778,
              "#fb9f3a"
             ],
             [
              0.8888888888888888,
              "#fdca26"
             ],
             [
              1,
              "#f0f921"
             ]
            ],
            "type": "heatmap"
           }
          ],
          "heatmapgl": [
           {
            "colorbar": {
             "outlinewidth": 0,
             "ticks": ""
            },
            "colorscale": [
             [
              0,
              "#0d0887"
             ],
             [
              0.1111111111111111,
              "#46039f"
             ],
             [
              0.2222222222222222,
              "#7201a8"
             ],
             [
              0.3333333333333333,
              "#9c179e"
             ],
             [
              0.4444444444444444,
              "#bd3786"
             ],
             [
              0.5555555555555556,
              "#d8576b"
             ],
             [
              0.6666666666666666,
              "#ed7953"
             ],
             [
              0.7777777777777778,
              "#fb9f3a"
             ],
             [
              0.8888888888888888,
              "#fdca26"
             ],
             [
              1,
              "#f0f921"
             ]
            ],
            "type": "heatmapgl"
           }
          ],
          "histogram": [
           {
            "marker": {
             "pattern": {
              "fillmode": "overlay",
              "size": 10,
              "solidity": 0.2
             }
            },
            "type": "histogram"
           }
          ],
          "histogram2d": [
           {
            "colorbar": {
             "outlinewidth": 0,
             "ticks": ""
            },
            "colorscale": [
             [
              0,
              "#0d0887"
             ],
             [
              0.1111111111111111,
              "#46039f"
             ],
             [
              0.2222222222222222,
              "#7201a8"
             ],
             [
              0.3333333333333333,
              "#9c179e"
             ],
             [
              0.4444444444444444,
              "#bd3786"
             ],
             [
              0.5555555555555556,
              "#d8576b"
             ],
             [
              0.6666666666666666,
              "#ed7953"
             ],
             [
              0.7777777777777778,
              "#fb9f3a"
             ],
             [
              0.8888888888888888,
              "#fdca26"
             ],
             [
              1,
              "#f0f921"
             ]
            ],
            "type": "histogram2d"
           }
          ],
          "histogram2dcontour": [
           {
            "colorbar": {
             "outlinewidth": 0,
             "ticks": ""
            },
            "colorscale": [
             [
              0,
              "#0d0887"
             ],
             [
              0.1111111111111111,
              "#46039f"
             ],
             [
              0.2222222222222222,
              "#7201a8"
             ],
             [
              0.3333333333333333,
              "#9c179e"
             ],
             [
              0.4444444444444444,
              "#bd3786"
             ],
             [
              0.5555555555555556,
              "#d8576b"
             ],
             [
              0.6666666666666666,
              "#ed7953"
             ],
             [
              0.7777777777777778,
              "#fb9f3a"
             ],
             [
              0.8888888888888888,
              "#fdca26"
             ],
             [
              1,
              "#f0f921"
             ]
            ],
            "type": "histogram2dcontour"
           }
          ],
          "mesh3d": [
           {
            "colorbar": {
             "outlinewidth": 0,
             "ticks": ""
            },
            "type": "mesh3d"
           }
          ],
          "parcoords": [
           {
            "line": {
             "colorbar": {
              "outlinewidth": 0,
              "ticks": ""
             }
            },
            "type": "parcoords"
           }
          ],
          "pie": [
           {
            "automargin": true,
            "type": "pie"
           }
          ],
          "scatter": [
           {
            "fillpattern": {
             "fillmode": "overlay",
             "size": 10,
             "solidity": 0.2
            },
            "type": "scatter"
           }
          ],
          "scatter3d": [
           {
            "line": {
             "colorbar": {
              "outlinewidth": 0,
              "ticks": ""
             }
            },
            "marker": {
             "colorbar": {
              "outlinewidth": 0,
              "ticks": ""
             }
            },
            "type": "scatter3d"
           }
          ],
          "scattercarpet": [
           {
            "marker": {
             "colorbar": {
              "outlinewidth": 0,
              "ticks": ""
             }
            },
            "type": "scattercarpet"
           }
          ],
          "scattergeo": [
           {
            "marker": {
             "colorbar": {
              "outlinewidth": 0,
              "ticks": ""
             }
            },
            "type": "scattergeo"
           }
          ],
          "scattergl": [
           {
            "marker": {
             "colorbar": {
              "outlinewidth": 0,
              "ticks": ""
             }
            },
            "type": "scattergl"
           }
          ],
          "scattermapbox": [
           {
            "marker": {
             "colorbar": {
              "outlinewidth": 0,
              "ticks": ""
             }
            },
            "type": "scattermapbox"
           }
          ],
          "scatterpolar": [
           {
            "marker": {
             "colorbar": {
              "outlinewidth": 0,
              "ticks": ""
             }
            },
            "type": "scatterpolar"
           }
          ],
          "scatterpolargl": [
           {
            "marker": {
             "colorbar": {
              "outlinewidth": 0,
              "ticks": ""
             }
            },
            "type": "scatterpolargl"
           }
          ],
          "scatterternary": [
           {
            "marker": {
             "colorbar": {
              "outlinewidth": 0,
              "ticks": ""
             }
            },
            "type": "scatterternary"
           }
          ],
          "surface": [
           {
            "colorbar": {
             "outlinewidth": 0,
             "ticks": ""
            },
            "colorscale": [
             [
              0,
              "#0d0887"
             ],
             [
              0.1111111111111111,
              "#46039f"
             ],
             [
              0.2222222222222222,
              "#7201a8"
             ],
             [
              0.3333333333333333,
              "#9c179e"
             ],
             [
              0.4444444444444444,
              "#bd3786"
             ],
             [
              0.5555555555555556,
              "#d8576b"
             ],
             [
              0.6666666666666666,
              "#ed7953"
             ],
             [
              0.7777777777777778,
              "#fb9f3a"
             ],
             [
              0.8888888888888888,
              "#fdca26"
             ],
             [
              1,
              "#f0f921"
             ]
            ],
            "type": "surface"
           }
          ],
          "table": [
           {
            "cells": {
             "fill": {
              "color": "#EBF0F8"
             },
             "line": {
              "color": "white"
             }
            },
            "header": {
             "fill": {
              "color": "#C8D4E3"
             },
             "line": {
              "color": "white"
             }
            },
            "type": "table"
           }
          ]
         },
         "layout": {
          "annotationdefaults": {
           "arrowcolor": "#2a3f5f",
           "arrowhead": 0,
           "arrowwidth": 1
          },
          "autotypenumbers": "strict",
          "coloraxis": {
           "colorbar": {
            "outlinewidth": 0,
            "ticks": ""
           }
          },
          "colorscale": {
           "diverging": [
            [
             0,
             "#8e0152"
            ],
            [
             0.1,
             "#c51b7d"
            ],
            [
             0.2,
             "#de77ae"
            ],
            [
             0.3,
             "#f1b6da"
            ],
            [
             0.4,
             "#fde0ef"
            ],
            [
             0.5,
             "#f7f7f7"
            ],
            [
             0.6,
             "#e6f5d0"
            ],
            [
             0.7,
             "#b8e186"
            ],
            [
             0.8,
             "#7fbc41"
            ],
            [
             0.9,
             "#4d9221"
            ],
            [
             1,
             "#276419"
            ]
           ],
           "sequential": [
            [
             0,
             "#0d0887"
            ],
            [
             0.1111111111111111,
             "#46039f"
            ],
            [
             0.2222222222222222,
             "#7201a8"
            ],
            [
             0.3333333333333333,
             "#9c179e"
            ],
            [
             0.4444444444444444,
             "#bd3786"
            ],
            [
             0.5555555555555556,
             "#d8576b"
            ],
            [
             0.6666666666666666,
             "#ed7953"
            ],
            [
             0.7777777777777778,
             "#fb9f3a"
            ],
            [
             0.8888888888888888,
             "#fdca26"
            ],
            [
             1,
             "#f0f921"
            ]
           ],
           "sequentialminus": [
            [
             0,
             "#0d0887"
            ],
            [
             0.1111111111111111,
             "#46039f"
            ],
            [
             0.2222222222222222,
             "#7201a8"
            ],
            [
             0.3333333333333333,
             "#9c179e"
            ],
            [
             0.4444444444444444,
             "#bd3786"
            ],
            [
             0.5555555555555556,
             "#d8576b"
            ],
            [
             0.6666666666666666,
             "#ed7953"
            ],
            [
             0.7777777777777778,
             "#fb9f3a"
            ],
            [
             0.8888888888888888,
             "#fdca26"
            ],
            [
             1,
             "#f0f921"
            ]
           ]
          },
          "colorway": [
           "#636efa",
           "#EF553B",
           "#00cc96",
           "#ab63fa",
           "#FFA15A",
           "#19d3f3",
           "#FF6692",
           "#B6E880",
           "#FF97FF",
           "#FECB52"
          ],
          "font": {
           "color": "#2a3f5f"
          },
          "geo": {
           "bgcolor": "white",
           "lakecolor": "white",
           "landcolor": "#E5ECF6",
           "showlakes": true,
           "showland": true,
           "subunitcolor": "white"
          },
          "hoverlabel": {
           "align": "left"
          },
          "hovermode": "closest",
          "mapbox": {
           "style": "light"
          },
          "paper_bgcolor": "white",
          "plot_bgcolor": "#E5ECF6",
          "polar": {
           "angularaxis": {
            "gridcolor": "white",
            "linecolor": "white",
            "ticks": ""
           },
           "bgcolor": "#E5ECF6",
           "radialaxis": {
            "gridcolor": "white",
            "linecolor": "white",
            "ticks": ""
           }
          },
          "scene": {
           "xaxis": {
            "backgroundcolor": "#E5ECF6",
            "gridcolor": "white",
            "gridwidth": 2,
            "linecolor": "white",
            "showbackground": true,
            "ticks": "",
            "zerolinecolor": "white"
           },
           "yaxis": {
            "backgroundcolor": "#E5ECF6",
            "gridcolor": "white",
            "gridwidth": 2,
            "linecolor": "white",
            "showbackground": true,
            "ticks": "",
            "zerolinecolor": "white"
           },
           "zaxis": {
            "backgroundcolor": "#E5ECF6",
            "gridcolor": "white",
            "gridwidth": 2,
            "linecolor": "white",
            "showbackground": true,
            "ticks": "",
            "zerolinecolor": "white"
           }
          },
          "shapedefaults": {
           "line": {
            "color": "#2a3f5f"
           }
          },
          "ternary": {
           "aaxis": {
            "gridcolor": "white",
            "linecolor": "white",
            "ticks": ""
           },
           "baxis": {
            "gridcolor": "white",
            "linecolor": "white",
            "ticks": ""
           },
           "bgcolor": "#E5ECF6",
           "caxis": {
            "gridcolor": "white",
            "linecolor": "white",
            "ticks": ""
           }
          },
          "title": {
           "x": 0.05
          },
          "xaxis": {
           "automargin": true,
           "gridcolor": "white",
           "linecolor": "white",
           "ticks": "",
           "title": {
            "standoff": 15
           },
           "zerolinecolor": "white",
           "zerolinewidth": 2
          },
          "yaxis": {
           "automargin": true,
           "gridcolor": "white",
           "linecolor": "white",
           "ticks": "",
           "title": {
            "standoff": 15
           },
           "zerolinecolor": "white",
           "zerolinewidth": 2
          }
         }
        },
        "xaxis": {
         "anchor": "y",
         "domain": [
          0,
          1
         ],
         "title": {
          "text": "PC"
         }
        },
        "yaxis": {
         "anchor": "x",
         "domain": [
          0,
          1
         ],
         "title": {
          "text": "Explained Variance"
         }
        }
       }
      }
     },
     "metadata": {},
     "output_type": "display_data"
    }
   ],
   "source": [
    "fig = px.bar(df_explained_variance,\n",
    "             x='PC', y='Explained Variance')\n",
    "fig.show()\n",
    "# fig=plt.bar(data=df_explained_variance,\n",
    "#             x='PC', height='Explained Variance')\n",
    "            \n",
    "# fig"
   ]
  },
  {
   "attachments": {},
   "cell_type": "markdown",
   "metadata": {},
   "source": [
    "K-means"
   ]
  },
  {
   "cell_type": "code",
   "execution_count": 201,
   "metadata": {},
   "outputs": [],
   "source": [
    "df = pd.read_csv('pca_concat.csv')"
   ]
  },
  {
   "cell_type": "code",
   "execution_count": 202,
   "metadata": {},
   "outputs": [],
   "source": [
    "df = df[df['UTR_type']!='no change']"
   ]
  },
  {
   "cell_type": "code",
   "execution_count": 210,
   "metadata": {},
   "outputs": [],
   "source": [
    "df =df[abs(df['log2FoldChange'])>2]"
   ]
  },
  {
   "cell_type": "code",
   "execution_count": 137,
   "metadata": {},
   "outputs": [
    {
     "name": "stdout",
     "output_type": "stream",
     "text": [
      "     UTR_diff  log2FoldChange\n",
      "0        -140       -2.979559\n",
      "1        -115        1.534540\n",
      "2       -1715        1.534540\n",
      "3       -1559       -2.024827\n",
      "4        -659       -2.024827\n",
      "..        ...             ...\n",
      "937      1075        1.560591\n",
      "938      -411        0.904830\n",
      "939      4423        0.764746\n",
      "940      2161        0.764746\n",
      "941      -159        2.901077\n",
      "\n",
      "[942 rows x 2 columns]\n"
     ]
    }
   ],
   "source": [
    "data = df.loc[:, [\"UTR_diff\",\"log2FoldChange\"]]\n",
    "print(data)\n",
    "x = df['UTR_diff']\n",
    "y = df['log2FoldChange']\n",
    "# meta = df.loc[:, [\"molecularSubtype\", \"filename\", \"reference_id\" , \"ref_gene_id\", \"UTR_type\"]]\n",
    "# print(meta)"
   ]
  },
  {
   "cell_type": "code",
   "execution_count": 138,
   "metadata": {},
   "outputs": [
    {
     "name": "stderr",
     "output_type": "stream",
     "text": [
      "C:\\Users\\natdzi3\\AppData\\Local\\Packages\\PythonSoftwareFoundation.Python.3.11_qbz5n2kfra8p0\\LocalCache\\local-packages\\Python311\\site-packages\\sklearn\\cluster\\_kmeans.py:870: FutureWarning:\n",
      "\n",
      "The default value of `n_init` will change from 10 to 'auto' in 1.4. Set the value of `n_init` explicitly to suppress the warning\n",
      "\n",
      "C:\\Users\\natdzi3\\AppData\\Local\\Packages\\PythonSoftwareFoundation.Python.3.11_qbz5n2kfra8p0\\LocalCache\\local-packages\\Python311\\site-packages\\sklearn\\cluster\\_kmeans.py:870: FutureWarning:\n",
      "\n",
      "The default value of `n_init` will change from 10 to 'auto' in 1.4. Set the value of `n_init` explicitly to suppress the warning\n",
      "\n",
      "C:\\Users\\natdzi3\\AppData\\Local\\Packages\\PythonSoftwareFoundation.Python.3.11_qbz5n2kfra8p0\\LocalCache\\local-packages\\Python311\\site-packages\\sklearn\\cluster\\_kmeans.py:870: FutureWarning:\n",
      "\n",
      "The default value of `n_init` will change from 10 to 'auto' in 1.4. Set the value of `n_init` explicitly to suppress the warning\n",
      "\n",
      "C:\\Users\\natdzi3\\AppData\\Local\\Packages\\PythonSoftwareFoundation.Python.3.11_qbz5n2kfra8p0\\LocalCache\\local-packages\\Python311\\site-packages\\sklearn\\cluster\\_kmeans.py:870: FutureWarning:\n",
      "\n",
      "The default value of `n_init` will change from 10 to 'auto' in 1.4. Set the value of `n_init` explicitly to suppress the warning\n",
      "\n",
      "C:\\Users\\natdzi3\\AppData\\Local\\Packages\\PythonSoftwareFoundation.Python.3.11_qbz5n2kfra8p0\\LocalCache\\local-packages\\Python311\\site-packages\\sklearn\\cluster\\_kmeans.py:870: FutureWarning:\n",
      "\n",
      "The default value of `n_init` will change from 10 to 'auto' in 1.4. Set the value of `n_init` explicitly to suppress the warning\n",
      "\n",
      "C:\\Users\\natdzi3\\AppData\\Local\\Packages\\PythonSoftwareFoundation.Python.3.11_qbz5n2kfra8p0\\LocalCache\\local-packages\\Python311\\site-packages\\sklearn\\cluster\\_kmeans.py:870: FutureWarning:\n",
      "\n",
      "The default value of `n_init` will change from 10 to 'auto' in 1.4. Set the value of `n_init` explicitly to suppress the warning\n",
      "\n",
      "C:\\Users\\natdzi3\\AppData\\Local\\Packages\\PythonSoftwareFoundation.Python.3.11_qbz5n2kfra8p0\\LocalCache\\local-packages\\Python311\\site-packages\\sklearn\\cluster\\_kmeans.py:870: FutureWarning:\n",
      "\n",
      "The default value of `n_init` will change from 10 to 'auto' in 1.4. Set the value of `n_init` explicitly to suppress the warning\n",
      "\n",
      "C:\\Users\\natdzi3\\AppData\\Local\\Packages\\PythonSoftwareFoundation.Python.3.11_qbz5n2kfra8p0\\LocalCache\\local-packages\\Python311\\site-packages\\sklearn\\cluster\\_kmeans.py:870: FutureWarning:\n",
      "\n",
      "The default value of `n_init` will change from 10 to 'auto' in 1.4. Set the value of `n_init` explicitly to suppress the warning\n",
      "\n",
      "C:\\Users\\natdzi3\\AppData\\Local\\Packages\\PythonSoftwareFoundation.Python.3.11_qbz5n2kfra8p0\\LocalCache\\local-packages\\Python311\\site-packages\\sklearn\\cluster\\_kmeans.py:870: FutureWarning:\n",
      "\n",
      "The default value of `n_init` will change from 10 to 'auto' in 1.4. Set the value of `n_init` explicitly to suppress the warning\n",
      "\n",
      "C:\\Users\\natdzi3\\AppData\\Local\\Packages\\PythonSoftwareFoundation.Python.3.11_qbz5n2kfra8p0\\LocalCache\\local-packages\\Python311\\site-packages\\sklearn\\cluster\\_kmeans.py:870: FutureWarning:\n",
      "\n",
      "The default value of `n_init` will change from 10 to 'auto' in 1.4. Set the value of `n_init` explicitly to suppress the warning\n",
      "\n"
     ]
    },
    {
     "data": {
      "image/png": "[encoded data removed]",
      "text/plain": [
       "<Figure size 640x480 with 1 Axes>"
      ]
     },
     "metadata": {},
     "output_type": "display_data"
    }
   ],
   "source": [
    "from sklearn.cluster import KMeans\n",
    "\n",
    "\n",
    "inertias = []\n",
    "\n",
    "for i in range(1,11):\n",
    "    kmeans = KMeans(n_clusters=i)\n",
    "    kmeans.fit(data)\n",
    "    inertias.append(kmeans.inertia_)\n",
    "\n",
    "plt.plot(range(1,11), inertias, marker='o')\n",
    "plt.title('Elbow method')\n",
    "plt.xlabel('Number of clusters')\n",
    "plt.ylabel('Inertia')\n",
    "plt.show() "
   ]
  },
  {
   "cell_type": "code",
   "execution_count": 139,
   "metadata": {},
   "outputs": [
    {
     "name": "stderr",
     "output_type": "stream",
     "text": [
      "C:\\Users\\natdzi3\\AppData\\Local\\Packages\\PythonSoftwareFoundation.Python.3.11_qbz5n2kfra8p0\\LocalCache\\local-packages\\Python311\\site-packages\\sklearn\\cluster\\_kmeans.py:870: FutureWarning:\n",
      "\n",
      "The default value of `n_init` will change from 10 to 'auto' in 1.4. Set the value of `n_init` explicitly to suppress the warning\n",
      "\n"
     ]
    },
    {
     "data": {
      "image/png": "[encoded data removed]",
      "text/plain": [
       "<Figure size 640x480 with 1 Axes>"
      ]
     },
     "metadata": {},
     "output_type": "display_data"
    }
   ],
   "source": [
    "kmeans = KMeans(n_clusters=4)\n",
    "kmeans.fit(data)\n",
    "\n",
    "plt.scatter(x, y, c=kmeans.labels_)\n",
    "plt.show() "
   ]
  },
  {
   "cell_type": "code",
   "execution_count": 140,
   "metadata": {},
   "outputs": [
    {
     "data": {
      "image/png": "[encoded data removed]",
      "text/plain": [
       "<Figure size 640x480 with 1 Axes>"
      ]
     },
     "metadata": {},
     "output_type": "display_data"
    }
   ],
   "source": [
    "import numpy as np\n",
    "import matplotlib.pyplot as plt\n",
    "from scipy.cluster.hierarchy import dendrogram, linkage\n",
    "\n",
    "linkage_data = linkage(data, method='ward', metric='euclidean')\n",
    "dendrogram(linkage_data)\n",
    "\n",
    "plt.show() "
   ]
  }
 ],
 "metadata": {
  "kernelspec": {
   "display_name": "Python 3",
   "language": "python",
   "name": "python3"
  },
  "language_info": {
   "codemirror_mode": {
    "name": "ipython",
    "version": 3
   },
   "file_extension": ".py",
   "mimetype": "text/x-python",
   "name": "python",
   "nbconvert_exporter": "python",
   "pygments_lexer": "ipython3",
   "version": "3.11.4"
  },
  "orig_nbformat": 4
 },
 "nbformat": 4,
 "nbformat_minor": 2
}
