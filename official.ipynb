{
 "cells": [
  {
   "cell_type": "code",
   "execution_count": 72,
   "metadata": {},
   "outputs": [],
   "source": [
    "# Import packages\n",
    "import pandas as pd\n",
    "import numpy as np\n",
    "import os\n",
    "import numpy as np\n",
    "from scipy import stats\n",
    "from sklearn.preprocessing import RobustScaler\n",
    "# Improt packages\n",
    "import plotly.express as px\n",
    "import plotly.graph_objects as go\n",
    "import seaborn as sns\n",
    "import matplotlib.pyplot as plt\n",
    "import seaborn.objects as so"
   ]
  },
  {
   "cell_type": "code",
   "execution_count": null,
   "metadata": {},
   "outputs": [],
   "source": [
    "df = pd.read_csv('merged.csv', sep=';')\n",
    "df"
   ]
  },
  {
   "cell_type": "code",
   "execution_count": null,
   "metadata": {},
   "outputs": [],
   "source": [
    "df.to_csv('merged_UTR.csv', index = False)"
   ]
  },
  {
   "cell_type": "code",
   "execution_count": null,
   "metadata": {},
   "outputs": [],
   "source": [
    "df = df[df['molecularSubtype']!='normal']\n",
    "df = df[df['transcript_length']>200]"
   ]
  },
  {
   "cell_type": "code",
   "execution_count": null,
   "metadata": {},
   "outputs": [],
   "source": [
    "df2 = pd.read_csv('UTR_start_stop_id')"
   ]
  },
  {
   "cell_type": "code",
   "execution_count": null,
   "metadata": {},
   "outputs": [],
   "source": [
    "df = pd.merge(df, df2, on='reference_id')"
   ]
  },
  {
   "cell_type": "code",
   "execution_count": null,
   "metadata": {},
   "outputs": [],
   "source": [
    "# Add the column \"utr_length\"\n",
    "df['UTR_length'] = np.where(df['strand'] == '+', df['end'] - df['Start_UTRref'], df['End_UTRref'] - df['start'] + 1)"
   ]
  },
  {
   "cell_type": "code",
   "execution_count": null,
   "metadata": {},
   "outputs": [],
   "source": [
    "# Add column with UTR length from ncbi reference\n",
    "df['ref_UTR_length'] = df['End_UTRref'] - df['Start_UTRref']\n",
    "\n",
    "# Add column with difference between UTR and reference\n",
    "df['UTR_diff'] = df['UTR_length'] - df['ref_UTR_length']"
   ]
  },
  {
   "cell_type": "code",
   "execution_count": null,
   "metadata": {},
   "outputs": [],
   "source": [
    "# Logarithmic transformation\n",
    "df['UTR_length (ln)'] = np.log(df['UTR_length'])"
   ]
  },
  {
   "cell_type": "code",
   "execution_count": null,
   "metadata": {},
   "outputs": [],
   "source": [
    "df = df[df['UTR_length']>0]"
   ]
  },
  {
   "cell_type": "code",
   "execution_count": null,
   "metadata": {},
   "outputs": [],
   "source": [
    "conditions = [\n",
    "    df['UTR_diff'] < 0,   # Values lower than -1\n",
    "    df['UTR_diff'].isin([0]),   # Values -1 or 0\n",
    "    df['UTR_diff'] > 0   # Values greater than 0\n",
    "]\n",
    "\n",
    "choices = ['shorter', 'no change', 'longer']\n",
    "\n",
    "df['UTR_type'] = np.select(conditions, choices, default='unknown')"
   ]
  },
  {
   "cell_type": "code",
   "execution_count": null,
   "metadata": {},
   "outputs": [],
   "source": [
    "df = df.sort_values('molecularSubtype')\n",
    "# plt.figure(figsize=())\n",
    "g = sns.displot(df, x=\"UTR_length (ln)\", col='filename', hue = 'molecularSubtype', col_wrap=4, palette='Set2')\n",
    "# g = plt.title(\"Rozkład długości 3'UTR (log) dla podtypów nowotworu piersi\")\n",
    "g = sns.set_theme()\n",
    "g = sns.set_context(\"paper\")\n",
    "\n",
    "\n",
    "\n",
    "# Set plot title and labels\n",
    "\n",
    "plt.savefig(\"distribution_sample.png\")\n"
   ]
  },
  {
   "cell_type": "code",
   "execution_count": null,
   "metadata": {},
   "outputs": [],
   "source": [
    "# df2 = df.drop('filename', axis=1)\n",
    "df2 = df.drop('FPKM', axis=1)\n",
    "df2 = df2.drop('TPM', axis=1)\n",
    "df2 = df2.drop('cov', axis=1)"
   ]
  },
  {
   "cell_type": "code",
   "execution_count": null,
   "metadata": {},
   "outputs": [],
   "source": [
    "df2 = df2.drop_duplicates()\n",
    "df2 = df2.reset_index()\n",
    "df2 = df2.drop('index', axis=1)"
   ]
  },
  {
   "cell_type": "code",
   "execution_count": null,
   "metadata": {},
   "outputs": [],
   "source": [
    "df2.to_csv('UTR_filename.csv', index=False)"
   ]
  },
  {
   "cell_type": "code",
   "execution_count": null,
   "metadata": {},
   "outputs": [],
   "source": [
    "filtered_df2.to_csv('UTR_official.csv', index=False)"
   ]
  },
  {
   "cell_type": "code",
   "execution_count": null,
   "metadata": {},
   "outputs": [],
   "source": [
    "df2 = pd.read_csv('UTR_official.csv')"
   ]
  },
  {
   "cell_type": "code",
   "execution_count": null,
   "metadata": {},
   "outputs": [],
   "source": [
    "# Z-scores\n",
    "df['z_score_diff'] = stats.zscore(df['UTR_diff'])\n",
    "\n",
    "# Create a RobustScaler object\n",
    "scaler = RobustScaler()\n",
    "\n",
    "column_array = df['UTR_diff'].values\n",
    "\n",
    "# Reshape the array to a 2D array\n",
    "reshaped_array = column_array.reshape(-1, 1)\n",
    "\n",
    "# Fit the scaler to the dataset and transform the data\n",
    "df['scaled_diff'] = scaler.fit_transform(reshaped_array)"
   ]
  },
  {
   "cell_type": "code",
   "execution_count": null,
   "metadata": {},
   "outputs": [],
   "source": [
    "# Group by 'molecularSubtype' and 'gene_id', and filter out rows with the same 'utr lengths'\n",
    "df2 = df2.groupby(['molecularSubtype', 'ref_gene_id']).apply(lambda x: x.drop_duplicates(subset='transcript_length'))\n",
    "\n",
    "# Reset the index of the filtered DataFrame\n",
    "df2 = df2.reset_index(drop=True)\n",
    "\n",
    "# Print the resulting DataFrame\n",
    "print(df2)"
   ]
  },
  {
   "cell_type": "code",
   "execution_count": null,
   "metadata": {},
   "outputs": [],
   "source": [
    "df2"
   ]
  },
  {
   "cell_type": "code",
   "execution_count": null,
   "metadata": {},
   "outputs": [],
   "source": [
    "# plt.figure(figsize=())\n",
    "g = sns.displot(filtered_df2, x=\"UTR_length (ln)\", col='molecularSubtype', hue = 'molecularSubtype',  palette='Set2', bins=80, col_wrap=2)\n",
    "# g = plt.title(\"Rozkład długości 3'UTR (log) dla podtypów nowotworu piersi\")\n",
    "g = sns.set_theme()\n",
    "g = sns.set_context(\"paper\")\n",
    "\n",
    "\n",
    "\n",
    "# Set plot title and labels\n",
    "\n",
    "plt.savefig(\"distribution_2.png\")"
   ]
  },
  {
   "cell_type": "code",
   "execution_count": null,
   "metadata": {},
   "outputs": [],
   "source": [
    "df3 = df2[df2['UTR_type']!='no change']\n",
    "f = plt.figure(figsize=(12, 8))\n",
    "#sf1, sf2 = f.subfigures(1, 2)\n",
    "fig = (\n",
    "    so.Plot(df3, x=\"UTR_length (ln)\")\n",
    "    .facet(col=\"molecularSubtype\", row=\"UTR_type\")\n",
    "    .add(so.Bars(), so.Hist(), so.Dodge())\n",
    "    .on(f)\n",
    "    .label(\n",
    "        x=\"3'UTR length (ln)\", y=\"\",\n",
    "        color=str.capitalize\n",
    "    )\n",
    "    # .save(\"distribution_type.png\")\n",
    ")\n",
    "fig"
   ]
  },
  {
   "cell_type": "code",
   "execution_count": null,
   "metadata": {},
   "outputs": [],
   "source": [
    "sns.kdeplot(data=filtered_df2, x=\"UTR_length (ln)\", hue=\"molecularSubtype\", palette='Set2')\n",
    "sns.color_palette()\n",
    "# plt.subtitle(\"Wykres gęstości długości 3'UTR (log) dla podtypów molekularnych\")\n",
    "sns.set_theme()\n",
    "sns.set_context(\"paper\")\n",
    "plt.savefig(\"density.png\", dpi=300)"
   ]
  },
  {
   "cell_type": "code",
   "execution_count": null,
   "metadata": {},
   "outputs": [],
   "source": [
    "df2 = df2[df2['UTR_type']!='no change']"
   ]
  },
  {
   "cell_type": "code",
   "execution_count": null,
   "metadata": {},
   "outputs": [],
   "source": [
    "# Group dataframe by molecular subtype\n",
    "grouped = df2.groupby('molecularSubtype')\n",
    "\n",
    "# Count the occurrences of longer and shorter UTR types\n",
    "counts = grouped['UTR_type'].value_counts()\n",
    "counts\n",
    "# counts.to_csv('counts_nosample.csv') # Save to file"
   ]
  },
  {
   "cell_type": "code",
   "execution_count": null,
   "metadata": {},
   "outputs": [],
   "source": [
    "counts"
   ]
  },
  {
   "cell_type": "code",
   "execution_count": null,
   "metadata": {},
   "outputs": [],
   "source": [
    "counts = pd.read_csv('counts_nosample.csv')\n",
    "fig = (\n",
    "    so.Plot(counts, x=\"molecularSubtype\", y=\"count\", color=\"UTR_type\")\n",
    "    .add(so.Bar(width=0.9), so.Agg(), so.Dodge())\n",
    "    # .add(so.Text(color=\"black\", halign=\"right\"))\n",
    "    .label(x=\"Subtype\", y='Count')\n",
    "    .scale(color=\"Set2\")\n",
    "    .save('counts.png')\n",
    "    \n",
    ")\n",
    "fig"
   ]
  },
  {
   "cell_type": "code",
   "execution_count": null,
   "metadata": {},
   "outputs": [],
   "source": [
    "counts = pd.read_csv('counts_nosample.csv')\n",
    "counts = counts[counts['UTR_type']!='no change']\n",
    "fig = (\n",
    "    so.Plot(counts, x=\"count\", y=\"molecularSubtype\", color=\"UTR_type\", text=\"count\")\n",
    "    .add(so.Bar(width=1), so.Agg(), so.Dodge())\n",
    "    .add(so.Text(color=\"black\", halign=\"right\"))\n",
    "    .label(x=\"Subtype\", y='Count')\n",
    "    .scale(color=\"Set2\")\n",
    "    # .add(so.Text(color=\"b\", halign=\"center\"))\n",
    "    # .save('counts_changed.png')\n",
    "    \n",
    ")\n",
    "fig"
   ]
  },
  {
   "cell_type": "code",
   "execution_count": null,
   "metadata": {},
   "outputs": [],
   "source": [
    "# Group df df by molecular subtype and save to grouped df\n",
    "grouped = df2.groupby('molecularSubtype')\n",
    "grouped = grouped[['reference_id', 'UTR_type']]\n",
    "\n",
    "# Save each group to separate csv files\n",
    "for name, group in grouped:\n",
    "    group = group[group['UTR_type']=='longer']\n",
    "    filename = f\"{name}_longer.csv\"  # Customize the filename based on your requirements\n",
    "    group['reference_id'].to_csv(filename, index=False)\n",
    "    print(f\"Group '{name}' saved to '{filename}'.\")"
   ]
  },
  {
   "cell_type": "code",
   "execution_count": null,
   "metadata": {},
   "outputs": [],
   "source": [
    "filtered_df2.to_csv('UTR_official.csv', index=False)"
   ]
  },
  {
   "cell_type": "code",
   "execution_count": null,
   "metadata": {},
   "outputs": [],
   "source": [
    "short = df2[df2['UTR_type']=='shorter']\n",
    "long = df2[df2['UTR_type']=='longer']"
   ]
  },
  {
   "cell_type": "code",
   "execution_count": null,
   "metadata": {},
   "outputs": [],
   "source": [
    "sns.boxplot(data=short, x=\"molecularSubtype\", y=\"UTR_length (ln)\", palette='Set2')\n",
    "sns.set_context(\"paper\")\n",
    "sns.set_theme()\n",
    "# plt.savefig(\"box_short.png\", dpi=300)"
   ]
  },
  {
   "cell_type": "code",
   "execution_count": null,
   "metadata": {},
   "outputs": [],
   "source": [
    "sns.boxplot(data=long, x=\"molecularSubtype\", y=\"UTR_length (ln)\", palette='Set2')\n",
    "sns.set_context(\"paper\")\n",
    "sns.set_theme()\n",
    "# plt.savefig(\"box_long.png\", dpi=300)"
   ]
  },
  {
   "cell_type": "code",
   "execution_count": null,
   "metadata": {},
   "outputs": [],
   "source": [
    "sns.boxplot(data=df2, x=\"molecularSubtype\", y=\"UTR_length (ln)\", palette='Set2')\n",
    "sns.set_context(\"paper\")\n",
    "sns.set_theme()\n",
    "\n",
    "# plt.savefig(\"box_all.png\", dpi=300)"
   ]
  },
  {
   "attachments": {},
   "cell_type": "markdown",
   "metadata": {},
   "source": [
    "DEG triple vs control"
   ]
  },
  {
   "cell_type": "code",
   "execution_count": null,
   "metadata": {},
   "outputs": [],
   "source": [
    "df_trip = filtered_df2[filtered_df2['molecularSubtype']=='triple negative']"
   ]
  },
  {
   "cell_type": "code",
   "execution_count": null,
   "metadata": {},
   "outputs": [],
   "source": [
    "df_deg = pd.read_csv('all_trip_results.csv')"
   ]
  },
  {
   "cell_type": "code",
   "execution_count": null,
   "metadata": {},
   "outputs": [],
   "source": [
    "trip_merged = pd.merge(df_trip, df_deg, on='reference_id')"
   ]
  },
  {
   "cell_type": "code",
   "execution_count": null,
   "metadata": {},
   "outputs": [],
   "source": [
    "trip_merged = trip_merged[trip_merged['UTR_type']!='no change']\n"
   ]
  },
  {
   "cell_type": "code",
   "execution_count": null,
   "metadata": {},
   "outputs": [],
   "source": [
    "trip_merged = trip_merged[['reference_id', 'baseMean', 'log2FoldChange', 'lfcSE', 'stat', 'pvalue', 'padj']]"
   ]
  },
  {
   "cell_type": "code",
   "execution_count": null,
   "metadata": {},
   "outputs": [],
   "source": [
    "trip_merged = trip_merged.dropna()"
   ]
  },
  {
   "cell_type": "code",
   "execution_count": null,
   "metadata": {},
   "outputs": [],
   "source": [
    "trip_merged = trip_merged.drop_duplicates()\n",
    "trip_merged = trip_merged.reset_index()\n",
    "trip_merged = trip_merged.drop('index', axis=1)"
   ]
  },
  {
   "cell_type": "code",
   "execution_count": null,
   "metadata": {},
   "outputs": [],
   "source": [
    "trip_merged.to_csv('triple_function.csv', index=False)"
   ]
  },
  {
   "cell_type": "code",
   "execution_count": null,
   "metadata": {},
   "outputs": [],
   "source": [
    "trip_merged"
   ]
  },
  {
   "attachments": {},
   "cell_type": "markdown",
   "metadata": {},
   "source": [
    "DEG her "
   ]
  },
  {
   "cell_type": "code",
   "execution_count": null,
   "metadata": {},
   "outputs": [],
   "source": [
    "df_her = filtered_df2[filtered_df2['molecularSubtype']=='HER2+']"
   ]
  },
  {
   "cell_type": "code",
   "execution_count": null,
   "metadata": {},
   "outputs": [],
   "source": [
    "df_deg = pd.read_csv('../../../DEG/HER_DEG/all_her_results.csv')"
   ]
  },
  {
   "cell_type": "code",
   "execution_count": null,
   "metadata": {},
   "outputs": [],
   "source": [
    "her_merged = pd.merge(df_her, df_deg, on='reference_id')"
   ]
  },
  {
   "cell_type": "code",
   "execution_count": null,
   "metadata": {},
   "outputs": [],
   "source": [
    "her_merged"
   ]
  },
  {
   "cell_type": "code",
   "execution_count": null,
   "metadata": {},
   "outputs": [],
   "source": [
    "her_merged = her_merged[her_merged['UTR_type']!='no change']"
   ]
  },
  {
   "cell_type": "code",
   "execution_count": null,
   "metadata": {},
   "outputs": [],
   "source": [
    "her_merged = her_merged.dropna()"
   ]
  },
  {
   "cell_type": "code",
   "execution_count": null,
   "metadata": {},
   "outputs": [],
   "source": [
    "her_merged = her_merged.reset_index()\n",
    "her_merged = her_merged.drop('index', axis=1)"
   ]
  },
  {
   "cell_type": "code",
   "execution_count": null,
   "metadata": {},
   "outputs": [],
   "source": [
    "her_merged.to_csv('her_deg_UTR.csv', index=False)"
   ]
  },
  {
   "cell_type": "code",
   "execution_count": null,
   "metadata": {},
   "outputs": [],
   "source": [
    "her_utr_deg = her_merged[['reference_id', 'baseMean', 'log2FoldChange', 'lfcSE', 'stat', 'pvalue', 'padj']]"
   ]
  },
  {
   "cell_type": "code",
   "execution_count": null,
   "metadata": {},
   "outputs": [],
   "source": [
    "her_utr_deg = her_utr_deg.drop_duplicates()"
   ]
  },
  {
   "cell_type": "code",
   "execution_count": null,
   "metadata": {},
   "outputs": [],
   "source": [
    "her_utr_deg.to_csv('her_function.csv', index=False)"
   ]
  },
  {
   "attachments": {},
   "cell_type": "markdown",
   "metadata": {},
   "source": [
    "tripleUniq + DEG\n"
   ]
  },
  {
   "cell_type": "code",
   "execution_count": null,
   "metadata": {},
   "outputs": [],
   "source": [
    "tripUniq = pd.read_table('/Users/natdzi3/mgr/DEG/DEG_triple/funkcja/tripUniq.txt' )\n",
    "tripUniq = tripUniq[['reference_id']]\n",
    "tripUniq"
   ]
  },
  {
   "cell_type": "code",
   "execution_count": null,
   "metadata": {},
   "outputs": [],
   "source": [
    "df_deg = pd.read_csv('all_trip_results.csv')"
   ]
  },
  {
   "cell_type": "code",
   "execution_count": null,
   "metadata": {},
   "outputs": [],
   "source": [
    "trip_merged = pd.merge(tripUniq, df_deg, on='reference_id')"
   ]
  },
  {
   "cell_type": "code",
   "execution_count": null,
   "metadata": {},
   "outputs": [],
   "source": [
    "trip_merged"
   ]
  },
  {
   "cell_type": "code",
   "execution_count": null,
   "metadata": {},
   "outputs": [],
   "source": [
    "trip_merged.to_csv('tripUniq_deg.csv', index='False')"
   ]
  },
  {
   "cell_type": "code",
   "execution_count": null,
   "metadata": {},
   "outputs": [],
   "source": [
    "trip_long.to_csv('tripUniq_long_deg.csv', index='False')"
   ]
  },
  {
   "attachments": {},
   "cell_type": "markdown",
   "metadata": {},
   "source": [
    "herUniq + DEG"
   ]
  },
  {
   "cell_type": "code",
   "execution_count": null,
   "metadata": {},
   "outputs": [],
   "source": [
    "HERUniq = pd.read_table('/Users/natdzi3/mgr/DEG/HER_DEG/funkcja/HERuniq.txt' )\n",
    "HERUniq = HERUniq[['reference_id']]\n",
    "HERUniq"
   ]
  },
  {
   "cell_type": "code",
   "execution_count": null,
   "metadata": {},
   "outputs": [],
   "source": [
    "df_deg = pd.read_csv('../../../DEG/HER_DEG/all_her_results.csv')"
   ]
  },
  {
   "cell_type": "code",
   "execution_count": null,
   "metadata": {},
   "outputs": [],
   "source": [
    "her_merged = pd.merge(HERUniq, df_deg, on='reference_id')"
   ]
  },
  {
   "cell_type": "code",
   "execution_count": null,
   "metadata": {},
   "outputs": [],
   "source": [
    "her_merged.to_csv('her_uniq_deg.csv', index=False)"
   ]
  },
  {
   "cell_type": "code",
   "execution_count": null,
   "metadata": {},
   "outputs": [],
   "source": [
    "df = pd.read_csv('../../../DEG/HER_DEG/HER_res.csv')"
   ]
  },
  {
   "cell_type": "code",
   "execution_count": null,
   "metadata": {},
   "outputs": [],
   "source": [
    "df2"
   ]
  },
  {
   "cell_type": "code",
   "execution_count": null,
   "metadata": {},
   "outputs": [],
   "source": [
    "df2 = pd.read_csv('UTR_official.csv')"
   ]
  },
  {
   "cell_type": "code",
   "execution_count": null,
   "metadata": {},
   "outputs": [],
   "source": [
    "df2 = df2[df2['molecularSubtype']=='HER2+']"
   ]
  },
  {
   "cell_type": "code",
   "execution_count": null,
   "metadata": {},
   "outputs": [],
   "source": [
    "df2 = df2[df2['UTR_type']!='no change']\n",
    "df2 = df2['reference_id']\n",
    "\n"
   ]
  },
  {
   "cell_type": "code",
   "execution_count": null,
   "metadata": {},
   "outputs": [],
   "source": [
    "df2 = df2.drop_duplicates()"
   ]
  },
  {
   "cell_type": "code",
   "execution_count": null,
   "metadata": {},
   "outputs": [],
   "source": [
    "df3 = pd.merge(df, df2, on='reference_id')"
   ]
  },
  {
   "cell_type": "code",
   "execution_count": null,
   "metadata": {},
   "outputs": [],
   "source": [
    "df3 = df3.drop_duplicates()\n",
    "df3 = df3.reset_index()\n",
    "df3 = df3.drop('index', axis=1)\n"
   ]
  },
  {
   "cell_type": "code",
   "execution_count": null,
   "metadata": {},
   "outputs": [],
   "source": [
    "df3"
   ]
  },
  {
   "cell_type": "code",
   "execution_count": null,
   "metadata": {},
   "outputs": [],
   "source": [
    "df3.to_csv('../../../DEG/HER_DEG/her_res_changedUTR.csv', index=False)"
   ]
  },
  {
   "cell_type": "code",
   "execution_count": 63,
   "metadata": {},
   "outputs": [],
   "source": [
    "df = pd.read_csv('UTR_filename.csv')"
   ]
  },
  {
   "cell_type": "code",
   "execution_count": 4,
   "metadata": {},
   "outputs": [
    {
     "data": {
      "text/html": [
       "<div>\n",
       "<style scoped>\n",
       "    .dataframe tbody tr th:only-of-type {\n",
       "        vertical-align: middle;\n",
       "    }\n",
       "\n",
       "    .dataframe tbody tr th {\n",
       "        vertical-align: top;\n",
       "    }\n",
       "\n",
       "    .dataframe thead th {\n",
       "        text-align: right;\n",
       "    }\n",
       "</style>\n",
       "<table border=\"1\" class=\"dataframe\">\n",
       "  <thead>\n",
       "    <tr style=\"text-align: right;\">\n",
       "      <th></th>\n",
       "      <th>seqname</th>\n",
       "      <th>source</th>\n",
       "      <th>feature</th>\n",
       "      <th>start</th>\n",
       "      <th>end</th>\n",
       "      <th>strand</th>\n",
       "      <th>ref_gene_id</th>\n",
       "      <th>reference_id</th>\n",
       "      <th>filename</th>\n",
       "      <th>transcript_length</th>\n",
       "      <th>molecularSubtype</th>\n",
       "      <th>Start_UTRref</th>\n",
       "      <th>End_UTRref</th>\n",
       "      <th>UTR_length</th>\n",
       "      <th>ref_UTR_length</th>\n",
       "      <th>UTR_diff</th>\n",
       "      <th>UTR_length (ln)</th>\n",
       "      <th>UTR_type</th>\n",
       "    </tr>\n",
       "  </thead>\n",
       "  <tbody>\n",
       "    <tr>\n",
       "      <th>0</th>\n",
       "      <td>chr22</td>\n",
       "      <td>StringTie</td>\n",
       "      <td>transcript</td>\n",
       "      <td>42692115</td>\n",
       "      <td>42720870</td>\n",
       "      <td>-</td>\n",
       "      <td>A4GALT</td>\n",
       "      <td>XM_005261647.3</td>\n",
       "      <td>SRR19969243</td>\n",
       "      <td>28755</td>\n",
       "      <td>HER2+</td>\n",
       "      <td>42692114</td>\n",
       "      <td>42692889</td>\n",
       "      <td>775</td>\n",
       "      <td>775</td>\n",
       "      <td>0</td>\n",
       "      <td>6.652863</td>\n",
       "      <td>no change</td>\n",
       "    </tr>\n",
       "    <tr>\n",
       "      <th>1</th>\n",
       "      <td>chr22</td>\n",
       "      <td>StringTie</td>\n",
       "      <td>transcript</td>\n",
       "      <td>42692115</td>\n",
       "      <td>42694984</td>\n",
       "      <td>-</td>\n",
       "      <td>A4GALT</td>\n",
       "      <td>XM_011530233.2</td>\n",
       "      <td>SRR19969243</td>\n",
       "      <td>2869</td>\n",
       "      <td>HER2+</td>\n",
       "      <td>42692114</td>\n",
       "      <td>42692889</td>\n",
       "      <td>775</td>\n",
       "      <td>775</td>\n",
       "      <td>0</td>\n",
       "      <td>6.652863</td>\n",
       "      <td>no change</td>\n",
       "    </tr>\n",
       "    <tr>\n",
       "      <th>2</th>\n",
       "      <td>chr22</td>\n",
       "      <td>StringTie</td>\n",
       "      <td>transcript</td>\n",
       "      <td>42692121</td>\n",
       "      <td>42720870</td>\n",
       "      <td>-</td>\n",
       "      <td>A4GALT</td>\n",
       "      <td>NM_017436.7</td>\n",
       "      <td>SRR19969243</td>\n",
       "      <td>28749</td>\n",
       "      <td>HER2+</td>\n",
       "      <td>42692120</td>\n",
       "      <td>42692889</td>\n",
       "      <td>769</td>\n",
       "      <td>769</td>\n",
       "      <td>0</td>\n",
       "      <td>6.645091</td>\n",
       "      <td>no change</td>\n",
       "    </tr>\n",
       "    <tr>\n",
       "      <th>3</th>\n",
       "      <td>chr22</td>\n",
       "      <td>StringTie</td>\n",
       "      <td>transcript</td>\n",
       "      <td>42692121</td>\n",
       "      <td>42721301</td>\n",
       "      <td>-</td>\n",
       "      <td>A4GALT</td>\n",
       "      <td>NM_001318038.3</td>\n",
       "      <td>SRR19969243</td>\n",
       "      <td>29180</td>\n",
       "      <td>HER2+</td>\n",
       "      <td>42692120</td>\n",
       "      <td>42692889</td>\n",
       "      <td>769</td>\n",
       "      <td>769</td>\n",
       "      <td>0</td>\n",
       "      <td>6.645091</td>\n",
       "      <td>no change</td>\n",
       "    </tr>\n",
       "    <tr>\n",
       "      <th>4</th>\n",
       "      <td>chr22</td>\n",
       "      <td>StringTie</td>\n",
       "      <td>transcript</td>\n",
       "      <td>42692115</td>\n",
       "      <td>42720514</td>\n",
       "      <td>-</td>\n",
       "      <td>A4GALT</td>\n",
       "      <td>XM_006724266.3</td>\n",
       "      <td>SRR19969245</td>\n",
       "      <td>28399</td>\n",
       "      <td>HER2+</td>\n",
       "      <td>42692114</td>\n",
       "      <td>42692889</td>\n",
       "      <td>775</td>\n",
       "      <td>775</td>\n",
       "      <td>0</td>\n",
       "      <td>6.652863</td>\n",
       "      <td>no change</td>\n",
       "    </tr>\n",
       "    <tr>\n",
       "      <th>...</th>\n",
       "      <td>...</td>\n",
       "      <td>...</td>\n",
       "      <td>...</td>\n",
       "      <td>...</td>\n",
       "      <td>...</td>\n",
       "      <td>...</td>\n",
       "      <td>...</td>\n",
       "      <td>...</td>\n",
       "      <td>...</td>\n",
       "      <td>...</td>\n",
       "      <td>...</td>\n",
       "      <td>...</td>\n",
       "      <td>...</td>\n",
       "      <td>...</td>\n",
       "      <td>...</td>\n",
       "      <td>...</td>\n",
       "      <td>...</td>\n",
       "      <td>...</td>\n",
       "    </tr>\n",
       "    <tr>\n",
       "      <th>52385</th>\n",
       "      <td>chr10</td>\n",
       "      <td>StringTie</td>\n",
       "      <td>transcript</td>\n",
       "      <td>56357438</td>\n",
       "      <td>56361273</td>\n",
       "      <td>-</td>\n",
       "      <td>ZWINT</td>\n",
       "      <td>NM_001005413.1</td>\n",
       "      <td>SRR19969210</td>\n",
       "      <td>3835</td>\n",
       "      <td>triple negative</td>\n",
       "      <td>56357437</td>\n",
       "      <td>56358185</td>\n",
       "      <td>748</td>\n",
       "      <td>748</td>\n",
       "      <td>0</td>\n",
       "      <td>6.617403</td>\n",
       "      <td>no change</td>\n",
       "    </tr>\n",
       "    <tr>\n",
       "      <th>52386</th>\n",
       "      <td>chr10</td>\n",
       "      <td>StringTie</td>\n",
       "      <td>transcript</td>\n",
       "      <td>56357438</td>\n",
       "      <td>56361272</td>\n",
       "      <td>-</td>\n",
       "      <td>ZWINT</td>\n",
       "      <td>XM_017015605.2</td>\n",
       "      <td>SRR19969210</td>\n",
       "      <td>3834</td>\n",
       "      <td>triple negative</td>\n",
       "      <td>56357437</td>\n",
       "      <td>56358428</td>\n",
       "      <td>991</td>\n",
       "      <td>991</td>\n",
       "      <td>0</td>\n",
       "      <td>6.898715</td>\n",
       "      <td>no change</td>\n",
       "    </tr>\n",
       "    <tr>\n",
       "      <th>52387</th>\n",
       "      <td>chr10</td>\n",
       "      <td>StringTie</td>\n",
       "      <td>transcript</td>\n",
       "      <td>56357445</td>\n",
       "      <td>56361259</td>\n",
       "      <td>-</td>\n",
       "      <td>ZWINT</td>\n",
       "      <td>NM_032997.3</td>\n",
       "      <td>SRR19969210</td>\n",
       "      <td>3814</td>\n",
       "      <td>triple negative</td>\n",
       "      <td>56357444</td>\n",
       "      <td>56358417</td>\n",
       "      <td>973</td>\n",
       "      <td>973</td>\n",
       "      <td>0</td>\n",
       "      <td>6.880384</td>\n",
       "      <td>no change</td>\n",
       "    </tr>\n",
       "    <tr>\n",
       "      <th>52388</th>\n",
       "      <td>chrX</td>\n",
       "      <td>StringTie</td>\n",
       "      <td>transcript</td>\n",
       "      <td>57905430</td>\n",
       "      <td>57910458</td>\n",
       "      <td>-</td>\n",
       "      <td>ZXDA</td>\n",
       "      <td>NM_007156.5</td>\n",
       "      <td>SRR19969208</td>\n",
       "      <td>5028</td>\n",
       "      <td>triple negative</td>\n",
       "      <td>57905429</td>\n",
       "      <td>57908020</td>\n",
       "      <td>2591</td>\n",
       "      <td>2591</td>\n",
       "      <td>0</td>\n",
       "      <td>7.859799</td>\n",
       "      <td>no change</td>\n",
       "    </tr>\n",
       "    <tr>\n",
       "      <th>52389</th>\n",
       "      <td>chrX</td>\n",
       "      <td>StringTie</td>\n",
       "      <td>transcript</td>\n",
       "      <td>57592011</td>\n",
       "      <td>57597477</td>\n",
       "      <td>+</td>\n",
       "      <td>ZXDB</td>\n",
       "      <td>NM_007157.4</td>\n",
       "      <td>SRR19969208</td>\n",
       "      <td>5466</td>\n",
       "      <td>triple negative</td>\n",
       "      <td>57594460</td>\n",
       "      <td>57597477</td>\n",
       "      <td>3017</td>\n",
       "      <td>3017</td>\n",
       "      <td>0</td>\n",
       "      <td>8.012018</td>\n",
       "      <td>no change</td>\n",
       "    </tr>\n",
       "  </tbody>\n",
       "</table>\n",
       "<p>52390 rows × 18 columns</p>\n",
       "</div>"
      ],
      "text/plain": [
       "      seqname     source     feature     start       end strand ref_gene_id   \n",
       "0       chr22  StringTie  transcript  42692115  42720870      -      A4GALT  \\\n",
       "1       chr22  StringTie  transcript  42692115  42694984      -      A4GALT   \n",
       "2       chr22  StringTie  transcript  42692121  42720870      -      A4GALT   \n",
       "3       chr22  StringTie  transcript  42692121  42721301      -      A4GALT   \n",
       "4       chr22  StringTie  transcript  42692115  42720514      -      A4GALT   \n",
       "...       ...        ...         ...       ...       ...    ...         ...   \n",
       "52385   chr10  StringTie  transcript  56357438  56361273      -       ZWINT   \n",
       "52386   chr10  StringTie  transcript  56357438  56361272      -       ZWINT   \n",
       "52387   chr10  StringTie  transcript  56357445  56361259      -       ZWINT   \n",
       "52388    chrX  StringTie  transcript  57905430  57910458      -        ZXDA   \n",
       "52389    chrX  StringTie  transcript  57592011  57597477      +        ZXDB   \n",
       "\n",
       "         reference_id     filename  transcript_length molecularSubtype   \n",
       "0      XM_005261647.3  SRR19969243              28755            HER2+  \\\n",
       "1      XM_011530233.2  SRR19969243               2869            HER2+   \n",
       "2         NM_017436.7  SRR19969243              28749            HER2+   \n",
       "3      NM_001318038.3  SRR19969243              29180            HER2+   \n",
       "4      XM_006724266.3  SRR19969245              28399            HER2+   \n",
       "...               ...          ...                ...              ...   \n",
       "52385  NM_001005413.1  SRR19969210               3835  triple negative   \n",
       "52386  XM_017015605.2  SRR19969210               3834  triple negative   \n",
       "52387     NM_032997.3  SRR19969210               3814  triple negative   \n",
       "52388     NM_007156.5  SRR19969208               5028  triple negative   \n",
       "52389     NM_007157.4  SRR19969208               5466  triple negative   \n",
       "\n",
       "       Start_UTRref  End_UTRref  UTR_length  ref_UTR_length  UTR_diff   \n",
       "0          42692114    42692889         775             775         0  \\\n",
       "1          42692114    42692889         775             775         0   \n",
       "2          42692120    42692889         769             769         0   \n",
       "3          42692120    42692889         769             769         0   \n",
       "4          42692114    42692889         775             775         0   \n",
       "...             ...         ...         ...             ...       ...   \n",
       "52385      56357437    56358185         748             748         0   \n",
       "52386      56357437    56358428         991             991         0   \n",
       "52387      56357444    56358417         973             973         0   \n",
       "52388      57905429    57908020        2591            2591         0   \n",
       "52389      57594460    57597477        3017            3017         0   \n",
       "\n",
       "       UTR_length (ln)   UTR_type  \n",
       "0             6.652863  no change  \n",
       "1             6.652863  no change  \n",
       "2             6.645091  no change  \n",
       "3             6.645091  no change  \n",
       "4             6.652863  no change  \n",
       "...                ...        ...  \n",
       "52385         6.617403  no change  \n",
       "52386         6.898715  no change  \n",
       "52387         6.880384  no change  \n",
       "52388         7.859799  no change  \n",
       "52389         8.012018  no change  \n",
       "\n",
       "[52390 rows x 18 columns]"
      ]
     },
     "execution_count": 4,
     "metadata": {},
     "output_type": "execute_result"
    }
   ],
   "source": [
    "-df"
   ]
  },
  {
   "cell_type": "code",
   "execution_count": 8,
   "metadata": {},
   "outputs": [],
   "source": [
    "df_tripuniq = pd.read_csv('../../../DEG/DEG_triple/TNBC_uniq/top.csv')"
   ]
  },
  {
   "cell_type": "code",
   "execution_count": 9,
   "metadata": {},
   "outputs": [],
   "source": [
    "merge = pd.merge(df, df_tripuniq, on='reference_id')"
   ]
  },
  {
   "cell_type": "code",
   "execution_count": null,
   "metadata": {},
   "outputs": [],
   "source": [
    "merge"
   ]
  },
  {
   "cell_type": "code",
   "execution_count": 12,
   "metadata": {},
   "outputs": [],
   "source": [
    "df_heruniq = pd.read_csv('../../../DEG/HER_DEG/changedUTR/top.csv')"
   ]
  },
  {
   "cell_type": "code",
   "execution_count": 15,
   "metadata": {},
   "outputs": [],
   "source": [
    "merge_her = pd.merge(df, df_heruniq, on='reference_id')"
   ]
  },
  {
   "cell_type": "code",
   "execution_count": 16,
   "metadata": {},
   "outputs": [
    {
     "data": {
      "text/html": [
       "<div>\n",
       "<style scoped>\n",
       "    .dataframe tbody tr th:only-of-type {\n",
       "        vertical-align: middle;\n",
       "    }\n",
       "\n",
       "    .dataframe tbody tr th {\n",
       "        vertical-align: top;\n",
       "    }\n",
       "\n",
       "    .dataframe thead th {\n",
       "        text-align: right;\n",
       "    }\n",
       "</style>\n",
       "<table border=\"1\" class=\"dataframe\">\n",
       "  <thead>\n",
       "    <tr style=\"text-align: right;\">\n",
       "      <th></th>\n",
       "      <th>seqname</th>\n",
       "      <th>source</th>\n",
       "      <th>feature</th>\n",
       "      <th>start</th>\n",
       "      <th>end</th>\n",
       "      <th>strand</th>\n",
       "      <th>ref_gene_id</th>\n",
       "      <th>reference_id</th>\n",
       "      <th>filename</th>\n",
       "      <th>transcript_length</th>\n",
       "      <th>...</th>\n",
       "      <th>ref_UTR_length</th>\n",
       "      <th>UTR_diff</th>\n",
       "      <th>UTR_length (ln)</th>\n",
       "      <th>UTR_type</th>\n",
       "      <th>baseMean</th>\n",
       "      <th>log2FoldChange</th>\n",
       "      <th>lfcSE</th>\n",
       "      <th>stat</th>\n",
       "      <th>pvalue</th>\n",
       "      <th>padj</th>\n",
       "    </tr>\n",
       "  </thead>\n",
       "  <tbody>\n",
       "    <tr>\n",
       "      <th>0</th>\n",
       "      <td>chr19</td>\n",
       "      <td>StringTie</td>\n",
       "      <td>transcript</td>\n",
       "      <td>44946051</td>\n",
       "      <td>44949565</td>\n",
       "      <td>+</td>\n",
       "      <td>APOC2</td>\n",
       "      <td>NM_000483.5</td>\n",
       "      <td>SRR19969243</td>\n",
       "      <td>3514</td>\n",
       "      <td>...</td>\n",
       "      <td>316</td>\n",
       "      <td>0</td>\n",
       "      <td>5.755742</td>\n",
       "      <td>no change</td>\n",
       "      <td>293.676843</td>\n",
       "      <td>2.997364</td>\n",
       "      <td>0.526608</td>\n",
       "      <td>5.691829</td>\n",
       "      <td>1.256858e-08</td>\n",
       "      <td>0.000002</td>\n",
       "    </tr>\n",
       "    <tr>\n",
       "      <th>1</th>\n",
       "      <td>chr19</td>\n",
       "      <td>aptardi</td>\n",
       "      <td>transcript</td>\n",
       "      <td>44946051</td>\n",
       "      <td>44949458</td>\n",
       "      <td>+</td>\n",
       "      <td>APOC2</td>\n",
       "      <td>NM_000483.5</td>\n",
       "      <td>SRR19969243</td>\n",
       "      <td>3407</td>\n",
       "      <td>...</td>\n",
       "      <td>316</td>\n",
       "      <td>-107</td>\n",
       "      <td>5.342334</td>\n",
       "      <td>shorter</td>\n",
       "      <td>293.676843</td>\n",
       "      <td>2.997364</td>\n",
       "      <td>0.526608</td>\n",
       "      <td>5.691829</td>\n",
       "      <td>1.256858e-08</td>\n",
       "      <td>0.000002</td>\n",
       "    </tr>\n",
       "    <tr>\n",
       "      <th>2</th>\n",
       "      <td>chr19</td>\n",
       "      <td>StringTie</td>\n",
       "      <td>transcript</td>\n",
       "      <td>44946051</td>\n",
       "      <td>44949565</td>\n",
       "      <td>+</td>\n",
       "      <td>APOC2</td>\n",
       "      <td>NM_000483.5</td>\n",
       "      <td>SRR19969233</td>\n",
       "      <td>3514</td>\n",
       "      <td>...</td>\n",
       "      <td>316</td>\n",
       "      <td>0</td>\n",
       "      <td>5.755742</td>\n",
       "      <td>no change</td>\n",
       "      <td>293.676843</td>\n",
       "      <td>2.997364</td>\n",
       "      <td>0.526608</td>\n",
       "      <td>5.691829</td>\n",
       "      <td>1.256858e-08</td>\n",
       "      <td>0.000002</td>\n",
       "    </tr>\n",
       "    <tr>\n",
       "      <th>3</th>\n",
       "      <td>chr19</td>\n",
       "      <td>StringTie</td>\n",
       "      <td>transcript</td>\n",
       "      <td>44946051</td>\n",
       "      <td>44949565</td>\n",
       "      <td>+</td>\n",
       "      <td>APOC2</td>\n",
       "      <td>NM_000483.5</td>\n",
       "      <td>SRR19969219</td>\n",
       "      <td>3514</td>\n",
       "      <td>...</td>\n",
       "      <td>316</td>\n",
       "      <td>0</td>\n",
       "      <td>5.755742</td>\n",
       "      <td>no change</td>\n",
       "      <td>293.676843</td>\n",
       "      <td>2.997364</td>\n",
       "      <td>0.526608</td>\n",
       "      <td>5.691829</td>\n",
       "      <td>1.256858e-08</td>\n",
       "      <td>0.000002</td>\n",
       "    </tr>\n",
       "    <tr>\n",
       "      <th>4</th>\n",
       "      <td>chr19</td>\n",
       "      <td>StringTie</td>\n",
       "      <td>transcript</td>\n",
       "      <td>44946051</td>\n",
       "      <td>44949565</td>\n",
       "      <td>+</td>\n",
       "      <td>APOC2</td>\n",
       "      <td>NM_000483.5</td>\n",
       "      <td>SRR19969212</td>\n",
       "      <td>3514</td>\n",
       "      <td>...</td>\n",
       "      <td>316</td>\n",
       "      <td>0</td>\n",
       "      <td>5.755742</td>\n",
       "      <td>no change</td>\n",
       "      <td>293.676843</td>\n",
       "      <td>2.997364</td>\n",
       "      <td>0.526608</td>\n",
       "      <td>5.691829</td>\n",
       "      <td>1.256858e-08</td>\n",
       "      <td>0.000002</td>\n",
       "    </tr>\n",
       "    <tr>\n",
       "      <th>...</th>\n",
       "      <td>...</td>\n",
       "      <td>...</td>\n",
       "      <td>...</td>\n",
       "      <td>...</td>\n",
       "      <td>...</td>\n",
       "      <td>...</td>\n",
       "      <td>...</td>\n",
       "      <td>...</td>\n",
       "      <td>...</td>\n",
       "      <td>...</td>\n",
       "      <td>...</td>\n",
       "      <td>...</td>\n",
       "      <td>...</td>\n",
       "      <td>...</td>\n",
       "      <td>...</td>\n",
       "      <td>...</td>\n",
       "      <td>...</td>\n",
       "      <td>...</td>\n",
       "      <td>...</td>\n",
       "      <td>...</td>\n",
       "      <td>...</td>\n",
       "    </tr>\n",
       "    <tr>\n",
       "      <th>104</th>\n",
       "      <td>chr2</td>\n",
       "      <td>aptardi</td>\n",
       "      <td>transcript</td>\n",
       "      <td>5692384</td>\n",
       "      <td>5695683</td>\n",
       "      <td>+</td>\n",
       "      <td>SOX11</td>\n",
       "      <td>NM_003108.4</td>\n",
       "      <td>SRR19969244</td>\n",
       "      <td>3299</td>\n",
       "      <td>...</td>\n",
       "      <td>7338</td>\n",
       "      <td>-5702</td>\n",
       "      <td>7.400010</td>\n",
       "      <td>shorter</td>\n",
       "      <td>1206.771711</td>\n",
       "      <td>6.107050</td>\n",
       "      <td>1.155821</td>\n",
       "      <td>5.283731</td>\n",
       "      <td>1.265789e-07</td>\n",
       "      <td>0.000016</td>\n",
       "    </tr>\n",
       "    <tr>\n",
       "      <th>105</th>\n",
       "      <td>chr2</td>\n",
       "      <td>StringTie</td>\n",
       "      <td>transcript</td>\n",
       "      <td>5692384</td>\n",
       "      <td>5701385</td>\n",
       "      <td>+</td>\n",
       "      <td>SOX11</td>\n",
       "      <td>NM_003108.4</td>\n",
       "      <td>SRR19969216</td>\n",
       "      <td>9001</td>\n",
       "      <td>...</td>\n",
       "      <td>7338</td>\n",
       "      <td>0</td>\n",
       "      <td>8.900822</td>\n",
       "      <td>no change</td>\n",
       "      <td>1206.771711</td>\n",
       "      <td>6.107050</td>\n",
       "      <td>1.155821</td>\n",
       "      <td>5.283731</td>\n",
       "      <td>1.265789e-07</td>\n",
       "      <td>0.000016</td>\n",
       "    </tr>\n",
       "    <tr>\n",
       "      <th>106</th>\n",
       "      <td>chr2</td>\n",
       "      <td>StringTie</td>\n",
       "      <td>transcript</td>\n",
       "      <td>5692384</td>\n",
       "      <td>5701385</td>\n",
       "      <td>+</td>\n",
       "      <td>SOX11</td>\n",
       "      <td>NM_003108.4</td>\n",
       "      <td>SRR19969234</td>\n",
       "      <td>9001</td>\n",
       "      <td>...</td>\n",
       "      <td>7338</td>\n",
       "      <td>0</td>\n",
       "      <td>8.900822</td>\n",
       "      <td>no change</td>\n",
       "      <td>1206.771711</td>\n",
       "      <td>6.107050</td>\n",
       "      <td>1.155821</td>\n",
       "      <td>5.283731</td>\n",
       "      <td>1.265789e-07</td>\n",
       "      <td>0.000016</td>\n",
       "    </tr>\n",
       "    <tr>\n",
       "      <th>107</th>\n",
       "      <td>chr2</td>\n",
       "      <td>StringTie</td>\n",
       "      <td>transcript</td>\n",
       "      <td>5692384</td>\n",
       "      <td>5701385</td>\n",
       "      <td>+</td>\n",
       "      <td>SOX11</td>\n",
       "      <td>NM_003108.4</td>\n",
       "      <td>SRR19969219</td>\n",
       "      <td>9001</td>\n",
       "      <td>...</td>\n",
       "      <td>7338</td>\n",
       "      <td>0</td>\n",
       "      <td>8.900822</td>\n",
       "      <td>no change</td>\n",
       "      <td>1206.771711</td>\n",
       "      <td>6.107050</td>\n",
       "      <td>1.155821</td>\n",
       "      <td>5.283731</td>\n",
       "      <td>1.265789e-07</td>\n",
       "      <td>0.000016</td>\n",
       "    </tr>\n",
       "    <tr>\n",
       "      <th>108</th>\n",
       "      <td>chr2</td>\n",
       "      <td>StringTie</td>\n",
       "      <td>transcript</td>\n",
       "      <td>5692384</td>\n",
       "      <td>5701385</td>\n",
       "      <td>+</td>\n",
       "      <td>SOX11</td>\n",
       "      <td>NM_003108.4</td>\n",
       "      <td>SRR19969208</td>\n",
       "      <td>9001</td>\n",
       "      <td>...</td>\n",
       "      <td>7338</td>\n",
       "      <td>0</td>\n",
       "      <td>8.900822</td>\n",
       "      <td>no change</td>\n",
       "      <td>1206.771711</td>\n",
       "      <td>6.107050</td>\n",
       "      <td>1.155821</td>\n",
       "      <td>5.283731</td>\n",
       "      <td>1.265789e-07</td>\n",
       "      <td>0.000016</td>\n",
       "    </tr>\n",
       "  </tbody>\n",
       "</table>\n",
       "<p>109 rows × 24 columns</p>\n",
       "</div>"
      ],
      "text/plain": [
       "    seqname     source     feature     start       end strand ref_gene_id   \n",
       "0     chr19  StringTie  transcript  44946051  44949565      +       APOC2  \\\n",
       "1     chr19    aptardi  transcript  44946051  44949458      +       APOC2   \n",
       "2     chr19  StringTie  transcript  44946051  44949565      +       APOC2   \n",
       "3     chr19  StringTie  transcript  44946051  44949565      +       APOC2   \n",
       "4     chr19  StringTie  transcript  44946051  44949565      +       APOC2   \n",
       "..      ...        ...         ...       ...       ...    ...         ...   \n",
       "104    chr2    aptardi  transcript   5692384   5695683      +       SOX11   \n",
       "105    chr2  StringTie  transcript   5692384   5701385      +       SOX11   \n",
       "106    chr2  StringTie  transcript   5692384   5701385      +       SOX11   \n",
       "107    chr2  StringTie  transcript   5692384   5701385      +       SOX11   \n",
       "108    chr2  StringTie  transcript   5692384   5701385      +       SOX11   \n",
       "\n",
       "    reference_id     filename  transcript_length  ... ref_UTR_length   \n",
       "0    NM_000483.5  SRR19969243               3514  ...            316  \\\n",
       "1    NM_000483.5  SRR19969243               3407  ...            316   \n",
       "2    NM_000483.5  SRR19969233               3514  ...            316   \n",
       "3    NM_000483.5  SRR19969219               3514  ...            316   \n",
       "4    NM_000483.5  SRR19969212               3514  ...            316   \n",
       "..           ...          ...                ...  ...            ...   \n",
       "104  NM_003108.4  SRR19969244               3299  ...           7338   \n",
       "105  NM_003108.4  SRR19969216               9001  ...           7338   \n",
       "106  NM_003108.4  SRR19969234               9001  ...           7338   \n",
       "107  NM_003108.4  SRR19969219               9001  ...           7338   \n",
       "108  NM_003108.4  SRR19969208               9001  ...           7338   \n",
       "\n",
       "     UTR_diff  UTR_length (ln)   UTR_type     baseMean  log2FoldChange   \n",
       "0           0         5.755742  no change   293.676843        2.997364  \\\n",
       "1        -107         5.342334    shorter   293.676843        2.997364   \n",
       "2           0         5.755742  no change   293.676843        2.997364   \n",
       "3           0         5.755742  no change   293.676843        2.997364   \n",
       "4           0         5.755742  no change   293.676843        2.997364   \n",
       "..        ...              ...        ...          ...             ...   \n",
       "104     -5702         7.400010    shorter  1206.771711        6.107050   \n",
       "105         0         8.900822  no change  1206.771711        6.107050   \n",
       "106         0         8.900822  no change  1206.771711        6.107050   \n",
       "107         0         8.900822  no change  1206.771711        6.107050   \n",
       "108         0         8.900822  no change  1206.771711        6.107050   \n",
       "\n",
       "        lfcSE      stat        pvalue      padj  \n",
       "0    0.526608  5.691829  1.256858e-08  0.000002  \n",
       "1    0.526608  5.691829  1.256858e-08  0.000002  \n",
       "2    0.526608  5.691829  1.256858e-08  0.000002  \n",
       "3    0.526608  5.691829  1.256858e-08  0.000002  \n",
       "4    0.526608  5.691829  1.256858e-08  0.000002  \n",
       "..        ...       ...           ...       ...  \n",
       "104  1.155821  5.283731  1.265789e-07  0.000016  \n",
       "105  1.155821  5.283731  1.265789e-07  0.000016  \n",
       "106  1.155821  5.283731  1.265789e-07  0.000016  \n",
       "107  1.155821  5.283731  1.265789e-07  0.000016  \n",
       "108  1.155821  5.283731  1.265789e-07  0.000016  \n",
       "\n",
       "[109 rows x 24 columns]"
      ]
     },
     "execution_count": 16,
     "metadata": {},
     "output_type": "execute_result"
    }
   ],
   "source": [
    "merge_her."
   ]
  },
  {
   "cell_type": "code",
   "execution_count": 64,
   "metadata": {},
   "outputs": [],
   "source": [
    "df2 = pd.read_csv('../../../DEG/DEG_triple/TNBC_res.csv')"
   ]
  },
  {
   "cell_type": "code",
   "execution_count": 65,
   "metadata": {},
   "outputs": [],
   "source": [
    "df=df[(df['molecularSubtype']=='triple negative')]\n"
   ]
  },
  {
   "cell_type": "code",
   "execution_count": 66,
   "metadata": {},
   "outputs": [],
   "source": [
    "merged_pca = pd.merge(df,df2, on='reference_id')"
   ]
  },
  {
   "cell_type": "code",
   "execution_count": 67,
   "metadata": {},
   "outputs": [],
   "source": [
    "merged_pca = merged_pca[merged_pca['padj']<0.05]\n"
   ]
  },
  {
   "cell_type": "code",
   "execution_count": 9,
   "metadata": {},
   "outputs": [],
   "source": [
    "merged_pca=merged_pca.sort_values('molecularSubtype')"
   ]
  },
  {
   "cell_type": "code",
   "execution_count": 44,
   "metadata": {},
   "outputs": [],
   "source": [
    "import matplotlib.pyplot as plt\n"
   ]
  },
  {
   "cell_type": "code",
   "execution_count": 41,
   "metadata": {},
   "outputs": [
    {
     "data": {
      "image/png": "[encoded data removed]",
      "text/plain": [
       "<Figure size 640x480 with 1 Axes>"
      ]
     },
     "metadata": {},
     "output_type": "display_data"
    }
   ],
   "source": [
    "\n",
    "# Specify the variables and plot the boxplot\n",
    "sns.set_context(\"paper\")\n",
    "sns.set_theme()\n",
    "ax = sns.boxplot(data=deg_trip, x=\"filename\", y=\"UTR_length (ln)\", hue='molecularSubtype', palette='Set2')\n",
    "\n",
    "# Change the angle of x-axis labels\n",
    "plt.xticks(rotation=45)\n",
    "\n",
    "# Change the angle of y-axis label\n",
    "plt.yticks(rotation=45)\n",
    "\n",
    "# Show the plot\n",
    "plt.show()\n",
    "\n",
    "\n"
   ]
  },
  {
   "cell_type": "code",
   "execution_count": 12,
   "metadata": {},
   "outputs": [],
   "source": [
    "deg_trip = merged_pca[abs(merged_pca['log2FoldChange'])>2]"
   ]
  },
  {
   "cell_type": "code",
   "execution_count": 14,
   "metadata": {},
   "outputs": [
    {
     "name": "stderr",
     "output_type": "stream",
     "text": [
      "C:\\Users\\natdzi3\\AppData\\Local\\Temp\\ipykernel_20904\\3811085830.py:1: UserWarning: Boolean Series key will be reindexed to match DataFrame index.\n",
      "  deg_trip = deg_trip[merged_pca['baseMean']>50]\n"
     ]
    }
   ],
   "source": [
    "deg_trip = deg_trip[merged_pca['baseMean']>50]"
   ]
  },
  {
   "cell_type": "code",
   "execution_count": 42,
   "metadata": {},
   "outputs": [
    {
     "data": {
      "text/plain": [
       "filename     UTR_type \n",
       "SRR19969213  no change    298\n",
       "             shorter       64\n",
       "             longer         4\n",
       "SRR19969216  no change    205\n",
       "             shorter       51\n",
       "             longer         9\n",
       "SRR19969217  no change    118\n",
       "             shorter       23\n",
       "             longer         3\n",
       "SRR19969218  no change     91\n",
       "             shorter       20\n",
       "             longer         6\n",
       "SRR19969243  no change    294\n",
       "             shorter       61\n",
       "             longer         7\n",
       "SRR19969244  no change    169\n",
       "             shorter       50\n",
       "             longer         3\n",
       "SRR19969245  no change    128\n",
       "             shorter       27\n",
       "             longer         8\n",
       "SRR19969246  no change    113\n",
       "             shorter       36\n",
       "             longer        14\n",
       "Name: count, dtype: int64"
      ]
     },
     "execution_count": 42,
     "metadata": {},
     "output_type": "execute_result"
    }
   ],
   "source": [
    "# Group dataframe by molecular subtype\n",
    "grouped = merged_pca_her.groupby('filename')\n",
    "\n",
    "# Count the occurrences of longer and shorter UTR types\n",
    "counts = grouped['UTR_type'].value_counts()\n",
    "counts\n",
    "# counts.to_csv('counts_nosample.csv') # Save to file"
   ]
  },
  {
   "cell_type": "code",
   "execution_count": null,
   "metadata": {},
   "outputs": [],
   "source": []
  },
  {
   "cell_type": "code",
   "execution_count": 34,
   "metadata": {},
   "outputs": [
    {
     "data": {
      "image/png": "[encoded data removed]",
      "text/plain": [
       "<Figure size 1150x500 with 2 Axes>"
      ]
     },
     "metadata": {},
     "output_type": "display_data"
    }
   ],
   "source": [
    "# plt.figure(figsize=())\n",
    "g = sns.displot(merged_pca, x=\"UTR_length (ln)\", col='molecularSubtype', hue = 'molecularSubtype',  palette='Set2', bins=80, col_wrap=2)\n",
    "# g = plt.title(\"Rozkład długości 3'UTR (log) dla podtypów nowotworu piersi\")\n",
    "g = sns.set_theme()\n",
    "g = sns.set_context(\"paper\")\n",
    "\n",
    "\n",
    "\n",
    "# Set plot title and labels\n",
    "\n",
    "# plt.savefig(\"distribution_2.png\")"
   ]
  },
  {
   "cell_type": "code",
   "execution_count": 58,
   "metadata": {},
   "outputs": [],
   "source": [
    "df=df[(df['molecularSubtype']=='HER2+')]\n"
   ]
  },
  {
   "cell_type": "code",
   "execution_count": 59,
   "metadata": {},
   "outputs": [],
   "source": [
    "df2 = pd.read_csv('../../../DEG/HER_DEG/her_res.csv')"
   ]
  },
  {
   "cell_type": "code",
   "execution_count": 60,
   "metadata": {},
   "outputs": [],
   "source": [
    "merged_pca_her = pd.merge(df,df2, on='reference_id')"
   ]
  },
  {
   "cell_type": "code",
   "execution_count": 61,
   "metadata": {},
   "outputs": [],
   "source": [
    "merged_pca_her = merged_pca_her[merged_pca_her['padj']<0.05]"
   ]
  },
  {
   "cell_type": "code",
   "execution_count": 62,
   "metadata": {},
   "outputs": [],
   "source": [
    "merged_pca_her.to_csv('../../../DEG/HER_DEG/pca/pca_her.csv')"
   ]
  },
  {
   "cell_type": "code",
   "execution_count": 50,
   "metadata": {},
   "outputs": [],
   "source": [
    "merged_pca.to_csv('../../../DEG/DEG_triple/pca/pca_TNBC.csv')"
   ]
  },
  {
   "cell_type": "code",
   "execution_count": 36,
   "metadata": {},
   "outputs": [],
   "source": [
    "merged_pca_her=merged_pca_her.sort_values('molecularSubtype', ascending=False)"
   ]
  },
  {
   "cell_type": "code",
   "execution_count": 46,
   "metadata": {},
   "outputs": [
    {
     "data": {
      "image/png": "[encoded data removed]",
      "text/plain": [
       "<Figure size 640x480 with 1 Axes>"
      ]
     },
     "metadata": {},
     "output_type": "display_data"
    }
   ],
   "source": [
    "\n",
    "# Specify the variables and plot the boxplot\n",
    "sns.set_context(\"paper\")\n",
    "sns.set_theme()\n",
    "ax = sns.boxplot(data=merged_her_filter, x=\"filename\", y=\"UTR_length\", hue='molecularSubtype', palette='Set2')\n",
    "\n",
    "# Change the angle of x-axis labels\n",
    "plt.xticks(rotation=45)\n",
    "\n",
    "# Change the angle of y-axis label\n",
    "plt.yticks(rotation=45)\n",
    "\n",
    "# Show the plot\n",
    "plt.show()\n",
    "\n",
    "\n"
   ]
  },
  {
   "cell_type": "code",
   "execution_count": 38,
   "metadata": {},
   "outputs": [],
   "source": [
    "merged_her_filter = merged_pca_her[(abs(merged_pca_her['log2FoldChange'])>2)&(merged_pca_her['baseMean']>50)]"
   ]
  },
  {
   "cell_type": "code",
   "execution_count": 51,
   "metadata": {},
   "outputs": [
    {
     "data": {
      "text/html": [
       "<div>\n",
       "<style scoped>\n",
       "    .dataframe tbody tr th:only-of-type {\n",
       "        vertical-align: middle;\n",
       "    }\n",
       "\n",
       "    .dataframe tbody tr th {\n",
       "        vertical-align: top;\n",
       "    }\n",
       "\n",
       "    .dataframe thead th {\n",
       "        text-align: right;\n",
       "    }\n",
       "</style>\n",
       "<table border=\"1\" class=\"dataframe\">\n",
       "  <thead>\n",
       "    <tr style=\"text-align: right;\">\n",
       "      <th></th>\n",
       "      <th>seqname</th>\n",
       "      <th>source</th>\n",
       "      <th>feature</th>\n",
       "      <th>start</th>\n",
       "      <th>end</th>\n",
       "      <th>strand</th>\n",
       "      <th>ref_gene_id</th>\n",
       "      <th>reference_id</th>\n",
       "      <th>filename</th>\n",
       "      <th>transcript_length</th>\n",
       "      <th>...</th>\n",
       "      <th>ref_UTR_length</th>\n",
       "      <th>UTR_diff</th>\n",
       "      <th>UTR_length (ln)</th>\n",
       "      <th>UTR_type</th>\n",
       "      <th>baseMean</th>\n",
       "      <th>log2FoldChange</th>\n",
       "      <th>lfcSE</th>\n",
       "      <th>stat</th>\n",
       "      <th>pvalue</th>\n",
       "      <th>padj</th>\n",
       "    </tr>\n",
       "  </thead>\n",
       "  <tbody>\n",
       "    <tr>\n",
       "      <th>19398</th>\n",
       "      <td>chr19</td>\n",
       "      <td>StringTie</td>\n",
       "      <td>transcript</td>\n",
       "      <td>9755357</td>\n",
       "      <td>9768738</td>\n",
       "      <td>-</td>\n",
       "      <td>ZNF846</td>\n",
       "      <td>NM_001353798.2</td>\n",
       "      <td>SRR19969216</td>\n",
       "      <td>13381</td>\n",
       "      <td>...</td>\n",
       "      <td>2118</td>\n",
       "      <td>0</td>\n",
       "      <td>7.658228</td>\n",
       "      <td>no change</td>\n",
       "      <td>155.878912</td>\n",
       "      <td>-0.447742</td>\n",
       "      <td>0.150383</td>\n",
       "      <td>-2.977335</td>\n",
       "      <td>2.907664e-03</td>\n",
       "      <td>0.036350</td>\n",
       "    </tr>\n",
       "    <tr>\n",
       "      <th>19396</th>\n",
       "      <td>chr12</td>\n",
       "      <td>aptardi</td>\n",
       "      <td>transcript</td>\n",
       "      <td>133037509</td>\n",
       "      <td>133059653</td>\n",
       "      <td>+</td>\n",
       "      <td>ZNF84</td>\n",
       "      <td>NM_001289971.2</td>\n",
       "      <td>SRR19969216</td>\n",
       "      <td>22144</td>\n",
       "      <td>...</td>\n",
       "      <td>4367</td>\n",
       "      <td>-3646</td>\n",
       "      <td>6.580639</td>\n",
       "      <td>shorter</td>\n",
       "      <td>730.901658</td>\n",
       "      <td>-0.452191</td>\n",
       "      <td>0.133869</td>\n",
       "      <td>-3.377869</td>\n",
       "      <td>7.304989e-04</td>\n",
       "      <td>0.013302</td>\n",
       "    </tr>\n",
       "    <tr>\n",
       "      <th>9983</th>\n",
       "      <td>chr1</td>\n",
       "      <td>aptardi</td>\n",
       "      <td>transcript</td>\n",
       "      <td>71006885</td>\n",
       "      <td>71047816</td>\n",
       "      <td>-</td>\n",
       "      <td>PTGER3</td>\n",
       "      <td>NM_198715.3</td>\n",
       "      <td>SRR19969213</td>\n",
       "      <td>40931</td>\n",
       "      <td>...</td>\n",
       "      <td>6355</td>\n",
       "      <td>-1025</td>\n",
       "      <td>8.581107</td>\n",
       "      <td>shorter</td>\n",
       "      <td>665.183722</td>\n",
       "      <td>-2.517262</td>\n",
       "      <td>0.565605</td>\n",
       "      <td>-4.450565</td>\n",
       "      <td>8.564468e-06</td>\n",
       "      <td>0.000445</td>\n",
       "    </tr>\n",
       "    <tr>\n",
       "      <th>4662</th>\n",
       "      <td>chr1</td>\n",
       "      <td>StringTie</td>\n",
       "      <td>transcript</td>\n",
       "      <td>209675412</td>\n",
       "      <td>209676390</td>\n",
       "      <td>+</td>\n",
       "      <td>G0S2</td>\n",
       "      <td>NM_015714.4</td>\n",
       "      <td>SRR19969213</td>\n",
       "      <td>978</td>\n",
       "      <td>...</td>\n",
       "      <td>394</td>\n",
       "      <td>0</td>\n",
       "      <td>5.976351</td>\n",
       "      <td>no change</td>\n",
       "      <td>1491.361613</td>\n",
       "      <td>-3.751046</td>\n",
       "      <td>0.730105</td>\n",
       "      <td>-5.137679</td>\n",
       "      <td>2.781524e-07</td>\n",
       "      <td>0.000030</td>\n",
       "    </tr>\n",
       "    <tr>\n",
       "      <th>9982</th>\n",
       "      <td>chr1</td>\n",
       "      <td>StringTie</td>\n",
       "      <td>transcript</td>\n",
       "      <td>71005860</td>\n",
       "      <td>71047816</td>\n",
       "      <td>-</td>\n",
       "      <td>PTGER3</td>\n",
       "      <td>NM_198715.3</td>\n",
       "      <td>SRR19969213</td>\n",
       "      <td>41956</td>\n",
       "      <td>...</td>\n",
       "      <td>6355</td>\n",
       "      <td>0</td>\n",
       "      <td>8.756997</td>\n",
       "      <td>no change</td>\n",
       "      <td>665.183722</td>\n",
       "      <td>-2.517262</td>\n",
       "      <td>0.565605</td>\n",
       "      <td>-4.450565</td>\n",
       "      <td>8.564468e-06</td>\n",
       "      <td>0.000445</td>\n",
       "    </tr>\n",
       "    <tr>\n",
       "      <th>...</th>\n",
       "      <td>...</td>\n",
       "      <td>...</td>\n",
       "      <td>...</td>\n",
       "      <td>...</td>\n",
       "      <td>...</td>\n",
       "      <td>...</td>\n",
       "      <td>...</td>\n",
       "      <td>...</td>\n",
       "      <td>...</td>\n",
       "      <td>...</td>\n",
       "      <td>...</td>\n",
       "      <td>...</td>\n",
       "      <td>...</td>\n",
       "      <td>...</td>\n",
       "      <td>...</td>\n",
       "      <td>...</td>\n",
       "      <td>...</td>\n",
       "      <td>...</td>\n",
       "      <td>...</td>\n",
       "      <td>...</td>\n",
       "      <td>...</td>\n",
       "    </tr>\n",
       "    <tr>\n",
       "      <th>8851</th>\n",
       "      <td>chr11</td>\n",
       "      <td>StringTie</td>\n",
       "      <td>transcript</td>\n",
       "      <td>73272142</td>\n",
       "      <td>73298625</td>\n",
       "      <td>+</td>\n",
       "      <td>P2RY6</td>\n",
       "      <td>NM_001277208.1</td>\n",
       "      <td>SRR19969243</td>\n",
       "      <td>26483</td>\n",
       "      <td>...</td>\n",
       "      <td>1120</td>\n",
       "      <td>0</td>\n",
       "      <td>7.021084</td>\n",
       "      <td>no change</td>\n",
       "      <td>286.715835</td>\n",
       "      <td>1.634180</td>\n",
       "      <td>0.369356</td>\n",
       "      <td>4.424400</td>\n",
       "      <td>9.671074e-06</td>\n",
       "      <td>0.000494</td>\n",
       "    </tr>\n",
       "    <tr>\n",
       "      <th>8852</th>\n",
       "      <td>chr11</td>\n",
       "      <td>aptardi</td>\n",
       "      <td>transcript</td>\n",
       "      <td>73272142</td>\n",
       "      <td>73297884</td>\n",
       "      <td>+</td>\n",
       "      <td>P2RY6</td>\n",
       "      <td>NM_001277208.1</td>\n",
       "      <td>SRR19969245</td>\n",
       "      <td>25742</td>\n",
       "      <td>...</td>\n",
       "      <td>1120</td>\n",
       "      <td>-741</td>\n",
       "      <td>5.937536</td>\n",
       "      <td>shorter</td>\n",
       "      <td>286.715835</td>\n",
       "      <td>1.634180</td>\n",
       "      <td>0.369356</td>\n",
       "      <td>4.424400</td>\n",
       "      <td>9.671074e-06</td>\n",
       "      <td>0.000494</td>\n",
       "    </tr>\n",
       "    <tr>\n",
       "      <th>8305</th>\n",
       "      <td>chr1</td>\n",
       "      <td>StringTie</td>\n",
       "      <td>transcript</td>\n",
       "      <td>211662772</td>\n",
       "      <td>211675621</td>\n",
       "      <td>-</td>\n",
       "      <td>NEK2</td>\n",
       "      <td>NM_002497.4</td>\n",
       "      <td>SRR19969243</td>\n",
       "      <td>12849</td>\n",
       "      <td>...</td>\n",
       "      <td>654</td>\n",
       "      <td>0</td>\n",
       "      <td>6.483107</td>\n",
       "      <td>no change</td>\n",
       "      <td>174.167525</td>\n",
       "      <td>2.822556</td>\n",
       "      <td>0.706187</td>\n",
       "      <td>3.996896</td>\n",
       "      <td>6.417858e-05</td>\n",
       "      <td>0.002206</td>\n",
       "    </tr>\n",
       "    <tr>\n",
       "      <th>8414</th>\n",
       "      <td>chr17</td>\n",
       "      <td>StringTie</td>\n",
       "      <td>transcript</td>\n",
       "      <td>51153559</td>\n",
       "      <td>51162089</td>\n",
       "      <td>+</td>\n",
       "      <td>NME1</td>\n",
       "      <td>NM_198175.1</td>\n",
       "      <td>SRR19969245</td>\n",
       "      <td>8530</td>\n",
       "      <td>...</td>\n",
       "      <td>244</td>\n",
       "      <td>0</td>\n",
       "      <td>5.497168</td>\n",
       "      <td>no change</td>\n",
       "      <td>1699.391411</td>\n",
       "      <td>1.086786</td>\n",
       "      <td>0.261695</td>\n",
       "      <td>4.152878</td>\n",
       "      <td>3.283204e-05</td>\n",
       "      <td>0.001314</td>\n",
       "    </tr>\n",
       "    <tr>\n",
       "      <th>12818</th>\n",
       "      <td>chr1</td>\n",
       "      <td>aptardi</td>\n",
       "      <td>transcript</td>\n",
       "      <td>201955503</td>\n",
       "      <td>201970368</td>\n",
       "      <td>+</td>\n",
       "      <td>TIMM17A</td>\n",
       "      <td>NM_006335.3</td>\n",
       "      <td>SRR19969245</td>\n",
       "      <td>14865</td>\n",
       "      <td>...</td>\n",
       "      <td>1110</td>\n",
       "      <td>-296</td>\n",
       "      <td>6.701960</td>\n",
       "      <td>shorter</td>\n",
       "      <td>1279.334428</td>\n",
       "      <td>0.900074</td>\n",
       "      <td>0.253991</td>\n",
       "      <td>3.543724</td>\n",
       "      <td>3.945184e-04</td>\n",
       "      <td>0.008619</td>\n",
       "    </tr>\n",
       "  </tbody>\n",
       "</table>\n",
       "<p>1802 rows × 24 columns</p>\n",
       "</div>"
      ],
      "text/plain": [
       "      seqname     source     feature      start        end strand ref_gene_id   \n",
       "19398   chr19  StringTie  transcript    9755357    9768738      -      ZNF846  \\\n",
       "19396   chr12    aptardi  transcript  133037509  133059653      +       ZNF84   \n",
       "9983     chr1    aptardi  transcript   71006885   71047816      -      PTGER3   \n",
       "4662     chr1  StringTie  transcript  209675412  209676390      +        G0S2   \n",
       "9982     chr1  StringTie  transcript   71005860   71047816      -      PTGER3   \n",
       "...       ...        ...         ...        ...        ...    ...         ...   \n",
       "8851    chr11  StringTie  transcript   73272142   73298625      +       P2RY6   \n",
       "8852    chr11    aptardi  transcript   73272142   73297884      +       P2RY6   \n",
       "8305     chr1  StringTie  transcript  211662772  211675621      -        NEK2   \n",
       "8414    chr17  StringTie  transcript   51153559   51162089      +        NME1   \n",
       "12818    chr1    aptardi  transcript  201955503  201970368      +     TIMM17A   \n",
       "\n",
       "         reference_id     filename  transcript_length  ... ref_UTR_length   \n",
       "19398  NM_001353798.2  SRR19969216              13381  ...           2118  \\\n",
       "19396  NM_001289971.2  SRR19969216              22144  ...           4367   \n",
       "9983      NM_198715.3  SRR19969213              40931  ...           6355   \n",
       "4662      NM_015714.4  SRR19969213                978  ...            394   \n",
       "9982      NM_198715.3  SRR19969213              41956  ...           6355   \n",
       "...               ...          ...                ...  ...            ...   \n",
       "8851   NM_001277208.1  SRR19969243              26483  ...           1120   \n",
       "8852   NM_001277208.1  SRR19969245              25742  ...           1120   \n",
       "8305      NM_002497.4  SRR19969243              12849  ...            654   \n",
       "8414      NM_198175.1  SRR19969245               8530  ...            244   \n",
       "12818     NM_006335.3  SRR19969245              14865  ...           1110   \n",
       "\n",
       "       UTR_diff  UTR_length (ln)   UTR_type     baseMean  log2FoldChange   \n",
       "19398         0         7.658228  no change   155.878912       -0.447742  \\\n",
       "19396     -3646         6.580639    shorter   730.901658       -0.452191   \n",
       "9983      -1025         8.581107    shorter   665.183722       -2.517262   \n",
       "4662          0         5.976351  no change  1491.361613       -3.751046   \n",
       "9982          0         8.756997  no change   665.183722       -2.517262   \n",
       "...         ...              ...        ...          ...             ...   \n",
       "8851          0         7.021084  no change   286.715835        1.634180   \n",
       "8852       -741         5.937536    shorter   286.715835        1.634180   \n",
       "8305          0         6.483107  no change   174.167525        2.822556   \n",
       "8414          0         5.497168  no change  1699.391411        1.086786   \n",
       "12818      -296         6.701960    shorter  1279.334428        0.900074   \n",
       "\n",
       "          lfcSE      stat        pvalue      padj  \n",
       "19398  0.150383 -2.977335  2.907664e-03  0.036350  \n",
       "19396  0.133869 -3.377869  7.304989e-04  0.013302  \n",
       "9983   0.565605 -4.450565  8.564468e-06  0.000445  \n",
       "4662   0.730105 -5.137679  2.781524e-07  0.000030  \n",
       "9982   0.565605 -4.450565  8.564468e-06  0.000445  \n",
       "...         ...       ...           ...       ...  \n",
       "8851   0.369356  4.424400  9.671074e-06  0.000494  \n",
       "8852   0.369356  4.424400  9.671074e-06  0.000494  \n",
       "8305   0.706187  3.996896  6.417858e-05  0.002206  \n",
       "8414   0.261695  4.152878  3.283204e-05  0.001314  \n",
       "12818  0.253991  3.543724  3.945184e-04  0.008619  \n",
       "\n",
       "[1802 rows x 24 columns]"
      ]
     },
     "execution_count": 51,
     "metadata": {},
     "output_type": "execute_result"
    }
   ],
   "source": [
    "merged_pca_her"
   ]
  },
  {
   "cell_type": "code",
   "execution_count": 68,
   "metadata": {},
   "outputs": [],
   "source": [
    "pca_concat = pd.concat([merged_pca, merged_pca_her])"
   ]
  },
  {
   "cell_type": "code",
   "execution_count": 69,
   "metadata": {},
   "outputs": [],
   "source": [
    "pca_concat.to_csv('../../../DEG/HER_DEG/pca/pca_concat2.csv')"
   ]
  }
 ],
 "metadata": {
  "kernelspec": {
   "display_name": "Python 3",
   "language": "python",
   "name": "python3"
  },
  "language_info": {
   "codemirror_mode": {
    "name": "ipython",
    "version": 3
   },
   "file_extension": ".py",
   "mimetype": "text/x-python",
   "name": "python",
   "nbconvert_exporter": "python",
   "pygments_lexer": "ipython3",
   "version": "3.11.4"
  },
  "orig_nbformat": 4
 },
 "nbformat": 4,
 "nbformat_minor": 2
}
