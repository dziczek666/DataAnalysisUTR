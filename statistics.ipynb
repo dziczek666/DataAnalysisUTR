{
 "cells": [
  {
   "cell_type": "code",
   "execution_count": 3,
   "metadata": {},
   "outputs": [],
   "source": [
    "# Import packages\n",
    "import pandas as pd\n",
    "import numpy as np\n",
    "import os\n",
    "import numpy as np\n",
    "from scipy import stats\n",
    "from sklearn.preprocessing import RobustScaler"
   ]
  },
  {
   "cell_type": "code",
   "execution_count": 25,
   "metadata": {},
   "outputs": [
    {
     "data": {
      "text/html": [
       "<div>\n",
       "<style scoped>\n",
       "    .dataframe tbody tr th:only-of-type {\n",
       "        vertical-align: middle;\n",
       "    }\n",
       "\n",
       "    .dataframe tbody tr th {\n",
       "        vertical-align: top;\n",
       "    }\n",
       "\n",
       "    .dataframe thead th {\n",
       "        text-align: right;\n",
       "    }\n",
       "</style>\n",
       "<table border=\"1\" class=\"dataframe\">\n",
       "  <thead>\n",
       "    <tr style=\"text-align: right;\">\n",
       "      <th></th>\n",
       "      <th>seqname</th>\n",
       "      <th>source</th>\n",
       "      <th>feature</th>\n",
       "      <th>start</th>\n",
       "      <th>end</th>\n",
       "      <th>strand</th>\n",
       "      <th>ref_gene_id</th>\n",
       "      <th>reference_id</th>\n",
       "      <th>transcript_length</th>\n",
       "      <th>molecularSubtype</th>\n",
       "      <th>Start_UTRref</th>\n",
       "      <th>End_UTRref</th>\n",
       "      <th>UTR_length</th>\n",
       "      <th>ref_UTR_length</th>\n",
       "      <th>UTR_diff</th>\n",
       "      <th>UTR_log</th>\n",
       "      <th>UTR_type</th>\n",
       "      <th>z_score_diff</th>\n",
       "      <th>scaled_diff</th>\n",
       "    </tr>\n",
       "  </thead>\n",
       "  <tbody>\n",
       "    <tr>\n",
       "      <th>0</th>\n",
       "      <td>chr22</td>\n",
       "      <td>StringTie</td>\n",
       "      <td>transcript</td>\n",
       "      <td>42692115</td>\n",
       "      <td>42720870</td>\n",
       "      <td>-</td>\n",
       "      <td>A4GALT</td>\n",
       "      <td>XM_005261647.3</td>\n",
       "      <td>28755</td>\n",
       "      <td>HER2+</td>\n",
       "      <td>42692114</td>\n",
       "      <td>42692889</td>\n",
       "      <td>775</td>\n",
       "      <td>775</td>\n",
       "      <td>0</td>\n",
       "      <td>6.652863</td>\n",
       "      <td>no change</td>\n",
       "      <td>0.055836</td>\n",
       "      <td>0.0</td>\n",
       "    </tr>\n",
       "    <tr>\n",
       "      <th>1</th>\n",
       "      <td>chr12</td>\n",
       "      <td>StringTie</td>\n",
       "      <td>transcript</td>\n",
       "      <td>31959449</td>\n",
       "      <td>31987302</td>\n",
       "      <td>+</td>\n",
       "      <td>RESF1</td>\n",
       "      <td>XM_006719099.3</td>\n",
       "      <td>27853</td>\n",
       "      <td>HER2+</td>\n",
       "      <td>31987212</td>\n",
       "      <td>31987302</td>\n",
       "      <td>90</td>\n",
       "      <td>90</td>\n",
       "      <td>0</td>\n",
       "      <td>4.499810</td>\n",
       "      <td>no change</td>\n",
       "      <td>0.055836</td>\n",
       "      <td>0.0</td>\n",
       "    </tr>\n",
       "    <tr>\n",
       "      <th>2</th>\n",
       "      <td>chr4</td>\n",
       "      <td>StringTie</td>\n",
       "      <td>transcript</td>\n",
       "      <td>56907900</td>\n",
       "      <td>56935844</td>\n",
       "      <td>+</td>\n",
       "      <td>REST</td>\n",
       "      <td>NM_005612.5</td>\n",
       "      <td>27944</td>\n",
       "      <td>HER2+</td>\n",
       "      <td>56932152</td>\n",
       "      <td>56935844</td>\n",
       "      <td>3692</td>\n",
       "      <td>3692</td>\n",
       "      <td>0</td>\n",
       "      <td>8.213924</td>\n",
       "      <td>no change</td>\n",
       "      <td>0.055836</td>\n",
       "      <td>0.0</td>\n",
       "    </tr>\n",
       "    <tr>\n",
       "      <th>3</th>\n",
       "      <td>chr19</td>\n",
       "      <td>StringTie</td>\n",
       "      <td>transcript</td>\n",
       "      <td>7669049</td>\n",
       "      <td>7670455</td>\n",
       "      <td>+</td>\n",
       "      <td>RETN</td>\n",
       "      <td>NM_020415.4</td>\n",
       "      <td>1406</td>\n",
       "      <td>HER2+</td>\n",
       "      <td>7670349</td>\n",
       "      <td>7670455</td>\n",
       "      <td>106</td>\n",
       "      <td>106</td>\n",
       "      <td>0</td>\n",
       "      <td>4.663439</td>\n",
       "      <td>no change</td>\n",
       "      <td>0.055836</td>\n",
       "      <td>0.0</td>\n",
       "    </tr>\n",
       "    <tr>\n",
       "      <th>4</th>\n",
       "      <td>chr19</td>\n",
       "      <td>StringTie</td>\n",
       "      <td>transcript</td>\n",
       "      <td>18588798</td>\n",
       "      <td>18592337</td>\n",
       "      <td>+</td>\n",
       "      <td>REX1BD</td>\n",
       "      <td>NM_001100418.2</td>\n",
       "      <td>3539</td>\n",
       "      <td>HER2+</td>\n",
       "      <td>18592180</td>\n",
       "      <td>18592337</td>\n",
       "      <td>157</td>\n",
       "      <td>157</td>\n",
       "      <td>0</td>\n",
       "      <td>5.056246</td>\n",
       "      <td>no change</td>\n",
       "      <td>0.055836</td>\n",
       "      <td>0.0</td>\n",
       "    </tr>\n",
       "  </tbody>\n",
       "</table>\n",
       "</div>"
      ],
      "text/plain": [
       "  seqname     source     feature     start       end strand ref_gene_id   \n",
       "0   chr22  StringTie  transcript  42692115  42720870      -      A4GALT  \\\n",
       "1   chr12  StringTie  transcript  31959449  31987302      +       RESF1   \n",
       "2    chr4  StringTie  transcript  56907900  56935844      +        REST   \n",
       "3   chr19  StringTie  transcript   7669049   7670455      +        RETN   \n",
       "4   chr19  StringTie  transcript  18588798  18592337      +      REX1BD   \n",
       "\n",
       "     reference_id  transcript_length molecularSubtype  Start_UTRref   \n",
       "0  XM_005261647.3              28755            HER2+      42692114  \\\n",
       "1  XM_006719099.3              27853            HER2+      31987212   \n",
       "2     NM_005612.5              27944            HER2+      56932152   \n",
       "3     NM_020415.4               1406            HER2+       7670349   \n",
       "4  NM_001100418.2               3539            HER2+      18592180   \n",
       "\n",
       "   End_UTRref  UTR_length  ref_UTR_length  UTR_diff   UTR_log   UTR_type   \n",
       "0    42692889         775             775         0  6.652863  no change  \\\n",
       "1    31987302          90              90         0  4.499810  no change   \n",
       "2    56935844        3692            3692         0  8.213924  no change   \n",
       "3     7670455         106             106         0  4.663439  no change   \n",
       "4    18592337         157             157         0  5.056246  no change   \n",
       "\n",
       "   z_score_diff  scaled_diff  \n",
       "0      0.055836          0.0  \n",
       "1      0.055836          0.0  \n",
       "2      0.055836          0.0  \n",
       "3      0.055836          0.0  \n",
       "4      0.055836          0.0  "
      ]
     },
     "execution_count": 25,
     "metadata": {},
     "output_type": "execute_result"
    }
   ],
   "source": [
    "df = pd.read_csv('UTR_official.csv')\n",
    "df.head()"
   ]
  },
  {
   "cell_type": "code",
   "execution_count": null,
   "metadata": {},
   "outputs": [],
   "source": [
    "# Assuming you have a DataFrame named 'df' with columns 'molecularSubtype', 'gene_id', and 'utr lengths'\n",
    "\n",
    "# Group by 'molecularSubtype' and 'gene_id', and filter out rows with the same 'utr lengths'\n",
    "filtered_df = df.groupby(['molecularSubtype', 'ref_gene_id']).apply(lambda x: x.drop_duplicates(subset='UTR_length'))\n",
    "\n",
    "# Reset the index of the filtered DataFrame\n",
    "filtered_df = filtered_df.reset_index(drop=True)\n",
    "\n",
    "# Print the resulting DataFrame\n",
    "print(filtered_df)"
   ]
  },
  {
   "cell_type": "code",
   "execution_count": 30,
   "metadata": {},
   "outputs": [],
   "source": [
    "# # Calculate the Z-scores\n",
    "# df['z_score_diff'] = stats.zscore(df['UTR_diff'])\n",
    "\n",
    "# # Create a RobustScaler object\n",
    "# scaler = RobustScaler()\n",
    "\n",
    "# # Extract one column as a NumPy array\n",
    "# column_array = df['UTR_diff'].values\n",
    "\n",
    "# # Reshape the array to a 2D array\n",
    "# reshaped_array = column_array.reshape(-1, 1)\n",
    "\n",
    "# # Fit the scaler to the dataset and transform the data\n",
    "# df['scaled_diff'] = scaler.fit_transform(reshaped_array)"
   ]
  },
  {
   "cell_type": "code",
   "execution_count": 26,
   "metadata": {},
   "outputs": [],
   "source": [
    "# Group df by molecular subtype and save to grouped df\n",
    "grouped = df.groupby('molecularSubtype')\n",
    "\n",
    "\n",
    "# Create separate dataframes for each group and save them to individual files\n",
    "for group_name, group_data in grouped:\n",
    "    # Extract the log_UTR column for the group\n",
    "    log_UTR_data = group_data['UTR_log']\n",
    "    \n",
    "    # Create a new dataframe with the log_UTR column\n",
    "    group_df = pd.DataFrame({'UTR_log': log_UTR_data})\n",
    "    \n",
    "    # Save the dataframe to a file named by type\n",
    "    filename = f\"{group_name}_UTR_log.csv\"\n",
    "    group_df.to_csv(filename, index=False)"
   ]
  },
  {
   "cell_type": "code",
   "execution_count": 27,
   "metadata": {},
   "outputs": [],
   "source": [
    "lumA = pd.read_csv(\"luminal A_UTR_log.csv\")\n",
    "lumB = pd.read_csv(\"luminal B_UTR_log.csv\")\n",
    "her = pd.read_csv(\"HER2+_UTR_log.csv\")\n",
    "triple = pd.read_csv(\"triple negative_UTR_log.csv\")\n",
    "control = pd.read_csv('Uninvolved_UTR_log.csv')"
   ]
  },
  {
   "cell_type": "code",
   "execution_count": 7,
   "metadata": {},
   "outputs": [],
   "source": [
    "def shapiro_wilk_normality_test(data, alpha=0.05):\n",
    "    \"\"\"\n",
    "    Performs the Shapiro-Wilk normality test on the given data.\n",
    "\n",
    "    Args:\n",
    "        data: 1-D array-like or iterable. The data to be tested for normality.\n",
    "        alpha: float, optional. The significance level. Default is 0.05.\n",
    "\n",
    "    Returns:\n",
    "        None. Prints the test result indicating if the data follows a normal distribution or not.\n",
    "    \"\"\"\n",
    "    statistic, p_value = stats.shapiro(data)\n",
    "\n",
    "    print(f\"Shapiro-Wilk Test: statistic = {statistic}, p-value = {p_value}\")\n",
    "\n",
    "    if p_value > alpha:\n",
    "        print(\"The data follows a normal distribution\")\n",
    "    else:\n",
    "        print(\"The data does not follow a normal distribution\")"
   ]
  },
  {
   "cell_type": "code",
   "execution_count": 28,
   "metadata": {},
   "outputs": [
    {
     "name": "stdout",
     "output_type": "stream",
     "text": [
      "Shapiro-Wilk Test: statistic = 0.9873398542404175, p-value = 7.969729071004432e-30\n",
      "The data does not follow a normal distribution\n"
     ]
    },
    {
     "name": "stderr",
     "output_type": "stream",
     "text": [
      "C:\\Users\\natdzi3\\AppData\\Local\\Packages\\PythonSoftwareFoundation.Python.3.11_qbz5n2kfra8p0\\LocalCache\\local-packages\\Python311\\site-packages\\scipy\\stats\\_morestats.py:1816: UserWarning: p-value may not be accurate for N > 5000.\n",
      "  warnings.warn(\"p-value may not be accurate for N > 5000.\")\n"
     ]
    }
   ],
   "source": [
    "shapiro_wilk_normality_test(lumA)"
   ]
  },
  {
   "cell_type": "code",
   "execution_count": 29,
   "metadata": {},
   "outputs": [
    {
     "name": "stdout",
     "output_type": "stream",
     "text": [
      "Shapiro-Wilk Test: statistic = 0.98769211769104, p-value = 2.3530074674308128e-29\n",
      "The data does not follow a normal distribution\n"
     ]
    }
   ],
   "source": [
    "shapiro_wilk_normality_test(lumB)"
   ]
  },
  {
   "cell_type": "code",
   "execution_count": 30,
   "metadata": {},
   "outputs": [
    {
     "name": "stdout",
     "output_type": "stream",
     "text": [
      "Shapiro-Wilk Test: statistic = 0.9881249070167542, p-value = 3.4104060510124286e-29\n",
      "The data does not follow a normal distribution\n"
     ]
    }
   ],
   "source": [
    "shapiro_wilk_normality_test(triple)"
   ]
  },
  {
   "cell_type": "code",
   "execution_count": 31,
   "metadata": {},
   "outputs": [
    {
     "name": "stdout",
     "output_type": "stream",
     "text": [
      "Shapiro-Wilk Test: statistic = 0.9883401393890381, p-value = 1.0132591882438323e-28\n",
      "The data does not follow a normal distribution\n"
     ]
    }
   ],
   "source": [
    "shapiro_wilk_normality_test(her)"
   ]
  },
  {
   "cell_type": "code",
   "execution_count": 38,
   "metadata": {},
   "outputs": [
    {
     "name": "stdout",
     "output_type": "stream",
     "text": [
      "Shapiro-Wilk Test: statistic = 0.9872274994850159, p-value = 4.48163994355407e-28\n",
      "The data does not follow a normal distribution\n"
     ]
    }
   ],
   "source": [
    "shapiro_wilk_normality_test(control)"
   ]
  },
  {
   "cell_type": "code",
   "execution_count": 11,
   "metadata": {},
   "outputs": [
    {
     "data": {
      "text/plain": [
       "LeveneResult(statistic=1.1791196458589035, pvalue=0.3176581299160864)"
      ]
     },
     "execution_count": 11,
     "metadata": {},
     "output_type": "execute_result"
    }
   ],
   "source": [
    "datasets = [lumA['UTR_log'], lumB['UTR_log'], her['UTR_log'], triple['UTR_log'], control['UTR_log']]\n",
    "\n",
    "from scipy.stats import levene\n",
    "stats.levene(lumA['UTR_log'], lumB['UTR_log'], her['UTR_log'], triple['UTR_log'], control['UTR_log'])\n"
   ]
  },
  {
   "cell_type": "code",
   "execution_count": 32,
   "metadata": {},
   "outputs": [
    {
     "data": {
      "text/plain": [
       "BartlettResult(statistic=3.710680989900556, pvalue=0.4465743405759024)"
      ]
     },
     "execution_count": 32,
     "metadata": {},
     "output_type": "execute_result"
    }
   ],
   "source": [
    "stats.bartlett(lumA['UTR_log'], lumB['UTR_log'], her['UTR_log'], triple['UTR_log'], control['UTR_log'])"
   ]
  },
  {
   "cell_type": "code",
   "execution_count": 13,
   "metadata": {},
   "outputs": [],
   "source": [
    "from scipy.stats import mannwhitneyu\n",
    "\n",
    "def compare_datasets(control, test):\n",
    "    \"\"\"\n",
    "    Performs the Mann-Whitney U test to compare two datasets.\n",
    "\n",
    "    Args:\n",
    "        control: array-like. The control dataset.\n",
    "        test: array-like. The test dataset.\n",
    "\n",
    "    Returns:\n",
    "        None. Prints the test result indicating if the datasets are significantly different.\n",
    "    \"\"\"\n",
    "    statistic, p_value = mannwhitneyu(control, test, alternative='two-sided')\n",
    "\n",
    "    alpha = 0.05  # Significance level\n",
    "\n",
    "    print(f\"Mann-Whitney U Test - Statistic = {statistic}, p-value = {p_value}\")\n",
    "    if p_value < alpha:\n",
    "        print(\"The datasets are significantly different\")\n",
    "    else:\n",
    "        print(\"The datasets are not significantly different\")"
   ]
  },
  {
   "cell_type": "code",
   "execution_count": null,
   "metadata": {},
   "outputs": [],
   "source": [
    "compare_datasets(control['UTR_length'], triple['UTR_length'])"
   ]
  },
  {
   "cell_type": "code",
   "execution_count": 34,
   "metadata": {},
   "outputs": [
    {
     "name": "stdout",
     "output_type": "stream",
     "text": [
      "Mann-Whitney U Test - Statistic = 50106802.0, p-value = 0.673520942946905\n",
      "The datasets are not significantly different\n"
     ]
    }
   ],
   "source": [
    "compare_datasets(control['UTR_log'], lumA['UTR_log'])"
   ]
  },
  {
   "cell_type": "code",
   "execution_count": 35,
   "metadata": {},
   "outputs": [
    {
     "name": "stdout",
     "output_type": "stream",
     "text": [
      "Mann-Whitney U Test - Statistic = 49808369.0, p-value = 0.5310614845107089\n",
      "The datasets are not significantly different\n"
     ]
    }
   ],
   "source": [
    "compare_datasets(control['UTR_log'], lumB['UTR_log'])"
   ]
  },
  {
   "cell_type": "code",
   "execution_count": 36,
   "metadata": {},
   "outputs": [
    {
     "name": "stdout",
     "output_type": "stream",
     "text": [
      "Mann-Whitney U Test - Statistic = 50503644.5, p-value = 0.10222487669703482\n",
      "The datasets are not significantly different\n"
     ]
    }
   ],
   "source": [
    "compare_datasets(control['UTR_log'], her['UTR_log'])"
   ]
  },
  {
   "cell_type": "code",
   "execution_count": 37,
   "metadata": {},
   "outputs": [],
   "source": [
    "# Group df by molecular subtype and save to grouped df\n",
    "grouped = df.groupby('molecularSubtype')\n",
    "\n",
    "\n",
    "# Create separate dataframes for each group and save them to individual files\n",
    "for group_name, group_data in grouped:\n",
    "    # Extract the log_UTR column for the group\n",
    "    log_UTR_data = group_data['scaled_diff']\n",
    "    \n",
    "    # Create a new dataframe with the log_UTR column\n",
    "    group_df = pd.DataFrame({'scaled_diff': log_UTR_data})\n",
    "    \n",
    "    # Save the dataframe to a file named by type\n",
    "    filename = f\"{group_name}_scaled_diff.csv\"\n",
    "    group_df.to_csv(filename, index=False)"
   ]
  },
  {
   "cell_type": "code",
   "execution_count": 38,
   "metadata": {},
   "outputs": [],
   "source": [
    "lumA = pd.read_csv(\"luminal A_scaled_diff.csv\")\n",
    "lumB = pd.read_csv(\"luminal B_scaled_diff.csv\")\n",
    "her = pd.read_csv(\"HER2+_scaled_diff.csv\")\n",
    "triple = pd.read_csv(\"triple negative_scaled_diff.csv\")\n",
    "control = pd.read_csv('Uninvolved_scaled_diff.csv')"
   ]
  },
  {
   "cell_type": "code",
   "execution_count": 39,
   "metadata": {},
   "outputs": [
    {
     "name": "stdout",
     "output_type": "stream",
     "text": [
      "Mann-Whitney U Test - Statistic = 50440379.5, p-value = 0.04130589120422983\n",
      "The datasets are significantly different\n"
     ]
    }
   ],
   "source": [
    "compare_datasets(control['scaled_diff'], her['scaled_diff'])"
   ]
  },
  {
   "cell_type": "code",
   "execution_count": 40,
   "metadata": {},
   "outputs": [
    {
     "name": "stdout",
     "output_type": "stream",
     "text": [
      "Mann-Whitney U Test - Statistic = 50986618.0, p-value = 0.00039512378320918673\n",
      "The datasets are significantly different\n"
     ]
    }
   ],
   "source": [
    "compare_datasets(control['scaled_diff'], lumA['scaled_diff'])"
   ]
  },
  {
   "cell_type": "code",
   "execution_count": 41,
   "metadata": {},
   "outputs": [
    {
     "name": "stdout",
     "output_type": "stream",
     "text": [
      "Mann-Whitney U Test - Statistic = 52042938.0, p-value = 2.4461750987930217e-05\n",
      "The datasets are significantly different\n"
     ]
    }
   ],
   "source": [
    "compare_datasets(control['scaled_diff'], triple['scaled_diff'])"
   ]
  },
  {
   "cell_type": "code",
   "execution_count": 42,
   "metadata": {},
   "outputs": [
    {
     "name": "stdout",
     "output_type": "stream",
     "text": [
      "Mann-Whitney U Test - Statistic = 50876175.0, p-value = 9.195179657557307e-06\n",
      "The datasets are significantly different\n"
     ]
    }
   ],
   "source": [
    "compare_datasets(control['scaled_diff'], lumB['scaled_diff'])"
   ]
  },
  {
   "cell_type": "code",
   "execution_count": 43,
   "metadata": {},
   "outputs": [
    {
     "data": {
      "text/plain": [
       "LeveneResult(statistic=0.7269009286957053, pvalue=0.5734091345668928)"
      ]
     },
     "execution_count": 43,
     "metadata": {},
     "output_type": "execute_result"
    }
   ],
   "source": [
    "stats.levene(lumA['scaled_diff'], lumB['scaled_diff'], her['scaled_diff'], triple['scaled_diff'], control['scaled_diff'])"
   ]
  },
  {
   "cell_type": "code",
   "execution_count": 44,
   "metadata": {},
   "outputs": [
    {
     "name": "stdout",
     "output_type": "stream",
     "text": [
      "Kruskal-Wallis statistic: [26.20915891]\n",
      "p-value: [2.87153158e-05]\n"
     ]
    }
   ],
   "source": [
    "from scipy.stats import kruskal\n",
    "\n",
    "# Perform the Kruskal-Wallis test\n",
    "statistic, p_value = kruskal(control, lumA, lumB, her, triple)\n",
    "\n",
    "# Print the results\n",
    "print(\"Kruskal-Wallis statistic:\", statistic)\n",
    "print(\"p-value:\", p_value)"
   ]
  }
 ],
 "metadata": {
  "kernelspec": {
   "display_name": "Python 3",
   "language": "python",
   "name": "python3"
  },
  "language_info": {
   "codemirror_mode": {
    "name": "ipython",
    "version": 3
   },
   "file_extension": ".py",
   "mimetype": "text/x-python",
   "name": "python",
   "nbconvert_exporter": "python",
   "pygments_lexer": "ipython3",
   "version": "3.11.3"
  },
  "orig_nbformat": 4
 },
 "nbformat": 4,
 "nbformat_minor": 2
}
